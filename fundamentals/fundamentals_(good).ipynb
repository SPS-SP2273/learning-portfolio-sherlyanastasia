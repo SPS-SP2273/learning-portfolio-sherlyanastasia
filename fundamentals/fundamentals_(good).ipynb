{
 "cells": [
  {
   "attachments": {},
   "cell_type": "markdown",
   "id": "123456",
   "metadata": {},
   "source": [
    "<div style=\"text-align:left;font-size:2em\"><span style=\"font-weight:bolder;font-size:1.25em\">SP2273 | Learning Portfolio</span><br><br><span style=\"font-weight:bold;color:darkred\">Fundamentals (Good)</span></div>"
   ]
  },
  {
   "cell_type": "markdown",
   "id": "9e472e2d-72fb-445a-b126-dfab4528afb2",
   "metadata": {},
   "source": [
    "# What to expect in this chapter"
   ]
  },
  {
   "cell_type": "markdown",
   "id": "dd4ce1d6-1eae-4324-ab1a-db0cb8cca789",
   "metadata": {},
   "source": [
    "- Add more details to the basic Python\n",
    "- Introduce different data types\n",
    "- How to combine variables with English"
   ]
  },
  {
   "attachments": {},
   "cell_type": "markdown",
   "id": "8125ed92",
   "metadata": {},
   "source": [
    "# 1 There is more to `if`"
   ]
  },
  {
   "cell_type": "markdown",
   "id": "99b4c08b-9b60-4f82-a411-2ef3fcf2be52",
   "metadata": {},
   "source": [
    "Python has the `elif` (else if) statement when we need more branches in an `if` statement.\n",
    "\n",
    "Example:"
   ]
  },
  {
   "cell_type": "code",
   "execution_count": null,
   "id": "63f6f0e2-2ed9-405f-8883-ed3b4676d0a5",
   "metadata": {},
   "outputs": [],
   "source": [
    "name = 'Jones'\n",
    "\n",
    "if name == 'Jones':\n",
    "    print('Hello Jones!')\n",
    "elif name == 'Frida':\n",
    "    print('Hello Frida!')\n",
    "elif name == 'Lorenzo':\n",
    "    print('Hello Lorenzo!')\n",
    "else:\n",
    "    print('Hello World!')"
   ]
  },
  {
   "attachments": {},
   "cell_type": "markdown",
   "id": "744bf425",
   "metadata": {},
   "source": [
    "# 2 Asking questions"
   ]
  },
  {
   "cell_type": "markdown",
   "id": "8ad20b44-07fd-4d32-a1fc-4c292c6b6a3b",
   "metadata": {},
   "source": [
    "So far, you have looked up to ask questions by using `if`. There are several other ways to ask questions. For example, we will ask some questions about the following two lists:"
   ]
  },
  {
   "cell_type": "code",
   "execution_count": null,
   "id": "b8aa40bc-a44a-4f4f-a639-6c7bb645e0b4",
   "metadata": {},
   "outputs": [],
   "source": [
    "fruits = ['apple', 'banana', 'pineapple', 'jackfruit']\r\n",
    "vegetables = ['celery', 'potato', 'broccoli', 'kale']"
   ]
  },
  {
   "cell_type": "markdown",
   "id": "9e41e52a-209c-4bf4-8393-c886e1f95d62",
   "metadata": {},
   "source": [
    "*Example 1:*"
   ]
  },
  {
   "cell_type": "code",
   "execution_count": 2,
   "id": "0edec683-f725-4248-b00e-abcd6cf3cc59",
   "metadata": {},
   "outputs": [
    {
     "data": {
      "text/plain": [
       "True"
      ]
     },
     "execution_count": 2,
     "metadata": {},
     "output_type": "execute_result"
    }
   ],
   "source": [
    "fruits = ['apple', 'banana', 'pineapple', 'jackfruit']\n",
    "vegetables = ['celery', 'potato', 'broccoli', 'kale']\n",
    "\n",
    "'apple' in fruits"
   ]
  },
  {
   "cell_type": "markdown",
   "id": "74fe25e0-3851-45a2-a833-1f117c244ffa",
   "metadata": {},
   "source": [
    "The question above ask whether 'apple' is in the list of `fruits`.\n",
    "\n",
    "That question will generate `True` or `False` as an output. In this case, because there is 'apple' in the list of fruits, then it will generate `True` answer."
   ]
  },
  {
   "cell_type": "markdown",
   "id": "87852912-f98d-4912-bbe7-62187734c529",
   "metadata": {},
   "source": [
    "*Example 2:*"
   ]
  },
  {
   "cell_type": "code",
   "execution_count": 3,
   "id": "8cee8e13-9f9c-4819-ac9d-7964059625ff",
   "metadata": {},
   "outputs": [
    {
     "data": {
      "text/plain": [
       "False"
      ]
     },
     "execution_count": 3,
     "metadata": {},
     "output_type": "execute_result"
    }
   ],
   "source": [
    "fruits = ['apple', 'banana', 'pineapple', 'jackfruit']\n",
    "vegetables = ['celery', 'potato', 'broccoli', 'kale']\n",
    "\n",
    "'peach' in fruits"
   ]
  },
  {
   "cell_type": "markdown",
   "id": "552df8dd-8257-41fc-86eb-f3d3fbac2059",
   "metadata": {},
   "source": [
    "The question above ask whether 'peach' is in the list of `fruits`.\n",
    "\n",
    "That question will generate `True` or `False` as an output. In this case, because there is no 'peach' in the list of fruits, then it will generate `False` answer."
   ]
  },
  {
   "cell_type": "markdown",
   "id": "210ddc55-18c4-4cb1-afb4-af876272f12a",
   "metadata": {},
   "source": [
    "*Example 3:*"
   ]
  },
  {
   "cell_type": "code",
   "execution_count": 4,
   "id": "9934d49c-36eb-44e2-b85e-0373b1aa521e",
   "metadata": {},
   "outputs": [
    {
     "data": {
      "text/plain": [
       "True"
      ]
     },
     "execution_count": 4,
     "metadata": {},
     "output_type": "execute_result"
    }
   ],
   "source": [
    "fruits = ['apple', 'banana', 'pineapple', 'jackfruit']\n",
    "vegetables = ['celery', 'potato', 'broccoli', 'kale']\n",
    "\n",
    "'peach' not in fruits"
   ]
  },
  {
   "cell_type": "markdown",
   "id": "22928264-a9ee-45f9-b648-7ec08a2bdc2e",
   "metadata": {},
   "source": [
    "The question above ask whether 'peach' is **NOT** in the list of `fruits`.\n",
    "\n",
    "That question will generate `True` or `False` as an output. In this case, because there is no 'peach' in the list of fruits, then it will generate `True` answer."
   ]
  },
  {
   "cell_type": "markdown",
   "id": "c18a873e-e4d4-4449-a3f5-a1f39a5a6aea",
   "metadata": {},
   "source": [
    "*Example 4:*"
   ]
  },
  {
   "cell_type": "code",
   "execution_count": 5,
   "id": "cd962a95-ebfc-4637-8554-10b2cc2ccbf3",
   "metadata": {},
   "outputs": [
    {
     "data": {
      "text/plain": [
       "True"
      ]
     },
     "execution_count": 5,
     "metadata": {},
     "output_type": "execute_result"
    }
   ],
   "source": [
    "fruits = ['apple', 'banana', 'pineapple', 'jackfruit']\n",
    "vegetables = ['celery', 'potato', 'broccoli', 'kale']\n",
    "\n",
    "('apple' in fruits) and ('celery' in vegetables)"
   ]
  },
  {
   "cell_type": "markdown",
   "id": "aeb21ccb-24ee-41b7-9bbe-36b68c9f1f4b",
   "metadata": {},
   "source": [
    "The question above ask whether 'apple' is in the list of `fruits` **and** whether 'celery' is in the list of `vegetables`.\n",
    "\n",
    "That question will generate `True` or `False` as an output. The output will be `True` **if and only if** both cases are *correct*. If one or both cases are *incorrect* then it will generate `False` as an output.\n",
    "\n",
    "In this case, because both cases are `True`, then it will generate `True` answer."
   ]
  },
  {
   "cell_type": "markdown",
   "id": "8e7e2982-1445-433a-97bc-d65dc3b6fff2",
   "metadata": {},
   "source": [
    "*Example 5:*"
   ]
  },
  {
   "cell_type": "code",
   "execution_count": null,
   "id": "56a7529d-1134-4b82-ac5c-0f541a67feca",
   "metadata": {},
   "outputs": [],
   "source": [
    "fruits = ['apple', 'banana', 'pineapple', 'jackfruit']\n",
    "vegetables = ['celery', 'potato', 'broccoli', 'kale']\n",
    "\n",
    "('apple' in fruits) or ('celery' in vegetables)"
   ]
  },
  {
   "cell_type": "markdown",
   "id": "d2f8aead-0c68-4480-8db8-80bc65242183",
   "metadata": {},
   "source": [
    "The question above ask whether 'apple' is in the list of `fruits` **or** whether 'celery' is in the list of `vegetables`.\n",
    "\n",
    "That question will generate `True` or `False` as an output. The output will be `True` **if** one of the cases **or** both cases are *correct*. If **both cases** are *incorrect* then it will generate `False` as an output.\n",
    "\n",
    "In this case, because both cases are `True`, then it will generate a `True` answer."
   ]
  },
  {
   "cell_type": "markdown",
   "id": "9e713058-84e7-44ae-a380-9760ef6c166e",
   "metadata": {},
   "source": [
    "*Example 6:*"
   ]
  },
  {
   "cell_type": "code",
   "execution_count": 7,
   "id": "42eccea0-662d-4017-a921-b8efd58262db",
   "metadata": {},
   "outputs": [
    {
     "data": {
      "text/plain": [
       "True"
      ]
     },
     "execution_count": 7,
     "metadata": {},
     "output_type": "execute_result"
    }
   ],
   "source": [
    "'app' in 'apple'"
   ]
  },
  {
   "cell_type": "markdown",
   "id": "5f843483-cc27-4e2f-b34c-360b7f27ac71",
   "metadata": {},
   "source": [
    "The question above will ask whether the word \"apple\" has an \"app\" particle in it. "
   ]
  },
  {
   "cell_type": "markdown",
   "id": "45da267c-4780-46ab-b101-377755911a8c",
   "metadata": {},
   "source": [
    "The difference between the Example from question #1-5 and question #6 is that:\n",
    "- `question #1-5` looks at a word in a list whereas `question #6` looks at particles of a word"
   ]
  },
  {
   "cell_type": "markdown",
   "id": "b16c1076-0622-4f29-bafe-b45f07aa1402",
   "metadata": {},
   "source": [
    "In asking questions it is important to understand that basic Python only knows how to compare similar things (types) (e.g. numbers or English). So, `3 > 10.5` **will** work, but `3 > 'apple'` **will not**."
   ]
  },
  {
   "cell_type": "markdown",
   "id": "2bae2a99-d2bb-4447-87ba-1feb1009be27",
   "metadata": {},
   "source": [
    "However, Python<sup>1</sup> can compare `'apples'` and `'oranges'`:"
   ]
  },
  {
   "cell_type": "code",
   "execution_count": 4,
   "id": "f6086c94-a9a8-40d5-844d-8eeed1b90bd5",
   "metadata": {},
   "outputs": [
    {
     "data": {
      "text/plain": [
       "False"
      ]
     },
     "execution_count": 4,
     "metadata": {},
     "output_type": "execute_result"
    }
   ],
   "source": [
    "'apples' > 'oranges'"
   ]
  },
  {
   "cell_type": "markdown",
   "id": "b49c3f01-ae59-454b-bfce-fb38835876ea",
   "metadata": {},
   "source": [
    "The above question will generate `False` as the output."
   ]
  },
  {
   "cell_type": "markdown",
   "id": "65561a78-8a87-415c-99d3-e47b2e178276",
   "metadata": {},
   "source": [
    "This comparison works because English letters are internally represented as *numbers*. For example, `'a'` is 97 and `'o'` is 111. \n",
    "\n",
    "This can be found in ASCII table as follows."
   ]
  },
  {
   "cell_type": "markdown",
   "id": "df534b98-0d20-4d64-afaf-1cf5c5033301",
   "metadata": {},
   "source": [
    "![](https://www.johndcook.com/ascii.png)"
   ]
  },
  {
   "attachments": {},
   "cell_type": "markdown",
   "id": "71f23b8e",
   "metadata": {},
   "source": [
    "# 3 Remember"
   ]
  },
  {
   "cell_type": "markdown",
   "id": "30bf9d4f-ea53-4593-bb9f-007d9349017f",
   "metadata": {},
   "source": [
    "`not`, `in`, `and`, `or` are some Python **keywords** that are useful in asking questions."
   ]
  },
  {
   "attachments": {},
   "cell_type": "markdown",
   "id": "06c0ca68",
   "metadata": {},
   "source": [
    "## 3.1 Asking Math questions"
   ]
  },
  {
   "cell_type": "markdown",
   "id": "e73b7066-d5aa-4e51-a46e-adf2b041e22b",
   "metadata": {},
   "source": [
    "- You will find the following Python symbols useful when asking mathematical questions:"
   ]
  },
  {
   "cell_type": "markdown",
   "id": "41cac27b-f4ff-477e-82f3-e42a88d35d54",
   "metadata": {},
   "source": [
    "| Question / Condition  | Python Symbols |\r\n",
    "|-----------------------|----------------|\r\n",
    "| Equals                | `==`           |\r\n",
    "| Not equal             | `!=`           |\r\n",
    "| Less than             | `<`            |\r\n",
    "| Greater than          | `>`            |\r\n",
    "| Less than or equal    | `<=`           |\r\n",
    "| Greater than or equal | `>=`           |      |"
   ]
  },
  {
   "cell_type": "markdown",
   "id": "cf4c310b-04d6-41da-92c8-33c6db883f81",
   "metadata": {},
   "source": [
    "- Python also (thankfully) accepts all the following syntax:"
   ]
  },
  {
   "cell_type": "markdown",
   "id": "f51c35e6-0840-4010-b3ce-cd7fb555e874",
   "metadata": {},
   "source": [
    "`x > 5 and x < 15`\n",
    "\n",
    "`(x > 5) and (x < 15)`\n",
    "\n",
    "`5 < x < 15`"
   ]
  },
  {
   "cell_type": "markdown",
   "id": "75eab3d0-f565-46be-90f1-175d863691de",
   "metadata": {},
   "source": [
    "Clearly, the last format is the neatest and easiest to read. Notice also how the brackets increase the readability of the statement."
   ]
  },
  {
   "attachments": {},
   "cell_type": "markdown",
   "id": "3ee2e9ef",
   "metadata": {},
   "source": [
    "# 4 Python stores information in different formats or types"
   ]
  },
  {
   "cell_type": "markdown",
   "id": "c200f265-5cab-46e1-bdfb-1a4decf879b0",
   "metadata": {},
   "source": [
    "For efficiency (i.e., speed and memory), computers store information in different ways. For example, here are four ways we can store the number `1.234`. We are also using the function `type()` to ask Python how it is storing the information."
   ]
  },
  {
   "cell_type": "markdown",
   "id": "fe8c142d-4e6d-4b84-8903-455648ac9776",
   "metadata": {},
   "source": [
    "Example 1"
   ]
  },
  {
   "cell_type": "code",
   "execution_count": 3,
   "id": "1e44ad99-e011-4229-8b70-c1d6e430117f",
   "metadata": {},
   "outputs": [
    {
     "name": "stdout",
     "output_type": "stream",
     "text": [
      "1 <class 'int'>\n"
     ]
    }
   ],
   "source": [
    "x = int(1.234)\n",
    "print(x, type(x))"
   ]
  },
  {
   "cell_type": "markdown",
   "id": "3400a146-c94a-4be7-9eed-0d6c988389c9",
   "metadata": {},
   "source": [
    "The results of above code will be : `1 <class 'int'>`\n",
    "\n",
    "As an integer (`int`), Python drops the decimal portion!"
   ]
  },
  {
   "cell_type": "markdown",
   "id": "8ed1a773-f445-4e7d-8f85-134209424d9b",
   "metadata": {},
   "source": [
    "Example 2"
   ]
  },
  {
   "cell_type": "code",
   "execution_count": null,
   "id": "2406fb73-006b-4553-b782-684a21064b4d",
   "metadata": {},
   "outputs": [],
   "source": [
    "x = str(1.234)\n",
    "print(x, type(x))"
   ]
  },
  {
   "cell_type": "markdown",
   "id": "35186e2d-dd07-4ccc-bb32-39ac153de693",
   "metadata": {},
   "source": [
    "The results of above code will be : `1.234 <class 'str'>`\n",
    "\n",
    "As a string (`str`), Python will store this as an English word, not as a number. As a result, you **cannot** do math operation with a string."
   ]
  },
  {
   "cell_type": "markdown",
   "id": "8b945b30-55da-426a-bc68-bc8df99a7c54",
   "metadata": {},
   "source": [
    "Example 3"
   ]
  },
  {
   "cell_type": "code",
   "execution_count": null,
   "id": "27f5af38-9482-4977-8dbc-2d96f40ba132",
   "metadata": {},
   "outputs": [],
   "source": [
    "x = float(1.234)\n",
    "print(x, type(x))"
   ]
  },
  {
   "cell_type": "markdown",
   "id": "00a94804-dccd-4597-8752-ba5165edf748",
   "metadata": {},
   "source": [
    "The results of above code will be : `1.234 <class 'float'>`\n",
    "\n",
    "Python will store this as a decimal number (`float`). Unlike string, because you store the number in a `float` format, you can do soma math operations with it."
   ]
  },
  {
   "cell_type": "markdown",
   "id": "16e14dd0-fd63-463a-bb1b-2d56fbe9f7c7",
   "metadata": {},
   "source": [
    "Example 4"
   ]
  },
  {
   "cell_type": "code",
   "execution_count": null,
   "id": "dae69418-94ba-4117-bcf3-cd1841b3d342",
   "metadata": {},
   "outputs": [],
   "source": [
    "x = complex(1.234)\n",
    "print(x, type(x))"
   ]
  },
  {
   "cell_type": "markdown",
   "id": "38829d52-434f-4240-bf61-da9072a55225",
   "metadata": {},
   "source": [
    "The results of above code will be : `(1.234+0j) <class 'complex'>`\n",
    "\n",
    "As a complex number (`complex`), Python will include an imaginary part of the number!"
   ]
  },
  {
   "cell_type": "markdown",
   "id": "7ffc1c1b-8f74-46fc-9211-a4658b4c4f52",
   "metadata": {},
   "source": [
    "There are many other types of data (see [here](https://realpython.com/python-data-types/) for more details). Often<sup>2</sup> we will need to change the type of a variable."
   ]
  },
  {
   "cell_type": "code",
   "execution_count": 5,
   "id": "2b39e1d9-7afc-4581-9692-ca7ab159bd32",
   "metadata": {},
   "outputs": [
    {
     "name": "stdout",
     "output_type": "stream",
     "text": [
      "1.234 <class 'str'>\n"
     ]
    }
   ],
   "source": [
    "x = '1.234'        # x is a string\n",
    "print(x, type(x))"
   ]
  },
  {
   "cell_type": "markdown",
   "id": "b4066169-c8f5-47f0-818a-91a721a35674",
   "metadata": {},
   "source": [
    "The output will be `1.234 <class 'str'>`"
   ]
  },
  {
   "cell_type": "code",
   "execution_count": 6,
   "id": "725994cb-5c69-47e0-aade-f28d516be791",
   "metadata": {},
   "outputs": [
    {
     "name": "stdout",
     "output_type": "stream",
     "text": [
      "1.234 <class 'float'>\n"
     ]
    }
   ],
   "source": [
    "x = float(x)       # x is now a decimal number\n",
    "print(x, type(x))"
   ]
  },
  {
   "cell_type": "markdown",
   "id": "23661941-0291-4d40-881f-253e4cffed36",
   "metadata": {},
   "source": [
    "The output will be `1.234 <class 'float'>`"
   ]
  },
  {
   "cell_type": "markdown",
   "id": "e17f9838-31da-41fc-8ad3-be637df5d532",
   "metadata": {},
   "source": [
    "This is called **typecasting**; where we cast `x` to the type `float`."
   ]
  },
  {
   "attachments": {},
   "cell_type": "markdown",
   "id": "a7c70519",
   "metadata": {},
   "source": [
    "# 5 Never compare floats directly"
   ]
  },
  {
   "attachments": {},
   "cell_type": "markdown",
   "id": "30d1ffd6",
   "metadata": {},
   "source": [
    "## 5.1 The Problem"
   ]
  },
  {
   "cell_type": "markdown",
   "id": "ef221d61-5226-4e39-a0e0-d2755febbaa5",
   "metadata": {},
   "source": [
    "We often need to compare numbers, especially for scientific work. Unfortunately, since computers have finite (hardware) resources, floating point numbers cannot be exactly stored in a computer<sup>3</sup>. This leads to errors called **roundoff errors**."
   ]
  },
  {
   "cell_type": "markdown",
   "id": "35209fba-e2be-467f-b99a-c7c223574b8d",
   "metadata": {},
   "source": [
    "The following code will compare 0.1 X 3 with 0.3."
   ]
  },
  {
   "cell_type": "code",
   "execution_count": 13,
   "id": "b6380fcb-e9a0-4ac9-b438-e7baa6f07b3d",
   "metadata": {},
   "outputs": [
    {
     "data": {
      "text/plain": [
       "False"
      ]
     },
     "execution_count": 13,
     "metadata": {},
     "output_type": "execute_result"
    }
   ],
   "source": [
    "a = 0.1\n",
    "a3 = 0.3\n",
    "a * 3 == a3"
   ]
  },
  {
   "cell_type": "markdown",
   "id": "467ffd13-d1e2-4f6b-8be4-755018aec9aa",
   "metadata": {},
   "source": [
    "The output turns out to be `False`."
   ]
  },
  {
   "cell_type": "markdown",
   "id": "4815ad09-ec33-4620-93b1-7c781192c06b",
   "metadata": {},
   "source": [
    "Let’s try printing 0.3  to 17 decimal places:"
   ]
  },
  {
   "cell_type": "code",
   "execution_count": 8,
   "id": "ce931a15-3aa9-4500-acd2-ce6acd1b0f3b",
   "metadata": {},
   "outputs": [
    {
     "data": {
      "text/plain": [
       "'0.29999999999999999'"
      ]
     },
     "execution_count": 8,
     "metadata": {},
     "output_type": "execute_result"
    }
   ],
   "source": [
    "f'{0.3:.17f}'"
   ]
  },
  {
   "cell_type": "markdown",
   "id": "21cd5344-fb69-4c92-8b30-8ee921b8e079",
   "metadata": {},
   "source": [
    "The output is `'0.29999999999999999'`"
   ]
  },
  {
   "cell_type": "markdown",
   "id": "e92127a0-df6b-48d2-afab-d8226a5d1c1b",
   "metadata": {},
   "source": [
    "Other example:"
   ]
  },
  {
   "cell_type": "code",
   "execution_count": 15,
   "id": "e3a9021e-082a-441b-bd96-94009ebf9630",
   "metadata": {},
   "outputs": [
    {
     "name": "stdout",
     "output_type": "stream",
     "text": [
      "0.30000000000000004\n"
     ]
    }
   ],
   "source": [
    "a = 0.1\n",
    "x = a*3\n",
    "print(x)"
   ]
  },
  {
   "cell_type": "markdown",
   "id": "95843d1d-2ef4-4eff-864d-082bfcd1e20c",
   "metadata": {},
   "source": [
    "The output turns out to be `0.30000000000000004`."
   ]
  },
  {
   "cell_type": "markdown",
   "id": "45fef80f-2b58-423a-9765-fa2bca67d65c",
   "metadata": {},
   "source": [
    "Conclusion:\n",
    "\n",
    "Python cannot store floating point numbers very precisely."
   ]
  },
  {
   "attachments": {},
   "cell_type": "markdown",
   "id": "e59b6bf7",
   "metadata": {},
   "source": [
    "## 5.2 A solution"
   ]
  },
  {
   "cell_type": "markdown",
   "id": "13553305-0556-4607-a865-fc4cc9ea011d",
   "metadata": {},
   "source": [
    "To get around these types of issues, you should check if the variable is **close** to the expected values *instead* of **checking for equality**."
   ]
  },
  {
   "cell_type": "code",
   "execution_count": 16,
   "id": "d05e49c1-af72-442c-a318-e565163aac2f",
   "metadata": {},
   "outputs": [
    {
     "data": {
      "text/plain": [
       "True"
      ]
     },
     "execution_count": 16,
     "metadata": {},
     "output_type": "execute_result"
    }
   ],
   "source": [
    "eps = 1E-10\n",
    "abs(a * 3 - a3) < eps"
   ]
  },
  {
   "cell_type": "markdown",
   "id": "f0e90471-64e8-4c2b-95c8-539162cc99aa",
   "metadata": {},
   "source": [
    "The output turns out to be `True`."
   ]
  },
  {
   "cell_type": "markdown",
   "id": "ce7cf82d-e371-4110-9b9e-319122475dc9",
   "metadata": {},
   "source": [
    "Or you can just use Numpy"
   ]
  },
  {
   "cell_type": "code",
   "execution_count": 18,
   "id": "dfb1496c-6ca0-4885-9822-6ddf3cfd4228",
   "metadata": {},
   "outputs": [
    {
     "data": {
      "text/plain": [
       "True"
      ]
     },
     "execution_count": 18,
     "metadata": {},
     "output_type": "execute_result"
    }
   ],
   "source": [
    "import numpy as np\n",
    "np.isclose(a * 3, a3)"
   ]
  },
  {
   "cell_type": "markdown",
   "id": "3eb77aba-6c59-4138-b20c-980cfef10989",
   "metadata": {},
   "source": [
    "The output turns out to be `True`also."
   ]
  },
  {
   "attachments": {},
   "cell_type": "markdown",
   "id": "3415ea8b",
   "metadata": {},
   "source": [
    "# 6 Combining English and variables"
   ]
  },
  {
   "cell_type": "markdown",
   "id": "1fa935b0-c133-4dba-8b7d-9797ceebd6e3",
   "metadata": {},
   "source": [
    "Although often underappreciated, one of the most valuable coding skills is the ability to seamlessly **combine** *strings (i.e., English) with variables*. This will be useful for *example* when automating personalized emails to a large class.\n",
    "\n",
    "Combining text and variables is so easy in newer versions of Python."
   ]
  },
  {
   "cell_type": "markdown",
   "id": "88cd650f-677f-49b7-bf91-3c58cb78bfcf",
   "metadata": {},
   "source": [
    "**Example 1**"
   ]
  },
  {
   "cell_type": "code",
   "execution_count": null,
   "id": "0cfa04e3-2a4c-42cb-9c9e-e3cd64e0e1e6",
   "metadata": {},
   "outputs": [],
   "source": [
    "name = \"Batman\"\n",
    "print(f\"Hello {name}!\")"
   ]
  },
  {
   "cell_type": "markdown",
   "id": "172249cf-250b-4799-bac4-3b5d8ec6214b",
   "metadata": {},
   "source": [
    "Output:\n",
    "\n",
    "`Hello Batman!`"
   ]
  },
  {
   "cell_type": "markdown",
   "id": "2cea1e4b-72e2-475b-b886-1a5be2e1f3cc",
   "metadata": {},
   "source": [
    "**Example 2**"
   ]
  },
  {
   "cell_type": "code",
   "execution_count": null,
   "id": "10fa2b8b-273b-464e-9a9a-1c99e43b3e7f",
   "metadata": {},
   "outputs": [],
   "source": [
    "name = \"Batman\"\n",
    "print(f\"Hello {name.upper()}!\")"
   ]
  },
  {
   "cell_type": "markdown",
   "id": "f36c897a-9c69-491a-88a1-48680c461a60",
   "metadata": {},
   "source": [
    "Output:\n",
    "\n",
    "`Hello BATMAN!`"
   ]
  },
  {
   "cell_type": "markdown",
   "id": "e1e01592-03d4-446d-884a-9aee44699663",
   "metadata": {},
   "source": [
    "**Example 3**"
   ]
  },
  {
   "cell_type": "code",
   "execution_count": null,
   "id": "6b22cc7c-eaf6-4b5a-a66a-dbb36411648c",
   "metadata": {},
   "outputs": [],
   "source": [
    "x = 10\n",
    "print(f\"The value of {x} squared is {x**2}!\")"
   ]
  },
  {
   "cell_type": "markdown",
   "id": "5ce081de-2634-4ccc-8c1d-c4b1781de10f",
   "metadata": {},
   "source": [
    "Output:\n",
    "\n",
    "`The value of 10 squared is 100!`"
   ]
  },
  {
   "cell_type": "markdown",
   "id": "8fbbc367-c79a-455e-8f3c-c5bd6f3ff24a",
   "metadata": {},
   "source": [
    "Note the `f` and the `{ }` in the above command. This is called **f-string** or **string interpolation**."
   ]
  },
  {
   "cell_type": "markdown",
   "id": "a8819711-bf20-4c54-b9cf-de22dc6942b5",
   "metadata": {},
   "source": [
    "You can do more with *f-strings*, like **formatting** a **string** or **number**."
   ]
  },
  {
   "cell_type": "markdown",
   "id": "b5dd2b62-000d-4b58-a63d-09f445d3814c",
   "metadata": {},
   "source": [
    "**Example 1**"
   ]
  },
  {
   "cell_type": "markdown",
   "id": "eee4968e-e6eb-4e45-a0b0-240ebbe5d51d",
   "metadata": {},
   "source": [
    "Using f-strings to format text (strings)."
   ]
  },
  {
   "cell_type": "code",
   "execution_count": 21,
   "id": "77de3c82-2977-4105-99e9-22ee05db2ffb",
   "metadata": {},
   "outputs": [
    {
     "name": "stdout",
     "output_type": "stream",
     "text": [
      "Bruce Wayne is Batman.\n"
     ]
    }
   ],
   "source": [
    "text = 'Bruce Wayne is Batman.'\n",
    "print(f'{text}')"
   ]
  },
  {
   "cell_type": "markdown",
   "id": "e91adfe6-8607-4ed7-9661-d232e3870d72",
   "metadata": {},
   "source": [
    "Output:\n",
    "\n",
    "`Bruce Wayne is Batman.`"
   ]
  },
  {
   "cell_type": "code",
   "execution_count": 29,
   "id": "fbd6cd47-7fee-4338-8da7-b9136ba39191",
   "metadata": {},
   "outputs": [
    {
     "name": "stdout",
     "output_type": "stream",
     "text": [
      "        Bruce Wayne is Batman.\n"
     ]
    }
   ],
   "source": [
    "print(f'{text:>30}')      # A block of 30 characters;\n",
    "                          # aligned right"
   ]
  },
  {
   "cell_type": "markdown",
   "id": "b29f34cc-3331-4785-8b63-9742312e2ea7",
   "metadata": {},
   "source": [
    "Output:\n",
    "\n",
    "`\r\n",
    "       Bruce Wayne is Batman.`."
   ]
  },
  {
   "cell_type": "code",
   "execution_count": 30,
   "id": "38f9ffa4-85a3-43e7-8be1-e1ed20da82b3",
   "metadata": {},
   "outputs": [
    {
     "name": "stdout",
     "output_type": "stream",
     "text": [
      "    Bruce Wayne is Batman.    \n"
     ]
    }
   ],
   "source": [
    "print(f'{text:^30}')      # A block of 30 characters;\n",
    "                          # aligned centre"
   ]
  },
  {
   "cell_type": "markdown",
   "id": "ac6b1c36-a99c-4431-a865-6579c98ee069",
   "metadata": {},
   "source": [
    "Output:\n",
    "\n",
    "`    Bruce Wayne is Batman.    `"
   ]
  },
  {
   "cell_type": "code",
   "execution_count": null,
   "id": "6c0f7b5d-77a8-4271-b10b-e0b766fba0c3",
   "metadata": {},
   "outputs": [],
   "source": [
    "print(f'{text:<30}')      # A block of 30 characters;\n",
    "                          # aligned left"
   ]
  },
  {
   "cell_type": "markdown",
   "id": "72467ab2-3336-4a74-af9f-1fc227c06ba8",
   "metadata": {},
   "source": [
    "Output:\n",
    "\n",
    "`Bruce Wayne is Batman.        `"
   ]
  },
  {
   "cell_type": "markdown",
   "id": "268d3cf1-7aba-4352-8d3c-b8108db8b96d",
   "metadata": {},
   "source": [
    "**Notice* the **spacing** on the left and right side of the sentence **Bruce Wayne is Batman.**\n",
    "\n",
    "*In this case, we use **f-strings** to *put spacing before or after the sentences*."
   ]
  },
  {
   "cell_type": "markdown",
   "id": "e6d77797-ed57-4018-89a1-a55c135945b1",
   "metadata": {},
   "source": [
    "**Example 2**"
   ]
  },
  {
   "cell_type": "markdown",
   "id": "44475faf-574b-44d5-9643-f7f3ca562522",
   "metadata": {},
   "source": [
    "Using f-string to format numbers."
   ]
  },
  {
   "cell_type": "code",
   "execution_count": null,
   "id": "df29d77c-cca0-4740-a2a9-88c6931531b1",
   "metadata": {},
   "outputs": [],
   "source": [
    "print(f'The cube of pi to 6 decimal places is {np.pi**3:.6f}')"
   ]
  },
  {
   "cell_type": "markdown",
   "id": "bb3c9b75-e9ff-456b-8db2-c92c3b4f260a",
   "metadata": {},
   "source": [
    "Output:\n",
    "\n",
    "`The cube of pi to 6 decimal places is 31.006277`"
   ]
  },
  {
   "cell_type": "markdown",
   "id": "1af98f85-23ac-4629-9574-2b7ba2050e05",
   "metadata": {},
   "source": [
    "The `f` in `.6f` is used to tell the f-string to output the number in **decimal notation**."
   ]
  },
  {
   "cell_type": "markdown",
   "id": "75cd10be-2f5e-4364-8cd8-ee842164b205",
   "metadata": {},
   "source": [
    "**Example 3**"
   ]
  },
  {
   "cell_type": "markdown",
   "id": "3d33a1fd-448d-4309-8e66-64d8e47eb9e4",
   "metadata": {},
   "source": [
    "Using f-string to format numbers."
   ]
  },
  {
   "cell_type": "code",
   "execution_count": null,
   "id": "06c02930-ce49-4dba-bb5f-e5f5f1590957",
   "metadata": {},
   "outputs": [],
   "source": [
    "print(f'The cube of pi to 6 decimal places is {np.pi**3:.6e}')"
   ]
  },
  {
   "cell_type": "markdown",
   "id": "0980c886-dd35-4eba-811a-095de6596f60",
   "metadata": {},
   "source": [
    "Output:\n",
    "\n",
    "`The cube of pi to 6 decimal places is 3.100628e+01`"
   ]
  },
  {
   "cell_type": "markdown",
   "id": "bb179997-dfa2-4fd2-af64-f96987ea8cf4",
   "metadata": {},
   "source": [
    "The `e` in `.6e` is used to tell the f-string to output the number in scientific notation."
   ]
  },
  {
   "cell_type": "markdown",
   "id": "3a0c23e9-e5ed-4d4d-aa1a-03e7e451393b",
   "metadata": {},
   "source": [
    "Important notes to avoid confusing:\n",
    "\n",
    "- In example 1, we use **f-strings** to format strings. In this case, we format the alignment of a sentence: whether aligned *left*, *centre*, or *right*.\n",
    "- In example 2 & 3, we use **f-strings** to format numbers: whether to use *decimal* notation or *scientific* notation."
   ]
  },
  {
   "attachments": {},
   "cell_type": "markdown",
   "id": "309a93be",
   "metadata": {},
   "source": [
    "## 6.1 Structure of f-strings"
   ]
  },
  {
   "cell_type": "markdown",
   "id": "67076f62-9522-46dc-a126-bf0fff11a5a6",
   "metadata": {},
   "source": [
    "f-string formatting has the structure `{X:>0Y.ZW}`. Here is more information about the letters `X`,`Y`,`>`, `0`,`Z` and `W`."
   ]
  },
  {
   "cell_type": "markdown",
   "id": "0698832a-66ca-40dc-b2a5-d1de52c05783",
   "metadata": {},
   "source": [
    "| **Letter** | **Action**                      | **Possible Options**                                                                                       |\r\n",
    "|------------|---------------------------------|------------------------------------------------------------------------------------------------------------|\r\n",
    "| `X`        | Variable to format              | Can be a number or a string                                                                                |\r\n",
    "| `>`        | Alignment                       | - `<` (Left justified)  - `>` (Right justified)  - `^` (Centre justified)                                  |\r\n",
    "| `0`        | Use 0's to pad the spaces       | You can use other characters like a space ` `.                                                             |\r\n",
    "| `Y`        | Total number of characters      |                                                                                                            |\r\n",
    "| `Z`        | Number of decimal places        |                                                                                                            |\r\n",
    "| `W`        | Specifies the type of variable. | - `f` (float) - `d` (integer) - `s` (string) - `e` (scientific notation) - `g` (Asks Python to figure out) |out) \t| out) |"
   ]
  },
  {
   "cell_type": "markdown",
   "id": "2620c6d3-f215-4176-8cd3-396424fd317d",
   "metadata": {},
   "source": [
    "You can refer to [this website](https://pyformat.info/) for more information about f-strings."
   ]
  },
  {
   "attachments": {},
   "cell_type": "markdown",
   "id": "b8a4d6d0",
   "metadata": {},
   "source": [
    "# 7 Escape sequences"
   ]
  },
  {
   "cell_type": "markdown",
   "id": "2d7cabd7-9614-43f7-8df9-57412bc5bab0",
   "metadata": {},
   "source": [
    "Despite the funky name, **escape sequences** refers to special characters we sometimes need when writing English. For example, to break a line and add a tab:"
   ]
  },
  {
   "cell_type": "code",
   "execution_count": 31,
   "id": "5346053e-4e02-4d4c-a76d-337dc20d2461",
   "metadata": {},
   "outputs": [
    {
     "name": "stdout",
     "output_type": "stream",
     "text": [
      "Line 1\n",
      "\tLine 2\n",
      "\t\tLine 3\n"
     ]
    }
   ],
   "source": [
    "print('Line 1\\n\\tLine 2\\n\\t\\tLine 3')"
   ]
  },
  {
   "cell_type": "markdown",
   "id": "2aa445e2-4d5b-47d8-88c8-71032159bf49",
   "metadata": {},
   "source": [
    "Output:\n",
    "\n",
    "```\n",
    "Line 1\r\n",
    "\tLine 2\r\n",
    "\t\tLine\n",
    "``` 3 3"
   ]
  },
  {
   "cell_type": "markdown",
   "id": "45eeee82-4340-435e-9fda-8c0ec98f9e15",
   "metadata": {},
   "source": [
    "The `\\n` is the command to *breakline* and `\\t` represents a *tab*. These characters are typically not visible, but they are there.\n",
    "\n",
    "The following are the useful escape sequences and their meaning:\r\n"
   ]
  },
  {
   "cell_type": "markdown",
   "id": "fd4dacea-a5ae-43ce-926f-ee5981ae14b3",
   "metadata": {},
   "source": [
    "| **Escape Sequence** | **Meaning**    |\r\n",
    "|---------------------|----------------|\r\n",
    "| `\\`                 | Single quote   |\r\n",
    "| `\\\\`                | Backslash      |\r\n",
    "| `\\n`                | Newline        |\r\n",
    "| `\\t`                | Horizontal Tab |"
   ]
  },
  {
   "cell_type": "markdown",
   "id": "dc385499-88d1-43d8-b8dd-e94ca3ab3eb3",
   "metadata": {},
   "source": [
    "A few more examples:"
   ]
  },
  {
   "cell_type": "markdown",
   "id": "86f1f7c3-f3bd-41fc-881c-5b5d77d85322",
   "metadata": {},
   "source": [
    "**Example 1**"
   ]
  },
  {
   "cell_type": "markdown",
   "id": "a9f43c38-bfa4-48ef-b5b9-aa38447b9c0e",
   "metadata": {},
   "source": [
    "When you want to print **You're tweunty years old.**, you need to use both `\"` and `'` otherwise it will give you a traceback.\n",
    "\n",
    "However, you can use the escape version of `'` to make things simpler."
   ]
  },
  {
   "cell_type": "code",
   "execution_count": 34,
   "id": "d35a8af3-6284-4b68-8574-598b298fc382",
   "metadata": {},
   "outputs": [
    {
     "name": "stdout",
     "output_type": "stream",
     "text": [
      "You're twenty years old.\n"
     ]
    }
   ],
   "source": [
    "print('You\\'re twenty years old.') "
   ]
  },
  {
   "cell_type": "markdown",
   "id": "52542f99-57a3-4b9b-af5f-fcaedd2873fe",
   "metadata": {},
   "source": [
    "The above line of code will give you:\n",
    "\n",
    "`You're twenty years old.`"
   ]
  },
  {
   "cell_type": "markdown",
   "id": "fd1026f7-aec9-4825-a393-16d4c2335d3c",
   "metadata": {},
   "source": [
    "While the following code:"
   ]
  },
  {
   "cell_type": "code",
   "execution_count": 35,
   "id": "fe01cf13-6eb0-4e67-b1d1-72257f6fee2e",
   "metadata": {},
   "outputs": [
    {
     "ename": "SyntaxError",
     "evalue": "unterminated string literal (detected at line 1) (2717985741.py, line 1)",
     "output_type": "error",
     "traceback": [
      "\u001b[1;36m  Cell \u001b[1;32mIn[35], line 1\u001b[1;36m\u001b[0m\n\u001b[1;33m    print('You're twenty years old.')\u001b[0m\n\u001b[1;37m                                   ^\u001b[0m\n\u001b[1;31mSyntaxError\u001b[0m\u001b[1;31m:\u001b[0m unterminated string literal (detected at line 1)\n"
     ]
    }
   ],
   "source": [
    "print('You're twenty years old.') "
   ]
  },
  {
   "cell_type": "markdown",
   "id": "42a1964c-d711-4c16-8fc6-f446bd6c4dd8",
   "metadata": {},
   "source": [
    "will give you a **traceback**."
   ]
  },
  {
   "cell_type": "markdown",
   "id": "51f5c058-1d06-40b4-848d-c32ef81d058a",
   "metadata": {},
   "source": [
    "**Example 2**"
   ]
  },
  {
   "cell_type": "markdown",
   "id": "3d6b5b27-49e4-41d1-b9b3-fb310df093db",
   "metadata": {},
   "source": [
    "If you want to print `\\`, you need to 'escape' it."
   ]
  },
  {
   "cell_type": "code",
   "execution_count": 36,
   "id": "16dda03e-99e1-4ca3-9f77-cec583c50f38",
   "metadata": {},
   "outputs": [
    {
     "name": "stdout",
     "output_type": "stream",
     "text": [
      "A\\B\\C\n"
     ]
    }
   ],
   "source": [
    "print('A\\\\B\\\\C')"
   ]
  },
  {
   "cell_type": "markdown",
   "id": "d1455337-3744-46ef-9da9-e75f4d51e2e7",
   "metadata": {},
   "source": [
    "The above code will give you:\n",
    "\n",
    "`A\\B\\C`"
   ]
  },
  {
   "cell_type": "markdown",
   "id": "9e40afb5-958c-4208-9591-0618776f6474",
   "metadata": {},
   "source": [
    "While this code:"
   ]
  },
  {
   "cell_type": "code",
   "execution_count": 45,
   "id": "bf7e9ace-dea2-49c4-8b65-ef9a747b630c",
   "metadata": {},
   "outputs": [
    {
     "name": "stdout",
     "output_type": "stream",
     "text": [
      "A\\B\\C\n"
     ]
    }
   ],
   "source": [
    "print('A\\B\\C')"
   ]
  },
  {
   "cell_type": "markdown",
   "id": "b6a8e107-d90f-406a-88d8-deaa5b09467c",
   "metadata": {},
   "source": [
    "will give you **A\\B\\C**, which is the same result.\n",
    "\n",
    "But, wait.... see the explanation first:\n",
    "\n",
    "In that case, if you ends the command by a letter, then it will give you a result. But if you ends the command by a `\\` the it will give you a **traceback**.\n",
    "\n",
    "For example like:"
   ]
  },
  {
   "cell_type": "code",
   "execution_count": 46,
   "id": "b9cffbc8-2684-4b01-a1cb-de631ac21d01",
   "metadata": {},
   "outputs": [
    {
     "ename": "SyntaxError",
     "evalue": "unterminated string literal (detected at line 1) (4138952293.py, line 1)",
     "output_type": "error",
     "traceback": [
      "\u001b[1;36m  Cell \u001b[1;32mIn[46], line 1\u001b[1;36m\u001b[0m\n\u001b[1;33m    print('\\')\u001b[0m\n\u001b[1;37m          ^\u001b[0m\n\u001b[1;31mSyntaxError\u001b[0m\u001b[1;31m:\u001b[0m unterminated string literal (detected at line 1)\n"
     ]
    }
   ],
   "source": [
    "print('\\')"
   ]
  },
  {
   "cell_type": "markdown",
   "id": "c1d9f968-5519-4857-a59d-9183c844d955",
   "metadata": {},
   "source": [
    "*or*`"
   ]
  },
  {
   "cell_type": "code",
   "execution_count": null,
   "id": "07cd4722-7454-42f5-9721-c7f33cb54f90",
   "metadata": {},
   "outputs": [],
   "source": [
    "print('A\\B\\')"
   ]
  },
  {
   "cell_type": "markdown",
   "id": "fff9617d-eb11-4e8e-8eba-1a9acded3520",
   "metadata": {},
   "source": [
    "Those two commands will give you **tracebacks.**"
   ]
  },
  {
   "cell_type": "markdown",
   "id": "4b5f77e1-6e19-4cf1-833d-80c06e2bff31",
   "metadata": {},
   "source": [
    "**Example 3**"
   ]
  },
  {
   "cell_type": "markdown",
   "id": "f20b4c40-d6a7-44cd-a565-51aa087e98f2",
   "metadata": {},
   "source": [
    "See the example below on how the newline `\\n` can break the sentence:"
   ]
  },
  {
   "cell_type": "code",
   "execution_count": 47,
   "id": "d0cdec0d-345a-4ffd-a39d-d7ceb6c18f86",
   "metadata": {},
   "outputs": [
    {
     "name": "stdout",
     "output_type": "stream",
     "text": [
      "A\n",
      "B\n",
      "C\n"
     ]
    }
   ],
   "source": [
    "print('A\\nB\\nC')"
   ]
  },
  {
   "cell_type": "markdown",
   "id": "4806bb6b-fe97-44bc-87be-a43db4229191",
   "metadata": {},
   "source": [
    "The output will be:\n",
    "\n",
    "```\n",
    "A\n",
    "B\n",
    "C\n",
    "```\n",
    "C"
   ]
  },
  {
   "cell_type": "markdown",
   "id": "054e0e50-895e-44f2-918e-016012bd40ce",
   "metadata": {},
   "source": [
    "Notice the linebreaks!"
   ]
  },
  {
   "cell_type": "markdown",
   "id": "b9a69111-a380-43fa-9241-0eb1c42514e8",
   "metadata": {},
   "source": [
    "**Example 4**"
   ]
  },
  {
   "cell_type": "markdown",
   "id": "b61006a7-79f2-4e3f-abc9-4b6d44013efb",
   "metadata": {},
   "source": [
    "See the example below on how the `\\t` can make a tab between the letters:"
   ]
  },
  {
   "cell_type": "code",
   "execution_count": 48,
   "id": "42eaeffc-9f1e-460e-815e-2e20ae538a91",
   "metadata": {},
   "outputs": [
    {
     "name": "stdout",
     "output_type": "stream",
     "text": [
      "A\tB\tC\n"
     ]
    }
   ],
   "source": [
    "print('A\\tB\\tC')"
   ]
  },
  {
   "cell_type": "markdown",
   "id": "70dfab5c-67b4-4881-be9b-a01d2fddaf9b",
   "metadata": {},
   "source": [
    "The output will be:\n",
    "\n",
    "`A\tB\tC`"
   ]
  },
  {
   "cell_type": "markdown",
   "id": "f377eddc-2ef3-4226-a930-374ae26039d3",
   "metadata": {},
   "source": [
    "Notice the tabs!"
   ]
  },
  {
   "attachments": {},
   "cell_type": "markdown",
   "id": "19139b8c",
   "metadata": {},
   "source": [
    "# 8 Computers read `=` from Right to Left!"
   ]
  },
  {
   "cell_type": "markdown",
   "id": "7c9f2004-c177-487d-8c6a-a8be65eb5512",
   "metadata": {},
   "source": [
    "The way computers use = is quirky."
   ]
  },
  {
   "cell_type": "markdown",
   "id": "f89f5798-9a32-4d87-9105-964cad583393",
   "metadata": {},
   "source": [
    "Consider the code below:"
   ]
  },
  {
   "cell_type": "code",
   "execution_count": null,
   "id": "b1b3de81-93da-4c5e-84c2-b39bf867db3f",
   "metadata": {},
   "outputs": [],
   "source": [
    "x = 40\n",
    "y = x + 2"
   ]
  },
  {
   "cell_type": "markdown",
   "id": "511d91f9-a3a2-4fdc-ada9-14237cea4698",
   "metadata": {},
   "source": [
    "How Python executes these instructions is as follows:\n",
    "\n",
    "Python take the value of 'x' and add 2 to it, then stick the value into 'y'."
   ]
  },
  {
   "cell_type": "markdown",
   "id": "0669d656-43a5-486d-9bb5-d0d31f161ca7",
   "metadata": {},
   "source": [
    "This means that the following will work in programming (but not math!):"
   ]
  },
  {
   "cell_type": "code",
   "execution_count": 49,
   "id": "697a85ae-de07-4ec9-b6db-f32a7e51e6c6",
   "metadata": {},
   "outputs": [
    {
     "name": "stdout",
     "output_type": "stream",
     "text": [
      "42\n"
     ]
    }
   ],
   "source": [
    "y = 40\n",
    "y = y + 2\n",
    "print(y)"
   ]
  },
  {
   "cell_type": "markdown",
   "id": "f0bb70e6-69c8-4fa1-a088-70fa8aaa2835",
   "metadata": {},
   "source": [
    "The above code will generate `42` as an output.\n",
    "\n",
    "In that case, Python take the old value of 'y' which is 40 and add 2 to it, then replace the old value and stick the new value (which is 42) into y."
   ]
  },
  {
   "cell_type": "markdown",
   "id": "84c55b4d-4ce0-44eb-9298-f09dfb2bc033",
   "metadata": {},
   "source": [
    "You will frequently see variables modified using that kind of syntax."
   ]
  },
  {
   "cell_type": "markdown",
   "id": "25ba0ac9-85e7-4ce1-a414-212c726d39d7",
   "metadata": {},
   "source": [
    "**Note**: Python also allows the following syntax."
   ]
  },
  {
   "cell_type": "code",
   "execution_count": 51,
   "id": "ae54cc5a-261c-42b9-a934-d8da9a411b6a",
   "metadata": {},
   "outputs": [
    {
     "name": "stdout",
     "output_type": "stream",
     "text": [
      "10\n",
      "10\n"
     ]
    }
   ],
   "source": [
    "x = y = 10\n",
    "print(x)\n",
    "print(y)"
   ]
  },
  {
   "cell_type": "markdown",
   "id": "66fd7c71-b9f0-456f-869f-fa3590a31ac4",
   "metadata": {},
   "source": [
    "You can see that the `x = y = 10` code works by testing the value of `x` and `y` using the `print()` function."
   ]
  },
  {
   "attachments": {},
   "cell_type": "markdown",
   "id": "a2d8aa11",
   "metadata": {},
   "source": [
    "# 9 Shorter and Cleaner Code"
   ]
  },
  {
   "cell_type": "markdown",
   "id": "9d345dff-4535-4e54-b18d-37edce23bbbf",
   "metadata": {},
   "source": [
    "Now, you will learn some shorthand syntax<sup>4</sup> related to the previous point that will make your code neater. \n",
    "\n",
    "This shorthand is used often so even if you do not want to use it, you still need to understand it."
   ]
  },
  {
   "cell_type": "markdown",
   "id": "198e7d76-f979-4c7b-8d47-f53298d802b2",
   "metadata": {},
   "source": [
    "Consider the following two sets of code; both have the same result."
   ]
  },
  {
   "cell_type": "code",
   "execution_count": 59,
   "id": "90f204e1-c58c-4506-ace0-b096900fb937",
   "metadata": {},
   "outputs": [
    {
     "data": {
      "text/plain": [
       "42"
      ]
     },
     "execution_count": 59,
     "metadata": {},
     "output_type": "execute_result"
    }
   ],
   "source": [
    "y = 40\n",
    "y = y + 2\n",
    "y"
   ]
  },
  {
   "cell_type": "code",
   "execution_count": 56,
   "id": "b0cf3312-dd32-46fb-989a-ebef8fa8f26f",
   "metadata": {},
   "outputs": [
    {
     "data": {
      "text/plain": [
       "42"
      ]
     },
     "execution_count": 56,
     "metadata": {},
     "output_type": "execute_result"
    }
   ],
   "source": [
    "y = 40\n",
    "y += 2    # Same as y = y + 2\n",
    "y"
   ]
  },
  {
   "cell_type": "markdown",
   "id": "f8ab8d59-1c0f-49ad-82e0-f0c678b38b25",
   "metadata": {},
   "source": [
    "The above two kinds of code will give you the same result which is `42`."
   ]
  },
  {
   "cell_type": "markdown",
   "id": "ac4870ff-83f6-4508-a235-a7df497ccae9",
   "metadata": {},
   "source": [
    "So, we can replace `y = y + 2` with `y += 2`. Similar shorthand notation exists for subtraction, division and multiplication:"
   ]
  },
  {
   "cell_type": "markdown",
   "id": "be1faa13-7298-461a-bd85-5731f74bc5f3",
   "metadata": {},
   "source": [
    "|                | **Long form** | **Shorthand** |\r\n",
    "|----------------|---------------|---------------|\r\n",
    "| Addition       | `y = y+2`     | `y += 2`      |\r\n",
    "| Subtraction    | `y = y-2`     | `y -= 2`      |\r\n",
    "| Multiplication | `y = y*2`     | `y *= 2`      |\r\n",
    "| Division       | `y = y/2`     | `y /= 2`      |"
   ]
  },
  {
   "cell_type": "markdown",
   "id": "c1c6b428-4e77-4367-a6eb-1c7006afae80",
   "metadata": {},
   "source": [
    "Notice that we can also replace `print(y)` by just writing `y`. Those will give you the same output."
   ]
  },
  {
   "attachments": {},
   "cell_type": "markdown",
   "id": "868dfcc9",
   "metadata": {},
   "source": [
    "# 10 Python can be a prima-donna."
   ]
  },
  {
   "cell_type": "markdown",
   "id": "41d1918d-945f-4864-8657-54beeb619ef0",
   "metadata": {},
   "source": [
    "When we do something Python doesn’t like or understand, it will often act like a prima-donna and throw a complaint with a looong error message. As with most complaints, scroll to the end to see the real problem."
   ]
  },
  {
   "cell_type": "markdown",
   "id": "3130e065-845f-4955-87f0-0958d6b4ef28",
   "metadata": {},
   "source": [
    "If you had used `Print()` in the previous chapter, you would have already seen an error message. Fixing coding errors is called **debugging**. Most programmers spend a long time debugging. Further, the more debugging you do, the more comfortable you will be with thinking and programming. So, use every opportunity you have to practice debugging."
   ]
  },
  {
   "attachments": {},
   "cell_type": "markdown",
   "id": "271dc898",
   "metadata": {},
   "source": [
    "# 11 Best Practices for Scientific Computing"
   ]
  },
  {
   "cell_type": "markdown",
   "id": "c95f750d-e4be-48d4-be5a-93bcfc3cb059",
   "metadata": {},
   "source": [
    "These are some best practices you should **always** bear in mind.\n",
    "\n",
    "The following is an excerpt from Wilson et al. ([2014](https://doi.org/10.1371/journal.pbio.1001745) that apply to you **now**:\n",
    "\n",
    "1. **Write programs for people**, *not computers*.\n",
    "2. Optimise software **only after it works correctly**.\n",
    "3. **Document design and purpose**, *not mechanics*.\n",
    "4. **Collaborate**."
   ]
  },
  {
   "cell_type": "markdown",
   "id": "46bd01b8-9d88-4b72-babb-906244e24387",
   "metadata": {},
   "source": [
    "If you don’t take care, your code can quickly become unfathomable to others and your future self. \n",
    "\n",
    "So, consciously produce easily **understandable code** (for example, *using appropriate variable names*). In addition, discussing your code with your friends (**collaboration**) is helpful because you will get immediate feedback if your code is indecipherable or if you have misunderstood a concept."
   ]
  },
  {
   "cell_type": "markdown",
   "id": "7a2305c4-bbfd-4e98-abb8-b1dfbea58514",
   "metadata": {},
   "source": [
    "Another **common pitfall** novices succumb to is pursuing a *perfect solution right from the get-go*. Instead, it is better to get something (**anything**) working. You can then make things complicated and/or optimize your code."
   ]
  },
  {
   "cell_type": "markdown",
   "id": "53b7e524-1c98-4a44-8ff1-3f28a84b6f57",
   "metadata": {},
   "source": [
    "**Tip**:\n",
    "\n",
    "Always start simple and get something working first before making it perfect."
   ]
  },
  {
   "attachments": {},
   "cell_type": "markdown",
   "id": "98aaeaeb",
   "metadata": {},
   "source": [
    "# 12 Looking for help"
   ]
  },
  {
   "cell_type": "markdown",
   "id": "07719814-f053-4694-92cb-e1f4fcd6aec4",
   "metadata": {},
   "source": [
    "You can get help/information about Python functions from within Python. However, for beginners, this function is not recommended."
   ]
  },
  {
   "cell_type": "code",
   "execution_count": 19,
   "id": "187a3a59-ebe6-4d74-b73e-af0aa4b3dc0d",
   "metadata": {},
   "outputs": [
    {
     "name": "stdout",
     "output_type": "stream",
     "text": [
      "Help on built-in function print in module builtins:\n",
      "\n",
      "print(*args, sep=' ', end='\\n', file=None, flush=False)\n",
      "    Prints the values to a stream, or to sys.stdout by default.\n",
      "    \n",
      "    sep\n",
      "      string inserted between values, default a space.\n",
      "    end\n",
      "      string appended after the last value, default a newline.\n",
      "    file\n",
      "      a file-like object (stream); defaults to the current sys.stdout.\n",
      "    flush\n",
      "      whether to forcibly flush the stream.\n",
      "\n"
     ]
    }
   ],
   "source": [
    "help(print)"
   ]
  },
  {
   "cell_type": "markdown",
   "id": "a81faccf-c3da-4132-943d-551e777257ae",
   "metadata": {},
   "source": [
    "***Output:***\n",
    "\n",
    "\n",
    "Help on built-in function print in module builtins:\r\n",
    "\r\n",
    "print(*args, sep=' ', end='\\n', file=None, flush=False)\r\n",
    "    Prints the values to a stream, or to sys.stdout by default.\r\n",
    "    \r\n",
    "    sep\r\n",
    "      string inserted between values, default a space.\r\n",
    "    end\r\n",
    "      string appended after the last value, default a newline.\r\n",
    "    file\r\n",
    "      a file-like object (stream); defaults to the current sys.stdout.\r\n",
    "    flush\r\n",
    "      whether to forcibly flush the stream."
   ]
  },
  {
   "cell_type": "markdown",
   "id": "f25bee84-41d8-4f4a-ad27-4bb2db847229",
   "metadata": {},
   "source": [
    "The above is the documentation corresponding to the function `print()`. Unfortunately, unless you already have some experience, this documentation is **not the friendliest**. The internet (e.g. [stack overflow](https://stackoverflow.com/questions/tagged/python), Google or ChatGPT) is the fastest way to get a question about programming answered."
   ]
  },
  {
   "attachments": {},
   "cell_type": "markdown",
   "id": "d024c331",
   "metadata": {},
   "source": [
    "## References"
   ]
  },
  {
   "cell_type": "markdown",
   "id": "fa9dc183-cbbd-4eb3-b100-8cd3a9a37c12",
   "metadata": {},
   "source": [
    "Wilson, Greg, D. A. Aruliah, C. Titus Brown, Neil P. Chue Hong, Matt Davis, Richard T. Guy, Steven H. D. Haddock, et al. 2014. “Best Practices for Scientific Computing.” *PLOS Biology* 12 (1): e1001745. [https://doi.org/10.1371/journal.pbio.1001745](https://doi.org/10.1371/journal.pbio.1001745)."
   ]
  },
  {
   "attachments": {},
   "cell_type": "markdown",
   "id": "a4cffee2",
   "metadata": {},
   "source": [
    "## Footnotes"
   ]
  },
  {
   "cell_type": "markdown",
   "id": "ebc2db01-7f26-4f78-b1e0-c3a5d9ccff35",
   "metadata": {},
   "source": [
    "1. despite the English phrase.\n",
    "2. E.g. with an OCR table of numbers.\n",
    "3. due to issues related to the precision if the [IEEE 754](https://en.wikipedia.org/wiki/IEEE_754) standard\n",
    "4. called augmented assignment"
   ]
  }
 ],
 "metadata": {
  "kernelspec": {
   "display_name": "Python 3 (ipykernel)",
   "language": "python",
   "name": "python3"
  },
  "language_info": {
   "codemirror_mode": {
    "name": "ipython",
    "version": 3
   },
   "file_extension": ".py",
   "mimetype": "text/x-python",
   "name": "python",
   "nbconvert_exporter": "python",
   "pygments_lexer": "ipython3",
   "version": "3.11.5"
  },
  "toc": {
   "base_numbering": 1,
   "nav_menu": {},
   "number_sections": true,
   "sideBar": true,
   "skip_h1_title": false,
   "title_cell": "Table of Contents",
   "title_sidebar": "Contents",
   "toc_cell": false,
   "toc_position": {},
   "toc_section_display": true,
   "toc_window_display": false
  },
  "vscode": {
   "interpreter": {
    "hash": "31f2aee4e71d21fbe5cf8b01ff0e069b9275f58929596ceb00d14d90e3e16cd6"
   }
  }
 },
 "nbformat": 4,
 "nbformat_minor": 5
}
