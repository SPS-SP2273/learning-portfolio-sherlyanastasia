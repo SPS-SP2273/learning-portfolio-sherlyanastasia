{
 "cells": [
  {
   "attachments": {},
   "cell_type": "markdown",
   "id": "123456",
   "metadata": {},
   "source": [
    "<div style=\"text-align:left;font-size:2em\"><span style=\"font-weight:bolder;font-size:1.25em\">SP2273 | Learning Portfolio</span><br><br><span style=\"font-weight:bold;color:darkred\">Functions (Need) Exercises</span></div>"
   ]
  },
  {
   "cell_type": "markdown",
   "id": "f6c70dd5-6b4b-4b7d-a9b2-da8b540c2127",
   "metadata": {},
   "source": [
    "# Exercise 1"
   ]
  },
  {
   "cell_type": "code",
   "execution_count": 56,
   "id": "378cae9b-9235-43e8-aef2-15730a350f13",
   "metadata": {},
   "outputs": [],
   "source": [
    "def greeting(name):\n",
    "    if name == 'Batman':\n",
    "        return 'Hello Batman! So, nice to meet you!'\n",
    "    return f'Hello {name}!'"
   ]
  },
  {
   "cell_type": "code",
   "execution_count": 60,
   "id": "68b60a00-9ae7-47b2-8045-97ef96edd54e",
   "metadata": {},
   "outputs": [
    {
     "data": {
      "text/plain": [
       "'Hello Batman! So, nice to meet you!'"
      ]
     },
     "execution_count": 60,
     "metadata": {},
     "output_type": "execute_result"
    }
   ],
   "source": [
    "greeting('Batman')"
   ]
  },
  {
   "cell_type": "code",
   "execution_count": 64,
   "id": "110f9ba7-afa7-4f89-9a1f-439915d55373",
   "metadata": {},
   "outputs": [
    {
     "data": {
      "text/plain": [
       "'Hello Sally!'"
      ]
     },
     "execution_count": 64,
     "metadata": {},
     "output_type": "execute_result"
    }
   ],
   "source": [
    "greeting('Sally')"
   ]
  },
  {
   "cell_type": "markdown",
   "id": "fb4556c6-b802-4715-b330-b2cde0376f19",
   "metadata": {},
   "source": [
    "The above code will work because you always need to run `return f'Hello {name}!'` when the input, which is **name** in this case, is turn out to be ***False***. So, no need to use *else* statement.\n",
    "\n",
    "In addition, the indentation of `return f'Hello {name}!'` is in-line with the `if` statement. If you just remove the `else` and directly run the code, it won't work. You need to fix the indentation also! \n",
    "\n",
    "See code below!"
   ]
  },
  {
   "cell_type": "code",
   "execution_count": 65,
   "id": "014e10e9-d715-4838-845b-1c6c5b0782b6",
   "metadata": {},
   "outputs": [],
   "source": [
    "def greeting(name):\n",
    "    if name == 'Batman':\n",
    "        return 'Hello Batman! So, nice to meet you!'\n",
    "    else:\n",
    "        return f'Hello {name}!'\n",
    "\n",
    "#The code with else."
   ]
  },
  {
   "cell_type": "code",
   "execution_count": 66,
   "id": "68157165-0ce8-4cd7-90f8-eb54ca58c17f",
   "metadata": {},
   "outputs": [
    {
     "data": {
      "text/plain": [
       "'Hello Batman! So, nice to meet you!'"
      ]
     },
     "execution_count": 66,
     "metadata": {},
     "output_type": "execute_result"
    }
   ],
   "source": [
    "greeting('Batman')"
   ]
  },
  {
   "cell_type": "code",
   "execution_count": 67,
   "id": "8219b3a3-dfd8-47bf-98c7-476b3451c7d9",
   "metadata": {},
   "outputs": [
    {
     "data": {
      "text/plain": [
       "'Hello Sally!'"
      ]
     },
     "execution_count": 67,
     "metadata": {},
     "output_type": "execute_result"
    }
   ],
   "source": [
    "greeting('Sally')"
   ]
  },
  {
   "cell_type": "code",
   "execution_count": null,
   "id": "d4b5d378-6835-4045-bf76-3b4fc25ca526",
   "metadata": {},
   "outputs": [],
   "source": [
    "def greeting(name):\n",
    "    if name == 'Batman':\n",
    "        return 'Hello Batman! So, nice to meet you!'\n",
    "        return f'Hello {name}!'\n",
    "\n",
    "#Will not work, you need to fix the indentation of \"return f'Hello {name}!'\""
   ]
  },
  {
   "cell_type": "markdown",
   "id": "6e066d40-2fef-4197-bd5e-66fc07f10b8f",
   "metadata": {},
   "source": [
    "# Exercise 2"
   ]
  },
  {
   "cell_type": "code",
   "execution_count": 39,
   "id": "ead3398e-c290-4415-b6e2-2f25e1b5c8bb",
   "metadata": {},
   "outputs": [],
   "source": [
    "def calculate_bmi():\n",
    "    w = input('Enter your weight (in kilograms):')\n",
    "    h = input('Enter your height (in meters):')\n",
    "    try:\n",
    "        weight = float(w)\n",
    "        height = float(h)\n",
    "        if weight <= 0:\n",
    "            print('Enter number bigger than 0.')\n",
    "        elif height <=0:\n",
    "            print('Enter number bigger than 0.')\n",
    "        else:\n",
    "            BMI = weight / (height**2)\n",
    "            if BMI >=30:\n",
    "                print('Your BMI category is under Obesity')\n",
    "            elif 25 <= BMI <30:\n",
    "                print('Your BMI category is under Overweight')\n",
    "            elif 18.5 <= BMI <25:\n",
    "                print('Your BMI category is under Normal Weight')\n",
    "            elif 0< BMI < 18.5:\n",
    "                print('Your BMI category is under Underweight')\n",
    "    except:\n",
    "        print('Error. Enter the appropriate number.')"
   ]
  },
  {
   "cell_type": "code",
   "execution_count": 55,
   "id": "0e8dec9c-bb9c-41be-aa12-b72f30908eb7",
   "metadata": {},
   "outputs": [
    {
     "name": "stdin",
     "output_type": "stream",
     "text": [
      "Enter your weight (in kilograms): 0\n",
      "Enter your height (in meters): 0\n"
     ]
    },
    {
     "name": "stdout",
     "output_type": "stream",
     "text": [
      "Enter number bigger than 0.\n"
     ]
    }
   ],
   "source": [
    "calculate_bmi()"
   ]
  }
 ],
 "metadata": {
  "kernelspec": {
   "display_name": "Python 3 (ipykernel)",
   "language": "python",
   "name": "python3"
  },
  "language_info": {
   "codemirror_mode": {
    "name": "ipython",
    "version": 3
   },
   "file_extension": ".py",
   "mimetype": "text/x-python",
   "name": "python",
   "nbconvert_exporter": "python",
   "pygments_lexer": "ipython3",
   "version": "3.11.5"
  },
  "toc": {
   "base_numbering": 1,
   "nav_menu": {},
   "number_sections": true,
   "sideBar": true,
   "skip_h1_title": false,
   "title_cell": "Table of Contents",
   "title_sidebar": "Contents",
   "toc_cell": false,
   "toc_position": {},
   "toc_section_display": true,
   "toc_window_display": false
  },
  "vscode": {
   "interpreter": {
    "hash": "31f2aee4e71d21fbe5cf8b01ff0e069b9275f58929596ceb00d14d90e3e16cd6"
   }
  }
 },
 "nbformat": 4,
 "nbformat_minor": 5
}
