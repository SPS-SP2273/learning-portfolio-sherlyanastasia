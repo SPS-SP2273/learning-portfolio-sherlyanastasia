{
 "cells": [
  {
   "attachments": {},
   "cell_type": "markdown",
   "id": "123456",
   "metadata": {},
   "source": [
    "<div style=\"text-align:left;font-size:2em\"><span style=\"font-weight:bolder;font-size:1.25em\">SP2273 | Learning Portfolio</span><br><br><span style=\"font-weight:bold;color:darkred\">Functions (Good) Exercises</span></div>"
   ]
  },
  {
   "cell_type": "markdown",
   "id": "116713c0-4ab2-410d-89c1-212a599bf227",
   "metadata": {},
   "source": [
    "Exercise 1"
   ]
  },
  {
   "cell_type": "code",
   "execution_count": 31,
   "id": "3458560f-02c3-4817-a99c-8c2b8778fcf3",
   "metadata": {},
   "outputs": [],
   "source": [
    "def convert_celcius():\n",
    "    temperature_celcius = input('Enter temperature in Celcius:')\n",
    "    target_scale = input('Enter target scale (Fahrenheit or Kelvin):')\n",
    "    try:\n",
    "        x = float(temperature_celcius)\n",
    "        if target_scale == 'Kelvin':\n",
    "            result = x + 273\n",
    "            print('Temperature in Kelvin:', result)\n",
    "        else:\n",
    "            result = (9/5)*x + 32\n",
    "            print('Temperature in Fahrenheit:', result)\n",
    "    except:\n",
    "        print('Enter the appropriate temperature!')"
   ]
  },
  {
   "cell_type": "code",
   "execution_count": 32,
   "id": "4522f8e1-b0f8-4e4c-855c-4522f51fad24",
   "metadata": {},
   "outputs": [
    {
     "name": "stdin",
     "output_type": "stream",
     "text": [
      "Enter temperature in Celcius: 45\n",
      "Enter target scale (Fahrenheit or Kelvin): ef\n"
     ]
    },
    {
     "name": "stdout",
     "output_type": "stream",
     "text": [
      "Temperature in Fahrenheit: 113.0\n"
     ]
    }
   ],
   "source": [
    "convert_celcius()"
   ]
  },
  {
   "cell_type": "markdown",
   "id": "86c4dcbb-a546-43d5-af09-12ff3500229f",
   "metadata": {},
   "source": [
    "Exercise 2"
   ]
  },
  {
   "cell_type": "code",
   "execution_count": 25,
   "id": "8ce64fb4-5921-4b22-92c1-7630ef411e30",
   "metadata": {},
   "outputs": [],
   "source": [
    "def convert_fahrenheit():\n",
    "    temperature_fahrenheit = input('Enter temperature in Fahrenheit:')\n",
    "    target_scale = input('Enter target scale (Celcius or Kelvin):')\n",
    "    try:\n",
    "        x = float(temperature_fahrenheit)\n",
    "        if target_scale == 'Kelvin':\n",
    "            result = (x-32)*(5/9)+273\n",
    "            print('Temperature in Kelvin:', result)\n",
    "        else:\n",
    "            result = (x-32)*(5/9)\n",
    "            print('Temperature in Celcius:', result)\n",
    "    except:\n",
    "        print('Enter the appropriate temperature!')"
   ]
  },
  {
   "cell_type": "code",
   "execution_count": 27,
   "id": "a90a3525-ca54-4e1f-9d7f-dcca225ab3f9",
   "metadata": {},
   "outputs": [
    {
     "name": "stdin",
     "output_type": "stream",
     "text": [
      "Enter temperature in Fahrenheit: zfd\n",
      "Enter target scale (Celcius or Kelvin): zz\n"
     ]
    },
    {
     "name": "stdout",
     "output_type": "stream",
     "text": [
      "Enter the appropriate temperature!\n"
     ]
    }
   ],
   "source": [
    "convert_fahrenheit()"
   ]
  },
  {
   "cell_type": "markdown",
   "id": "7be1ec39-8136-4f7b-851b-9841d5bbdc3a",
   "metadata": {},
   "source": [
    "Exercise 3"
   ]
  },
  {
   "cell_type": "code",
   "execution_count": 34,
   "id": "439bf6f6-8ec2-4a22-9eeb-d86ce0dcd93c",
   "metadata": {},
   "outputs": [],
   "source": [
    "def convert_temperature():\n",
    "    temperature = input('Enter temperature (number only):')\n",
    "    source_scale = input('Enter the scale of your input temperature (Celcius, Fahrenheit or Kelvin):')\n",
    "    target_scale = input('Enter your desired scale (either Celcius, Fahrenheit or Kelvin):')\n",
    "    try:\n",
    "        x = float(temperature)\n",
    "        if source_scale == 'Celcius':\n",
    "            if target_scale == 'Celcius':\n",
    "                print('Temperature in Celcius:', x)\n",
    "            elif target_scale == 'Fahrenheit':\n",
    "                result = (9/5)*x + 32\n",
    "                print('Temperature in Fahrenheit:', result)\n",
    "            elif target_scale == 'Kelvin':\n",
    "                result = x + 273\n",
    "                print('Temperature in Kelvin:', result)\n",
    "            else:\n",
    "                print('Set the appropriate target scale!')\n",
    "        elif source_scale == 'Fahrenheit':\n",
    "            if target_scale == 'Fahrenheit':\n",
    "                print('Temperature in Fahrenheit:', x)\n",
    "            elif target_scale == 'Celcius':\n",
    "                result = (x-32)*(5/9)\n",
    "                print('Temperature in Celcius:', result)\n",
    "            elif target_scale == 'Kelvin':\n",
    "                result = (x-32)*(5/9)+273\n",
    "                print('Temperature in Kelvin:', result)\n",
    "            else:\n",
    "                print('Set the appropriate target scale!')\n",
    "        elif source_scale == 'Kelvin':\n",
    "            if target_scale == 'Kelvin':\n",
    "                print('Temperature in Kelvin:', x)\n",
    "            elif target_scale == 'Fahrenheit':\n",
    "                result = (x-273)*(9/5) + 32\n",
    "                print('Temperature in Fahrenheit:', result)\n",
    "            elif target_scale == 'Celcius':\n",
    "                result = x - 273\n",
    "                print('Temperature in Celcius:', result)\n",
    "            else:\n",
    "                print('Set the appropriate target scale!')\n",
    "        else:\n",
    "            print('Set the appropriate source scale')\n",
    "    except:\n",
    "        print('Enter the appropriate temperature!')"
   ]
  },
  {
   "cell_type": "code",
   "execution_count": 43,
   "id": "5f222dd8-48e3-48e7-b6aa-54fa53fdc118",
   "metadata": {},
   "outputs": [
    {
     "name": "stdin",
     "output_type": "stream",
     "text": [
      "Enter temperature (number only): 10\n",
      "Enter the scale of your input temperature (Celcius, Fahrenheit or Kelvin): Fahrenheit\n",
      "Enter your desired scale (either Celcius, Fahrenheit or Kelvin): Fahrenheit\n"
     ]
    },
    {
     "name": "stdout",
     "output_type": "stream",
     "text": [
      "Temperature in Fahrenheit: 10.0\n"
     ]
    }
   ],
   "source": [
    "convert_temperature()"
   ]
  }
 ],
 "metadata": {
  "kernelspec": {
   "display_name": "Python 3 (ipykernel)",
   "language": "python",
   "name": "python3"
  },
  "language_info": {
   "codemirror_mode": {
    "name": "ipython",
    "version": 3
   },
   "file_extension": ".py",
   "mimetype": "text/x-python",
   "name": "python",
   "nbconvert_exporter": "python",
   "pygments_lexer": "ipython3",
   "version": "3.11.5"
  },
  "toc": {
   "base_numbering": 1,
   "nav_menu": {},
   "number_sections": true,
   "sideBar": true,
   "skip_h1_title": false,
   "title_cell": "Table of Contents",
   "title_sidebar": "Contents",
   "toc_cell": false,
   "toc_position": {},
   "toc_section_display": true,
   "toc_window_display": false
  },
  "vscode": {
   "interpreter": {
    "hash": "31f2aee4e71d21fbe5cf8b01ff0e069b9275f58929596ceb00d14d90e3e16cd6"
   }
  }
 },
 "nbformat": 4,
 "nbformat_minor": 5
}
