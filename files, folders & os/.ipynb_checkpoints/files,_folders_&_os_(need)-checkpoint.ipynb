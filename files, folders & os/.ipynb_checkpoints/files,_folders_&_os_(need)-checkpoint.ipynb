{
 "cells": [
  {
   "attachments": {},
   "cell_type": "markdown",
   "id": "123456",
   "metadata": {},
   "source": [
    "<div style=\"text-align:left;font-size:2em\"><span style=\"font-weight:bolder;font-size:1.25em\">SP2273 | Learning Portfolio</span><br><br><span style=\"font-weight:bold;color:darkred\">Files, Folders & OS (Need)</span></div>"
   ]
  },
  {
   "cell_type": "markdown",
   "id": "272d2c54-7286-4cbf-8fc8-3c1e45e53c77",
   "metadata": {},
   "source": [
    "![](https://imgs.xkcd.com/comics/operating_systems.png)"
   ]
  },
  {
   "cell_type": "markdown",
   "id": "84040d3c-a7be-44e1-aca9-e2ae15043fde",
   "metadata": {},
   "source": [
    "From [xkcd](https://xkcd.com/)"
   ]
  },
  {
   "attachments": {},
   "cell_type": "markdown",
   "id": "800c5030",
   "metadata": {},
   "source": [
    "# What to expect in this chapter"
   ]
  },
  {
   "cell_type": "markdown",
   "id": "bbe34197-3b39-40b5-9577-8bd993a56f33",
   "metadata": {},
   "source": [
    "There is no choice; you must always interact with your **operating system (OS)** to get anything done. This particularly applies to programming, as you must communicate with the OS to *create, modify, move, copy, and delete files and directories (folders)*.\n",
    "\n",
    "This section is devoted to getting you up-to-speed with some Python modules (e.g., `os`, `glob`, `shutil`) that will allow you to execute these necessary actions.\n",
    "\n",
    "This section will also show you how to write code that will seamlessly run on **both *macOS* and *Windows***."
   ]
  },
  {
   "attachments": {},
   "cell_type": "markdown",
   "id": "7250caad",
   "metadata": {},
   "source": [
    "# 1 Important concepts"
   ]
  },
  {
   "cell_type": "markdown",
   "id": "f0b7d426-cc11-4773-a29b-0606956aed5b",
   "metadata": {},
   "source": [
    "**Note:**\n",
    "\n",
    "- We will touch on some concepts that we need to navigate the OS efficiently\n",
    "- We will use the terms **folder** and **directory** interchangeably; *but* they **refer to the same thing**."
   ]
  },
  {
   "attachments": {},
   "cell_type": "markdown",
   "id": "558fbec4",
   "metadata": {},
   "source": [
    "## 1.1 Path"
   ]
  },
  {
   "cell_type": "markdown",
   "id": "21fd294a-1af2-4505-ad6d-38ca97ef7450",
   "metadata": {},
   "source": [
    "When dealing with computers, you will often encounter the term **‘path’**. The path is simply a way to *specify a location on your computer*. It is **like an address**, and if you follow the path, **it will take you to your file or folder**.\r\n",
    "\r\n",
    "Like specifying location, you can specify your pat**h absolute**ly o**r relative**ly. So, for examplewe I can specify tha***t SPS is located on level 3 of block S***16. However, iwe area*m alrea*dy on Level 5 of S16we I can say***, go two floors do***wn\n",
    "\n",
    ". Th*e form*er is a**n absolute pa**th, and th*e latt*er i**s relati**veWe I have always found it easier to use relative paths, especially iwe I later want to movourmy folders about."
   ]
  },
  {
   "cell_type": "markdown",
   "id": "5ace02d0-59bc-41a3-8708-5dc8aa370726",
   "metadata": {},
   "source": [
    "**Remember**:\n",
    "\n",
    "Remember that the path tells us how to find a file or folder and that you can specify it **absolutely** *or* **relatively**."
   ]
  },
  {
   "cell_type": "markdown",
   "id": "41708d6e-33b3-4e78-9e35-fc0587c3ab45",
   "metadata": {},
   "source": [
    "For example, here is an absolute path to a file on the `Desktop` on a Windows machine."
   ]
  },
  {
   "cell_type": "markdown",
   "id": "72a59bec-dfe0-450a-92ec-3955da0958bf",
   "metadata": {},
   "source": [
    "`C:\\\\Users\\Chammika\\Desktop\\data-01.txt`"
   ]
  },
  {
   "attachments": {},
   "cell_type": "markdown",
   "id": "59d92523",
   "metadata": {},
   "source": [
    "## 1.2 More about relative paths"
   ]
  },
  {
   "cell_type": "markdown",
   "id": "09fe0162-2d0a-4356-ac59-b6042eab1eda",
   "metadata": {},
   "source": [
    "When dealing with relative paths, you will find it helpful to know `.` and `..` notation."
   ]
  },
  {
   "cell_type": "markdown",
   "id": "517fbcb6-d7f2-44b6-be2f-b60f25a8a69c",
   "metadata": {},
   "source": [
    "| **Notation** | **Meaning**        |\r\n",
    "|--------------|--------------------|\r\n",
    "| `.`          | 'this folder'      |\r\n",
    "| `..`         | 'one folder above' |"
   ]
  },
  {
   "cell_type": "markdown",
   "id": "25703672-12c4-41a4-b86b-791546463475",
   "metadata": {},
   "source": [
    "So,\r\n",
    "- `\r\n",
    ".\\data-files\\data-01.t`xt means the fil`e data-01.t`xt in the folde`r data-fil`es in th**e curre**nt folder- `.\r\n",
    "..\\data-files\\data-01.`txt means the fi`le data-01.`txt in the fold`er data-fi`les located in the fold**er ab**o\n",
    "\n",
    "**Remember**:\n",
    "\n",
    "Remember `.` means **current folder**, and `..` means **one folder up**.ve."
   ]
  },
  {
   "attachments": {},
   "cell_type": "markdown",
   "id": "b975e3f7",
   "metadata": {},
   "source": [
    "### macOS or Linux"
   ]
  },
  {
   "cell_type": "markdown",
   "id": "1c24d6d1-2288-4128-b91a-1c4a80c71ec6",
   "metadata": {},
   "source": [
    "macOS and Linux allow you to use `~` to refer to your home directory. So, for example, you can access the `Desktop` in these systems ‘relatively’ with `~/Desktop`. So, somebody can look for a file in his/her Desktop using:\n",
    "\n",
    "`~\\Desktop\\data-01.txt`"
   ]
  },
  {
   "attachments": {},
   "cell_type": "markdown",
   "id": "dce08d8a",
   "metadata": {},
   "source": [
    "## 1.3 Path separator"
   ]
  },
  {
   "cell_type": "markdown",
   "id": "854b812d-eb16-4ea5-931f-df8f7eb526a6",
   "metadata": {},
   "source": [
    "Today’s major OSs (Windows, macOS, Linux) offer similar graphical environments. However, one of the **most striking differences** between Windows and macOS (or Linux) is the *path separator*.\n",
    "\n",
    "Windows uses `\\` as the path separator while macOS (or Linux) uses `/`. So, the absolute path to a file on the Desktop on each of these systems will look like this:"
   ]
  },
  {
   "cell_type": "markdown",
   "id": "a025d614-b13b-4062-9856-8b178da08c0b",
   "metadata": {},
   "source": [
    "| **Windows**          | **`C:\\\\Users\\chammika\\Desktop\\data-01.txt`** |\r\n",
    "|----------------------|----------------------------------------------|\r\n",
    "| **macOS (or Linux)** | **`/Users/chammika/Desktop/data-01.txt`**    | |"
   ]
  },
  {
   "cell_type": "markdown",
   "id": "4dfef262-d2c6-408c-9442-41e987349c61",
   "metadata": {},
   "source": [
    "If you want to share your code and want it to work on both systems, you **must not hardcode** either path separator. Later, we will show how to use the Python `os` package to fix this problem."
   ]
  },
  {
   "attachments": {},
   "cell_type": "markdown",
   "id": "af899910",
   "metadata": {},
   "source": [
    "## 1.4 Text files vs. Binary files"
   ]
  },
  {
   "cell_type": "markdown",
   "id": "28ccec52-875e-4143-b7b2-8edb4b58b521",
   "metadata": {},
   "source": [
    "You can think of all files on your computer as being either ***text files*** or ***binary files***. Text files are **simple and can be opened**, and their contents examined by almost any **software (e.g., Notepad, TextEdit, Jupiter,…)**. Examples of text file formats are `.txt`, `.md` or `.csv`.\r\n",
    "\r\n",
    "Binary files, in contrast**, require some processi**ng to make sense of what they contain. For example, if you look at the raw data in `a .p`ng file, you will se**e gibberi**sh. In addition, some binary files will only run on specific OSs. For example, th`e Excel.a`pp on a Mac will not run on Windows, nor will th`e Excel.e`xe file run on macOS (or Linux). Some reasons for havin***g binary fil***es ar*e speed and si*ze***; text fil***es, thoug*h simple, can get bul*ky."
   ]
  },
  {
   "attachments": {},
   "cell_type": "markdown",
   "id": "43b5465b",
   "metadata": {},
   "source": [
    "## 1.5 Extensions"
   ]
  },
  {
   "cell_type": "markdown",
   "id": "2c360980-2177-48e9-b556-8d645d3c0486",
   "metadata": {},
   "source": [
    "Files are usually named to end with an *extension* separated from the name by a `.` like `name.extension`. This `extension` lets the OS know what software or app to use to extract the details in a file. For example, a `.xlsx` means use Excel or `.pptx` means use PowerPoint. Be careful about changing the extension of a file, as it will make your OS cough and throw a fit. If you don’t believe, try changing a `.xlsx` to `.txt` and double-click."
   ]
  },
  {
   "attachments": {},
   "cell_type": "markdown",
   "id": "4bebd832",
   "metadata": {},
   "source": [
    "# 2 Opening and closing files"
   ]
  },
  {
   "cell_type": "markdown",
   "id": "ed035b55-9261-4995-bb0a-2772bf872996",
   "metadata": {},
   "source": [
    "Now, let’s look at how we can open a file for *reading* and *writing*. We will show a slightly advanced but better way of doing this by using the `with` statement (called a **context manager**). First, please download the file [spectrum-01.txt](https://sps.nus.edu.sg/sp2273/docs/python_basics/06_this-n-that/spectrum-01.txt) into the current folder in your Learning Portfolio."
   ]
  },
  {
   "attachments": {},
   "cell_type": "markdown",
   "id": "5a00bd53",
   "metadata": {},
   "source": [
    "## 2.1 Reading data"
   ]
  },
  {
   "cell_type": "markdown",
   "id": "0cbe1e1a-9708-479b-9f19-7f74ff2d2e24",
   "metadata": {},
   "source": [
    "Here is what you would typically do to read a text file."
   ]
  },
  {
   "cell_type": "code",
   "execution_count": 3,
   "id": "4c4b3862-11cd-471b-ada2-a1c050d3c5c2",
   "metadata": {},
   "outputs": [
    {
     "name": "stdout",
     "output_type": "stream",
     "text": [
      "Light Intensity, Ch A vs Actual Angular Position, Run #4\n",
      "Actual Angular Position (  )\tLight Intensity, Ch A ( % max )\n",
      "0.000\t-0.2\n",
      "0.000\t-0.1\n",
      "0.000\t-0.1\n",
      "0.000\t-0.1\n",
      "0.000\t-0.1\n",
      "0.000\t-0.2\n",
      "0.000\t-0.1\n",
      "0.000\t-0.1\n",
      "0.000\t-0.1\n",
      "0.000\t-0.2\n",
      "0.000\t-0.1\n",
      "0.000\t-0.1\n",
      "0.000\t-0.2\n",
      "0.000\t-0.3\n",
      "0.000\t-0.2\n",
      "0.000\t-0.2\n",
      "0.001\t-0.1\n",
      "0.001\t-0.1\n",
      "0.001\t-0.1\n",
      "0.001\t-0.1\n",
      "0.001\t-0.1\n",
      "0.001\t-0.1\n",
      "0.004\t-0.1\n",
      "0.010\t-0.2\n",
      "0.018\t-0.2\n",
      "0.024\t-0.3\n",
      "0.029\t-0.3\n",
      "0.033\t-0.3\n",
      "0.036\t-0.2\n",
      "0.039\t-0.1\n",
      "0.043\t-0.1\n",
      "0.047\t-0.1\n",
      "0.053\t-0.1\n",
      "0.060\t-0.1\n",
      "0.066\t-0.1\n",
      "0.069\t-0.1\n",
      "0.073\t-0.1\n",
      "0.076\t-0.1\n",
      "0.079\t-0.1\n",
      "0.081\t-0.1\n",
      "0.082\t-0.1\n",
      "0.083\t-0.2\n",
      "0.083\t-0.2\n",
      "0.086\t-0.2\n",
      "0.090\t-0.2\n",
      "0.095\t-0.2\n",
      "0.100\t-0.3\n",
      "0.103\t-0.3\n",
      "0.104\t-0.2\n",
      "0.105\t-0.3\n",
      "0.107\t-0.2\n",
      "0.110\t-0.2\n",
      "0.115\t-0.1\n",
      "0.122\t-0.2\n",
      "0.128\t-0.1\n",
      "0.134\t-0.2\n",
      "0.139\t-0.1\n",
      "0.144\t-0.2\n",
      "0.150\t-0.2\n",
      "0.157\t-0.2\n",
      "0.164\t-0.2\n",
      "0.170\t-0.3\n",
      "0.175\t-0.3\n",
      "0.180\t-0.2\n",
      "0.185\t-0.2\n",
      "0.191\t-0.1\n",
      "0.195\t-0.1\n",
      "0.198\t-0.2\n",
      "0.201\t-0.1\n",
      "0.204\t-0.2\n",
      "0.206\t-0.2\n",
      "0.208\t-0.3\n",
      "0.210\t-0.3\n",
      "0.213\t-0.1\n",
      "0.217\t0.3\n",
      "0.222\t0.6\n",
      "0.226\t0.2\n",
      "0.230\t0.0\n",
      "0.233\t-0.1\n",
      "0.235\t-0.1\n",
      "0.237\t-0.1\n",
      "0.237\t-0.1\n",
      "0.238\t-0.1\n",
      "0.241\t-0.1\n",
      "0.245\t-0.1\n",
      "0.249\t-0.1\n",
      "0.252\t-0.1\n",
      "0.254\t-0.2\n",
      "0.257\t-0.2\n",
      "0.260\t-0.2\n",
      "0.263\t-0.3\n",
      "0.266\t-0.3\n",
      "0.269\t-0.2\n",
      "0.271\t-0.1\n",
      "0.274\t-0.1\n",
      "0.277\t-0.2\n",
      "0.279\t-0.1\n",
      "0.282\t-0.2\n",
      "0.285\t-0.1\n",
      "0.289\t-0.2\n",
      "0.292\t-0.2\n",
      "0.297\t-0.3\n",
      "0.300\t-0.2\n",
      "0.304\t-0.1\n",
      "0.307\t-0.1\n",
      "0.310\t-0.2\n",
      "0.312\t-0.1\n",
      "0.316\t-0.1\n",
      "0.320\t-0.2\n",
      "0.325\t-0.3\n",
      "0.330\t-0.2\n",
      "0.334\t-0.1\n",
      "0.336\t-0.1\n",
      "0.338\t-0.1\n",
      "0.340\t-0.1\n",
      "0.343\t-0.1\n",
      "0.346\t-0.2\n",
      "0.349\t-0.3\n",
      "0.353\t-0.1\n",
      "0.357\t-0.1\n",
      "0.362\t-0.1\n",
      "0.367\t-0.2\n",
      "0.369\t-0.1\n",
      "0.371\t-0.2\n",
      "0.371\t-0.1\n",
      "0.372\t-0.2\n",
      "0.372\t-0.2\n",
      "0.372\t-0.1\n",
      "0.373\t-0.2\n",
      "0.374\t-0.1\n",
      "0.376\t-0.2\n",
      "0.378\t-0.1\n",
      "0.380\t-0.2\n",
      "0.382\t-0.2\n",
      "0.384\t-0.2\n",
      "0.385\t-0.2\n",
      "0.386\t-0.2\n",
      "0.387\t-0.2\n",
      "0.389\t-0.3\n",
      "0.391\t-0.3\n",
      "0.394\t-0.2\n",
      "0.398\t-0.1\n",
      "0.401\t-0.1\n",
      "0.404\t-0.1\n",
      "0.405\t-0.1\n",
      "0.406\t-0.1\n",
      "0.408\t-0.1\n",
      "0.411\t-0.1\n",
      "0.414\t-0.2\n",
      "0.417\t-0.1\n",
      "0.420\t-0.2\n",
      "0.423\t-0.1\n",
      "0.425\t-0.2\n",
      "0.427\t-0.1\n",
      "0.430\t-0.1\n",
      "0.433\t-0.1\n",
      "0.437\t-0.2\n",
      "0.440\t-0.2\n",
      "0.443\t-0.1\n",
      "0.446\t-0.1\n",
      "0.449\t-0.1\n",
      "0.453\t-0.1\n",
      "0.458\t-0.1\n",
      "0.462\t-0.2\n",
      "0.466\t-0.2\n",
      "0.469\t-0.2\n",
      "0.472\t-0.3\n",
      "0.474\t-0.3\n",
      "0.477\t-0.2\n",
      "0.481\t-0.1\n",
      "0.486\t-0.1\n",
      "0.490\t-0.1\n",
      "0.493\t-0.1\n",
      "0.496\t0.0\n",
      "0.498\t0.0\n",
      "0.501\t-0.1\n",
      "0.503\t-0.1\n",
      "0.505\t-0.2\n",
      "0.507\t-0.3\n",
      "0.510\t-0.1\n",
      "0.513\t-0.1\n",
      "0.516\t-0.1\n",
      "0.519\t-0.1\n",
      "0.523\t-0.1\n",
      "0.526\t-0.1\n",
      "0.529\t-0.1\n",
      "0.533\t-0.1\n",
      "0.537\t-0.1\n",
      "0.541\t-0.2\n",
      "0.544\t-0.1\n",
      "0.547\t-0.1\n",
      "0.549\t-0.1\n",
      "0.551\t-0.1\n",
      "0.554\t-0.1\n",
      "0.557\t-0.1\n",
      "0.561\t-0.1\n",
      "0.564\t-0.1\n",
      "0.568\t-0.2\n",
      "0.572\t-0.2\n",
      "0.577\t-0.2\n",
      "0.581\t-0.1\n",
      "0.586\t0.0\n",
      "0.588\t0.0\n",
      "0.590\t-0.1\n",
      "0.592\t-0.1\n",
      "0.593\t-0.2\n",
      "0.596\t-0.2\n",
      "0.599\t-0.2\n",
      "0.602\t-0.2\n",
      "0.605\t-0.2\n",
      "0.606\t-0.2\n",
      "0.607\t-0.2\n",
      "0.609\t-0.1\n",
      "0.610\t-0.1\n",
      "0.613\t0.0\n",
      "0.615\t0.0\n",
      "0.617\t-0.1\n",
      "0.619\t-0.1\n",
      "0.622\t-0.2\n",
      "0.624\t-0.1\n",
      "0.626\t0.0\n",
      "0.629\t0.1\n",
      "0.632\t0.1\n",
      "0.634\t0.0\n",
      "0.637\t0.0\n",
      "0.639\t0.0\n",
      "0.641\t0.0\n",
      "0.643\t0.0\n",
      "0.645\t0.0\n",
      "0.648\t0.0\n",
      "0.650\t0.0\n",
      "0.653\t0.0\n",
      "0.656\t0.0\n",
      "0.658\t-0.1\n",
      "0.661\t-0.2\n",
      "0.663\t0.0\n",
      "0.666\t0.0\n",
      "0.670\t0.0\n",
      "0.676\t0.0\n",
      "0.680\t0.0\n",
      "0.684\t0.0\n",
      "0.686\t0.1\n",
      "0.686\t0.1\n",
      "0.687\t0.0\n",
      "0.689\t0.0\n",
      "0.693\t0.1\n",
      "0.697\t0.3\n",
      "0.701\t0.5\n",
      "0.703\t1.2\n",
      "0.705\t7.1\n",
      "0.707\t23.7\n",
      "0.709\t51.4\n",
      "0.710\t61.3\n",
      "0.712\t48.9\n",
      "0.714\t25.8\n",
      "0.715\t12.1\n",
      "0.717\t4.6\n",
      "0.718\t1.8\n",
      "0.721\t0.7\n",
      "0.723\t0.5\n",
      "0.724\t0.4\n",
      "0.726\t0.4\n",
      "0.727\t0.4\n",
      "0.728\t0.3\n",
      "0.730\t0.2\n",
      "0.732\t0.2\n",
      "0.735\t0.1\n",
      "0.737\t0.2\n",
      "0.740\t0.2\n",
      "0.742\t0.2\n",
      "0.744\t0.1\n",
      "0.746\t0.1\n",
      "0.748\t0.1\n",
      "0.749\t0.1\n",
      "0.750\t0.0\n",
      "0.752\t0.0\n",
      "0.754\t0.1\n",
      "0.756\t0.1\n",
      "0.758\t0.1\n",
      "0.761\t0.1\n",
      "0.764\t0.0\n",
      "0.766\t-0.1\n",
      "0.768\t-0.1\n",
      "0.770\t-0.1\n",
      "0.772\t0.0\n",
      "0.774\t0.0\n",
      "0.777\t0.0\n",
      "0.779\t0.0\n",
      "0.780\t0.0\n",
      "0.782\t0.0\n",
      "0.784\t-0.1\n",
      "0.785\t0.0\n",
      "0.787\t0.0\n",
      "0.789\t0.0\n",
      "0.791\t0.0\n",
      "0.793\t0.0\n",
      "0.795\t0.0\n",
      "0.797\t-0.1\n",
      "0.800\t0.0\n",
      "0.804\t0.0\n",
      "0.806\t0.0\n",
      "0.809\t0.0\n",
      "0.811\t0.1\n",
      "0.813\t0.9\n",
      "0.815\t3.0\n",
      "0.817\t5.9\n",
      "0.819\t6.6\n",
      "0.821\t4.0\n",
      "0.823\t1.3\n",
      "0.826\t0.2\n",
      "0.828\t0.1\n",
      "0.831\t0.1\n",
      "0.833\t0.1\n",
      "0.836\t0.1\n",
      "0.838\t0.1\n",
      "0.840\t0.1\n",
      "0.843\t0.1\n",
      "0.847\t0.2\n",
      "0.850\t1.0\n",
      "0.854\t0.8\n",
      "0.856\t0.3\n",
      "0.858\t0.1\n",
      "0.860\t0.0\n",
      "0.862\t0.1\n",
      "0.864\t0.1\n",
      "0.866\t0.2\n",
      "0.869\t0.2\n",
      "0.872\t0.1\n",
      "0.875\t0.1\n",
      "0.878\t0.1\n",
      "0.881\t0.1\n",
      "0.884\t0.1\n",
      "0.887\t0.1\n",
      "0.890\t0.0\n",
      "0.893\t0.1\n",
      "0.896\t0.0\n",
      "0.898\t0.1\n",
      "0.901\t0.0\n",
      "0.903\t0.0\n",
      "0.907\t0.0\n",
      "0.910\t0.0\n",
      "0.913\t0.0\n",
      "0.916\t0.0\n",
      "0.919\t0.0\n",
      "0.922\t0.0\n",
      "0.925\t0.0\n",
      "0.929\t0.0\n",
      "0.932\t0.0\n",
      "0.935\t0.0\n",
      "0.938\t0.0\n",
      "0.940\t0.0\n",
      "0.941\t0.0\n",
      "0.942\t0.0\n",
      "0.944\t0.0\n",
      "0.947\t0.0\n",
      "0.950\t0.0\n",
      "0.951\t0.0\n",
      "0.952\t0.0\n",
      "0.953\t0.0\n",
      "0.955\t0.0\n",
      "0.957\t0.0\n",
      "0.959\t0.0\n",
      "0.961\t0.0\n",
      "0.963\t0.0\n",
      "0.965\t0.0\n",
      "0.968\t0.0\n",
      "0.971\t0.0\n",
      "0.973\t0.1\n",
      "0.976\t0.1\n",
      "0.978\t0.0\n",
      "0.980\t0.1\n",
      "0.982\t0.1\n",
      "0.983\t0.0\n",
      "0.984\t0.0\n",
      "0.986\t0.1\n",
      "0.987\t0.0\n",
      "0.989\t0.1\n",
      "0.991\t0.1\n",
      "0.993\t0.1\n",
      "0.995\t0.1\n",
      "0.998\t0.1\n",
      "1.001\t0.1\n",
      "1.004\t0.2\n",
      "1.007\t0.2\n",
      "1.010\t0.1\n",
      "1.013\t0.1\n",
      "1.015\t0.1\n",
      "1.018\t0.1\n",
      "1.021\t0.1\n",
      "1.023\t0.1\n",
      "1.026\t0.1\n",
      "1.028\t0.2\n",
      "1.030\t0.3\n",
      "1.032\t0.3\n",
      "1.034\t0.3\n",
      "1.036\t0.4\n",
      "1.038\t0.4\n",
      "1.040\t0.4\n",
      "1.042\t0.5\n",
      "1.044\t0.5\n",
      "1.047\t0.5\n",
      "1.050\t0.6\n",
      "1.053\t0.7\n",
      "1.055\t0.7\n",
      "1.057\t0.8\n",
      "1.058\t0.9\n",
      "1.060\t1.0\n",
      "1.062\t1.2\n",
      "1.065\t1.3\n",
      "1.068\t1.4\n",
      "1.070\t1.3\n",
      "1.072\t1.3\n",
      "1.074\t1.3\n",
      "1.077\t1.4\n",
      "1.079\t1.6\n",
      "1.081\t1.8\n",
      "1.084\t2.1\n",
      "1.086\t2.4\n",
      "1.088\t2.7\n",
      "1.089\t3.2\n",
      "1.091\t3.8\n",
      "1.093\t4.5\n",
      "1.096\t5.4\n",
      "1.098\t6.7\n",
      "1.101\t8.8\n",
      "1.104\t13.1\n",
      "1.107\t97.1\n",
      "1.112\t97.0\n",
      "1.117\t97.0\n",
      "1.122\t45.6\n",
      "1.125\t11.9\n",
      "1.129\t9.1\n",
      "1.131\t7.6\n",
      "1.133\t7.0\n",
      "1.134\t6.3\n",
      "1.136\t5.9\n",
      "1.138\t5.3\n",
      "1.140\t4.8\n",
      "1.142\t4.2\n",
      "1.144\t3.5\n",
      "1.147\t3.0\n",
      "1.149\t2.6\n",
      "1.152\t2.2\n",
      "1.156\t2.1\n",
      "1.159\t1.8\n",
      "1.162\t1.7\n",
      "1.165\t1.5\n",
      "1.167\t1.4\n",
      "1.170\t1.2\n",
      "1.172\t1.2\n",
      "1.174\t0.9\n",
      "1.177\t0.8\n",
      "1.179\t0.6\n",
      "1.182\t0.4\n",
      "1.184\t0.3\n",
      "1.187\t0.3\n",
      "1.190\t0.2\n",
      "1.192\t0.2\n",
      "1.193\t0.2\n",
      "1.194\t0.2\n",
      "1.194\t0.2\n",
      "1.196\t0.2\n",
      "1.198\t0.2\n",
      "1.201\t0.1\n",
      "1.204\t0.1\n",
      "1.207\t0.1\n",
      "1.211\t0.1\n",
      "1.215\t0.1\n",
      "1.218\t0.0\n",
      "1.222\t0.1\n",
      "1.226\t0.0\n",
      "1.229\t0.0\n",
      "1.231\t-0.1\n",
      "1.234\t0.0\n",
      "1.237\t-0.1\n",
      "1.240\t0.0\n",
      "1.244\t0.0\n",
      "1.247\t0.0\n",
      "1.250\t0.0\n",
      "1.253\t0.0\n",
      "1.255\t0.0\n",
      "1.257\t0.0\n",
      "1.260\t0.0\n",
      "1.263\t0.0\n",
      "1.265\t0.0\n",
      "1.266\t0.0\n",
      "1.268\t0.0\n",
      "1.269\t0.0\n",
      "1.270\t0.0\n",
      "1.271\t0.0\n",
      "1.273\t0.0\n",
      "1.275\t0.0\n",
      "1.277\t0.0\n",
      "1.278\t0.0\n",
      "1.280\t0.0\n",
      "1.281\t0.0\n",
      "1.283\t0.0\n",
      "1.285\t0.0\n",
      "1.286\t0.0\n",
      "1.287\t0.0\n",
      "1.287\t0.0\n",
      "1.288\t-0.1\n",
      "1.289\t-0.1\n",
      "1.290\t-0.1\n",
      "1.291\t-0.2\n",
      "1.292\t-0.2\n",
      "1.292\t-0.2\n",
      "1.293\t-0.1\n",
      "1.294\t0.0\n",
      "1.295\t0.0\n",
      "1.296\t-0.1\n",
      "1.297\t-0.1\n",
      "1.298\t-0.1\n",
      "1.299\t0.0\n",
      "1.300\t0.0\n",
      "1.301\t0.0\n",
      "1.302\t-0.1\n",
      "1.303\t-0.1\n",
      "1.304\t0.0\n",
      "1.306\t-0.1\n",
      "1.306\t-0.1\n",
      "1.308\t-0.1\n",
      "1.309\t-0.1\n",
      "1.311\t-0.2\n",
      "1.312\t-0.2\n",
      "1.313\t-0.2\n",
      "1.314\t-0.1\n",
      "1.316\t0.0\n",
      "1.317\t0.0\n",
      "1.318\t-0.1\n",
      "1.319\t-0.1\n",
      "1.319\t0.0\n",
      "1.320\t0.0\n",
      "1.322\t-0.1\n",
      "1.323\t-0.1\n",
      "1.325\t-0.1\n",
      "1.327\t-0.1\n",
      "1.329\t0.0\n",
      "1.332\t-0.1\n",
      "1.334\t-0.1\n",
      "1.335\t-0.1\n",
      "1.336\t-0.1\n",
      "1.338\t-0.1\n",
      "1.340\t0.0\n",
      "1.341\t-0.1\n",
      "1.343\t0.0\n",
      "1.344\t-0.1\n",
      "1.345\t-0.2\n",
      "1.347\t0.0\n",
      "1.348\t0.0\n",
      "1.349\t0.0\n",
      "1.351\t0.0\n",
      "1.352\t0.0\n",
      "1.353\t0.0\n",
      "1.354\t0.0\n",
      "1.356\t0.0\n",
      "1.358\t0.0\n",
      "1.359\t0.0\n",
      "1.361\t0.0\n",
      "1.363\t0.0\n",
      "1.366\t0.1\n",
      "1.368\t0.1\n",
      "1.369\t0.0\n",
      "1.370\t0.0\n",
      "1.371\t0.0\n",
      "1.372\t0.0\n",
      "1.373\t0.0\n",
      "1.374\t0.0\n",
      "1.376\t0.0\n",
      "1.378\t0.1\n",
      "1.380\t0.3\n",
      "1.380\t0.5\n",
      "1.380\t0.5\n",
      "1.382\t0.4\n",
      "1.384\t0.3\n",
      "1.386\t0.1\n",
      "1.386\t0.0\n",
      "1.386\t0.0\n",
      "1.388\t0.0\n",
      "1.389\t-0.1\n",
      "1.389\t0.0\n",
      "1.389\t-0.1\n",
      "1.389\t-0.1\n",
      "1.389\t-0.2\n",
      "1.390\t0.0\n",
      "1.391\t0.0\n",
      "1.393\t0.0\n",
      "1.396\t0.0\n",
      "1.398\t0.0\n",
      "1.400\t0.0\n",
      "1.401\t0.0\n",
      "1.402\t0.0\n",
      "1.404\t0.0\n",
      "1.405\t0.0\n",
      "1.406\t0.1\n",
      "1.408\t0.7\n",
      "1.409\t2.0\n",
      "1.411\t3.2\n",
      "1.413\t3.8\n",
      "1.415\t2.4\n",
      "1.418\t0.7\n",
      "1.420\t0.1\n",
      "1.423\t0.0\n",
      "1.425\t0.0\n",
      "1.428\t0.0\n",
      "1.430\t0.0\n",
      "1.432\t0.0\n",
      "1.433\t0.0\n",
      "1.435\t0.0\n",
      "1.436\t-0.1\n",
      "1.437\t-0.1\n",
      "1.439\t-0.2\n",
      "1.441\t0.0\n",
      "1.443\t0.0\n",
      "1.445\t0.0\n",
      "1.448\t0.0\n",
      "1.449\t0.0\n",
      "1.451\t0.0\n",
      "1.453\t0.0\n",
      "1.454\t0.0\n",
      "1.456\t0.0\n",
      "1.457\t0.0\n",
      "1.459\t0.0\n",
      "1.461\t0.0\n",
      "1.463\t0.0\n",
      "1.465\t-0.1\n",
      "1.467\t-0.1\n",
      "1.468\t-0.1\n",
      "1.470\t0.0\n",
      "1.472\t0.0\n",
      "1.473\t0.0\n",
      "1.476\t0.0\n",
      "1.478\t0.0\n",
      "1.480\t0.0\n",
      "1.483\t0.0\n",
      "1.486\t0.0\n",
      "1.489\t0.0\n",
      "1.492\t0.0\n",
      "1.495\t0.0\n",
      "1.499\t0.0\n",
      "1.502\t0.1\n",
      "1.507\t0.1\n",
      "1.510\t0.2\n",
      "1.513\t0.3\n",
      "1.515\t0.5\n",
      "1.518\t5.8\n",
      "1.521\t28.1\n",
      "1.525\t36.1\n",
      "1.528\t10.0\n",
      "1.531\t1.3\n",
      "1.533\t0.4\n",
      "1.535\t0.3\n",
      "1.537\t0.2\n",
      "1.540\t0.2\n",
      "1.543\t0.1\n",
      "1.546\t0.1\n",
      "1.550\t0.0\n",
      "1.553\t0.0\n",
      "1.556\t-0.1\n",
      "1.559\t-0.1\n",
      "1.562\t0.0\n",
      "1.565\t0.0\n",
      "1.569\t0.0\n",
      "1.572\t0.0\n",
      "1.575\t0.0\n",
      "1.577\t0.0\n",
      "1.581\t-0.2\n",
      "1.585\t-0.2\n",
      "1.589\t-0.1\n",
      "1.593\t0.0\n",
      "1.596\t-0.1\n",
      "1.597\t-0.1\n",
      "1.598\t-0.1\n",
      "1.599\t-0.1\n",
      "1.601\t-0.1\n",
      "1.602\t0.0\n",
      "1.603\t0.0\n",
      "1.606\t0.0\n",
      "1.611\t-0.2\n",
      "1.616\t-0.3\n",
      "1.623\t-0.2\n",
      "1.628\t-0.1\n",
      "1.633\t-0.1\n",
      "1.639\t-0.1\n",
      "1.644\t-0.1\n",
      "1.649\t-0.1\n",
      "1.654\t0.0\n",
      "1.658\t-0.1\n",
      "1.663\t-0.1\n",
      "1.667\t-0.1\n",
      "1.671\t-0.1\n",
      "1.675\t-0.1\n",
      "1.679\t-0.3\n",
      "1.684\t-0.2\n",
      "1.688\t-0.1\n",
      "1.693\t-0.1\n",
      "1.696\t-0.1\n",
      "1.700\t-0.1\n",
      "1.704\t-0.1\n",
      "1.707\t-0.1\n",
      "1.710\t-0.1\n",
      "1.712\t-0.1\n",
      "1.714\t-0.1\n",
      "1.717\t-0.1\n",
      "1.721\t-0.1\n",
      "1.726\t-0.1\n",
      "1.731\t-0.1\n",
      "1.734\t-0.1\n",
      "1.737\t-0.1\n",
      "1.739\t-0.1\n",
      "1.742\t-0.1\n",
      "1.745\t0.0\n",
      "1.749\t0.2\n",
      "1.752\t0.1\n",
      "1.756\t-0.1\n",
      "1.759\t-0.1\n",
      "1.762\t-0.1\n",
      "1.767\t-0.1\n",
      "1.772\t-0.3\n",
      "1.777\t-0.3\n",
      "1.783\t-0.2\n",
      "1.787\t-0.1\n",
      "1.792\t-0.2\n",
      "1.796\t-0.3\n",
      "1.800\t-0.2\n",
      "1.803\t-0.2\n",
      "1.808\t-0.2\n",
      "1.812\t-0.2\n",
      "1.818\t-0.1\n",
      "1.823\t-0.1\n",
      "1.828\t-0.1\n",
      "1.835\t-0.1\n",
      "1.844\t-0.1\n",
      "1.852\t-0.2\n",
      "1.859\t-0.1\n",
      "1.865\t-0.2\n",
      "1.870\t-0.1\n",
      "1.873\t-0.2\n",
      "1.874\t-0.2\n",
      "1.875\t-0.2\n",
      "1.877\t-0.2\n",
      "1.880\t-0.2\n",
      "1.883\t-0.2\n",
      "1.887\t-0.2\n",
      "1.892\t-0.3\n",
      "1.895\t-0.3\n",
      "1.898\t-0.2\n",
      "1.903\t-0.2\n",
      "1.907\t-0.2\n",
      "1.912\t-0.1\n",
      "1.918\t-0.1\n",
      "1.923\t-0.2\n",
      "1.929\t-0.2\n",
      "1.934\t-0.1\n",
      "1.940\t-0.1\n",
      "1.944\t-0.2\n",
      "1.948\t-0.2\n",
      "1.952\t-0.2\n",
      "1.955\t-0.2\n",
      "1.960\t-0.2\n",
      "1.966\t-0.2\n",
      "1.971\t-0.2\n",
      "1.975\t-0.1\n",
      "1.979\t-0.2\n",
      "1.985\t-0.3\n",
      "1.990\t-0.2\n",
      "1.997\t-0.1\n",
      "2.002\t-0.1\n",
      "2.007\t-0.2\n",
      "2.012\t-0.1\n",
      "2.017\t-0.2\n",
      "2.022\t-0.1\n",
      "2.027\t-0.2\n",
      "2.034\t-0.1\n",
      "2.041\t-0.1\n",
      "2.048\t1.1\n",
      "2.053\t1.6\n",
      "2.057\t0.7\n",
      "2.060\t0.1\n",
      "2.064\t0.0\n",
      "2.068\t-0.1\n",
      "2.073\t-0.1\n",
      "2.079\t-0.1\n",
      "2.086\t-0.1\n",
      "2.094\t-0.1\n",
      "2.100\t-0.2\n",
      "2.105\t-0.1\n",
      "2.109\t-0.1\n",
      "2.111\t-0.1\n",
      "2.115\t-0.2\n",
      "2.120\t-0.2\n",
      "2.124\t-0.1\n",
      "2.128\t-0.2\n",
      "2.131\t-0.1\n",
      "2.134\t-0.2\n",
      "2.135\t-0.1\n",
      "2.138\t-0.1\n",
      "2.140\t-0.1\n",
      "2.144\t-0.1\n",
      "2.148\t-0.1\n",
      "2.153\t-0.2\n",
      "2.158\t-0.2\n",
      "2.162\t-0.2\n",
      "2.166\t-0.2\n",
      "2.170\t-0.2\n",
      "2.175\t-0.2\n",
      "2.179\t-0.2\n",
      "2.183\t-0.1\n",
      "2.187\t-0.2\n",
      "2.191\t-0.2\n",
      "2.194\t-0.2\n",
      "2.197\t-0.2\n",
      "2.200\t-0.2\n",
      "2.203\t-0.2\n",
      "2.207\t-0.2\n",
      "2.211\t-0.1\n",
      "2.215\t-0.2\n",
      "2.219\t-0.2\n",
      "2.222\t-0.1\n",
      "2.224\t-0.2\n",
      "2.225\t-0.2\n",
      "2.225\t-0.2\n",
      "2.225\t-0.2\n",
      "2.225\t-0.3\n",
      "2.225\t-0.2\n",
      "2.225\t-0.3\n",
      "2.225\t-0.3\n",
      "2.225\t-0.3\n",
      "2.225\t-0.2\n",
      "2.225\t-0.1\n",
      "2.225\t-0.1\n",
      "2.225\t-0.1\n",
      "2.225\t-0.1\n",
      "2.225\t-0.1\n",
      "2.225\t-0.1\n",
      "2.225\t-0.2\n",
      "2.225\t-0.1\n",
      "2.225\t-0.1\n",
      "2.225\t-0.2\n",
      "2.225\t-0.1\n",
      "2.225\t-0.1\n",
      "2.225\t-0.1\n",
      "2.225\t-0.2\n",
      "2.225\t-0.2\n",
      "2.225\t-0.2\n",
      "2.225\t-0.1\n",
      "2.225\t-0.1\n",
      "2.225\t-0.2\n",
      "2.224\t-0.2\n",
      "2.224\t-0.2\n",
      "2.224\t-0.2\n",
      "2.224\t-0.2\n",
      "2.224\t-0.2\n",
      "2.224\t-0.2\n",
      "2.224\t-0.2\n",
      "2.224\t-0.3\n",
      "2.224\t-0.3\n",
      "2.224\t-0.2\n",
      "2.224\t-0.3\n",
      "2.224\t-0.3\n",
      "2.224\t-0.2\n",
      "2.224\t-0.3\n",
      "2.224\t-0.3\n",
      "2.224\t-0.3\n",
      "2.224\t-0.1\n",
      "2.224\t-0.2\n",
      "2.224\t-0.2\n",
      "2.224\t-0.2\n",
      "2.224\t-0.1\n",
      "2.224\t-0.1\n",
      "2.224\t-0.2\n",
      "2.224\t-0.2\n",
      "2.224\t-0.2\n",
      "2.224\t-0.2\n",
      "2.224\t-0.1\n",
      "2.224\t-0.1\n",
      "2.224\t-0.2\n",
      "2.224\t-0.2\n",
      "2.224\t-0.2\n",
      "2.224\t-0.2\n",
      "2.224\t-0.3\n",
      "2.224\t-0.2\n",
      "2.224\t-0.1\n",
      "2.224\t-0.1\n",
      "2.224\t-0.2\n",
      "2.224\t-0.2\n",
      "2.224\t-0.2\n",
      "2.224\t-0.2\n",
      "2.224\t-0.1\n",
      "2.224\t-0.2\n",
      "2.224\t-0.2\n",
      "2.224\t-0.2\n",
      "2.224\t-0.1\n",
      "2.224\t-0.2\n",
      "2.224\t-0.1\n",
      "2.224\t-0.2\n",
      "2.224\t-0.2\n",
      "2.224\t-0.2\n",
      "2.224\t-0.2\n",
      "2.224\t-0.2\n",
      "2.224\t-0.2\n",
      "2.224\t-0.2\n",
      "2.224\t-0.2\n",
      "2.224\t-0.2\n",
      "2.224\t-0.2\n",
      "2.224\t-0.2\n",
      "2.224\t-0.2\n",
      "2.224\t-0.2\n",
      "2.224\t-0.2\n",
      "2.224\t-0.2\n",
      "2.224\t-0.2\n",
      "2.224\t-0.3\n",
      "2.224\t-0.3\n",
      "2.224\t-0.3\n",
      "2.224\t-0.3\n",
      "2.224\t-0.3\n"
     ]
    }
   ],
   "source": [
    "with open('spectrum-01.txt', 'r') as file:\n",
    "    file_content = file.read()\n",
    "\n",
    "print(file_content)"
   ]
  },
  {
   "cell_type": "markdown",
   "id": "79425599-25b9-402c-be2c-e5a3d217e12c",
   "metadata": {},
   "source": [
    "The `open()` function ‘opens’ your file. The `'r'` specifies that I only want to `r`ead from the file. Using `with` frees you from worrying about closing the file after you are done."
   ]
  },
  {
   "attachments": {},
   "cell_type": "markdown",
   "id": "398f3e83",
   "metadata": {},
   "source": [
    "## 2.2 Writing data"
   ]
  },
  {
   "cell_type": "markdown",
   "id": "49d5dba9-e44c-4b1b-a013-5f3988bdc2f9",
   "metadata": {},
   "source": [
    "Now, let’s write the following into a file."
   ]
  },
  {
   "cell_type": "code",
   "execution_count": 4,
   "id": "df2cce19-c2fe-47fb-81b2-fde5a46ff1b9",
   "metadata": {},
   "outputs": [],
   "source": [
    "text = 'Far out in the uncharted backwaters of the unfashionable end of the western spiral arm of the Galaxy lies a small unregarded yellow sun.\\nOrbiting this at a distance of roughly ninety-two million miles is an utterly insignificant little blue green planet whose ape-descended life forms are so amazingly primitive that they still think digital watches are a pretty neat idea.'"
   ]
  },
  {
   "attachments": {},
   "cell_type": "markdown",
   "id": "b8bd7bdf",
   "metadata": {},
   "source": [
    "### Writing to a file in one go"
   ]
  },
  {
   "cell_type": "markdown",
   "id": "bdfee072-f3ef-4992-a5ae-83826eb9cc82",
   "metadata": {},
   "source": [
    "First, let’s write everything in one go."
   ]
  },
  {
   "cell_type": "code",
   "execution_count": 5,
   "id": "4b37d552-72e9-44f4-b811-895aee8dff37",
   "metadata": {},
   "outputs": [],
   "source": [
    "with open('my-text-once.txt', 'w') as file:\n",
    "    file.write(text)"
   ]
  },
  {
   "cell_type": "markdown",
   "id": "0b4c0ea8-43d2-43f2-a0b6-9ce68d0e1138",
   "metadata": {},
   "source": [
    "You should now have a file `my-text-once.txt` in your directory. You should open it to take a look. By the way, the `'w'` indicates that we are opening the file for `w`riting."
   ]
  },
  {
   "attachments": {},
   "cell_type": "markdown",
   "id": "d485b270",
   "metadata": {},
   "source": [
    "### Writing to a file, line by line"
   ]
  },
  {
   "cell_type": "markdown",
   "id": "4940d3b7-2fbb-481b-9d04-d24141cd2c36",
   "metadata": {},
   "source": [
    "Let's see how to write a line at a time. This is useful when dealing with data generated on the fly. Since we don’t have such data now, we will split the lines of the previous text `[The contents in both files will be slightly different. However, this is not a time to worry about that.]`."
   ]
  },
  {
   "cell_type": "code",
   "execution_count": 6,
   "id": "65fca758-1e3f-4b5a-82d6-d932665016ba",
   "metadata": {},
   "outputs": [],
   "source": [
    "with open('my-text-lines.txt', 'w') as file:\n",
    "    for line in text.splitlines():\n",
    "        file.writelines(line)"
   ]
  },
  {
   "cell_type": "markdown",
   "id": "d8ce2615-471a-456e-a108-3eb754848385",
   "metadata": {},
   "source": [
    "Writing to a file is a very slow operation. So, it will slow things down if you do it in a loop."
   ]
  },
  {
   "attachments": {},
   "cell_type": "markdown",
   "id": "77b4cab5",
   "metadata": {},
   "source": [
    "# 3 Some useful packages"
   ]
  },
  {
   "cell_type": "markdown",
   "id": "ac0d7d1a-f7e4-4233-9a6c-cd7530f5ae55",
   "metadata": {},
   "source": [
    "Let's see how to programmatically *create, copy, and delete files and folders* and *navigate the OS*. We will use the following three packages for these tasks."
   ]
  },
  {
   "cell_type": "markdown",
   "id": "40f08639-f656-474d-ae83-45bea6e70a41",
   "metadata": {},
   "source": [
    "| **Package**                                             | **Primarily used for**                                                            |\r\n",
    "|---------------------------------------------------------|-----------------------------------------------------------------------------------|\r\n",
    "| [os](https://docs.python.org/3/library/os.html)         | To 'talk' to the OS to create, modify, delete folders and write OS-agnostic code. |\r\n",
    "| [glob](https://docs.python.org/3/library/glob.html)     |                                To search for files.                               |\r\n",
    "| [shutil](https://docs.python.org/3/library/shutil.html) |                                   To copy files.                                  |   |   |"
   ]
  },
  {
   "cell_type": "markdown",
   "id": "a12ebabc-5543-41db-939a-486e04147aef",
   "metadata": {},
   "source": [
    "These packages are already part of the standard Python library. So you do not have to install them. Let’s import the packages first."
   ]
  },
  {
   "cell_type": "code",
   "execution_count": 7,
   "id": "42617b49-04df-4a44-b7c0-f93517fcb0f5",
   "metadata": {},
   "outputs": [],
   "source": [
    "import os\n",
    "import glob\n",
    "import shutil"
   ]
  },
  {
   "attachments": {},
   "cell_type": "markdown",
   "id": "9f2199c5",
   "metadata": {},
   "source": [
    "# 4 OS safe paths"
   ]
  },
  {
   "cell_type": "markdown",
   "id": "0d2ce5a8-65a5-4f8c-b694-c17e304bac28",
   "metadata": {},
   "source": [
    "Consider a file `data-01.txt` in the sub-directory `sg-data` of the directory `all-data`. to do is:"
   ]
  },
  {
   "cell_type": "markdown",
   "id": "6bbd7f1b-0af5-410e-8f3b-39c03e4eb2ec",
   "metadata": {},
   "source": [
    "`all-data` -> ` sg-dat` -> `\n",
    " data-01.t`xt"
   ]
  },
  {
   "cell_type": "markdown",
   "id": "b580e376-0f49-4642-bec1-ff3bd5aa59e7",
   "metadata": {},
   "source": [
    "If we want to access `data-01.txt`, all we have to do is:"
   ]
  },
  {
   "cell_type": "code",
   "execution_count": 8,
   "id": "a797a4b9-ad54-4fb3-b790-c3ebda9c0557",
   "metadata": {},
   "outputs": [
    {
     "name": "stdout",
     "output_type": "stream",
     "text": [
      ".\\all-data\\sg-data\\data-01.txt\n"
     ]
    }
   ],
   "source": [
    "path = os.path.join('.', 'all-data', 'sg-data', 'data-01.txt')\n",
    "print(path)"
   ]
  },
  {
   "cell_type": "markdown",
   "id": "f366926a-c604-4ec1-a91b-9f0c6c30a521",
   "metadata": {},
   "source": [
    "If you are on Windows, you will see."
   ]
  },
  {
   "cell_type": "markdown",
   "id": "70153426-5104-4ea4-aa07-8c6abf866db4",
   "metadata": {},
   "source": [
    "`'.\\\\all-data\\\\sg-data\\\\data-01.txt'`"
   ]
  },
  {
   "cell_type": "markdown",
   "id": "571d3521-8f2c-4edf-abb4-a4aad9817188",
   "metadata": {},
   "source": [
    "Else, it will be:\n",
    "\n",
    "`'./all-data/sg-data/data-01.txt'`"
   ]
  },
  {
   "cell_type": "markdown",
   "id": "90b308f9-4f67-46aa-a955-719f36e71256",
   "metadata": {},
   "source": [
    "So, using `os.path.join()` will adjust your path with either `/` or `\\` as necessary. This means your code will seamlessly run on all the OS."
   ]
  },
  {
   "attachments": {},
   "cell_type": "markdown",
   "id": "21beca72",
   "metadata": {},
   "source": [
    "# 5 Folders"
   ]
  },
  {
   "attachments": {},
   "cell_type": "markdown",
   "id": "8a33ff0f",
   "metadata": {},
   "source": [
    "## 5.1 Creating folders"
   ]
  },
  {
   "cell_type": "markdown",
   "id": "1e9b10a0-773e-419a-b5a3-f8ecc7133ffa",
   "metadata": {},
   "source": [
    "You can create a folder programmatically using `os.mkdir()`. This is very useful because you can write a tiny bit of code to quickly organise your data. For example, let’s say we need to store information about the people ‘John’, ‘Paul’ and ‘Ringo’. We can quickly create some folders for this by:"
   ]
  },
  {
   "cell_type": "code",
   "execution_count": 14,
   "id": "a56844fd-cc87-4d7d-bba0-e233e788639c",
   "metadata": {},
   "outputs": [
    {
     "ename": "FileExistsError",
     "evalue": "[WinError 183] Cannot create a file when that file already exists: 'people'",
     "output_type": "error",
     "traceback": [
      "\u001b[1;31m---------------------------------------------------------------------------\u001b[0m",
      "\u001b[1;31mFileExistsError\u001b[0m                           Traceback (most recent call last)",
      "Cell \u001b[1;32mIn[14], line 1\u001b[0m\n\u001b[1;32m----> 1\u001b[0m \u001b[43mos\u001b[49m\u001b[38;5;241;43m.\u001b[39;49m\u001b[43mmkdir\u001b[49m\u001b[43m(\u001b[49m\u001b[38;5;124;43m'\u001b[39;49m\u001b[38;5;124;43mpeople\u001b[39;49m\u001b[38;5;124;43m'\u001b[39;49m\u001b[43m)\u001b[49m\n\u001b[0;32m      3\u001b[0m \u001b[38;5;28;01mfor\u001b[39;00m person \u001b[38;5;129;01min\u001b[39;00m [\u001b[38;5;124m'\u001b[39m\u001b[38;5;124mJohn\u001b[39m\u001b[38;5;124m'\u001b[39m, \u001b[38;5;124m'\u001b[39m\u001b[38;5;124mPaul\u001b[39m\u001b[38;5;124m'\u001b[39m, \u001b[38;5;124m'\u001b[39m\u001b[38;5;124mRingo\u001b[39m\u001b[38;5;124m'\u001b[39m]:\n\u001b[0;32m      4\u001b[0m     path \u001b[38;5;241m=\u001b[39m os\u001b[38;5;241m.\u001b[39mpath\u001b[38;5;241m.\u001b[39mjoin(\u001b[38;5;124m'\u001b[39m\u001b[38;5;124mpeople\u001b[39m\u001b[38;5;124m'\u001b[39m, person)\n",
      "\u001b[1;31mFileExistsError\u001b[0m: [WinError 183] Cannot create a file when that file already exists: 'people'"
     ]
    }
   ],
   "source": [
    "os.mkdir('people')\n",
    "\n",
    "for person in ['John', 'Paul', 'Ringo']:\n",
    "    path = os.path.join('people', person)\n",
    "    print(f'Creating {path}')\n",
    "    os.mkdir(path)"
   ]
  },
  {
   "cell_type": "markdown",
   "id": "683591d4-592c-4864-adb6-0a26045cd182",
   "metadata": {},
   "source": [
    "You don’t need the `print()` statement."
   ]
  },
  {
   "attachments": {},
   "cell_type": "markdown",
   "id": "67951ec6",
   "metadata": {},
   "source": [
    "## 5.2 Checking for existence"
   ]
  },
  {
   "cell_type": "markdown",
   "id": "063dacad-512b-4908-8ec6-833445a63bdb",
   "metadata": {},
   "source": [
    "Python will complain if you try to run this code twice, saying that the file (yes, Python refers to folders as files) already exists. So, when you create resources, it is a good idea to check if they already exist. There are two ways to do this: use `try-except` with the `FileExistsError` or use `os.path.exists()`."
   ]
  },
  {
   "attachments": {},
   "cell_type": "markdown",
   "id": "f5949d68",
   "metadata": {},
   "source": [
    "### Using `try-except`"
   ]
  },
  {
   "cell_type": "code",
   "execution_count": 15,
   "id": "5fe287e6",
   "metadata": {},
   "outputs": [
    {
     "name": "stdout",
     "output_type": "stream",
     "text": [
      "people\\John already exists; skipping creation.\n",
      "people\\Paul already exists; skipping creation.\n",
      "people\\Ringo already exists; skipping creation.\n"
     ]
    }
   ],
   "source": [
    "for person in ['John', 'Paul', 'Ringo']:\n",
    "    path = os.path.join('people', person)\n",
    "    try:\n",
    "        os.mkdir(path)\n",
    "        print(f'Creating {path}')\n",
    "    except FileExistsError:\n",
    "        print(f'{path} already exists; skipping creation.')"
   ]
  },
  {
   "attachments": {},
   "cell_type": "markdown",
   "id": "5fc9da0f",
   "metadata": {},
   "source": [
    "### Using `os.path.exists()`"
   ]
  },
  {
   "cell_type": "code",
   "execution_count": 16,
   "id": "5fcd9edb",
   "metadata": {},
   "outputs": [
    {
     "name": "stdout",
     "output_type": "stream",
     "text": [
      "people\\John already exists; skipping creation.\n",
      "people\\Paul already exists; skipping creation.\n",
      "people\\Ringo already exists; skipping creation.\n"
     ]
    }
   ],
   "source": [
    "for person in ['John', 'Paul', 'Ringo']:\n",
    "    path = os.path.join('people', person)\n",
    "    if os.path.exists(path):\n",
    "        print(f'{path} already exists; skipping creation.')\n",
    "    else:\n",
    "        os.mkdir(path)\n",
    "        print(f'Creating {path}')"
   ]
  },
  {
   "attachments": {},
   "cell_type": "markdown",
   "id": "e54dd8b7",
   "metadata": {},
   "source": [
    "## 5.3 Copying files"
   ]
  },
  {
   "cell_type": "markdown",
   "id": "09bf3f0f-d54e-4dcc-8ae1-97a4b2df38f7",
   "metadata": {},
   "source": [
    "Let's see how to copy files programmatically.\n",
    "\n",
    "First, there should be a copy of the 73 logo (`sp2273_logo.png`) in the current folder. Then, we will copy this into the folders we created for ‘John’, ‘Paul,’ and ‘Ringo’."
   ]
  },
  {
   "cell_type": "code",
   "execution_count": 18,
   "id": "8aa28917-e991-43a9-afc4-3acd5e14f8b6",
   "metadata": {},
   "outputs": [
    {
     "name": "stdout",
     "output_type": "stream",
     "text": [
      "Copied file to people\\John\n",
      "Copied file to people\\Paul\n",
      "Copied file to people\\Ringo\n"
     ]
    }
   ],
   "source": [
    "for person in ['John', 'Paul', 'Ringo']:\n",
    "    path_to_destination = os.path.join('people', person)\n",
    "    shutil.copy('sp2273_logo.png', path_to_destination)\n",
    "    print(f'Copied file to {path_to_destination}')"
   ]
  },
  {
   "cell_type": "markdown",
   "id": "788385d7-fa31-4439-8c43-b741297d5f9a",
   "metadata": {},
   "source": [
    "Let’s say I want all the images in a sub-folder called `imgs` in each person’s directory. I can do this by first creating the folders `imgs` and then moving the logo file into that folder."
   ]
  },
  {
   "cell_type": "code",
   "execution_count": 19,
   "id": "f0441ef7-8f00-408e-916c-6b533a7c6000",
   "metadata": {},
   "outputs": [
    {
     "name": "stdout",
     "output_type": "stream",
     "text": [
      "Moved logo to people\\John\\imgs\\sp2273_logo.png\n",
      "Moved logo to people\\Paul\\imgs\\sp2273_logo.png\n",
      "Moved logo to people\\Ringo\\imgs\\sp2273_logo.png\n"
     ]
    }
   ],
   "source": [
    "for person in ['John', 'Paul', 'Ringo']:\n",
    "    # Create folder 'imgs'\n",
    "    path_to_imgs = os.path.join('people', person, 'imgs')\n",
    "    if not os.path.exists(path_to_imgs):\n",
    "        os.mkdir(path_to_imgs)\n",
    "\n",
    "    # Move logo file\n",
    "    current_path_of_logo = os.path.join('people', person, 'sp2273_logo.png')\n",
    "    new_path_of_logo = os.path.join('people', person, 'imgs', 'sp2273_logo.png')\n",
    "\n",
    "    shutil.move(current_path_of_logo, new_path_of_logo)\n",
    "    print(f'Moved logo to {new_path_of_logo}')"
   ]
  },
  {
   "cell_type": "markdown",
   "id": "ec902a3a-3ee2-40b1-84cb-e573c2ba562a",
   "metadata": {},
   "source": [
    "**For Your Information**\n",
    "\n",
    "You can do all these extremely fast using only the terminal and its loops structure. *Just letting you know if you want to explore on your own.*"
   ]
  },
  {
   "attachments": {},
   "cell_type": "markdown",
   "id": "52e56571",
   "metadata": {},
   "source": [
    "# 6 Listing and looking for files"
   ]
  },
  {
   "cell_type": "markdown",
   "id": "affa64a4-39f8-4e8a-bdad-c7c591e712ed",
   "metadata": {},
   "source": [
    "If we want to know what files are in a folder, then `glob` does easy work of this. Let's see how to use it."
   ]
  },
  {
   "cell_type": "markdown",
   "id": "58db7dbf-b272-4f0e-97d9-0e7546b7b80f",
   "metadata": {},
   "source": [
    "Example 1"
   ]
  },
  {
   "cell_type": "markdown",
   "id": "806005f1-6e57-48ec-8ee4-7a95827bc836",
   "metadata": {},
   "source": [
    "We use this if we want **all** the files in the current directory.\r\n",
    "\r\n",
    "Th`e` * is called **a wildca**rd and is read a**s ‘anythin**g’. Sowe aream askin`g gl`ob to givusme anything in the folder."
   ]
  },
  {
   "cell_type": "code",
   "execution_count": 20,
   "id": "63c977e3-f1e4-4ba7-a935-70524dcafc9e",
   "metadata": {},
   "outputs": [
    {
     "data": {
      "text/plain": [
       "['files,_folders_&_os_(need).ipynb',\n",
       " 'my-text-lines.txt',\n",
       " 'my-text-once.txt',\n",
       " 'people',\n",
       " 'sp2273_logo.png',\n",
       " 'spectrum-01.txt']"
      ]
     },
     "execution_count": 20,
     "metadata": {},
     "output_type": "execute_result"
    }
   ],
   "source": [
    "glob.glob('*')"
   ]
  },
  {
   "cell_type": "markdown",
   "id": "e437a33f-0a75-4985-a0f8-7f100732f3ff",
   "metadata": {},
   "source": [
    "Example 2"
   ]
  },
  {
   "cell_type": "code",
   "execution_count": 21,
   "id": "b87b7bc4-73f4-41cb-a323-2a0f13716de6",
   "metadata": {},
   "outputs": [
    {
     "data": {
      "text/plain": [
       "['people']"
      ]
     },
     "execution_count": 21,
     "metadata": {},
     "output_type": "execute_result"
    }
   ],
   "source": [
    "glob.glob('peo*')"
   ]
  },
  {
   "cell_type": "markdown",
   "id": "c9f07d0c-8e9b-4ca8-8a11-a765614a3d4b",
   "metadata": {},
   "source": [
    "We want to refine my search and ask glob to give only those files that match the pattern ‘peo’ followed by ‘anything’."
   ]
  },
  {
   "cell_type": "markdown",
   "id": "86c5cd6a-82f7-4956-98be-a2f79ff298c8",
   "metadata": {},
   "source": [
    "Example 3"
   ]
  },
  {
   "cell_type": "markdown",
   "id": "18cdd3c3-9c2a-42b5-ac3a-6c6989b2461a",
   "metadata": {},
   "source": [
    "We now want to know what is inside the folders that start with `peo`."
   ]
  },
  {
   "cell_type": "code",
   "execution_count": 22,
   "id": "a65cf8bf-fe69-4830-b333-058bb788629c",
   "metadata": {},
   "outputs": [
    {
     "data": {
      "text/plain": [
       "['people\\\\John', 'people\\\\Paul', 'people\\\\Ringo']"
      ]
     },
     "execution_count": 22,
     "metadata": {},
     "output_type": "execute_result"
    }
   ],
   "source": [
    "glob.glob('peo*/*')"
   ]
  },
  {
   "cell_type": "markdown",
   "id": "f9b490f7-0e8d-4f07-ad4c-2377a1c35dfd",
   "metadata": {},
   "source": [
    "Example 4"
   ]
  },
  {
   "cell_type": "markdown",
   "id": "a8f05647-8600-40b9-9da9-63923021bbf1",
   "metadata": {},
   "source": [
    "Now, we want to see the whole, detailed structure of the folder `people`. For this, we need to tell `glob` to search recursively (i.e. dig through **all** sub-file directories) by putting `recursive=True`.\r\n",
    "We\n",
    "I must also use two wildcard`s `** to sa**y all ‘sub-directorie**s’."
   ]
  },
  {
   "cell_type": "code",
   "execution_count": 23,
   "id": "9d75deb3-e63d-4938-b8b4-bb2f50b84e3e",
   "metadata": {},
   "outputs": [
    {
     "data": {
      "text/plain": [
       "['people\\\\',\n",
       " 'people\\\\John',\n",
       " 'people\\\\John\\\\imgs',\n",
       " 'people\\\\John\\\\imgs\\\\sp2273_logo.png',\n",
       " 'people\\\\Paul',\n",
       " 'people\\\\Paul\\\\imgs',\n",
       " 'people\\\\Paul\\\\imgs\\\\sp2273_logo.png',\n",
       " 'people\\\\Ringo',\n",
       " 'people\\\\Ringo\\\\imgs',\n",
       " 'people\\\\Ringo\\\\imgs\\\\sp2273_logo.png']"
      ]
     },
     "execution_count": 23,
     "metadata": {},
     "output_type": "execute_result"
    }
   ],
   "source": [
    "glob.glob('people/**', recursive=True)"
   ]
  },
  {
   "cell_type": "markdown",
   "id": "4b0bb1cd-f6c8-47f1-88ee-67e1dc1854aa",
   "metadata": {},
   "source": [
    "Example 5"
   ]
  },
  {
   "cell_type": "markdown",
   "id": "d3b826b7-5b88-4212-b4c6-cfd06b301595",
   "metadata": {},
   "source": [
    "We want only the `.png` files. So, we just need to modify our pattern. We are asking `glob` to go through the whole structure of `people` and show us those files with the pattern ‘anything’`.png`!"
   ]
  },
  {
   "cell_type": "code",
   "execution_count": 24,
   "id": "fe229554-b07a-4759-b1bb-34cc2fd541cf",
   "metadata": {},
   "outputs": [
    {
     "data": {
      "text/plain": [
       "['people\\\\John\\\\imgs\\\\sp2273_logo.png',\n",
       " 'people\\\\Paul\\\\imgs\\\\sp2273_logo.png',\n",
       " 'people\\\\Ringo\\\\imgs\\\\sp2273_logo.png']"
      ]
     },
     "execution_count": 24,
     "metadata": {},
     "output_type": "execute_result"
    }
   ],
   "source": [
    "glob.glob('people/**/*.png', recursive=True)"
   ]
  },
  {
   "attachments": {},
   "cell_type": "markdown",
   "id": "0c66b052",
   "metadata": {},
   "source": [
    "# 7 Extracting file info"
   ]
  },
  {
   "cell_type": "markdown",
   "id": "121a0d93-d55c-4c20-bf47-4e83bdc2a911",
   "metadata": {},
   "source": [
    "When dealing with files and folders, you often have to extract the filename, folder or extension. You can do this by simple string manipulation; for example if we want the filename and extension:"
   ]
  },
  {
   "cell_type": "code",
   "execution_count": 25,
   "id": "61b5c377-893d-473d-8c9a-9c0ad76b1aab",
   "metadata": {},
   "outputs": [
    {
     "name": "stdout",
     "output_type": "stream",
     "text": [
      "people/Ringo/imgs/sp2273_logo.png png\n"
     ]
    }
   ],
   "source": [
    "path = 'people/Ringo/imgs/sp2273_logo.png'\n",
    "filename = path.split(os.path.sep)[-1]\n",
    "extension = filename.split('.')[-1]\n",
    "print(filename, extension)"
   ]
  },
  {
   "cell_type": "markdown",
   "id": "d0bbf63a-fbb8-4a30-9fd3-d12e11e6a3ba",
   "metadata": {},
   "source": [
    "`os.path.sep` is the path separator (i.e. `\\` or `/`) for the OS. We split the path where the separator occurred and picked the last element in the list. We use a similar strategy for the file extension.\r\n",
    "\r\n",
    "However, if you like`, `os provides some simple functions for these tasks."
   ]
  },
  {
   "cell_type": "code",
   "execution_count": 26,
   "id": "e83819b5-d6ab-4d26-8c8c-44ca78f5c96f",
   "metadata": {},
   "outputs": [],
   "source": [
    "path = 'people/Ringo/imgs/sp2273_logo.png'"
   ]
  },
  {
   "cell_type": "code",
   "execution_count": 27,
   "id": "09b8c651-2f4f-41e0-86f0-c63586062421",
   "metadata": {},
   "outputs": [
    {
     "data": {
      "text/plain": [
       "('people/Ringo/imgs', 'sp2273_logo.png')"
      ]
     },
     "execution_count": 27,
     "metadata": {},
     "output_type": "execute_result"
    }
   ],
   "source": [
    "os.path.split(path)      # Split filename from the rest"
   ]
  },
  {
   "cell_type": "code",
   "execution_count": 28,
   "id": "8fd79fac-86a6-476c-afca-a9126f6b8721",
   "metadata": {},
   "outputs": [
    {
     "data": {
      "text/plain": [
       "('people/Ringo/imgs/sp2273_logo', '.png')"
      ]
     },
     "execution_count": 28,
     "metadata": {},
     "output_type": "execute_result"
    }
   ],
   "source": [
    "os.path.splitext(path)   # Split extension"
   ]
  },
  {
   "cell_type": "code",
   "execution_count": 29,
   "id": "f2fcc8b7-26a7-416f-a401-a4270f284669",
   "metadata": {},
   "outputs": [
    {
     "data": {
      "text/plain": [
       "'people/Ringo/imgs'"
      ]
     },
     "execution_count": 29,
     "metadata": {},
     "output_type": "execute_result"
    }
   ],
   "source": [
    "os.path.dirname(path)    # Show the directory"
   ]
  },
  {
   "cell_type": "markdown",
   "id": "51fcd33a-556c-4311-9bd9-12b89d133ce1",
   "metadata": {},
   "source": [
    "# 8 Deleting stuff"
   ]
  },
  {
   "cell_type": "markdown",
   "id": "a6fca4f8-4057-4783-a11e-64768aba2d50",
   "metadata": {},
   "source": [
    "Lastly, let's see how to delete stuff.\r\n",
    "\r\n",
    "If you want to remove a file:"
   ]
  },
  {
   "cell_type": "code",
   "execution_count": 30,
   "id": "b17f60cd-e988-4cc8-bea5-622b54969577",
   "metadata": {},
   "outputs": [],
   "source": [
    "os.remove('people/Ringo/imgs/sp2273_logo.png')"
   ]
  },
  {
   "cell_type": "markdown",
   "id": "472fc648-6b4b-4689-8a26-31c0b4e959ee",
   "metadata": {},
   "source": [
    "This ***WON'T WORK* with directories**. For an empty directory, use:"
   ]
  },
  {
   "cell_type": "code",
   "execution_count": 31,
   "id": "544354e2-13e5-455a-9ea5-39e12ec66913",
   "metadata": {},
   "outputs": [
    {
     "ename": "OSError",
     "evalue": "[WinError 145] The directory is not empty: 'people/Ringo'",
     "output_type": "error",
     "traceback": [
      "\u001b[1;31m---------------------------------------------------------------------------\u001b[0m",
      "\u001b[1;31mOSError\u001b[0m                                   Traceback (most recent call last)",
      "Cell \u001b[1;32mIn[31], line 1\u001b[0m\n\u001b[1;32m----> 1\u001b[0m \u001b[43mos\u001b[49m\u001b[38;5;241;43m.\u001b[39;49m\u001b[43mrmdir\u001b[49m\u001b[43m(\u001b[49m\u001b[38;5;124;43m'\u001b[39;49m\u001b[38;5;124;43mpeople/Ringo\u001b[39;49m\u001b[38;5;124;43m'\u001b[39;49m\u001b[43m)\u001b[49m\n",
      "\u001b[1;31mOSError\u001b[0m: [WinError 145] The directory is not empty: 'people/Ringo'"
     ]
    }
   ],
   "source": [
    "os.rmdir('people/Ringo')"
   ]
  },
  {
   "cell_type": "markdown",
   "id": "c079f752-869e-4a8c-9ee4-d159eb4c8ae6",
   "metadata": {},
   "source": [
    "For a directory with files, use `shutil`:"
   ]
  },
  {
   "cell_type": "code",
   "execution_count": 32,
   "id": "dbef7dec-699a-4b09-8fb5-9631a7dfa895",
   "metadata": {},
   "outputs": [],
   "source": [
    "shutil.rmtree('people/Ringo')"
   ]
  },
  {
   "cell_type": "markdown",
   "id": "b1cac594-f2e2-4cfd-bab6-dca6ae7855c6",
   "metadata": {},
   "source": [
    "It goes without saying that you should **be careful** when using these functions.\n",
    "\n",
    "Some people have had some **miserable** experiences by accidentally deleting files because they were more enthusiastic than sensible. With great power comes great responsibility, so **use with extreme caution**!"
   ]
  }
 ],
 "metadata": {
  "kernelspec": {
   "display_name": "Python 3 (ipykernel)",
   "language": "python",
   "name": "python3"
  },
  "language_info": {
   "codemirror_mode": {
    "name": "ipython",
    "version": 3
   },
   "file_extension": ".py",
   "mimetype": "text/x-python",
   "name": "python",
   "nbconvert_exporter": "python",
   "pygments_lexer": "ipython3",
   "version": "3.11.5"
  },
  "toc": {
   "base_numbering": 1,
   "nav_menu": {},
   "number_sections": true,
   "sideBar": true,
   "skip_h1_title": false,
   "title_cell": "Table of Contents",
   "title_sidebar": "Contents",
   "toc_cell": false,
   "toc_position": {},
   "toc_section_display": true,
   "toc_window_display": false
  },
  "vscode": {
   "interpreter": {
    "hash": "31f2aee4e71d21fbe5cf8b01ff0e069b9275f58929596ceb00d14d90e3e16cd6"
   }
  }
 },
 "nbformat": 4,
 "nbformat_minor": 5
}
