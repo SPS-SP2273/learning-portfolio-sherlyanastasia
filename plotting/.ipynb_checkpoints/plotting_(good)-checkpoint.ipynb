{
 "cells": [
  {
   "attachments": {},
   "cell_type": "markdown",
   "id": "123456",
   "metadata": {},
   "source": [
    "<div style=\"text-align:left;font-size:2em\"><span style=\"font-weight:bolder;font-size:1.25em\">SP2273 | Learning Portfolio</span><br><br><span style=\"font-weight:bold;color:darkred\">Plotting (Good)</span></div>"
   ]
  },
  {
   "cell_type": "markdown",
   "id": "b76d2582-543f-4377-938a-f5557578fa68",
   "metadata": {},
   "source": [
    "![](https://matplotlib.org/3.1.1/_images/sphx_glr_anatomy_001.png)"
   ]
  },
  {
   "cell_type": "markdown",
   "id": "5e7a1f45-910b-4f88-94bd-3085a4d3b4cb",
   "metadata": {},
   "source": [
    "The various parts of a Matplotlib figure. (From [matplotlib.org](https://matplotlib.org/))"
   ]
  },
  {
   "attachments": {},
   "cell_type": "markdown",
   "id": "9162ebbe",
   "metadata": {},
   "source": [
    "# What to expect in this chapter"
   ]
  },
  {
   "cell_type": "markdown",
   "id": "5ecb3ec2-49ab-4613-ab5e-be7964641e77",
   "metadata": {},
   "source": []
  },
  {
   "attachments": {},
   "cell_type": "markdown",
   "id": "c4a9ea19",
   "metadata": {},
   "source": [
    "# 1 Some nomenclature"
   ]
  },
  {
   "cell_type": "markdown",
   "id": "aa996d07-0071-46e1-8fcd-1fa3f86f4244",
   "metadata": {},
   "source": [
    "Before going ahead, let’s *distinguish* between a Matplotlib **figure** and an **axis**.\r\n",
    "\r\n",
    "A figure is simple; it is the full canvas you use to draw stuff on. An axis is the individual mathematical axes we use for plotting. So, one figure can have multiple axes, as shown below, where we have a (single) figure witfour axes.\n",
    "\n",
    "![](https://sps.nus.edu.sg/sp2273/docs/python_basics/07_plotting/__imgs__/plotting_good_exercise-01_solution.png)s."
   ]
  },
  {
   "cell_type": "markdown",
   "id": "662317ba-1978-4ac8-9678-ed0eee919ff8",
   "metadata": {},
   "source": [
    "By the way, you had already encountered a situation with multiple axes in the last chapter when we used twinx(). It is not uncommon to struggle with the concept of axes; but don’t worry; it will become clearer as we work through this chapter."
   ]
  },
  {
   "attachments": {},
   "cell_type": "markdown",
   "id": "f383dcc3",
   "metadata": {},
   "source": [
    "# 2 Comparing the two ‘dialects’"
   ]
  },
  {
   "cell_type": "markdown",
   "id": "45181f5d-de57-440e-8aa7-784a4fc70e0e",
   "metadata": {},
   "source": [
    "Let me create the same plot using both `pyplot` and OO ‘dialects’ so that you can see how the latter works. The plot I will be creating is shown below.\n",
    "\n",
    "![](https://sps.nus.edu.sg/sp2273/docs/python_basics/07_plotting/__imgs__/plotting_good-01.png)\n",
    "\n",
    "First, let's generate some data to plot."
   ]
  },
  {
   "cell_type": "code",
   "execution_count": null,
   "id": "02938909-ee74-4e40-88b5-59712ad197d2",
   "metadata": {},
   "outputs": [],
   "source": [
    "x = np.linspace(-np.pi, np.pi, num=100)\n",
    "cos_x = np.cos(x)\n",
    "sin_x = np.sin(x)"
   ]
  },
  {
   "cell_type": "markdown",
   "id": "410174c6-5cc3-4ff8-800e-dddb102f6c5c",
   "metadata": {},
   "source": [
    "Now the comparison; remember that ***both*** sets of code will produce the **same** plot."
   ]
  },
  {
   "cell_type": "code",
   "execution_count": null,
   "id": "770571f4-b718-44a2-8fd2-256b9509d9c0",
   "metadata": {},
   "outputs": [],
   "source": [
    "plt.plot(x, cos_x, label='cos x')\n",
    "plt.plot(x, sin_x, label='sin x')\n",
    "plt.legend()\n",
    "fig, ax = plt.subplots(nrows=1, ncols=1)\n",
    "ax.plot(x, cos_x, label='cos x')\n",
    "ax.plot(x, sin_x, label='sin x')\n",
    "ax.legend()"
   ]
  },
  {
   "attachments": {},
   "cell_type": "markdown",
   "id": "df5693f3",
   "metadata": {},
   "source": [
    "### pyplot Interface"
   ]
  },
  {
   "cell_type": "code",
   "execution_count": null,
   "id": "122401a9",
   "metadata": {},
   "outputs": [],
   "source": [
    "\n",
    "# Your code here\n"
   ]
  },
  {
   "attachments": {},
   "cell_type": "markdown",
   "id": "779fd12c",
   "metadata": {},
   "source": [
    "### OO Interface"
   ]
  },
  {
   "cell_type": "code",
   "execution_count": null,
   "id": "d50e77fb",
   "metadata": {},
   "outputs": [],
   "source": [
    "\n",
    "# Your code here\n"
   ]
  },
  {
   "attachments": {},
   "cell_type": "markdown",
   "id": "b3ce1cb6",
   "metadata": {},
   "source": [
    "# 3 What is OO ax, really?"
   ]
  },
  {
   "attachments": {},
   "cell_type": "markdown",
   "id": "2ff4598f",
   "metadata": {},
   "source": [
    "# 4 A complete OO example"
   ]
  },
  {
   "attachments": {},
   "cell_type": "markdown",
   "id": "44215460",
   "metadata": {},
   "source": [
    "# 5 Multiple rows and columns"
   ]
  },
  {
   "attachments": {},
   "cell_type": "markdown",
   "id": "fdfae8c0",
   "metadata": {},
   "source": [
    "### Using ax"
   ]
  },
  {
   "cell_type": "code",
   "execution_count": null,
   "id": "6062bb58",
   "metadata": {},
   "outputs": [],
   "source": [
    "\n",
    "# Your code here\n"
   ]
  },
  {
   "attachments": {},
   "cell_type": "markdown",
   "id": "dcbe5014",
   "metadata": {},
   "source": [
    "## 5.1 Sharing axes"
   ]
  },
  {
   "attachments": {},
   "cell_type": "markdown",
   "id": "a4e318c3",
   "metadata": {},
   "source": [
    "## 5.2 Accessing all axes"
   ]
  },
  {
   "attachments": {},
   "cell_type": "markdown",
   "id": "6a4d3bd1",
   "metadata": {},
   "source": [
    "# 6 Other useful plots"
   ]
  },
  {
   "attachments": {},
   "cell_type": "markdown",
   "id": "6fea87c7",
   "metadata": {},
   "source": [
    "## 6.1 Histograms"
   ]
  },
  {
   "attachments": {},
   "cell_type": "markdown",
   "id": "2bb2cca7",
   "metadata": {},
   "source": [
    "### Data"
   ]
  },
  {
   "cell_type": "code",
   "execution_count": null,
   "id": "74502c10",
   "metadata": {},
   "outputs": [],
   "source": [
    "\n",
    "# Your code here\n"
   ]
  },
  {
   "attachments": {},
   "cell_type": "markdown",
   "id": "39aad662",
   "metadata": {},
   "source": [
    "### A quick helper function"
   ]
  },
  {
   "cell_type": "code",
   "execution_count": null,
   "id": "6ac55dda",
   "metadata": {},
   "outputs": [],
   "source": [
    "\n",
    "# Your code here\n"
   ]
  },
  {
   "attachments": {},
   "cell_type": "markdown",
   "id": "5f09849c",
   "metadata": {},
   "source": [
    "### The histogram"
   ]
  },
  {
   "cell_type": "code",
   "execution_count": null,
   "id": "6b50e22c",
   "metadata": {},
   "outputs": [],
   "source": [
    "\n",
    "# Your code here\n"
   ]
  },
  {
   "attachments": {},
   "cell_type": "markdown",
   "id": "a0a4fa1c",
   "metadata": {},
   "source": [
    "## 6.2 Scatter plots"
   ]
  },
  {
   "attachments": {},
   "cell_type": "markdown",
   "id": "ae3c78fa",
   "metadata": {},
   "source": [
    "## 6.3 Bar charts"
   ]
  },
  {
   "attachments": {},
   "cell_type": "markdown",
   "id": "80a87a57",
   "metadata": {},
   "source": [
    "## 6.4 Pie charts"
   ]
  }
 ],
 "metadata": {
  "kernelspec": {
   "display_name": "Python 3 (ipykernel)",
   "language": "python",
   "name": "python3"
  },
  "language_info": {
   "codemirror_mode": {
    "name": "ipython",
    "version": 3
   },
   "file_extension": ".py",
   "mimetype": "text/x-python",
   "name": "python",
   "nbconvert_exporter": "python",
   "pygments_lexer": "ipython3",
   "version": "3.11.5"
  },
  "toc": {
   "base_numbering": 1,
   "nav_menu": {},
   "number_sections": true,
   "sideBar": true,
   "skip_h1_title": false,
   "title_cell": "Table of Contents",
   "title_sidebar": "Contents",
   "toc_cell": false,
   "toc_position": {},
   "toc_section_display": true,
   "toc_window_display": false
  },
  "vscode": {
   "interpreter": {
    "hash": "31f2aee4e71d21fbe5cf8b01ff0e069b9275f58929596ceb00d14d90e3e16cd6"
   }
  }
 },
 "nbformat": 4,
 "nbformat_minor": 5
}
