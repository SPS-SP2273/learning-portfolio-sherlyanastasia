{
 "cells": [
  {
   "attachments": {},
   "cell_type": "markdown",
   "id": "123456",
   "metadata": {},
   "source": [
    "<div style=\"text-align:left;font-size:2em\"><span style=\"font-weight:bolder;font-size:1.25em\">SP2273 | Learning Portfolio</span><br><br><span style=\"font-weight:bold;color:darkred\">Using Jupyter (Good)</span></div>"
   ]
  },
  {
   "attachments": {},
   "cell_type": "markdown",
   "id": "b94cfbf3",
   "metadata": {},
   "source": [
    "# What to expect in this chapter"
   ]
  },
  {
   "cell_type": "markdown",
   "id": "018201e3-c28d-4920-8f0b-d748ef02d87c",
   "metadata": {},
   "source": [
    "This chapter introduce you to the basics of using Jupyter Notebook. Jupyter environment offers many more goodies (e.g., extensions, shell magic)."
   ]
  },
  {
   "attachments": {},
   "cell_type": "markdown",
   "id": "d9d7bb0e",
   "metadata": {},
   "source": [
    "# 1 Some tips and tricks"
   ]
  },
  {
   "attachments": {},
   "cell_type": "markdown",
   "id": "f2b630c8",
   "metadata": {},
   "source": [
    "## 1.1 Keyboard Shortcuts"
   ]
  },
  {
   "cell_type": "markdown",
   "id": "75f373d2-7935-40d5-847e-4e72832a7d53",
   "metadata": {},
   "source": [
    "Using keyboards shortcuts make it easier and faster for you to do your work in the Jupyter Notebook. Here are some essential shortcuts that will help and guide you thoughout your journey in doing your assignments."
   ]
  },
  {
   "cell_type": "markdown",
   "id": "f06f5619-d2e4-41fe-be07-53b3bdc9eacb",
   "metadata": {},
   "source": [
    "| **Action**                    | **Shortcut**                      |\r\n",
    "|-------------------------------|-----------------------------------|\r\n",
    "| Run cell                      | CTRL + ENTER or CMD + ENTER       |\r\n",
    "| Run cell and move to the next | SHIFT + ENTER                     |\r\n",
    "| Convert cell to Code cell     | ESC + Y                           |\r\n",
    "| Convert cell to Markdown cell | ESC + M                           |\r\n",
    "| Create new cell               | ESC + A (above) & ESC + B (below) |\r\n",
    "| Copy cell(s)                  | ESC + C                           |\r\n",
    "| Paste cell(s)                 | ESC + V                           |\r\n",
    "| Merge cells                   | SHIFT + M                         |\r\n",
    "| Delete cell                   | ESC + D + D                       |\r\n",
    "| Show shortcuts                | ESC + H                           |          |          |r}\r\n",
    "\\end{table}r}\r\n",
    "\\end{table}"
   ]
  },
  {
   "cell_type": "markdown",
   "id": "86a6c84a-e83e-4059-b7ae-4730211dabe0",
   "metadata": {},
   "source": [
    "You will notice that many shortcut commands use the escape button (**ESC**). This is because typing **ESC** puts Jupyter into command mode, ready for a command, not code or text."
   ]
  },
  {
   "attachments": {},
   "cell_type": "markdown",
   "id": "7ec603f4",
   "metadata": {},
   "source": [
    "### 1.1.1 Things to note"
   ]
  },
  {
   "cell_type": "markdown",
   "id": "618acaf9-c486-4b90-a3ce-68b854ef0716",
   "metadata": {},
   "source": [
    "- You can select one or more cells using **SHIFT** and the up and down arrow keys.\n",
    "- You must be careful with the delete shortcut because it can be ruthless.\n",
    "- You can view (and set) shortcuts for Jupyter Notebooks by typing **ESC + H**."
   ]
  },
  {
   "attachments": {},
   "cell_type": "markdown",
   "id": "75a945fd",
   "metadata": {},
   "source": [
    "## 1.2 Shell commands"
   ]
  },
  {
   "cell_type": "markdown",
   "id": "66211621-aaab-412e-8eee-2ec2a8d075be",
   "metadata": {},
   "source": [
    "You can run ‘terminal’ commands (called `shell commands`) from Jupyter without switching to the terminal. The only thing you need to do is to add a **!** in front of the command."
   ]
  },
  {
   "cell_type": "markdown",
   "id": "f1211765-46ba-40c9-b5b4-8a4c113b20b6",
   "metadata": {},
   "source": [
    "To test out this feature, run the following:\n",
    "\n",
    "1. Windows\n",
    "   - This will print the current working directory.\n",
    "\n",
    "       **!cd**\n",
    "   - This will show you a list of all the files in your folder.\n",
    "\n",
    "     **!dir**\n",
    "3. macOS\n",
    "   - This will print the current working directory.\n",
    "     \n",
    "     **!pwd**\n",
    "   - This will show you a list of all the files in your folder.\n",
    "     \n",
    "     **!ls**"
   ]
  },
  {
   "attachments": {},
   "cell_type": "markdown",
   "id": "1f7617b9",
   "metadata": {},
   "source": [
    "# 2 Jupyter Extensions"
   ]
  },
  {
   "attachments": {},
   "cell_type": "markdown",
   "id": "0414012c",
   "metadata": {},
   "source": [
    "## 2.1 Installing the extensions"
   ]
  },
  {
   "cell_type": "markdown",
   "id": "d2f9c0eb-f2f9-4f0e-97df-4c6fa8f654fa",
   "metadata": {},
   "source": [
    "You can add several useful features (e.g., code formatting, TOC, equation numbers) to your Jupyter notebooks by installing `jupyter_contrib_nbextensions` ([documentation](https://jupyter-contrib-nbextensions.readthedocs.io/en/latest/)).\n",
    "\n",
    "You can do this in the terminal by invoking the following.\n",
    "\n",
    "`conda install -c conda-forge jupyter_contrib_nbextensions`\n",
    "\n",
    "`jupyter contrib nbextension install --user`\n",
    "\n",
    "Once you have finished installing, log out and restart Jupyter. You will then see a new tab, as shown in the image below."
   ]
  },
  {
   "cell_type": "markdown",
   "id": "bf5683aa-63fc-4658-b0b1-59cad9efba82",
   "metadata": {},
   "source": [
    "![](https://miro.medium.com/max/720/1*tCkHDuA_zT1j17VA3tybQg.webp)"
   ]
  },
  {
   "attachments": {},
   "cell_type": "markdown",
   "id": "fabdc8e3",
   "metadata": {},
   "source": [
    "## 2.2 Enabling the extensions"
   ]
  },
  {
   "cell_type": "markdown",
   "id": "57e85ef2-f082-4684-80d6-4514afb7174b",
   "metadata": {},
   "source": [
    "You will also see details of what each extension does by clicking on the name in the list. Finally, you can enable them simply by checking the box on the list. Here is some of the recommended extensions.\n",
    "\n",
    "1. Equation Auto Numbering\n",
    "2. Table of Contents (2)\n",
    "3. Variable Inspector\n",
    "4. Code folding\n",
    "5. Autopep8\n",
    "   You must install the package `autopep8` using `conda` for this to work.work."
   ]
  },
  {
   "cell_type": "markdown",
   "id": "e13d305d-3337-4894-80ba-3f67acb37b61",
   "metadata": {},
   "source": [
    "# 3 Install Notebook 7"
   ]
  },
  {
   "cell_type": "markdown",
   "id": "cf95a65b-1916-4484-8e82-2827cde923aa",
   "metadata": {},
   "source": [
    "To install Jupyter Notebook version 7, follow these steps:\n",
    "\n",
    "1. Remove the extensions to avoid possible version conflicts, by running this command:\n",
    "\n",
    "   `conda remove jupyter_contrib_nbextensions`\n",
    "3. Install Notebook version 7, by running this command:\n",
    "   \n",
    "   `conda install -c conda-forge notebook=7.0.6 -y`"
   ]
  },
  {
   "attachments": {},
   "cell_type": "markdown",
   "id": "f937531c",
   "metadata": {},
   "source": [
    "# 4 Shell Magic"
   ]
  },
  {
   "cell_type": "markdown",
   "id": "dfdb5c02-d978-43c2-8226-12cc59ddc87f",
   "metadata": {},
   "source": [
    "One of the most useful goodies that come with Jupyter are the **magic commands**. For example:\n",
    "\n",
    "`%timeit x=10`\n",
    "\n",
    "This will run for a while and then tell you statistics on how long the command takes to execute. Below is the example of the statistics shown:\n",
    "\n",
    "`28 ns ± 1.21 ns per loop (mean ± std. dev. of 7 runs, 10,000,000 loops each)`\n",
    "\n",
    "\n",
    "The above is called **line magic** because it works (i.e., does the timing in this case) for only a single line. If you want to apply it to a whole cell, we will use the **cell magic** command `%%timeit`. Example of the code:\n",
    "\n",
    "```\n",
    "%%timeit\n",
    "\n",
    "a = 1\n",
    "b = 2\n",
    "c = 3\n",
    "d = 4\n",
    "e = 5\n",
    "```\n",
    "\n",
    "This is the example result of the statistics:\n",
    "\n",
    "`90.6 ns ± 1.61 ns per loop (mean ± std. dev. of 7 runs, 10,000,000 loops each)`"
   ]
  },
  {
   "cell_type": "code",
   "execution_count": 6,
   "id": "f9b3c8a7-0429-4d49-97a4-847ec06ec7d5",
   "metadata": {},
   "outputs": [
    {
     "name": "stdout",
     "output_type": "stream",
     "text": [
      "27.5 ns ± 0.642 ns per loop (mean ± std. dev. of 7 runs, 10,000,000 loops each)\n"
     ]
    }
   ],
   "source": [
    "%timeit x=10"
   ]
  },
  {
   "cell_type": "code",
   "execution_count": 7,
   "id": "f11037a0-014b-4e94-bc2f-079de0a7945e",
   "metadata": {},
   "outputs": [
    {
     "name": "stdout",
     "output_type": "stream",
     "text": [
      "92.3 ns ± 2.76 ns per loop (mean ± std. dev. of 7 runs, 10,000,000 loops each)\n"
     ]
    }
   ],
   "source": [
    "%%timeit\n",
    "\n",
    "a = 1\n",
    "b = 2\n",
    "c = 3\n",
    "d = 4\n",
    "e = 5"
   ]
  },
  {
   "cell_type": "markdown",
   "id": "ece9877d-06d6-4685-bceb-c30c2db56dfc",
   "metadata": {},
   "source": [
    "In addition, `%lsmagic` commands will give you the lists of magic commands available in the Jupyter Notebook."
   ]
  },
  {
   "cell_type": "code",
   "execution_count": 8,
   "id": "ce11d5e6-6f8a-4cfc-adca-6104fd7203ec",
   "metadata": {},
   "outputs": [
    {
     "data": {
      "application/json": {
       "cell": {
        "!": "OSMagics",
        "HTML": "Other",
        "SVG": "Other",
        "bash": "Other",
        "capture": "ExecutionMagics",
        "cmd": "Other",
        "code_wrap": "ExecutionMagics",
        "debug": "ExecutionMagics",
        "file": "Other",
        "html": "DisplayMagics",
        "javascript": "DisplayMagics",
        "js": "DisplayMagics",
        "latex": "DisplayMagics",
        "markdown": "DisplayMagics",
        "perl": "Other",
        "prun": "ExecutionMagics",
        "pypy": "Other",
        "python": "Other",
        "python2": "Other",
        "python3": "Other",
        "ruby": "Other",
        "script": "ScriptMagics",
        "sh": "Other",
        "svg": "DisplayMagics",
        "sx": "OSMagics",
        "system": "OSMagics",
        "time": "ExecutionMagics",
        "timeit": "ExecutionMagics",
        "writefile": "OSMagics"
       },
       "line": {
        "alias": "OSMagics",
        "alias_magic": "BasicMagics",
        "autoawait": "AsyncMagics",
        "autocall": "AutoMagics",
        "automagic": "AutoMagics",
        "autosave": "KernelMagics",
        "bookmark": "OSMagics",
        "cd": "OSMagics",
        "clear": "KernelMagics",
        "cls": "KernelMagics",
        "code_wrap": "ExecutionMagics",
        "colors": "BasicMagics",
        "conda": "PackagingMagics",
        "config": "ConfigMagics",
        "connect_info": "KernelMagics",
        "copy": "Other",
        "ddir": "Other",
        "debug": "ExecutionMagics",
        "dhist": "OSMagics",
        "dirs": "OSMagics",
        "doctest_mode": "BasicMagics",
        "echo": "Other",
        "ed": "Other",
        "edit": "KernelMagics",
        "env": "OSMagics",
        "gui": "BasicMagics",
        "hist": "Other",
        "history": "HistoryMagics",
        "killbgscripts": "ScriptMagics",
        "ldir": "Other",
        "less": "KernelMagics",
        "load": "CodeMagics",
        "load_ext": "ExtensionMagics",
        "loadpy": "CodeMagics",
        "logoff": "LoggingMagics",
        "logon": "LoggingMagics",
        "logstart": "LoggingMagics",
        "logstate": "LoggingMagics",
        "logstop": "LoggingMagics",
        "ls": "Other",
        "lsmagic": "BasicMagics",
        "macro": "ExecutionMagics",
        "magic": "BasicMagics",
        "mamba": "PackagingMagics",
        "matplotlib": "PylabMagics",
        "micromamba": "PackagingMagics",
        "mkdir": "Other",
        "more": "KernelMagics",
        "notebook": "BasicMagics",
        "page": "BasicMagics",
        "pastebin": "CodeMagics",
        "pdb": "ExecutionMagics",
        "pdef": "NamespaceMagics",
        "pdoc": "NamespaceMagics",
        "pfile": "NamespaceMagics",
        "pinfo": "NamespaceMagics",
        "pinfo2": "NamespaceMagics",
        "pip": "PackagingMagics",
        "popd": "OSMagics",
        "pprint": "BasicMagics",
        "precision": "BasicMagics",
        "prun": "ExecutionMagics",
        "psearch": "NamespaceMagics",
        "psource": "NamespaceMagics",
        "pushd": "OSMagics",
        "pwd": "OSMagics",
        "pycat": "OSMagics",
        "pylab": "PylabMagics",
        "qtconsole": "KernelMagics",
        "quickref": "BasicMagics",
        "recall": "HistoryMagics",
        "rehashx": "OSMagics",
        "reload_ext": "ExtensionMagics",
        "ren": "Other",
        "rep": "Other",
        "rerun": "HistoryMagics",
        "reset": "NamespaceMagics",
        "reset_selective": "NamespaceMagics",
        "rmdir": "Other",
        "run": "ExecutionMagics",
        "save": "CodeMagics",
        "sc": "OSMagics",
        "set_env": "OSMagics",
        "store": "StoreMagics",
        "sx": "OSMagics",
        "system": "OSMagics",
        "tb": "ExecutionMagics",
        "time": "ExecutionMagics",
        "timeit": "ExecutionMagics",
        "unalias": "OSMagics",
        "unload_ext": "ExtensionMagics",
        "who": "NamespaceMagics",
        "who_ls": "NamespaceMagics",
        "whos": "NamespaceMagics",
        "xdel": "NamespaceMagics",
        "xmode": "BasicMagics"
       }
      },
      "text/plain": [
       "Available line magics:\n",
       "%alias  %alias_magic  %autoawait  %autocall  %automagic  %autosave  %bookmark  %cd  %clear  %cls  %code_wrap  %colors  %conda  %config  %connect_info  %copy  %ddir  %debug  %dhist  %dirs  %doctest_mode  %echo  %ed  %edit  %env  %gui  %hist  %history  %killbgscripts  %ldir  %less  %load  %load_ext  %loadpy  %logoff  %logon  %logstart  %logstate  %logstop  %ls  %lsmagic  %macro  %magic  %mamba  %matplotlib  %micromamba  %mkdir  %more  %notebook  %page  %pastebin  %pdb  %pdef  %pdoc  %pfile  %pinfo  %pinfo2  %pip  %popd  %pprint  %precision  %prun  %psearch  %psource  %pushd  %pwd  %pycat  %pylab  %qtconsole  %quickref  %recall  %rehashx  %reload_ext  %ren  %rep  %rerun  %reset  %reset_selective  %rmdir  %run  %save  %sc  %set_env  %store  %sx  %system  %tb  %time  %timeit  %unalias  %unload_ext  %who  %who_ls  %whos  %xdel  %xmode\n",
       "\n",
       "Available cell magics:\n",
       "%%!  %%HTML  %%SVG  %%bash  %%capture  %%cmd  %%code_wrap  %%debug  %%file  %%html  %%javascript  %%js  %%latex  %%markdown  %%perl  %%prun  %%pypy  %%python  %%python2  %%python3  %%ruby  %%script  %%sh  %%svg  %%sx  %%system  %%time  %%timeit  %%writefile\n",
       "\n",
       "Automagic is ON, % prefix IS NOT needed for line magics."
      ]
     },
     "execution_count": 8,
     "metadata": {},
     "output_type": "execute_result"
    }
   ],
   "source": [
    "%lsmagic"
   ]
  },
  {
   "attachments": {},
   "cell_type": "markdown",
   "id": "27265cc4",
   "metadata": {},
   "source": [
    "# 5 The Kernel"
   ]
  },
  {
   "cell_type": "markdown",
   "id": "4ccb718c-1131-451f-86b4-cb7e1bf6d26e",
   "metadata": {},
   "source": [
    "You will have realised that there is more going on with Jupyter Notebooks than just Python. All the behind-the-scenes work of running a Jupyter Notebook is done by a sub-routine called the **Kernel**.\n",
    "\n",
    "You can interrupt, restart, or shut down the kernel using the ***Kernel*** button in the toolbar. As you start coding with Python, you **will** need to do these because Jupyter sometimes misbehaves, and you can make blunders that require a reset."
   ]
  },
  {
   "cell_type": "markdown",
   "id": "267df916-d969-4ee8-8fc7-f37e871b4771",
   "metadata": {},
   "source": [
    "*Ready for review*"
   ]
  }
 ],
 "metadata": {
  "kernelspec": {
   "display_name": "Python 3 (ipykernel)",
   "language": "python",
   "name": "python3"
  },
  "language_info": {
   "codemirror_mode": {
    "name": "ipython",
    "version": 3
   },
   "file_extension": ".py",
   "mimetype": "text/x-python",
   "name": "python",
   "nbconvert_exporter": "python",
   "pygments_lexer": "ipython3",
   "version": "3.11.5"
  },
  "toc": {
   "base_numbering": 1,
   "nav_menu": {},
   "number_sections": true,
   "sideBar": true,
   "skip_h1_title": false,
   "title_cell": "Table of Contents",
   "title_sidebar": "Contents",
   "toc_cell": false,
   "toc_position": {},
   "toc_section_display": true,
   "toc_window_display": false
  },
  "vscode": {
   "interpreter": {
    "hash": "31f2aee4e71d21fbe5cf8b01ff0e069b9275f58929596ceb00d14d90e3e16cd6"
   }
  }
 },
 "nbformat": 4,
 "nbformat_minor": 5
}
