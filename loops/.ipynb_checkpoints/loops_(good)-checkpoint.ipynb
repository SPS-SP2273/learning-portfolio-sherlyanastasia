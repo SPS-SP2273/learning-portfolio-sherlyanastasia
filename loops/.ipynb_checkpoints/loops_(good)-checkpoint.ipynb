{
 "cells": [
  {
   "attachments": {},
   "cell_type": "markdown",
   "id": "123456",
   "metadata": {},
   "source": [
    "<div style=\"text-align:left;font-size:2em\"><span style=\"font-weight:bolder;font-size:1.25em\">SP2273 | Learning Portfolio</span><br><br><span style=\"font-weight:bold;color:darkred\">Loops (Good)</span></div>"
   ]
  },
  {
   "attachments": {},
   "cell_type": "markdown",
   "id": "26b8036c",
   "metadata": {},
   "source": [
    "# What to expect in this chapter"
   ]
  },
  {
   "cell_type": "markdown",
   "id": "4e661aab-6a33-44ff-9a9f-d92434960891",
   "metadata": {},
   "source": [
    "Learn about:\n",
    "\n",
    "- Controlling over what happens in loops by using the `continue` and `break` statements.\n",
    "- **List comprehension**, a super-optimised variant of the `for` loop. You can use this to create list from other lists."
   ]
  },
  {
   "attachments": {},
   "cell_type": "markdown",
   "id": "08917ea3",
   "metadata": {},
   "source": [
    "# 1 Interrupting the flow"
   ]
  },
  {
   "cell_type": "markdown",
   "id": "f5436398-a419-4df8-9f6a-2aadeb858046",
   "metadata": {},
   "source": [
    "There are many instances when you want to change the flow of a loop from within. The two commands, `break` and `continue`, allow us to do just that."
   ]
  },
  {
   "cell_type": "markdown",
   "id": "92116996-0e9c-4d51-9355-3f1c5343251d",
   "metadata": {},
   "source": [
    "Example 1"
   ]
  },
  {
   "cell_type": "code",
   "execution_count": 1,
   "id": "f968fcef-3dbf-46b5-a7b8-2057cbfca480",
   "metadata": {},
   "outputs": [
    {
     "name": "stdout",
     "output_type": "stream",
     "text": [
      "0 1\n",
      "1 10\n",
      "2 100\n",
      "3 1000\n"
     ]
    }
   ],
   "source": [
    "for power in range(5):\n",
    "    number = 10**power\n",
    "    if number > 5000:\n",
    "        break\n",
    "    print(power, number)"
   ]
  },
  {
   "cell_type": "markdown",
   "id": "cd7c08e0-d945-4806-acf9-75b1e4c13626",
   "metadata": {},
   "source": [
    "We use `break` to break-out of the loop and terminate it.\n",
    "\r\n",
    "We typically use it with` i`f so that we break out if a certain condition is met\n",
    ".\r\n",
    "This will also work with `a whi`le loo\n",
    "\n",
    "Example of the use of `break` in a `while` loop:p."
   ]
  },
  {
   "cell_type": "code",
   "execution_count": 4,
   "id": "3530589e-f786-486c-9a7d-f88f33e7c4be",
   "metadata": {},
   "outputs": [
    {
     "name": "stdin",
     "output_type": "stream",
     "text": [
      ">  n\n"
     ]
    },
    {
     "name": "stdout",
     "output_type": "stream",
     "text": [
      "n\n"
     ]
    },
    {
     "name": "stdin",
     "output_type": "stream",
     "text": [
      ">  b\n"
     ]
    },
    {
     "name": "stdout",
     "output_type": "stream",
     "text": [
      "b\n"
     ]
    },
    {
     "name": "stdin",
     "output_type": "stream",
     "text": [
      ">  sibcisb\n"
     ]
    },
    {
     "name": "stdout",
     "output_type": "stream",
     "text": [
      "sibcisb\n"
     ]
    },
    {
     "name": "stdin",
     "output_type": "stream",
     "text": [
      ">  dhud\n"
     ]
    },
    {
     "name": "stdout",
     "output_type": "stream",
     "text": [
      "dhud\n"
     ]
    },
    {
     "name": "stdin",
     "output_type": "stream",
     "text": [
      ">  done\n"
     ]
    },
    {
     "name": "stdout",
     "output_type": "stream",
     "text": [
      "Done!\n"
     ]
    }
   ],
   "source": [
    "while True:\n",
    "    line = input('> ')\n",
    "    if line == 'done' :\n",
    "        break\n",
    "    print(line)\n",
    "print('Done!')"
   ]
  },
  {
   "cell_type": "markdown",
   "id": "07b09714-1158-426b-9a0d-98d9016e19e3",
   "metadata": {},
   "source": [
    "Example 2"
   ]
  },
  {
   "cell_type": "code",
   "execution_count": 2,
   "id": "a59e9533-4462-48db-9a55-e7548d4a20de",
   "metadata": {},
   "outputs": [
    {
     "name": "stdout",
     "output_type": "stream",
     "text": [
      "0 1\n",
      "1 10\n",
      "2 100\n",
      "4 10000\n"
     ]
    }
   ],
   "source": [
    "for power in range(5):\n",
    "    if power == 3:\n",
    "        continue        # Don't proceed further\n",
    "                        # IN THE CURRENT LOOP\n",
    "                        # if i == 3\n",
    "    number = 10**power\n",
    "    print(power, number)"
   ]
  },
  {
   "cell_type": "markdown",
   "id": "5c7cd35a-1b4f-4a54-968d-88edff891589",
   "metadata": {},
   "source": [
    "Sometimes we want to skip an iteration and just move on to the next. `continue` allows us to do this by skipping everything **after** it.\n",
    "\r\n",
    "Notice how there is no printout for` power = `3\n",
    ".`\r\n",
    "contin`ue too is typically used wit`h `i\n",
    "f.\r\n",
    "This will also work with` a wh`ile lo\n",
    "\n",
    "Example of the use of `continue` in a `while` loop:op."
   ]
  },
  {
   "cell_type": "code",
   "execution_count": 5,
   "id": "e4b8c90c-c375-4410-a211-ed6544bb7fa0",
   "metadata": {},
   "outputs": [
    {
     "name": "stdin",
     "output_type": "stream",
     "text": [
      ">  vuvuv\n"
     ]
    },
    {
     "name": "stdout",
     "output_type": "stream",
     "text": [
      "vuvuv\n"
     ]
    },
    {
     "name": "stdin",
     "output_type": "stream",
     "text": [
      ">  nbuvu\n"
     ]
    },
    {
     "name": "stdout",
     "output_type": "stream",
     "text": [
      "nbuvu\n"
     ]
    },
    {
     "name": "stdin",
     "output_type": "stream",
     "text": [
      ">  tcfc\n"
     ]
    },
    {
     "name": "stdout",
     "output_type": "stream",
     "text": [
      "tcfc\n"
     ]
    },
    {
     "name": "stdin",
     "output_type": "stream",
     "text": [
      ">  vccg\n"
     ]
    },
    {
     "name": "stdout",
     "output_type": "stream",
     "text": [
      "vccg\n"
     ]
    },
    {
     "name": "stdin",
     "output_type": "stream",
     "text": [
      ">  #\\\n",
      ">  #\n",
      ">  done\n"
     ]
    },
    {
     "name": "stdout",
     "output_type": "stream",
     "text": [
      "Done!\n"
     ]
    }
   ],
   "source": [
    "while True:\n",
    "    line = input('> ')\n",
    "    if line[0] == '#' :\n",
    "        continue\n",
    "    if line == 'done' :\n",
    "        break\n",
    "    print(line)\n",
    "print('Done!')"
   ]
  },
  {
   "cell_type": "markdown",
   "id": "037cfedb-2e74-4fd4-85f8-df21adb7bd73",
   "metadata": {},
   "source": [
    "Example 3"
   ]
  },
  {
   "cell_type": "code",
   "execution_count": 3,
   "id": "aaf76147-bc95-41fb-9a21-6dfa6edf9eb3",
   "metadata": {},
   "outputs": [
    {
     "name": "stdout",
     "output_type": "stream",
     "text": [
      "1\n",
      "3\n",
      "5\n",
      "7\n",
      "9\n"
     ]
    }
   ],
   "source": [
    "for number in range(10):\n",
    "    # Don't proceed if the remainder is zero\n",
    "    # I.e. if the number is even\n",
    "    if number % 2 == 0:\n",
    "        continue\n",
    "    print(number)"
   ]
  },
  {
   "cell_type": "markdown",
   "id": "308f9a2b-ddf3-4e6e-9e89-c01f611ad728",
   "metadata": {},
   "source": [
    "Example 4"
   ]
  },
  {
   "cell_type": "code",
   "execution_count": null,
   "id": "289e49b9-cc0b-4d2e-8c60-5c274f0420b0",
   "metadata": {},
   "outputs": [],
   "source": [
    "number=0\n",
    "\n",
    "while True:\n",
    "    print(number)\n",
    "    number += 1\n",
    "    if number > 4: break"
   ]
  },
  {
   "cell_type": "markdown",
   "id": "eee8c529-64cd-4617-b20b-123dac62c2f3",
   "metadata": {},
   "source": [
    "Let's redo the `while` example from the past chapter using `break`.\r\n",
    "Notice thatthe loop is setted up  to runforever<sup>1</sup>  andwe  use break to stop it."
   ]
  },
  {
   "cell_type": "markdown",
   "id": "b9553e9b-9921-4b48-a550-29aef6d00fe7",
   "metadata": {},
   "source": [
    "**Remember**:\n",
    "\n",
    "Remember you can use `break` and `continue` (with impunity) to interrupt the flow of loops."
   ]
  },
  {
   "attachments": {},
   "cell_type": "markdown",
   "id": "fa4d082e",
   "metadata": {},
   "source": [
    "# 2 List comprehension!"
   ]
  },
  {
   "cell_type": "markdown",
   "id": "7a5ddbf6-c216-4b8d-aeaf-cf4b435081b3",
   "metadata": {},
   "source": [
    "The exercises of the previous chapter had you using loops to create lists. However, creating new lists from other lists is so common that Python has an optimised syntax called **list comprehension** to do just that. \n",
    "\n",
    "Here is how it works:ax"
   ]
  },
  {
   "attachments": {},
   "cell_type": "markdown",
   "id": "4bd59db1",
   "metadata": {},
   "source": [
    "## 2.1 Basic syntax"
   ]
  },
  {
   "cell_type": "code",
   "execution_count": 7,
   "id": "5457a2f5-0cde-4266-be4a-40ff437b6a1c",
   "metadata": {},
   "outputs": [
    {
     "data": {
      "text/plain": [
       "[0, 1, 2, 3, 4]"
      ]
     },
     "execution_count": 7,
     "metadata": {},
     "output_type": "execute_result"
    }
   ],
   "source": [
    "[number for number in range(5)]"
   ]
  },
  {
   "cell_type": "markdown",
   "id": "92c581a2-e751-488a-8ba1-6c15d6576245",
   "metadata": {},
   "source": [
    "The adjoining creates a simple list with numbers from 0 to 4.\n",
    "\r\n",
    "The syntax is very similar to that of a` fo`r loop. You just need to put the thing you want as an output at the front."
   ]
  },
  {
   "cell_type": "markdown",
   "id": "0b58c76a-93d0-4099-a4a0-50a870903dd6",
   "metadata": {},
   "source": [
    "If you want to create a list of squares, we just have to:"
   ]
  },
  {
   "cell_type": "code",
   "execution_count": 8,
   "id": "9b829d50-9868-44d8-b71b-5197a42276e3",
   "metadata": {},
   "outputs": [
    {
     "data": {
      "text/plain": [
       "[0, 1, 4, 9, 16]"
      ]
     },
     "execution_count": 8,
     "metadata": {},
     "output_type": "execute_result"
    }
   ],
   "source": [
    "[number**2 for number in range(5)]"
   ]
  },
  {
   "attachments": {},
   "cell_type": "markdown",
   "id": "9f8cdf9a",
   "metadata": {},
   "source": [
    "## 2.2 List comprehension with conditions"
   ]
  },
  {
   "cell_type": "markdown",
   "id": "55e2889f-80ac-4eb3-9686-1eacda252149",
   "metadata": {},
   "source": [
    "List comprehension has several useful features. One such allows us to specify a condition.\n",
    "\n",
    "Here is an example:"
   ]
  },
  {
   "cell_type": "code",
   "execution_count": 6,
   "id": "af2f79c2-01cd-4904-8565-2421730c26f3",
   "metadata": {},
   "outputs": [
    {
     "data": {
      "text/plain": [
       "[0, 2, 4, 6, 8]"
      ]
     },
     "execution_count": 6,
     "metadata": {},
     "output_type": "execute_result"
    }
   ],
   "source": [
    "[number for number in range(10) if number % 2 ==0]"
   ]
  },
  {
   "attachments": {},
   "cell_type": "markdown",
   "id": "ec6c53ce",
   "metadata": {},
   "source": [
    "# 3 Other useful stuff"
   ]
  },
  {
   "attachments": {},
   "cell_type": "markdown",
   "id": "f75496b8",
   "metadata": {},
   "source": [
    "## 3.1 `for` with unpacking"
   ]
  },
  {
   "cell_type": "markdown",
   "id": "b00562b1-0ed7-423c-a0cf-93635c9a7676",
   "metadata": {},
   "source": [
    "Python allows a neat trick called **unpacking**, which works like this:"
   ]
  },
  {
   "cell_type": "code",
   "execution_count": 9,
   "id": "b30e576b-ae63-4b12-ae84-cf26b40e4aed",
   "metadata": {},
   "outputs": [
    {
     "name": "stdout",
     "output_type": "stream",
     "text": [
      "x = 1, y = 2, z = 3\n"
     ]
    }
   ],
   "source": [
    "x, y, z=[1, 2, 3]\n",
    "print(f'x = {x}, y = {y}, z = {z}')"
   ]
  },
  {
   "cell_type": "markdown",
   "id": "b3ef29a0-429d-491a-aa85-da9a401c86d6",
   "metadata": {},
   "source": [
    "Unpacking can be put to good use (for example) when we are dealing with 2D list. We can combine unpacking with a `for` loop to extract elements as follows:"
   ]
  },
  {
   "cell_type": "code",
   "execution_count": 10,
   "id": "6472ece7-56f8-45d9-ab43-d6f780692d58",
   "metadata": {},
   "outputs": [
    {
     "name": "stdout",
     "output_type": "stream",
     "text": [
      "Natasha Romanoff is Marvel's Black Widow!\n",
      "Tony Stark is Marvel's Iron Man!\n",
      "Stephen Strange is Marvel's Doctor Strange!\n"
     ]
    }
   ],
   "source": [
    "py_superhero_info = [['Natasha Romanoff', 'Black Widow'],\n",
    "                     ['Tony Stark', 'Iron Man'],\n",
    "                     ['Stephen Strange', 'Doctor Strange']]\n",
    "\n",
    "for real_name, super_name in py_superhero_info:\n",
    "    print(f\"{real_name} is Marvel's {super_name}!\")"
   ]
  },
  {
   "attachments": {},
   "cell_type": "markdown",
   "id": "7da1ad0b",
   "metadata": {},
   "source": [
    "## 3.2 `for` with `zip()`"
   ]
  },
  {
   "cell_type": "markdown",
   "id": "6dffa268-3795-4f16-b0c1-c3b6caaa627a",
   "metadata": {},
   "source": [
    "Let’s revisit the example from the previous chapter that had two lists of real and superhero names that we used to print. There is yet another way to solve this task using a function called `zip()`. `zip()` is a neat function that can do some cool things.\n",
    "\n",
    "Here is how to use `zip()` to **combine** two lists."
   ]
  },
  {
   "cell_type": "code",
   "execution_count": 11,
   "id": "51dc4dfc-5a8c-432b-8b4a-939e7743f36d",
   "metadata": {},
   "outputs": [
    {
     "name": "stdout",
     "output_type": "stream",
     "text": [
      "Natasha Romanoff is Marvel's Black Widow!\n",
      "Tony Stark is Marvel's Iron Man!\n",
      "Stephen Strange is Marvel's Doctor Strange!\n"
     ]
    }
   ],
   "source": [
    "super_names = [\"Black Widow\", \"Iron Man\", \"Doctor Strange\"]\n",
    "real_names = [\"Natasha Romanoff\", \"Tony Stark\", \"Stephen Strange\"]\n",
    "\n",
    "for real_name, super_name in zip(real_names,super_names):\n",
    "    print(f\"{real_name} is Marvel's {super_name}!\")"
   ]
  },
  {
   "cell_type": "markdown",
   "id": "c86fbd38-8c53-4e6e-92ff-72d4e867f570",
   "metadata": {},
   "source": [
    "This is by far the most elegant solution we have for using multiple lists with a `for` loop."
   ]
  },
  {
   "attachments": {},
   "cell_type": "markdown",
   "id": "d1907477",
   "metadata": {},
   "source": [
    "## 3.3 `for` with dictionaries"
   ]
  },
  {
   "cell_type": "markdown",
   "id": "fc10058b-dc86-427e-a0b8-3d200f42292f",
   "metadata": {},
   "source": [
    "You will invariably need to loop through dictionaries in your programming career. \n",
    "\n",
    "Here is how you can do it with a `for` loop."
   ]
  },
  {
   "cell_type": "code",
   "execution_count": 12,
   "id": "4db0bd9a-8340-4533-9535-21a8a648f504",
   "metadata": {},
   "outputs": [
    {
     "name": "stdout",
     "output_type": "stream",
     "text": [
      "Natasha Romanoff is Marvel's Black Widow!\n",
      "Tony Stark is Marvel's Iron Man!\n",
      "Stephen Strange is Marvel's Doctor Strange!\n"
     ]
    }
   ],
   "source": [
    "superhero_info={\"Natasha Romanoff\": \"Black Widow\",\n",
    "                \"Tony Stark\": \"Iron Man\",\n",
    "                \"Stephen Strange\": \"Doctor Strange\"}\n",
    "\n",
    "for key, value in superhero_info.items():\n",
    "    print(f\"{key} is Marvel's {value}!\")"
   ]
  },
  {
   "cell_type": "markdown",
   "id": "fc1cf56f-30eb-41c4-90c1-fb1c4e875b5b",
   "metadata": {},
   "source": [
    "The ‘hidden’ function `items()` spits out both the key and the corresponding value.\r\n",
    "\r\n",
    "If you like, you can directly access the keys as follows:"
   ]
  },
  {
   "cell_type": "code",
   "execution_count": 13,
   "id": "9e5db3ab-10e7-4429-8744-1c892a6c0f75",
   "metadata": {},
   "outputs": [
    {
     "name": "stdout",
     "output_type": "stream",
     "text": [
      "Natasha Romanoff is Marvel's Black Widow!\n",
      "Tony Stark is Marvel's Iron Man!\n",
      "Stephen Strange is Marvel's Doctor Strange!\n"
     ]
    }
   ],
   "source": [
    "for key in superhero_info.keys():\n",
    "    value=superhero_info[key]\n",
    "    print(f\"{key} is Marvel's {value}!\")"
   ]
  },
  {
   "cell_type": "markdown",
   "id": "6a8f5abb-ae27-4f0f-a9d1-d95f7d1191b4",
   "metadata": {},
   "source": [
    "We have used the variable names `key` and `value` to highlight their roles in the dictionary. You can use whatever you like. In fact, using `real_name` and `super_name` is preferred."
   ]
  },
  {
   "attachments": {},
   "cell_type": "markdown",
   "id": "039edafe",
   "metadata": {},
   "source": [
    "## Footnotes"
   ]
  },
  {
   "cell_type": "markdown",
   "id": "c970273f-be21-4d49-b172-ead3f4063ac2",
   "metadata": {},
   "source": [
    "1. or the end of the Universe."
   ]
  }
 ],
 "metadata": {
  "kernelspec": {
   "display_name": "Python 3 (ipykernel)",
   "language": "python",
   "name": "python3"
  },
  "language_info": {
   "codemirror_mode": {
    "name": "ipython",
    "version": 3
   },
   "file_extension": ".py",
   "mimetype": "text/x-python",
   "name": "python",
   "nbconvert_exporter": "python",
   "pygments_lexer": "ipython3",
   "version": "3.11.5"
  },
  "toc": {
   "base_numbering": 1,
   "nav_menu": {},
   "number_sections": true,
   "sideBar": true,
   "skip_h1_title": false,
   "title_cell": "Table of Contents",
   "title_sidebar": "Contents",
   "toc_cell": false,
   "toc_position": {},
   "toc_section_display": true,
   "toc_window_display": false
  },
  "vscode": {
   "interpreter": {
    "hash": "31f2aee4e71d21fbe5cf8b01ff0e069b9275f58929596ceb00d14d90e3e16cd6"
   }
  }
 },
 "nbformat": 4,
 "nbformat_minor": 5
}
