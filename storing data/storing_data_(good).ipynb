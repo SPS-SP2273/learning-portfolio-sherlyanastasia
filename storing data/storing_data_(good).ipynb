{
 "cells": [
  {
   "attachments": {},
   "cell_type": "markdown",
   "id": "123456",
   "metadata": {},
   "source": [
    "<div style=\"text-align:left;font-size:2em\"><span style=\"font-weight:bolder;font-size:1.25em\">SP2273 | Learning Portfolio</span><br><br><span style=\"font-weight:bold;color:darkred\">Storing Data (Good)</span></div>"
   ]
  },
  {
   "attachments": {},
   "cell_type": "markdown",
   "id": "cb1e5e8b",
   "metadata": {},
   "source": [
    "# What to expect in this chapter"
   ]
  },
  {
   "attachments": {},
   "cell_type": "markdown",
   "id": "7226b12d",
   "metadata": {},
   "source": [
    "# 1 Subsetting: Indexing and Slicing"
   ]
  },
  {
   "attachments": {},
   "cell_type": "markdown",
   "id": "e96d5564",
   "metadata": {},
   "source": [
    "## 1.1 Lists & Arrays in 1D | Subsetting & Indexing"
   ]
  },
  {
   "attachments": {},
   "cell_type": "markdown",
   "id": "6dc04b0f",
   "metadata": {},
   "source": [
    "## 1.2 Arrays only | Subsetting by masking"
   ]
  },
  {
   "attachments": {},
   "cell_type": "markdown",
   "id": "283caf72",
   "metadata": {},
   "source": [
    "## 1.3 Lists & Arrays in 2D | Indexing & Slicing"
   ]
  },
  {
   "attachments": {},
   "cell_type": "markdown",
   "id": "155b2aa6",
   "metadata": {},
   "source": [
    "## 1.4 Growing lists"
   ]
  },
  {
   "attachments": {},
   "cell_type": "markdown",
   "id": "c697e9b5",
   "metadata": {},
   "source": [
    "# Some loose ends"
   ]
  },
  {
   "attachments": {},
   "cell_type": "markdown",
   "id": "142321a2",
   "metadata": {},
   "source": [
    "## 1.5 Tuples"
   ]
  },
  {
   "attachments": {},
   "cell_type": "markdown",
   "id": "1c5a4c14",
   "metadata": {},
   "source": [
    "## 1.6 Be VERY careful when copying"
   ]
  },
  {
   "attachments": {},
   "cell_type": "markdown",
   "id": "f9312842",
   "metadata": {},
   "source": [
    "# Exercises & Self-Assessment"
   ]
  },
  {
   "cell_type": "code",
   "execution_count": null,
   "id": "5bfc9a06",
   "metadata": {},
   "outputs": [],
   "source": [
    "\n",
    "\n",
    "\n",
    "# Your solution here\n",
    "\n",
    "\n"
   ]
  },
  {
   "attachments": {},
   "cell_type": "markdown",
   "id": "6bf0ff8c",
   "metadata": {},
   "source": [
    "## Footnotes"
   ]
  }
 ],
 "metadata": {
  "kernelspec": {
   "display_name": "Python 3 (ipykernel)",
   "language": "python",
   "name": "python3"
  },
  "language_info": {
   "codemirror_mode": {
    "name": "ipython",
    "version": 3
   },
   "file_extension": ".py",
   "mimetype": "text/x-python",
   "name": "python",
   "nbconvert_exporter": "python",
   "pygments_lexer": "ipython3",
   "version": "3.11.5"
  },
  "toc": {
   "base_numbering": 1,
   "nav_menu": {},
   "number_sections": true,
   "sideBar": true,
   "skip_h1_title": false,
   "title_cell": "Table of Contents",
   "title_sidebar": "Contents",
   "toc_cell": false,
   "toc_position": {},
   "toc_section_display": true,
   "toc_window_display": false
  },
  "vscode": {
   "interpreter": {
    "hash": "31f2aee4e71d21fbe5cf8b01ff0e069b9275f58929596ceb00d14d90e3e16cd6"
   }
  }
 },
 "nbformat": 4,
 "nbformat_minor": 5
}
