{
 "cells": [
  {
   "attachments": {},
   "cell_type": "markdown",
   "id": "123456",
   "metadata": {},
   "source": [
    "<div style=\"text-align:left;font-size:2em\"><span style=\"font-weight:bolder;font-size:1.25em\">SP2273 | Learning Portfolio</span><br><br><span style=\"font-weight:bold;color:darkred\">Fundamentals (Need) Exercises</span></div>"
   ]
  },
  {
   "cell_type": "markdown",
   "id": "32c56925-b28c-4ccb-9f92-1a9aa8f31603",
   "metadata": {},
   "source": [
    "# **Exercise 1**"
   ]
  },
  {
   "cell_type": "markdown",
   "id": "2d1da240-9635-414b-a66d-5dcf9d251df3",
   "metadata": {},
   "source": [
    "**1 Functions**\n",
    "\n",
    "print()\n",
    "\n",
    "exit()\n",
    "\n",
    "abs()\n",
    "\n",
    "round()\n",
    "\n",
    "float()\n",
    "\n",
    "list()\n",
    "\n",
    "int()\n",
    "\n",
    "ascii()\n",
    "\n",
    "max()\n",
    "\n",
    "upper()\n",
    "\n",
    "lower()"
   ]
  },
  {
   "cell_type": "markdown",
   "id": "5b759adb-0d40-4864-9504-6c8e94803dd4",
   "metadata": {},
   "source": [
    "Example:"
   ]
  },
  {
   "cell_type": "code",
   "execution_count": null,
   "id": "6701cd08-5971-4770-97e8-44292d71485e",
   "metadata": {},
   "outputs": [],
   "source": [
    "print('Hello world!')"
   ]
  },
  {
   "cell_type": "markdown",
   "id": "9d703531-fd48-411e-9218-c59a30d83500",
   "metadata": {},
   "source": [
    "**2 Python is interpreted**"
   ]
  },
  {
   "cell_type": "markdown",
   "id": "7185a3e7-6595-43e7-bb8b-a27991712fcc",
   "metadata": {},
   "source": [
    "Python works one command at a time."
   ]
  },
  {
   "cell_type": "markdown",
   "id": "b07252c8-0460-4164-8bda-fa194c11d96d",
   "metadata": {},
   "source": [
    "Example:"
   ]
  },
  {
   "cell_type": "code",
   "execution_count": 1,
   "id": "ed905b99-7d37-43a1-9124-93932c47ea97",
   "metadata": {},
   "outputs": [
    {
     "name": "stdout",
     "output_type": "stream",
     "text": [
      "Hello\n",
      "Hello world!\n",
      "Hello 123\n"
     ]
    }
   ],
   "source": [
    "print('Hello')\n",
    "print('Hello world!')\n",
    "print('Hello 123')"
   ]
  },
  {
   "cell_type": "markdown",
   "id": "14a2949d-b5fe-4239-9d09-bff59e267589",
   "metadata": {},
   "source": [
    "The output is:\n",
    "\n",
    "Hello\n",
    "\n",
    "\n",
    "Hello world\n",
    "\n",
    "Hello 123\n",
    "\n",
    "\n",
    "#Python run the function we create in order"
   ]
  },
  {
   "cell_type": "markdown",
   "id": "568ef564-a4fa-49c6-a066-bc1858756b3a",
   "metadata": {},
   "source": [
    "**3 Python is sensitive**"
   ]
  },
  {
   "cell_type": "markdown",
   "id": "b3b57d50-d461-4ba6-872c-a195b2c8ee03",
   "metadata": {},
   "source": [
    "Example 1:"
   ]
  },
  {
   "cell_type": "markdown",
   "id": "6998133e-9ff5-4e7f-9f95-f3a936285359",
   "metadata": {},
   "source": [
    "print(\"Hello\") #This will work\n",
    "\n",
    "print('Hello') #This will work\n",
    "\n",
    "print('Hello\") #This will NOT work\n",
    "\n",
    "print(\"Hello') #This will NOT work\n",
    "\n",
    "#You have to use the same quotation mark to run python"
   ]
  },
  {
   "cell_type": "markdown",
   "id": "d80aeafa-c796-4b50-b35f-04b70ddd9a46",
   "metadata": {},
   "source": [
    "Example 2:"
   ]
  },
  {
   "cell_type": "markdown",
   "id": "b45626df-7ad5-4c4e-9c05-6c0ea65fe3e3",
   "metadata": {},
   "source": [
    "print('Hello') #This will work\n",
    "\n",
    "Print('Hello') #This will NOT work\n",
    "\n",
    "#You have to use the lower case letter"
   ]
  },
  {
   "cell_type": "markdown",
   "id": "e759464c-7136-477e-90e1-8adff788d30d",
   "metadata": {},
   "source": [
    "**4 Comments**"
   ]
  },
  {
   "cell_type": "markdown",
   "id": "a2b62b7d-48e8-41e6-aa42-f843e338dd52",
   "metadata": {},
   "source": [
    "Hashtag symbol, #, create a comment in python. \n",
    "Anything we write after # will not be printed in the output.\n",
    "The function of # is only to create comment to recall our purpose of writing some code"
   ]
  },
  {
   "cell_type": "markdown",
   "id": "cbf1bfa8-02d9-4eda-9920-ababb058552a",
   "metadata": {},
   "source": [
    "Example:"
   ]
  },
  {
   "cell_type": "markdown",
   "id": "3f190cf3-e6cf-424f-8020-413de2977dfd",
   "metadata": {},
   "source": [
    "print('Hello')\n",
    "\n",
    "#print('Hello')"
   ]
  },
  {
   "cell_type": "markdown",
   "id": "cbc39628-fbc8-472e-a9a1-3edc3dc84dda",
   "metadata": {},
   "source": [
    "The first line will be printed out in python but the second line **will not** be printed out"
   ]
  },
  {
   "cell_type": "markdown",
   "id": "1632c52d-095f-417f-ad5a-a9e60c0684cf",
   "metadata": {},
   "source": [
    "**5 = is not the same as ==**"
   ]
  },
  {
   "cell_type": "markdown",
   "id": "a9783cef-358f-4c55-bbe7-9d199ff53fc8",
   "metadata": {},
   "source": [
    "= is used to assign some values to a letter or word that we create by ourself, while\n",
    "== is used to ask a question, for example True or False question."
   ]
  },
  {
   "cell_type": "markdown",
   "id": "0ba0774e-d70e-44c2-8d89-65aa20cfa512",
   "metadata": {},
   "source": [
    "Example:"
   ]
  },
  {
   "cell_type": "code",
   "execution_count": 2,
   "id": "2be74a47-e256-418d-bd9d-71c21d63a9ee",
   "metadata": {},
   "outputs": [
    {
     "data": {
      "text/plain": [
       "True"
      ]
     },
     "execution_count": 2,
     "metadata": {},
     "output_type": "execute_result"
    }
   ],
   "source": [
    "x = 4\n",
    "x == 4"
   ]
  },
  {
   "cell_type": "markdown",
   "id": "aaa4b0a8-52b4-4037-9b78-8169378f5e41",
   "metadata": {},
   "source": [
    "The difference between 'x = 4' and 'x == 4' are:\n",
    "1. There is no output for 'x = 4' in the code because this is just assigning a value to x, while there is a True/False output for 'x==4' because this is a from of a question.\n",
    "2. When you want to run 'x == 4', then you have to provide the value of x first, if not, then your code WILL NOT work."
   ]
  },
  {
   "cell_type": "markdown",
   "id": "c627ffa0-7142-4bfd-81aa-4d374c184688",
   "metadata": {},
   "source": [
    "**6 Use if to make decisions**"
   ]
  },
  {
   "cell_type": "markdown",
   "id": "a4c26637-53a0-4c2c-9019-39c27883a84f",
   "metadata": {},
   "source": [
    "'if' is used to put some requirements"
   ]
  },
  {
   "cell_type": "markdown",
   "id": "738891d4-596c-446e-a680-7022313e0b82",
   "metadata": {},
   "source": [
    "Example 1:"
   ]
  },
  {
   "cell_type": "code",
   "execution_count": 7,
   "id": "fc185322-445b-4c65-92af-9d8ebc2f8ded",
   "metadata": {},
   "outputs": [
    {
     "name": "stdout",
     "output_type": "stream",
     "text": [
      "Correct!\n"
     ]
    }
   ],
   "source": [
    "x = 4\n",
    "if x == 4:\n",
    "    print('Correct!')\n",
    "else:\n",
    "    print('False')"
   ]
  },
  {
   "cell_type": "markdown",
   "id": "55983b7d-9782-4cb5-a8c9-7b45df6c5d20",
   "metadata": {},
   "source": [
    "Example 2:"
   ]
  },
  {
   "cell_type": "code",
   "execution_count": 1,
   "id": "adc01663-0fc4-4b85-b080-dc1375d5c9ae",
   "metadata": {},
   "outputs": [
    {
     "name": "stdout",
     "output_type": "stream",
     "text": [
      "False\n"
     ]
    }
   ],
   "source": [
    "x = 'Sally'\n",
    "if x == 'Glenn':\n",
    "    print('Correct!')\n",
    "else:\n",
    "    print('False')"
   ]
  },
  {
   "cell_type": "markdown",
   "id": "90651566-1bf0-4f05-b679-9cf0a3824c84",
   "metadata": {},
   "source": [
    "**7 Indentations**"
   ]
  },
  {
   "cell_type": "markdown",
   "id": "0df7fae2-cb88-4c61-9a8a-ed7407d8fe3a",
   "metadata": {},
   "source": [
    "We have to be careful with the indentations as wrong identation may give undesirable output."
   ]
  },
  {
   "cell_type": "markdown",
   "id": "76794262-4c0b-4adf-9bd4-b45af209dd8a",
   "metadata": {},
   "source": [
    "This code will work:"
   ]
  },
  {
   "cell_type": "code",
   "execution_count": null,
   "id": "75443015-e091-4509-9b77-a3b9b4fc2087",
   "metadata": {},
   "outputs": [],
   "source": [
    "x = 'Sally'\n",
    "if x == 'Glenn':\n",
    "    print('Correct!')\n",
    "else:\n",
    "    print('False')"
   ]
  },
  {
   "cell_type": "markdown",
   "id": "6c81c5bd-0188-4ab1-920e-5e052e4c0f6e",
   "metadata": {},
   "source": [
    "While this code will not work:"
   ]
  },
  {
   "cell_type": "code",
   "execution_count": 2,
   "id": "93ff7932-9414-4a3e-9b9c-61996bea07c7",
   "metadata": {},
   "outputs": [
    {
     "ename": "IndentationError",
     "evalue": "expected an indented block after 'if' statement on line 2 (2407687264.py, line 3)",
     "output_type": "error",
     "traceback": [
      "\u001b[1;36m  Cell \u001b[1;32mIn[2], line 3\u001b[1;36m\u001b[0m\n\u001b[1;33m    print('Correct!')\u001b[0m\n\u001b[1;37m    ^\u001b[0m\n\u001b[1;31mIndentationError\u001b[0m\u001b[1;31m:\u001b[0m expected an indented block after 'if' statement on line 2\n"
     ]
    }
   ],
   "source": [
    "x = 'Sally'\n",
    "if x == 'Glenn':\n",
    "print('Correct!')\n",
    "else:\n",
    "print('False')"
   ]
  },
  {
   "cell_type": "markdown",
   "id": "34d093e2-d70c-4cb4-a647-719b4d933ebf",
   "metadata": {},
   "source": [
    "**8 Variable and Word**"
   ]
  },
  {
   "cell_type": "markdown",
   "id": "225b4f5a-9a40-4214-a824-d3135b3f81c5",
   "metadata": {},
   "source": [
    "Variables contain some value inside it, while words don't contain anything inside them. Words are just 'ENGLISH'."
   ]
  },
  {
   "cell_type": "markdown",
   "id": "27b0a65e-cf26-4a54-913f-c503d4e308f7",
   "metadata": {},
   "source": [
    "**9 Numpy and Math Pakages**"
   ]
  },
  {
   "cell_type": "markdown",
   "id": "6651732f-a1f8-4c66-83e4-8e779237bbea",
   "metadata": {},
   "source": [
    "We have to import packages outside of Python to be able to give Python new functionalities such as solving square root problems."
   ]
  },
  {
   "cell_type": "markdown",
   "id": "2e8dbc9f-5219-46bb-9ae3-f20be6d61ad2",
   "metadata": {},
   "source": [
    "**10 The dot**"
   ]
  },
  {
   "cell_type": "markdown",
   "id": "f2c9f427-641a-4fec-9be8-4456b92f37e4",
   "metadata": {},
   "source": [
    "We use dot (.) to apply a function to our chosen variables."
   ]
  },
  {
   "cell_type": "markdown",
   "id": "44b34c9c-3c91-40ab-8c74-4743c38d032d",
   "metadata": {},
   "source": [
    "*11 Brackets*"
   ]
  },
  {
   "cell_type": "markdown",
   "id": "e640cebd-ebae-4ce0-ba06-550b358df633",
   "metadata": {},
   "source": [
    "Python uses three types of brackets `()`, `[]`, and `{}` for a different purposes."
   ]
  },
  {
   "cell_type": "markdown",
   "id": "7cf4a7bf-c5b3-41fc-bae0-7f84e6e5070e",
   "metadata": {},
   "source": [
    "# **Exercise 2**"
   ]
  },
  {
   "cell_type": "code",
   "execution_count": 8,
   "id": "c555e921-2f2e-4d59-80f3-b3a42a0c2128",
   "metadata": {},
   "outputs": [
    {
     "ename": "IndentationError",
     "evalue": "unindent does not match any outer indentation level (<tokenize>, line 3)",
     "output_type": "error",
     "traceback": [
      "\u001b[1;36m  File \u001b[1;32m<tokenize>:3\u001b[1;36m\u001b[0m\n\u001b[1;33m    Print(x, y, z)\u001b[0m\n\u001b[1;37m    ^\u001b[0m\n\u001b[1;31mIndentationError\u001b[0m\u001b[1;31m:\u001b[0m unindent does not match any outer indentation level\n"
     ]
    }
   ],
   "source": [
    "x, y = 3, 4\n",
    "        z = sqrt(x*2 + y**2)\n",
    "    Print(x, y, z)"
   ]
  },
  {
   "cell_type": "markdown",
   "id": "c56e36b7-eafd-4da9-ad12-22d300eae45f",
   "metadata": {},
   "source": [
    "The code above does not work, we have to fix some problems:\n",
    "1. We have to input the function from math\n",
    "2. We have to unindent line 2 and 3\n",
    "3. We have to add one star symbol between the x and 2, because one star symbol means multiplication while double star symbol means power\n",
    "4. We have to write the 'Print' function in lower case letter"
   ]
  },
  {
   "cell_type": "code",
   "execution_count": 1,
   "id": "13ee7471-a808-4103-840d-7db36da5cef3",
   "metadata": {},
   "outputs": [],
   "source": [
    "import math\n",
    "#from math import sqrt"
   ]
  },
  {
   "cell_type": "code",
   "execution_count": 9,
   "id": "3aca77f2-a19e-49f4-aa53-5735fa68961a",
   "metadata": {},
   "outputs": [
    {
     "name": "stdout",
     "output_type": "stream",
     "text": [
      "3 4 5.0\n"
     ]
    }
   ],
   "source": [
    "x,y = 3,4\n",
    "z = math.sqrt(x**2+y**2)\n",
    "print(x,y,z)"
   ]
  },
  {
   "cell_type": "markdown",
   "id": "0ab22676-6134-40aa-9b5d-9132dcb6cf60",
   "metadata": {},
   "source": [
    "# **Exercise 3**"
   ]
  },
  {
   "cell_type": "markdown",
   "id": "e7edb128-ae83-4a6e-a097-591e82c4bda2",
   "metadata": {},
   "source": [
    "| **#** | **Term**     | **Description**                                                                                                                                                                                                                                                           |\r\n",
    "|-------|--------------|---------------------------------------------------------------------------------------------------------------------------------------------------------------------------------------------------------------------------------------------------------------------------|\r\n",
    "| 1     | Function     | Function is some reusable codes that was built by putting a set of instructions. We can also build our own function by using the `def` reserved word.                                                                                                                     |\r\n",
    "| 2     | Arguments    | Arguments are the input of the function.                                                                                                                                                                                                                                  |\r\n",
    "| 3     | Comments     | Comments are a set of signs that tell humans on what does the codes mean. Python does not 'read' comments and does not execute it.                                                                                                                                        |\r\n",
    "| 4     | Indentations | Indentations are used to indicate sub-code. The sub-code may or may not run depending of a certain condition. This are called 'conditional' statement.                                                                                                                    |\r\n",
    "| 5     | Packages     | Packages are a collection of tools and modules that help to initiate a code in Python and therefore can be used to help the user so that the user don't need to write the same code that have been created already. Packages are also known as 'previously-written' code. |\r\n",
    "| 6     | `.`          | Dot is used to indicate the ownership of a function to a variables or modules.                                                                                                                                                                                            |\r\n",
    "| 7     | `:`          | Colon is used to indicate the start of a block of code, such as conditional statements or loops. Colon is also used in to slice certain stings inside a list or it can be used to slice the strings itself.                                                               |\r\n",
    "| 8     | `[]`         | `[]` is used to indicate or create lists.                                                                                                                                                                                                                                 |\r\n",
    "| 9     | `[[[]]]`     | `[[[]]]` is used to create lists inside a list.                                                                                                                                                                                                                           |\r\n",
    "| 10    | `{}`         | `{}` is used to store data in a place called 'dictionary'.                                                                                                                                                                                                                |"
   ]
  },
  {
   "cell_type": "markdown",
   "id": "183a0cba-af86-49b3-87cc-35ad093a09f2",
   "metadata": {},
   "source": [
    "# **Exercise 4**"
   ]
  },
  {
   "cell_type": "code",
   "execution_count": 3,
   "id": "41478937-6157-4df1-a75c-ff69ad94f432",
   "metadata": {},
   "outputs": [
    {
     "data": {
      "text/plain": [
       "2.5"
      ]
     },
     "execution_count": 3,
     "metadata": {},
     "output_type": "execute_result"
    }
   ],
   "source": [
    "5/2           # This is the usual way to divide numbers as in mathematics. Resulting in a floating point (decimal number)."
   ]
  },
  {
   "cell_type": "code",
   "execution_count": 4,
   "id": "7b3b36e1-0205-4a36-9053-c26cdf1f9c4a",
   "metadata": {},
   "outputs": [
    {
     "data": {
      "text/plain": [
       "2"
      ]
     },
     "execution_count": 4,
     "metadata": {},
     "output_type": "execute_result"
    }
   ],
   "source": [
    "5//2          # This `//` type of division just takes the quotation from the results of the division."
   ]
  },
  {
   "cell_type": "code",
   "execution_count": 5,
   "id": "0b87edab-cf2a-43a3-814a-39c9ed0fdbae",
   "metadata": {},
   "outputs": [
    {
     "data": {
      "text/plain": [
       "1"
      ]
     },
     "execution_count": 5,
     "metadata": {},
     "output_type": "execute_result"
    }
   ],
   "source": [
    "5%2           # This is the remainder operation. In other words, it just take the remainder from the results of the division."
   ]
  }
 ],
 "metadata": {
  "kernelspec": {
   "display_name": "Python 3 (ipykernel)",
   "language": "python",
   "name": "python3"
  },
  "language_info": {
   "codemirror_mode": {
    "name": "ipython",
    "version": 3
   },
   "file_extension": ".py",
   "mimetype": "text/x-python",
   "name": "python",
   "nbconvert_exporter": "python",
   "pygments_lexer": "ipython3",
   "version": "3.11.5"
  },
  "toc": {
   "base_numbering": 1,
   "nav_menu": {},
   "number_sections": true,
   "sideBar": true,
   "skip_h1_title": false,
   "title_cell": "Table of Contents",
   "title_sidebar": "Contents",
   "toc_cell": false,
   "toc_position": {},
   "toc_section_display": true,
   "toc_window_display": false
  },
  "vscode": {
   "interpreter": {
    "hash": "31f2aee4e71d21fbe5cf8b01ff0e069b9275f58929596ceb00d14d90e3e16cd6"
   }
  }
 },
 "nbformat": 4,
 "nbformat_minor": 5
}
