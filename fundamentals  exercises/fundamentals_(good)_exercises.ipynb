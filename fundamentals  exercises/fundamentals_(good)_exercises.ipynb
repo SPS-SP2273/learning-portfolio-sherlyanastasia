{
 "cells": [
  {
   "attachments": {},
   "cell_type": "markdown",
   "id": "123456",
   "metadata": {},
   "source": [
    "<div style=\"text-align:left;font-size:2em\"><span style=\"font-weight:bolder;font-size:1.25em\">SP2273 | Learning Portfolio</span><br><br><span style=\"font-weight:bold;color:darkred\">Fundamentals (Good) Exercises</span></div>"
   ]
  },
  {
   "cell_type": "markdown",
   "id": "7b304a36-e802-4743-ac2b-d77add16837e",
   "metadata": {},
   "source": [
    "**Step 1**"
   ]
  },
  {
   "cell_type": "code",
   "execution_count": 1,
   "id": "d44f4a1e-61ad-49b6-9277-2f8c24cd4743",
   "metadata": {},
   "outputs": [
    {
     "name": "stdin",
     "output_type": "stream",
     "text": [
      "Give me a number? 5\n"
     ]
    },
    {
     "name": "stdout",
     "output_type": "stream",
     "text": [
      "You entered 5\n"
     ]
    }
   ],
   "source": [
    "user_input = input('Give me a number?')\n",
    "print('You entered', user_input)"
   ]
  },
  {
   "cell_type": "markdown",
   "id": "085cab89-e91c-405e-b37b-65366ccb594a",
   "metadata": {},
   "source": [
    "The output:\n",
    "\r",
    "`\n",
    "You entered `5"
   ]
  },
  {
   "cell_type": "code",
   "execution_count": 3,
   "id": "d58e5c4e-f2da-4c11-83d0-0a800e40fff9",
   "metadata": {},
   "outputs": [
    {
     "name": "stdin",
     "output_type": "stream",
     "text": [
      "Give me a number? 56\n"
     ]
    },
    {
     "name": "stdout",
     "output_type": "stream",
     "text": [
      "You entered 56\n"
     ]
    }
   ],
   "source": [
    "user_input = input('Give me a number?')\n",
    "print('You entered', user_input)"
   ]
  },
  {
   "cell_type": "markdown",
   "id": "ede5f815-e03f-4dc7-a9ee-ea0bc303a0cf",
   "metadata": {},
   "source": [
    "The output:\n",
    "\n",
    "`You entered 56`"
   ]
  },
  {
   "cell_type": "code",
   "execution_count": 5,
   "id": "22b207ee-a75d-4406-9b4e-7b37eeb364ee",
   "metadata": {},
   "outputs": [
    {
     "name": "stdin",
     "output_type": "stream",
     "text": [
      "Give me a number? Name\n"
     ]
    },
    {
     "name": "stdout",
     "output_type": "stream",
     "text": [
      "You entered Name\n"
     ]
    }
   ],
   "source": [
    "user_input = input('Give me a number?')\n",
    "print('You entered', user_input)"
   ]
  },
  {
   "cell_type": "markdown",
   "id": "7e098068-3b91-4255-8da8-8f82dd75d93b",
   "metadata": {},
   "source": [
    "The output:\n",
    "\n",
    "`You entered Name`"
   ]
  },
  {
   "cell_type": "markdown",
   "id": "6c6d3bac-674b-409f-9c08-edf0aa3d3313",
   "metadata": {},
   "source": [
    "Conclusion: `The code above doesn't select whether the user give appropriate input or not.`"
   ]
  },
  {
   "cell_type": "markdown",
   "id": "c907cc8e-1243-41ac-a74a-ea8d4b4ab8c0",
   "metadata": {},
   "source": [
    "**Task**"
   ]
  },
  {
   "cell_type": "code",
   "execution_count": 7,
   "id": "3d101dc3-a707-4a95-8e94-779060b2ddee",
   "metadata": {},
   "outputs": [
    {
     "name": "stdin",
     "output_type": "stream",
     "text": [
      "Enter the student's score: 0\n"
     ]
    },
    {
     "name": "stdout",
     "output_type": "stream",
     "text": [
      "The student's letter grade is: Fail\n"
     ]
    }
   ],
   "source": [
    "inp = input(\"Enter the student's score:\")\n",
    "\n",
    "try:\n",
    "    x = float(inp)\n",
    "    if x> 100:\n",
    "        print('Enter a number from 0-100!')\n",
    "    elif x< 0:\n",
    "        print('Enter a number from 0-100!')\n",
    "    elif x>= 70:\n",
    "        print(\"The student's letter grade is: A\")\n",
    "    elif x>= 50:\n",
    "        print(\"The student's letter grade is: B\")\n",
    "    elif x>= 35:\n",
    "        print(\"The student's letter grade is: C\")\n",
    "    elif x< 35:\n",
    "        print(\"The student's letter grade is: Fail\")\n",
    "\n",
    "except:\n",
    "    print('Error, put the appropriate number!')"
   ]
  }
 ],
 "metadata": {
  "kernelspec": {
   "display_name": "Python 3 (ipykernel)",
   "language": "python",
   "name": "python3"
  },
  "language_info": {
   "codemirror_mode": {
    "name": "ipython",
    "version": 3
   },
   "file_extension": ".py",
   "mimetype": "text/x-python",
   "name": "python",
   "nbconvert_exporter": "python",
   "pygments_lexer": "ipython3",
   "version": "3.11.5"
  },
  "toc": {
   "base_numbering": 1,
   "nav_menu": {},
   "number_sections": true,
   "sideBar": true,
   "skip_h1_title": false,
   "title_cell": "Table of Contents",
   "title_sidebar": "Contents",
   "toc_cell": false,
   "toc_position": {},
   "toc_section_display": true,
   "toc_window_display": false
  },
  "vscode": {
   "interpreter": {
    "hash": "31f2aee4e71d21fbe5cf8b01ff0e069b9275f58929596ceb00d14d90e3e16cd6"
   }
  }
 },
 "nbformat": 4,
 "nbformat_minor": 5
}
