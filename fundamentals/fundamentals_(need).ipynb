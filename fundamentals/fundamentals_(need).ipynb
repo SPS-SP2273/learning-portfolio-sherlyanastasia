{
 "cells": [
  {
   "attachments": {},
   "cell_type": "markdown",
   "id": "123456",
   "metadata": {},
   "source": [
    "<div style=\"text-align:left;font-size:2em\"><span style=\"font-weight:bolder;font-size:1.25em\">SP2273 | Learning Portfolio</span><br><br><span style=\"font-weight:bold;color:darkred\">Fundamentals (Need)</span></div>"
   ]
  },
  {
   "attachments": {},
   "cell_type": "markdown",
   "id": "c14d650a",
   "metadata": {},
   "source": [
    "# What to expect in this chapter"
   ]
  },
  {
   "attachments": {},
   "cell_type": "markdown",
   "id": "d8483342",
   "metadata": {},
   "source": [
    "# 1 Functions"
   ]
  },
  {
   "attachments": {},
   "cell_type": "markdown",
   "id": "7f8618ba",
   "metadata": {},
   "source": [
    "# 2 Remember"
   ]
  },
  {
   "attachments": {},
   "cell_type": "markdown",
   "id": "f5547029",
   "metadata": {},
   "source": [
    "# 3 Python is interpreted"
   ]
  },
  {
   "attachments": {},
   "cell_type": "markdown",
   "id": "0b256ac1",
   "metadata": {},
   "source": [
    "# 4 Python is sensitive."
   ]
  },
  {
   "attachments": {},
   "cell_type": "markdown",
   "id": "913f4718",
   "metadata": {},
   "source": [
    "# 5 Remember"
   ]
  },
  {
   "attachments": {},
   "cell_type": "markdown",
   "id": "67bd95cf",
   "metadata": {},
   "source": [
    "# 6 Comments"
   ]
  },
  {
   "attachments": {},
   "cell_type": "markdown",
   "id": "ebcc98f2",
   "metadata": {},
   "source": [
    "# 7 Remember"
   ]
  },
  {
   "attachments": {},
   "cell_type": "markdown",
   "id": "88a0caec",
   "metadata": {},
   "source": [
    "# 8 = is not the same as =="
   ]
  },
  {
   "attachments": {},
   "cell_type": "markdown",
   "id": "e3d4624f",
   "metadata": {},
   "source": [
    "# 9 Remember"
   ]
  },
  {
   "attachments": {},
   "cell_type": "markdown",
   "id": "a065ea26",
   "metadata": {},
   "source": [
    "# 10 Use if to make decisions"
   ]
  },
  {
   "attachments": {},
   "cell_type": "markdown",
   "id": "c94552ff",
   "metadata": {},
   "source": [
    "# 11 Remember"
   ]
  },
  {
   "attachments": {},
   "cell_type": "markdown",
   "id": "791c42ae",
   "metadata": {},
   "source": [
    "# 12 Indentations (spaces) are sooo IMPORTANT!"
   ]
  },
  {
   "attachments": {},
   "cell_type": "markdown",
   "id": "7ce29e59",
   "metadata": {},
   "source": [
    "# 13 Remember"
   ]
  },
  {
   "attachments": {},
   "cell_type": "markdown",
   "id": "34644122",
   "metadata": {},
   "source": [
    "# 14 ‘age’ is English, age is a variable."
   ]
  },
  {
   "attachments": {},
   "cell_type": "markdown",
   "id": "5bcf592b",
   "metadata": {},
   "source": [
    "# 15 Brackets"
   ]
  },
  {
   "attachments": {},
   "cell_type": "markdown",
   "id": "b19210ef",
   "metadata": {},
   "source": [
    "# 16 Giving Python superpowers with Packages"
   ]
  },
  {
   "attachments": {},
   "cell_type": "markdown",
   "id": "0f4f2f11",
   "metadata": {},
   "source": [
    "## 16.1 Some Context"
   ]
  },
  {
   "attachments": {},
   "cell_type": "markdown",
   "id": "97072f54",
   "metadata": {},
   "source": [
    "## 16.2 Importing the math package"
   ]
  },
  {
   "attachments": {},
   "cell_type": "markdown",
   "id": "c4927be8",
   "metadata": {},
   "source": [
    "## 16.3 Importing the numpy package"
   ]
  },
  {
   "attachments": {},
   "cell_type": "markdown",
   "id": "0239fe55",
   "metadata": {},
   "source": [
    "## 16.4 Why so many packages?"
   ]
  },
  {
   "attachments": {},
   "cell_type": "markdown",
   "id": "3a2e103b",
   "metadata": {},
   "source": [
    "# 17 Remember"
   ]
  },
  {
   "attachments": {},
   "cell_type": "markdown",
   "id": "4005ddcd",
   "metadata": {},
   "source": [
    "# 18 The dot (.)"
   ]
  },
  {
   "attachments": {},
   "cell_type": "markdown",
   "id": "ca129a3a",
   "metadata": {},
   "source": [
    "# 19 Remember"
   ]
  },
  {
   "attachments": {},
   "cell_type": "markdown",
   "id": "4ea80705",
   "metadata": {},
   "source": [
    "## Footnotes"
   ]
  }
 ],
 "metadata": {
  "kernelspec": {
   "display_name": "Python 3 (ipykernel)",
   "language": "python",
   "name": "python3"
  },
  "language_info": {
   "codemirror_mode": {
    "name": "ipython",
    "version": 3
   },
   "file_extension": ".py",
   "mimetype": "text/x-python",
   "name": "python",
   "nbconvert_exporter": "python",
   "pygments_lexer": "ipython3",
   "version": "3.11.5"
  },
  "toc": {
   "base_numbering": 1,
   "nav_menu": {},
   "number_sections": true,
   "sideBar": true,
   "skip_h1_title": false,
   "title_cell": "Table of Contents",
   "title_sidebar": "Contents",
   "toc_cell": false,
   "toc_position": {},
   "toc_section_display": true,
   "toc_window_display": false
  },
  "vscode": {
   "interpreter": {
    "hash": "31f2aee4e71d21fbe5cf8b01ff0e069b9275f58929596ceb00d14d90e3e16cd6"
   }
  }
 },
 "nbformat": 4,
 "nbformat_minor": 5
}
