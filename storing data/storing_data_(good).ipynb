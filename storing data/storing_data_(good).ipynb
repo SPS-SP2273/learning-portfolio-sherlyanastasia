{
 "cells": [
  {
   "attachments": {},
   "cell_type": "markdown",
   "id": "123456",
   "metadata": {},
   "source": [
    "<div style=\"text-align:left;font-size:2em\"><span style=\"font-weight:bolder;font-size:1.25em\">SP2273 | Learning Portfolio</span><br><br><span style=\"font-weight:bold;color:darkred\">Storing Data (Good)</span></div>"
   ]
  },
  {
   "attachments": {},
   "cell_type": "markdown",
   "id": "cb1e5e8b",
   "metadata": {},
   "source": [
    "# What to expect in this chapter"
   ]
  },
  {
   "cell_type": "markdown",
   "id": "0ca51a1b-0577-4efb-a997-21375efaac48",
   "metadata": {},
   "source": [
    "You should know how to store data using:\n",
    "- Lists\n",
    "- Arrays\n",
    "- Dictionaries"
   ]
  },
  {
   "attachments": {},
   "cell_type": "markdown",
   "id": "7226b12d",
   "metadata": {},
   "source": [
    "# 1 Subsetting: Indexing and Slicing"
   ]
  },
  {
   "cell_type": "markdown",
   "id": "8a7760fb-d1fd-4911-8708-5ffd468a877b",
   "metadata": {},
   "source": [
    "You will often need to select a subset (***subsetting***) of the data in a list (or array). One form of this is picking a *single element* called **indexing** (You already know how to do this from the previous chapter). Another option is to *select a range of elements*. This is called **slicing**."
   ]
  },
  {
   "cell_type": "markdown",
   "id": "64db84b9-75f0-4446-815c-e3ec6a249d04",
   "metadata": {},
   "source": [
    "So, in summary, what we mean when we say:"
   ]
  },
  {
   "cell_type": "markdown",
   "id": "8fa94bb4-7604-4c7f-acef-437079843981",
   "metadata": {},
   "source": [
    "- **Subsetting** -> means to 'select\n",
    "- **Indexing** -> refers to selecting one element.\n",
    "- **Slicing** -> refers to selecting a range of elements."
   ]
  },
  {
   "attachments": {},
   "cell_type": "markdown",
   "id": "e96d5564",
   "metadata": {},
   "source": [
    "## 1.1 Lists & Arrays in 1D | Subsetting & Indexing"
   ]
  },
  {
   "cell_type": "markdown",
   "id": "6f90109f-9ff2-4779-b7bf-d41dbe47daac",
   "metadata": {},
   "source": [
    "Since slicing gives us a range of elements, we must specify two indices to indicate where to start and end. The various syntaxes for these are shown in the table below."
   ]
  },
  {
   "cell_type": "markdown",
   "id": "3e74e1fb-6cc5-4e63-bf21-4f5450c63dce",
   "metadata": {},
   "source": [
    "The following applies to **both** lists and arrays."
   ]
  },
  {
   "cell_type": "code",
   "execution_count": 6,
   "id": "0d433d32-05fa-4d23-b548-cb4ff672d7f4",
   "metadata": {},
   "outputs": [],
   "source": [
    "import numpy as np\n",
    "py_list=[\"a1\", \"b2\", \"c3\", \"d4\", \"e5\",\n",
    "         \"f6\", \"g7\", \"h8\", \"i9\", \"j10\"]\n",
    "np_array = np.array(py_list)"
   ]
  },
  {
   "cell_type": "code",
   "execution_count": 4,
   "id": "96a74d2b-09e6-4c4c-b84e-b51e3510bad4",
   "metadata": {},
   "outputs": [
    {
     "name": "stdout",
     "output_type": "stream",
     "text": [
      "['a1', 'b2', 'c3', 'd4', 'e5', 'f6', 'g7', 'h8', 'i9', 'j10']\n"
     ]
    }
   ],
   "source": [
    "x = py_list\n",
    "print(x)"
   ]
  },
  {
   "cell_type": "code",
   "execution_count": 5,
   "id": "588de2fa-0575-48b5-9415-9a88ca5471f0",
   "metadata": {},
   "outputs": [
    {
     "name": "stdout",
     "output_type": "stream",
     "text": [
      "['a1' 'b2' 'c3' 'd4' 'e5' 'f6' 'g7' 'h8' 'i9' 'j10']\n"
     ]
    }
   ],
   "source": [
    "x = np_array\n",
    "print(x)"
   ]
  },
  {
   "cell_type": "markdown",
   "id": "c4812955-a02c-45aa-9ca0-9c38d7490565",
   "metadata": {},
   "source": [
    "| **Syntax**  | **Result**                      |                                   | **Note**                                 |\r\n",
    "|-------------|---------------------------------|-----------------------------------|------------------------------------------|\r\n",
    "| `x[0]`      | First element                   | `'a1'`                            |                                          |\r\n",
    "| `x[-1]`     | Last element                    | `'j10'`                           |                                          |\r\n",
    "| `x[0:3]`    | Index 0 to 2                    | `['a1','b2','c3']`                | Gives 3 - 0 = 3 elements                 |\r\n",
    "| `x[1:6]`    | Index 1 to 5                    | `['b2','c3','d4','e5','f6']`      | Gives 6 - 1 = 5 elements                 |\r\n",
    "| `x[1:6:2]`  | Index 1 to 5 in steps of 2      | `['b2','d4','f6']`                | Gives every other of  6 − 1 = 5 elements |\r\n",
    "| `x[5:]`     | Index 5 to the end              | `['f6','g7','h8','i9','j10']`     | Gives `len(x)` − 5 = 5 elements          |\r\n",
    "| `x[:5]`     | Index 0 to 5                    | `['a1','b2','c3','d4','e5']`      | Gives  5 − 0 = 5 elements                |\r\n",
    "| `x[5:2:-1]` | Index 5 to 3 (i.e., in reverse) | `['f6','e5','d4']`                | Gives  5 − 2 = 3 elements                |\r\n",
    "| `x[::-1]`   | Reverses the list               | `['j10','i9','h8',...,'b2','a1']` |                                          |         |"
   ]
  },
  {
   "cell_type": "markdown",
   "id": "317565ff-0f3a-4fac-8f7c-501e44945337",
   "metadata": {},
   "source": [
    "**Remember**\n",
    "\n",
    "Remember slicing in Python can be a bit tricky.\r\n",
    "If you slice with` [i:j`], the slice will start at` `i and end at` j-`1, giving you a total of` j-`i elements."
   ]
  },
  {
   "attachments": {},
   "cell_type": "markdown",
   "id": "6dc04b0f",
   "metadata": {},
   "source": [
    "## 1.2 Arrays only | Subsetting by masking"
   ]
  },
  {
   "cell_type": "markdown",
   "id": "eb580e70-b955-4d02-abce-d11ff419e7d2",
   "metadata": {},
   "source": [
    "One of the most powerful things you can do with NumPy arrays is subsetting by `masking`. \n",
    "\n",
    "To make sense of this, consider the following."
   ]
  },
  {
   "cell_type": "code",
   "execution_count": 7,
   "id": "66ad37ab-1602-4a38-b6be-b93de3b83e10",
   "metadata": {},
   "outputs": [
    {
     "data": {
      "text/plain": [
       "array([False, False, False,  True,  True,  True,  True,  True,  True,\n",
       "        True])"
      ]
     },
     "execution_count": 7,
     "metadata": {},
     "output_type": "execute_result"
    }
   ],
   "source": [
    "np_array = np.array([1, 2, 3, 4, 5, 6, 7, 8, 9, 10])\n",
    "my_mask = np_array > 3\n",
    "my_mask"
   ]
  },
  {
   "cell_type": "markdown",
   "id": "e15b6427-32a0-414b-8bed-867b5656247c",
   "metadata": {},
   "source": [
    "Output:\n",
    "\n",
    "`array([False, False, False,  True,  True,  True,  True,  True,  True,\r\n",
    "        True]`)"
   ]
  },
  {
   "cell_type": "markdown",
   "id": "b8c5047f-b13f-4a26-bc5c-6378b756f3a6",
   "metadata": {},
   "source": [
    "The answer to that question is in the form of a ‘Yes’/‘No’ or `True`/`False` format. We can use this `True`/`False` format to ask NumPy to show me **only those that are** **`True`** by"
   ]
  },
  {
   "cell_type": "code",
   "execution_count": 8,
   "id": "647efb1b-bd4b-437c-ae74-e7d76cec19c8",
   "metadata": {},
   "outputs": [
    {
     "data": {
      "text/plain": [
       "array([ 4,  5,  6,  7,  8,  9, 10])"
      ]
     },
     "execution_count": 8,
     "metadata": {},
     "output_type": "execute_result"
    }
   ],
   "source": [
    "np_array[my_mask]"
   ]
  },
  {
   "cell_type": "markdown",
   "id": "61dab1e7-c88e-4b01-b188-c823bfc2c30a",
   "metadata": {},
   "source": [
    "This is why the term ‘masking’ is used. The `True`/`False` answer acts like a mask allowing only the `True` subset to be seen."
   ]
  },
  {
   "cell_type": "markdown",
   "id": "0fdafdc2-1ee6-4f97-8585-e00474818ceb",
   "metadata": {},
   "source": [
    "**Remember**\n",
    "\n",
    "Remember that subsetting by masking **only** works with NumPy arrays."
   ]
  },
  {
   "cell_type": "markdown",
   "id": "e717abe6-1492-47fe-8053-79751f2460e7",
   "metadata": {},
   "source": [
    "Instead of creating another variable, we can also do all of this succinctly as:"
   ]
  },
  {
   "cell_type": "code",
   "execution_count": 9,
   "id": "a128e0e9-7429-41a5-920e-9217eee44720",
   "metadata": {},
   "outputs": [
    {
     "data": {
      "text/plain": [
       "array([ 4,  5,  6,  7,  8,  9, 10])"
      ]
     },
     "execution_count": 9,
     "metadata": {},
     "output_type": "execute_result"
    }
   ],
   "source": [
    "np_array[np_array > 3]"
   ]
  },
  {
   "cell_type": "markdown",
   "id": "f0107bc3-30cd-402f-9937-52072c43082b",
   "metadata": {},
   "source": [
    "Example 1"
   ]
  },
  {
   "cell_type": "code",
   "execution_count": 10,
   "id": "0f4d92a3-1ca7-462f-99ca-f9cec7d1d966",
   "metadata": {},
   "outputs": [
    {
     "data": {
      "text/plain": [
       "array([1, 2, 3])"
      ]
     },
     "execution_count": 10,
     "metadata": {},
     "output_type": "execute_result"
    }
   ],
   "source": [
    "np_array[~(np_array > 3)]                 # '~' means 'NOT'"
   ]
  },
  {
   "cell_type": "markdown",
   "id": "0369d2d5-5936-4e45-ab26-d00dc2d94798",
   "metadata": {},
   "source": [
    "We can **invert** our mask by using the `~`.\n",
    "\r",
    "`\n",
    "`~ is called the* Bitwise No*t operator."
   ]
  },
  {
   "cell_type": "markdown",
   "id": "eb8cdd4f-40aa-4d3d-b80f-c42ff3beae65",
   "metadata": {},
   "source": [
    "Example 2"
   ]
  },
  {
   "cell_type": "code",
   "execution_count": 11,
   "id": "f7151a15-59dc-48e8-a830-9e76c8eb2b12",
   "metadata": {},
   "outputs": [
    {
     "data": {
      "text/plain": [
       "array([4, 5, 6, 7])"
      ]
     },
     "execution_count": 11,
     "metadata": {},
     "output_type": "execute_result"
    }
   ],
   "source": [
    "np_array[(np_array > 3) & (np_array < 8)]     # '&' means 'AND'"
   ]
  },
  {
   "cell_type": "markdown",
   "id": "33a9c51e-db72-44fa-842b-8ee0aaea0693",
   "metadata": {},
   "source": [
    "We can combine one mask **AND** another mask.\n",
    "\r\n",
    " `(AND` will show something only if both masks are true.)"
   ]
  },
  {
   "cell_type": "markdown",
   "id": "0ad50d1b-b9a8-4dcb-9598-7d0ec0a9342f",
   "metadata": {},
   "source": [
    "Example 3"
   ]
  },
  {
   "cell_type": "code",
   "execution_count": null,
   "id": "174b9744-1537-49f8-aaee-4252922fe145",
   "metadata": {},
   "outputs": [],
   "source": [
    "np_array[(np_array < 3) | (np_array > 8)]     # '|' means 'OR'"
   ]
  },
  {
   "cell_type": "markdown",
   "id": "75e154e1-05d8-4391-bc70-d0c24b1cbc08",
   "metadata": {},
   "source": [
    "We can combine one mask **OR** another mask.\r\n",
    "`(O`R will show something if either mask is true.)"
   ]
  },
  {
   "cell_type": "markdown",
   "id": "ad9cfbf3-8df7-4267-9d94-5532b5844d9c",
   "metadata": {},
   "source": [
    "**Remember**\n",
    "\n",
    "- Always use the Bitwise NOT(`~`), Bitwise OR(`|`) and Bitwise AND(`&`) when combining masks with NumPy.\n",
    "- Always use brackets to clarify what you are asking the mask to do."
   ]
  },
  {
   "attachments": {},
   "cell_type": "markdown",
   "id": "283caf72",
   "metadata": {},
   "source": [
    "## 1.3 Lists & Arrays in 2D | Indexing & Slicing"
   ]
  },
  {
   "cell_type": "markdown",
   "id": "217c524c-744a-4b17-b32a-26a9ba151ce4",
   "metadata": {},
   "source": [
    "The differences between lists and arrays become even more apparent with higher dimensional lists and arrays. Especially when you try indexing and slicing in higher dimensions.\n",
    "\n",
    "Let’s consider the following 2D list."
   ]
  },
  {
   "cell_type": "code",
   "execution_count": 13,
   "id": "73399df4-a365-44c5-8efc-ce8c298e4360",
   "metadata": {},
   "outputs": [],
   "source": [
    "py_list_2d = [[1, \"A\"], [2, \"B\"], [3, \"C\"], [4, \"D\"],\n",
    "              [5, \"E\"], [6, \"F\"], [7, \"G\"], [8, \"H\"],\n",
    "              [9, \"I\"], [10, \"J\"]]\n",
    "\n",
    "np_array_2d = np.array(py_list_2d)"
   ]
  },
  {
   "cell_type": "markdown",
   "id": "0dbc14be-bca0-4b4f-b82f-69bab9cedc95",
   "metadata": {},
   "source": [
    "Example 1\n",
    "\n",
    "Question: What is at position 4 (index 3)?"
   ]
  },
  {
   "cell_type": "code",
   "execution_count": 15,
   "id": "c3dc9717-4c24-4131-9cf2-99a8643d8d97",
   "metadata": {},
   "outputs": [
    {
     "data": {
      "text/plain": [
       "[4, 'D']"
      ]
     },
     "execution_count": 15,
     "metadata": {},
     "output_type": "execute_result"
    }
   ],
   "source": [
    "py_list_2d[3]"
   ]
  },
  {
   "cell_type": "code",
   "execution_count": 16,
   "id": "b62bd9da-5be1-4236-8a50-f202b77b157a",
   "metadata": {},
   "outputs": [
    {
     "data": {
      "text/plain": [
       "array(['4', 'D'], dtype='<U11')"
      ]
     },
     "execution_count": 16,
     "metadata": {},
     "output_type": "execute_result"
    }
   ],
   "source": [
    "np_array_2d[3]"
   ]
  },
  {
   "cell_type": "markdown",
   "id": "be1701a6-50af-4651-9d2f-7cb05beb3420",
   "metadata": {},
   "source": [
    "Example 2\n",
    "\n",
    "Question: What is the FIRST element at position 4 (index 3)"
   ]
  },
  {
   "cell_type": "code",
   "execution_count": 18,
   "id": "d26b5863-f285-43b6-9802-a137926da158",
   "metadata": {},
   "outputs": [
    {
     "data": {
      "text/plain": [
       "4"
      ]
     },
     "execution_count": 18,
     "metadata": {},
     "output_type": "execute_result"
    }
   ],
   "source": [
    "py_list_2d[3][0]"
   ]
  },
  {
   "cell_type": "code",
   "execution_count": 17,
   "id": "390070d7-7efd-423d-985d-0378e40f0f0c",
   "metadata": {},
   "outputs": [
    {
     "data": {
      "text/plain": [
       "'4'"
      ]
     },
     "execution_count": 17,
     "metadata": {},
     "output_type": "execute_result"
    }
   ],
   "source": [
    "np_array_2d[3, 0]"
   ]
  },
  {
   "cell_type": "markdown",
   "id": "4ddb0161-5901-4abe-9576-934b64c3c1d2",
   "metadata": {},
   "source": [
    "Notice how the syntax for arrays uses just a single pair of square brackets (`[ ]`)."
   ]
  },
  {
   "cell_type": "markdown",
   "id": "92868d25-2415-46f1-b823-0ffe53029c4f",
   "metadata": {},
   "source": [
    "Example 3\n",
    "\n",
    "Question: What are the first three elements?"
   ]
  },
  {
   "cell_type": "code",
   "execution_count": null,
   "id": "4a649aee-f0d2-484f-844f-ff91707241f7",
   "metadata": {},
   "outputs": [],
   "source": [
    "py_list_2d[:3]"
   ]
  },
  {
   "cell_type": "code",
   "execution_count": null,
   "id": "b3913924-cfbd-4de5-ba7d-6e381b78a122",
   "metadata": {},
   "outputs": [],
   "source": [
    "np_array_2d[:3]"
   ]
  },
  {
   "cell_type": "markdown",
   "id": "b86b4ef5-4c61-46b8-9e84-fdd4f4685c05",
   "metadata": {},
   "source": [
    "Example 4"
   ]
  },
  {
   "cell_type": "code",
   "execution_count": 19,
   "id": "b9fd0448-902d-4769-9efa-5c214df6b554",
   "metadata": {},
   "outputs": [
    {
     "data": {
      "text/plain": [
       "[1, 'A']"
      ]
     },
     "execution_count": 19,
     "metadata": {},
     "output_type": "execute_result"
    }
   ],
   "source": [
    "py_list_2d[:3][0]"
   ]
  },
  {
   "cell_type": "code",
   "execution_count": 20,
   "id": "998932ec-f811-497b-9505-b6d7dfd31c30",
   "metadata": {},
   "outputs": [
    {
     "data": {
      "text/plain": [
       "array(['1', '2', '3'], dtype='<U11')"
      ]
     },
     "execution_count": 20,
     "metadata": {},
     "output_type": "execute_result"
    }
   ],
   "source": [
    "np_array_2d[:3, 0]"
   ]
  },
  {
   "cell_type": "markdown",
   "id": "eaad4a69-5e9a-48c3-95a5-da1112ecdd06",
   "metadata": {},
   "source": [
    "You might think that this will yield the first elements (i.e., `[1, 2, 3]`) of all the sub-lists up to index 2.\n",
    "\n",
    "No! Instead, it gives the first of the list you get from `py_list_2d[:3]`.\r",
    ")\n",
    "\n",
    "Notice how differently NumPy arrays work."
   ]
  },
  {
   "cell_type": "markdown",
   "id": "0d465305-d00d-48d0-866d-4d506caa727f",
   "metadata": {},
   "source": [
    "Example 5"
   ]
  },
  {
   "cell_type": "code",
   "execution_count": null,
   "id": "780bae4f-6ebf-4dfa-86ad-ec234f870c6e",
   "metadata": {},
   "outputs": [],
   "source": [
    "py_list_2d[3:6][0]"
   ]
  },
  {
   "cell_type": "code",
   "execution_count": null,
   "id": "3b9f75c8-1c63-4d35-9509-b232ce2ce4dc",
   "metadata": {},
   "outputs": [],
   "source": [
    "np_array_2d[3:6, 0]"
   ]
  },
  {
   "cell_type": "code",
   "execution_count": null,
   "id": "9c99ff41-043d-4376-8aa0-b0370deff26d",
   "metadata": {},
   "outputs": [],
   "source": [
    "np_array_2d[:, 0]"
   ]
  },
  {
   "cell_type": "markdown",
   "id": "3b9dd965-ffdf-4146-b16d-9bd90ae6ae46",
   "metadata": {},
   "source": [
    "If you want ‘everything’ you just use `:`."
   ]
  },
  {
   "attachments": {},
   "cell_type": "markdown",
   "id": "155b2aa6",
   "metadata": {},
   "source": [
    "## 1.4 Growing lists"
   ]
  },
  {
   "cell_type": "markdown",
   "id": "03c63cf5-a023-4da2-961a-d8caa830a581",
   "metadata": {},
   "source": [
    "NumPy arrays are invaluable, and their slicing syntax (e.g. `[:3,0]`) is more intuitive than lists. So, why do we even bother with lists? One advantage of lists is their ease and efficiency in growing. NumPy arrays are fantastic for fast math operations, **provided you do not change their size**<sup>1</sup>. So, in this section, we only discuss about 'how to grow a list'."
   ]
  },
  {
   "cell_type": "markdown",
   "id": "aa00763d-cd78-4d11-a412-0c3b4d1e12aa",
   "metadata": {},
   "source": [
    "Example 1"
   ]
  },
  {
   "cell_type": "markdown",
   "id": "362b49e8-befd-4ac6-ae31-0b76bf232d47",
   "metadata": {},
   "source": [
    "Creating a larger list from a smaller one."
   ]
  },
  {
   "cell_type": "code",
   "execution_count": 23,
   "id": "4086efed-dd9e-4bc9-8294-610e8bdd7742",
   "metadata": {},
   "outputs": [
    {
     "data": {
      "text/plain": [
       "[1, 2, 1, 2, 1, 2, 1, 2, 1, 2]"
      ]
     },
     "execution_count": 23,
     "metadata": {},
     "output_type": "execute_result"
    }
   ],
   "source": [
    "x=[1, 2]*5\n",
    "x"
   ]
  },
  {
   "cell_type": "markdown",
   "id": "5e6dca14-9cc6-4474-a523-beb0bfcc1e45",
   "metadata": {},
   "source": [
    "Example 2"
   ]
  },
  {
   "cell_type": "markdown",
   "id": "1029983e-3888-493a-8aa6-81437a2010c8",
   "metadata": {},
   "source": [
    "Three ways to grow a list by appending one element at a time."
   ]
  },
  {
   "cell_type": "code",
   "execution_count": 27,
   "id": "dd94f7fa-acd3-4fff-9d0a-dd9b802568d9",
   "metadata": {},
   "outputs": [
    {
     "data": {
      "text/plain": [
       "[1, 2, 3, 4]"
      ]
     },
     "execution_count": 27,
     "metadata": {},
     "output_type": "execute_result"
    }
   ],
   "source": [
    "x=[1]\n",
    "x= x + [2]\n",
    "x= x + [3]\n",
    "x= x + [4]\n",
    "x"
   ]
  },
  {
   "cell_type": "code",
   "execution_count": 25,
   "id": "f1b6f817-5ce0-4a8c-8ea1-61c15ac949c4",
   "metadata": {},
   "outputs": [
    {
     "data": {
      "text/plain": [
       "[1, 2, 3, 4]"
      ]
     },
     "execution_count": 25,
     "metadata": {},
     "output_type": "execute_result"
    }
   ],
   "source": [
    "x=[1]\n",
    "x+= [2]\n",
    "x+= [3]\n",
    "x+= [4]\n",
    "x"
   ]
  },
  {
   "cell_type": "code",
   "execution_count": 26,
   "id": "009014ab-7ec4-481c-b9d9-4725823e8653",
   "metadata": {},
   "outputs": [
    {
     "data": {
      "text/plain": [
       "[1, 2, 3, 4]"
      ]
     },
     "execution_count": 26,
     "metadata": {},
     "output_type": "execute_result"
    }
   ],
   "source": [
    "x=[1]\n",
    "x.append(2)\n",
    "x.append(3)\n",
    "x.append(4)\n",
    "x"
   ]
  },
  {
   "cell_type": "markdown",
   "id": "a1fb0e91-fcce-4084-aec9-86cd48d9aab8",
   "metadata": {},
   "source": [
    "If you are wondering, there **are** differences between these three versions. Their execution speeds are different; the version with `append()` runs about 1.5 times faster than the rest!"
   ]
  },
  {
   "cell_type": "markdown",
   "id": "1c3aeef5-00b1-451e-83bf-e31048bce7bd",
   "metadata": {},
   "source": [
    "Example 3"
   ]
  },
  {
   "cell_type": "markdown",
   "id": "b7f71288-a9f4-48c7-a276-14f2433eba7c",
   "metadata": {},
   "source": [
    "Here are three ways of incorporating multiple elements.\n",
    "\r\n",
    "Notice the difference between the effects of` extend(`) and` append(`)."
   ]
  },
  {
   "cell_type": "code",
   "execution_count": 28,
   "id": "81ba5dde-1714-4593-b596-125b7a8bfb93",
   "metadata": {},
   "outputs": [
    {
     "data": {
      "text/plain": [
       "[1, 2, 3, 4, 5, 6]"
      ]
     },
     "execution_count": 28,
     "metadata": {},
     "output_type": "execute_result"
    }
   ],
   "source": [
    "x = [1, 2, 3]\n",
    "x += [4, 5, 6]\n",
    "x"
   ]
  },
  {
   "cell_type": "code",
   "execution_count": 29,
   "id": "8ac4ce08-e3df-45fe-8396-52d1cf9d5f3e",
   "metadata": {},
   "outputs": [
    {
     "data": {
      "text/plain": [
       "[1, 2, 3, 4, 5, 6]"
      ]
     },
     "execution_count": 29,
     "metadata": {},
     "output_type": "execute_result"
    }
   ],
   "source": [
    "x=[1, 2, 3]\n",
    "x.extend([4, 5, 6])\n",
    "x"
   ]
  },
  {
   "cell_type": "code",
   "execution_count": 30,
   "id": "918ef8c6-33fc-49cb-ab11-75cb0bf984af",
   "metadata": {},
   "outputs": [
    {
     "data": {
      "text/plain": [
       "[1, 2, 3, [4, 5, 6]]"
      ]
     },
     "execution_count": 30,
     "metadata": {},
     "output_type": "execute_result"
    }
   ],
   "source": [
    "x=[1, 2, 3]\n",
    "x.append([4, 5, 6])\n",
    "x"
   ]
  },
  {
   "cell_type": "markdown",
   "id": "8d542678-98f7-4c74-b414-c6c32db5b9da",
   "metadata": {},
   "source": [
    "`append()` will add an element specified to the end of the list, while `extend()` will add the elements given to the end of the list.\n",
    "\n",
    "In other words, the `append()` function can only add only a single element, while the `extend()` function can add multiple elements."
   ]
  },
  {
   "cell_type": "markdown",
   "id": "911e78a0-0bc4-46fc-a830-8b06a9ac4c10",
   "metadata": {},
   "source": [
    "# ***Additional Information***"
   ]
  },
  {
   "cell_type": "markdown",
   "id": "26c002b6-3a18-4a78-8bab-d2648d94688a",
   "metadata": {},
   "source": [
    "Elements can also be added to the start or middle of the list using the method: `insert()`. Formula of this method is : `insert(position, element)`.\n",
    "\n",
    "For example:"
   ]
  },
  {
   "cell_type": "code",
   "execution_count": 37,
   "id": "1cfc84a3-d733-4f7d-964c-7026a680b07a",
   "metadata": {},
   "outputs": [
    {
     "name": "stdout",
     "output_type": "stream",
     "text": [
      "['David', 'Ryan', 'You', 'Fauzan', 'Vincent']\n"
     ]
    }
   ],
   "source": [
    "name = [\"David\", \"Ryan\", \"Fauzan\", \"Vincent\"]\n",
    "name.insert(2, \"You\")\n",
    "print(name)"
   ]
  },
  {
   "cell_type": "markdown",
   "id": "a34454cf-2ac0-4d5c-ba29-00b724ed77d4",
   "metadata": {},
   "source": [
    "Output: `['David', 'Ryan', 'You', 'Fauzan', 'Vincent']`"
   ]
  },
  {
   "cell_type": "markdown",
   "id": "97f7bdef-4684-4aaf-ba02-1c10687865fa",
   "metadata": {},
   "source": [
    "*Removing Elements*\n",
    "\n",
    "To remove unwanted element in the list, we can use the function `remove()`.\n",
    "\n",
    "For example:"
   ]
  },
  {
   "cell_type": "code",
   "execution_count": 40,
   "id": "a16e5249-84ae-4efa-ac12-af6d7ae4edd3",
   "metadata": {},
   "outputs": [
    {
     "name": "stdout",
     "output_type": "stream",
     "text": [
      "['David', 'Ryan', 'Fauzan']\n"
     ]
    }
   ],
   "source": [
    "friends = [\"David\", \"Ryan\", \"Fauzan\", \"Vincent\"]\n",
    "friends.remove(\"Vincent\")\n",
    "print(friends)"
   ]
  },
  {
   "cell_type": "markdown",
   "id": "74d48d47-fd63-43c4-97c9-d4c0d524f4d1",
   "metadata": {},
   "source": [
    "Output: `[\"David\", \"Ryan\", \"Fauzan\"]`"
   ]
  },
  {
   "cell_type": "markdown",
   "id": "b834369d-caee-446d-9a4e-402ae212e485",
   "metadata": {},
   "source": [
    "*Changing Elements*\n",
    "\n",
    "There comes a time when we want to change an element. It is possible to remove it and insert a new one using previous methods but there is a better and faster way. It is possible to overwrite directly just like variable like this:"
   ]
  },
  {
   "cell_type": "code",
   "execution_count": null,
   "id": "384c7d38-4298-4851-8014-e9698cdac78f",
   "metadata": {},
   "outputs": [],
   "source": [
    "friends = [\"David\", \"Ryan\", \"Fauzan\", \"Vincent\"]\n",
    "friends[1] = \"You\"\n",
    "print(friends)"
   ]
  },
  {
   "cell_type": "markdown",
   "id": "c9710d73-1c86-4ae7-87e9-a4db5a73a4f4",
   "metadata": {},
   "source": [
    "Output: `[\"David\", \"You\", \"Fauzan\", \"Vincent\"]`"
   ]
  },
  {
   "attachments": {},
   "cell_type": "markdown",
   "id": "c697e9b5",
   "metadata": {},
   "source": [
    "# Some loose ends"
   ]
  },
  {
   "attachments": {},
   "cell_type": "markdown",
   "id": "142321a2",
   "metadata": {},
   "source": [
    "## 1.5 Tuples"
   ]
  },
  {
   "attachments": {},
   "cell_type": "markdown",
   "id": "7a740ad4-5251-4368-83a2-12fed2237ca0",
   "metadata": {},
   "source": [
    "*Tuples are another kind of sequence that functions much like a list - they have elements which are indexed starting at 0.\n",
    "\n",
    "*TuTuples are similar to lists, except they us`e (` ) and cannot be changed after creation (i.e., they ar**e immutab**le)."
   ]
  },
  {
   "cell_type": "code",
   "execution_count": null,
   "id": "2d610de7-5f2b-4746-b204-9b31f7d21921",
   "metadata": {},
   "outputs": [],
   "source": [
    "a=(1, 2, 3)     # Define tuple"
   ]
  },
  {
   "cell_type": "markdown",
   "id": "c24927f4-a6c8-4602-a084-f1bc121a5c46",
   "metadata": {},
   "source": [
    "We can access its data…"
   ]
  },
  {
   "cell_type": "code",
   "execution_count": null,
   "id": "ac3d13b6-0509-4d35-8c57-eac33c39e416",
   "metadata": {},
   "outputs": [],
   "source": [
    "print(a[0])    # Access data"
   ]
  },
  {
   "cell_type": "markdown",
   "id": "38f80a5f-a523-48db-804d-15193523b5a5",
   "metadata": {},
   "source": [
    "But, we cannot change the data."
   ]
  },
  {
   "cell_type": "code",
   "execution_count": null,
   "id": "94b9a80d-8341-40ba-8292-e58dc6a31bf6",
   "metadata": {},
   "outputs": [],
   "source": [
    "# The following will NOT work\n",
    "a[0]=-1\n",
    "a[0]+= [10]"
   ]
  },
  {
   "attachments": {},
   "cell_type": "markdown",
   "id": "564c1425-e360-4b5f-a5d1-8215ad78198a",
   "metadata": {},
   "source": [
    "Tuples are more efficient:\n",
    "\n",
    "- Since Python does not have to build tuple structures to be modifiable, they are simpler and more efficient in terms of memory use and performance than lists\n",
    "- So in our program when we are making “temporary variables” we prefer tuples over lists\r\n"
   ]
  },
  {
   "attachments": {},
   "cell_type": "markdown",
   "id": "1c5a4c14",
   "metadata": {},
   "source": [
    "## 1.6 Be VERY careful when copying"
   ]
  },
  {
   "cell_type": "markdown",
   "id": "44fa04c1-695d-405c-94da-28db30ed3e95",
   "metadata": {},
   "source": [
    "Variables in Python have subtle features that might make your life miserable if you are not careful. You should be particularly mindful when making copies of lists and arrays."
   ]
  },
  {
   "cell_type": "markdown",
   "id": "0a16bf69-2260-49f8-adca-49f9049379f9",
   "metadata": {},
   "source": [
    "For example, if you want to copy a list, you might be tempted to do the following:"
   ]
  },
  {
   "cell_type": "code",
   "execution_count": 33,
   "id": "c69a300d-4605-4215-b844-3cb4744559ae",
   "metadata": {},
   "outputs": [],
   "source": [
    "x=[1, 2, 3]\n",
    "y=x           # DON'T do this!\n",
    "z=x           # DON'T do this!"
   ]
  },
  {
   "cell_type": "markdown",
   "id": "087ed869-50da-483a-84d6-77aa4788dd2e",
   "metadata": {},
   "source": [
    "The correct way to do this is as follows:"
   ]
  },
  {
   "cell_type": "code",
   "execution_count": 35,
   "id": "554ec7c6-7c64-4067-9be1-cd820bed560e",
   "metadata": {},
   "outputs": [],
   "source": [
    "x=[1, 2, 3]\n",
    "y=x.copy()\n",
    "z=x.copy()"
   ]
  },
  {
   "cell_type": "markdown",
   "id": "d8aa7859-c5be-4c38-bfe9-637a90f5b2b6",
   "metadata": {},
   "source": [
    "**Note:** At this stage, you only have to know that you must use `copy()` to be safe; you **do not** have to understand why. However, if you want to, please refer to the discussion on [mutable and immutable objects](https://sps.nus.edu.sg/sp2273/docs/python_basics/03_storing-data/2_storing-data_good.html#sec-python-variables)."
   ]
  },
  {
   "attachments": {},
   "cell_type": "markdown",
   "id": "f9312842",
   "metadata": {},
   "source": [
    "# Exercises & Self-Assessment"
   ]
  },
  {
   "cell_type": "code",
   "execution_count": null,
   "id": "5bfc9a06",
   "metadata": {},
   "outputs": [],
   "source": [
    "x = ('Glenn', 'Sally', 'Joseph')\n",
    "print(x[2])\n",
    "#The output will be : Joseph\n",
    "\n",
    "y = ( 1, 9, 2 )\n",
    "print(y)\n",
    "#The output will be: (1, 9, 2)\n"
   ]
  },
  {
   "cell_type": "code",
   "execution_count": 44,
   "id": "55a522d5-7153-4fc9-87e3-80b94d3e6339",
   "metadata": {},
   "outputs": [
    {
     "name": "stdout",
     "output_type": "stream",
     "text": [
      "['David', 'Ryan', 'Fauzan', 'Vincent', 'You']\n",
      "['David', 'Ryan', 'Fauzan', 'Vincent', 'You', 'Me']\n",
      "['David', 'Ryan', 'Fauzan', 'Vincent', ['You', 'Me']]\n",
      "5\n"
     ]
    }
   ],
   "source": [
    "friends = [\"David\", \"Ryan\", \"Fauzan\", \"Vincent\"]\n",
    "friends.append(\"You\")\n",
    "print(friends)\n",
    "\n",
    "# Output: ['David', 'Ryan', 'Fauzan', 'Vincent', 'You']\n",
    "\n",
    "friends = [\"David\", \"Ryan\", \"Fauzan\", \"Vincent\"]\n",
    "friends.extend([\"You\", \"Me\"])\n",
    "print(friends)\n",
    "\n",
    "# Output: ['David', 'Ryan', 'Fauzan', 'Vincent', 'You', 'Me']\n",
    "\n",
    "friends = [\"David\", \"Ryan\", \"Fauzan\", \"Vincent\"]\n",
    "friends.append([\"You\", \"Me\"])\n",
    "print(friends)\n",
    "print(len(friends))\n",
    "\n",
    "#Output: ['David', 'Ryan', 'Fauzan', 'Vincent', ['You', 'Me']]. \n",
    "#In this case, \"['You', 'Me']\" will be regarded as ONE component. You can check by checking the length of the variable \"friends\"."
   ]
  },
  {
   "attachments": {},
   "cell_type": "markdown",
   "id": "6bf0ff8c",
   "metadata": {},
   "source": [
    "## Footnotes"
   ]
  },
  {
   "cell_type": "markdown",
   "id": "36e6a1ef-c202-4e9e-8ddb-d1e32887f517",
   "metadata": {},
   "source": [
    "1. The gains in speed are due to NumPy doing things to all the elements in the array in one go. For this, the data needs to be stored in a specific order in memory. Adding or removing elements hinders this optimization. When you change the size of a NumPy array, NumPy destroys the existing array and creates a new one, making it extremely inefficient."
   ]
  }
 ],
 "metadata": {
  "kernelspec": {
   "display_name": "Python 3 (ipykernel)",
   "language": "python",
   "name": "python3"
  },
  "language_info": {
   "codemirror_mode": {
    "name": "ipython",
    "version": 3
   },
   "file_extension": ".py",
   "mimetype": "text/x-python",
   "name": "python",
   "nbconvert_exporter": "python",
   "pygments_lexer": "ipython3",
   "version": "3.11.5"
  },
  "toc": {
   "base_numbering": 1,
   "nav_menu": {},
   "number_sections": true,
   "sideBar": true,
   "skip_h1_title": false,
   "title_cell": "Table of Contents",
   "title_sidebar": "Contents",
   "toc_cell": false,
   "toc_position": {},
   "toc_section_display": true,
   "toc_window_display": false
  },
  "vscode": {
   "interpreter": {
    "hash": "31f2aee4e71d21fbe5cf8b01ff0e069b9275f58929596ceb00d14d90e3e16cd6"
   }
  }
 },
 "nbformat": 4,
 "nbformat_minor": 5
}
