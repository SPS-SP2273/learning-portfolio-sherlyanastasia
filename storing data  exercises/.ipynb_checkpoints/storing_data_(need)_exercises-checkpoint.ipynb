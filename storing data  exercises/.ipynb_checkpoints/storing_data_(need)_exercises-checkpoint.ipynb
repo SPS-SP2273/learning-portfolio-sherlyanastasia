{
 "cells": [
  {
   "attachments": {},
   "cell_type": "markdown",
   "id": "123456",
   "metadata": {},
   "source": [
    "<div style=\"text-align:left;font-size:2em\"><span style=\"font-weight:bolder;font-size:1.25em\">SP2273 | Learning Portfolio</span><br><br><span style=\"font-weight:bold;color:darkred\">Storing Data (Need) Exercises</span></div>"
   ]
  },
  {
   "cell_type": "markdown",
   "id": "8cf4955d-a2e3-4808-a864-e65dba6cf931",
   "metadata": {},
   "source": [
    "**Exercise 1**"
   ]
  },
  {
   "attachments": {},
   "cell_type": "markdown",
   "id": "18fce5d2-349d-48ee-8dbf-3320cbc7f4d1",
   "metadata": {},
   "source": [
    "1. Two similarities between lists and arrays.\r",
    "2. \n",
    "Two differences between lists and arrays.3. \r\n",
    "What is a dictionar\n",
    "\n",
    "Answer:\n",
    "\n",
    "1. - They use the same rules of indexing\n",
    "   - Unlike dictionary which can store two types of data (for example: a person name and their natinality), lists and arrays both require you to store data in a two seperate bodies of data and you must pay attention to the order of the data.\n",
    "2. - Arrays only store data in one type whereas lists can store multiple types of data\n",
    "   - Lists won't work if you square it, arrays will square every of its elements by the number you give.\n",
    "3. Dictionary is a linear collection of key-value pairs, which can be lookup by calling its \"tag\" or \"key\".\n",
    "y?"
   ]
  },
  {
   "cell_type": "markdown",
   "id": "6e9fea08-ec6d-480e-bfb3-24c18fce41af",
   "metadata": {},
   "source": [
    "**Exercise 2**"
   ]
  },
  {
   "cell_type": "code",
   "execution_count": 1,
   "id": "e186506d-9744-43f3-8d31-b79debd40c52",
   "metadata": {},
   "outputs": [
    {
     "name": "stdout",
     "output_type": "stream",
     "text": [
      "a1\n",
      "c3\n",
      "e5\n",
      "g7\n",
      "i9\n"
     ]
    }
   ],
   "source": [
    "py_list = [\"a1\", \"b2\", \"c3\", \"d4\", \"e5\", \"f6\", \"g7\", \"h8\", \"i9\", \"j10\"]\n",
    "print(py_list[0])                    # Prints 'a1'\n",
    "print(py_list[2])                    # Prints 'c3'\n",
    "print(py_list[4])                    # Prints 'e5'\n",
    "print(py_list[6])                    # Prints 'g7'\n",
    "print(py_list[8])                    # Prints 'i9'"
   ]
  },
  {
   "cell_type": "markdown",
   "id": "6a55de26-b5e7-4c8f-8cb1-36059b9f5429",
   "metadata": {},
   "source": [
    "**Exercise 3**"
   ]
  },
  {
   "cell_type": "code",
   "execution_count": 2,
   "id": "121bd304-8f85-4282-84ed-13613459dacb",
   "metadata": {},
   "outputs": [],
   "source": [
    "    elements = ['Hydrogen',\n",
    "            'Helium', 'Lithium',\n",
    "            'Beryllium', 'Boron', 'Carbon',\n",
    "            'Nitrogen', 'Oxygen',\n",
    "            'Fluorine',\n",
    "            'Neon']       "
   ]
  },
  {
   "cell_type": "markdown",
   "id": "efc68417-8fa2-40bd-a651-8d2c0a2a7554",
   "metadata": {},
   "source": [
    "Answer to no.1"
   ]
  },
  {
   "cell_type": "code",
   "execution_count": 3,
   "id": "9687fa7f-7a62-4bfd-83f4-525b9abfce8b",
   "metadata": {},
   "outputs": [
    {
     "name": "stdout",
     "output_type": "stream",
     "text": [
      "Boron\n"
     ]
    }
   ],
   "source": [
    "print(elements[4])"
   ]
  },
  {
   "cell_type": "markdown",
   "id": "f95dfdc7-b6ef-44dd-8efa-4c84929d153f",
   "metadata": {},
   "source": [
    "Answer to no.2"
   ]
  },
  {
   "cell_type": "code",
   "execution_count": 4,
   "id": "fcda4918-1238-4d3c-b227-919a1a582518",
   "metadata": {},
   "outputs": [
    {
     "name": "stdout",
     "output_type": "stream",
     "text": [
      "Boron\n"
     ]
    }
   ],
   "source": [
    "print(elements[-6])"
   ]
  },
  {
   "cell_type": "markdown",
   "id": "bd4303d0-b6cc-4000-8bef-c5adacafd3ff",
   "metadata": {},
   "source": [
    "**Exercise 4**"
   ]
  },
  {
   "cell_type": "code",
   "execution_count": 10,
   "id": "dbde89f7-af3b-4d18-8bc1-28e1180b1c93",
   "metadata": {},
   "outputs": [
    {
     "name": "stdout",
     "output_type": "stream",
     "text": [
      "9\n"
     ]
    }
   ],
   "source": [
    "import numpy as np\n",
    "\n",
    "numbers=[45, 60, 1, 30, 96, 1, 96, 57, 16, 1,\n",
    "        99, 62, 86, 43, 42, 60, 59, 1, 1, 35,\n",
    "        83, 47, 34, 28, 68, 23, 22, 92, 1, 79,\n",
    "        1, 29, 94, 72, 46, 47, 1, 74, 32, 20,\n",
    "        8, 37, 35, 1, 89, 29, 86, 19, 43, 61] \n",
    "np_numbers = np.array(numbers)\n",
    "\n",
    "total = np.sum(np_numbers == 1)\n",
    "\n",
    "print(total)"
   ]
  },
  {
   "cell_type": "markdown",
   "id": "624bea14-ff89-48d9-9353-ed36a4156ef6",
   "metadata": {},
   "source": [
    "The output is `9`, so the total number of 1's is `9`."
   ]
  }
 ],
 "metadata": {
  "kernelspec": {
   "display_name": "Python 3 (ipykernel)",
   "language": "python",
   "name": "python3"
  },
  "language_info": {
   "codemirror_mode": {
    "name": "ipython",
    "version": 3
   },
   "file_extension": ".py",
   "mimetype": "text/x-python",
   "name": "python",
   "nbconvert_exporter": "python",
   "pygments_lexer": "ipython3",
   "version": "3.11.5"
  },
  "toc": {
   "base_numbering": 1,
   "nav_menu": {},
   "number_sections": true,
   "sideBar": true,
   "skip_h1_title": false,
   "title_cell": "Table of Contents",
   "title_sidebar": "Contents",
   "toc_cell": false,
   "toc_position": {},
   "toc_section_display": true,
   "toc_window_display": false
  },
  "vscode": {
   "interpreter": {
    "hash": "31f2aee4e71d21fbe5cf8b01ff0e069b9275f58929596ceb00d14d90e3e16cd6"
   }
  }
 },
 "nbformat": 4,
 "nbformat_minor": 5
}
