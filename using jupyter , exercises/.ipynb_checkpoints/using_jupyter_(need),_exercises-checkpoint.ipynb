{
 "cells": [
  {
   "attachments": {},
   "cell_type": "markdown",
   "id": "123456",
   "metadata": {},
   "source": [
    "<div style=\"text-align:left;font-size:2em\"><span style=\"font-weight:bolder;font-size:1.25em\">SP2273 | Learning Portfolio</span><br><br><span style=\"font-weight:bold;color:darkred\">Using Jupyter (Need), Exercises</span></div>"
   ]
  },
  {
   "attachments": {},
   "cell_type": "markdown",
   "id": "92ef52cc",
   "metadata": {},
   "source": [
    "## Quadratic Equations"
   ]
  },
  {
   "attachments": {},
   "cell_type": "markdown",
   "id": "db142b77",
   "metadata": {},
   "source": [
    "### Introduction"
   ]
  },
  {
   "cell_type": "markdown",
   "id": "b8739c1e-ef57-4f5e-813b-f1f2358ae560",
   "metadata": {},
   "source": [
    "![](https://upload.wikimedia.org/wikipedia/commons/thumb/f/f8/Polynomialdeg2.svg/600px-Polynomialdeg2.svg.png)"
   ]
  },
  {
   "cell_type": "markdown",
   "id": "9eac4fbc-d9c3-4430-bbc5-9e3364d98ebb",
   "metadata": {},
   "source": [
    "(*Image from the [Wikipedia page on Quadratic equations](https://en.wikipedia.org/wiki/Quadratic_equation)*)"
   ]
  },
  {
   "cell_type": "markdown",
   "id": "eb6df146-a29e-4b55-b2f2-5234afdaeedc",
   "metadata": {},
   "source": [
    "The general form of a quadratic equation is:"
   ]
  },
  {
   "cell_type": "markdown",
   "id": "78ddb738-7213-4d30-95ed-8889d4f400cc",
   "metadata": {},
   "source": [
    "$$ax^{2}+bx+c=0$$\t"
   ]
  },
  {
   "attachments": {},
   "cell_type": "markdown",
   "id": "7014898d",
   "metadata": {},
   "source": [
    "### Solutions"
   ]
  },
  {
   "cell_type": "markdown",
   "id": "5e273c2f-4f40-43a5-ae51-7939d303a025",
   "metadata": {},
   "source": [
    "Provided $a \\ne 0$, we can use an elementary algebraic method called [completeing the square](https://en.wikipedia.org/wiki/Completing_the_square) to show that a quadratic equation has the following solution:\n"
   ]
  },
  {
   "cell_type": "markdown",
   "id": "49be4dc8-231f-405e-b247-7d19ab9ae71f",
   "metadata": {},
   "source": [
    "$$x = \\dfrac{-b \\pm \\sqrt{b^2-4ac}}{2a}\r\n",
    "$$"
   ]
  },
  {
   "attachments": {},
   "cell_type": "markdown",
   "id": "576befb9",
   "metadata": {},
   "source": [
    "### Discriminant"
   ]
  },
  {
   "cell_type": "markdown",
   "id": "81e014bf-0940-457d-95ef-429a52ed6639",
   "metadata": {
    "jp-MarkdownHeadingCollapsed": true
   },
   "source": [
    "The quantity $\\Delta = b^{2}-4ac$ is called the **discriminant** of the  equation and decides the nature of its solutions. The table below shows the various possibilities.\n"
   ]
  },
  {
   "cell_type": "markdown",
   "id": "3a9276e9-d1e1-4ef3-869d-a614af771290",
   "metadata": {},
   "source": [
    "| **Discriminant** | **Roots** |\n",
    "| :--- | --: |\n",
    "| $\\Delta = b^{2}-4ac = 0$ |  A single solution of ${-b}/{(2a)}$  |\n",
    "| $\\Delta = b^{2}-4ac \\gt 0$ |  Two distinct solutions  |\n",
    "| $\\Delta = b^{2}-4ac \\lt 0$ |  No real solutions; both are complex.  |"
   ]
  },
  {
   "cell_type": "markdown",
   "id": "80841ff8-9435-43f9-9aee-cfb935dd207b",
   "metadata": {},
   "source": [
    "**Exercise 2**"
   ]
  },
  {
   "cell_type": "markdown",
   "id": "0564a199-8e92-4e74-b3d6-72b8a6114464",
   "metadata": {},
   "source": [
    "1. Git repository is the .git/ folder inside a project. This repository records all changes that you made to files: adding, renaming or removing; creating a history list. If you delete the .git/ folder, you also delete your entire project history.\n",
    "2. Git keeps tracks of **CHANGES** in the files in our repository.\n",
    "   \n",
    "   For example: You want to change or add or delete a text or a paragraph on your own-made website. Then, you can make another version of that website or another branch. You can update the text there and then emerge that to the main branch and commit that. You can also revert back to the previous version if in the end, you think that the previous version is better. You can compare between different version of the website also.\n",
    "\n",
    "   In addition, you could see who made changes to the website and most importantly, if you messed up your website, then you can simply jump back to the previous version.\n",
    "\n",
    "   The disadvantages of Git are that it doesn't track empty folders, it doesn't support binary files, there is no built-in access control and it doesn't support checking out sub-trees.\n",
    "4. Git commit is a snapshot of a certain time in your repository. When you made changes to the working directory, it is not yet reflected in your Git repository. In other words, changes that you made in your working directory only exist locally in your machine. So, in order to save changes to Git repository, you have to perform git commit.\n",
    "5. The git push is used to upload the git local repository content to a remote repository.\n",
    "6. The pull command is to download the changes or content from remote repository into your local repository in order to match the content.\n",
    "7. GitHub is a cloud-based platform that helps the developer manage their repositories. GitHub desktop is an application that lets users interact better with GitHub through a graphical user interface (GUI)."
   ]
  }
 ],
 "metadata": {
  "kernelspec": {
   "display_name": "Python 3 (ipykernel)",
   "language": "python",
   "name": "python3"
  },
  "language_info": {
   "codemirror_mode": {
    "name": "ipython",
    "version": 3
   },
   "file_extension": ".py",
   "mimetype": "text/x-python",
   "name": "python",
   "nbconvert_exporter": "python",
   "pygments_lexer": "ipython3",
   "version": "3.11.5"
  },
  "toc": {
   "base_numbering": 1,
   "nav_menu": {},
   "number_sections": true,
   "sideBar": true,
   "skip_h1_title": false,
   "title_cell": "Table of Contents",
   "title_sidebar": "Contents",
   "toc_cell": false,
   "toc_position": {},
   "toc_section_display": true,
   "toc_window_display": false
  },
  "vscode": {
   "interpreter": {
    "hash": "31f2aee4e71d21fbe5cf8b01ff0e069b9275f58929596ceb00d14d90e3e16cd6"
   }
  }
 },
 "nbformat": 4,
 "nbformat_minor": 5
}
