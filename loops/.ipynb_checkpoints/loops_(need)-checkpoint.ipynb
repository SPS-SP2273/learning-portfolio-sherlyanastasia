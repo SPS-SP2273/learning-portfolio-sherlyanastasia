{
 "cells": [
  {
   "attachments": {},
   "cell_type": "markdown",
   "id": "123456",
   "metadata": {},
   "source": [
    "<div style=\"text-align:left;font-size:2em\"><span style=\"font-weight:bolder;font-size:1.25em\">SP2273 | Learning Portfolio</span><br><br><span style=\"font-weight:bold;color:darkred\">Loops (Need)</span></div>"
   ]
  },
  {
   "cell_type": "markdown",
   "id": "edddfb04-4dad-4554-80a1-143f33832265",
   "metadata": {},
   "source": [
    "![](http://imgs.xkcd.com/comics/loop.png)"
   ]
  },
  {
   "cell_type": "markdown",
   "id": "a568ee6c-de69-4d14-80b7-734b864cc2bf",
   "metadata": {},
   "source": [
    "Figure 1: From [xkcd](https://xkcd.com/)."
   ]
  },
  {
   "attachments": {},
   "cell_type": "markdown",
   "id": "9d93f3fb",
   "metadata": {},
   "source": [
    "# What to expect in this chapter"
   ]
  },
  {
   "cell_type": "markdown",
   "id": "0d375bfa-5b19-4c0e-b31e-06f45813ed8b",
   "metadata": {},
   "source": [
    "One of the most powerful things that programming language can do is the ability to repeat task over and over again. For example, when you want to rename a bunch set of files or doing the same statistical analysis on many experimental data sets. Humans quickly become bored on such tasks and if they are bored and tired, then they might make mistakes. On the other hand, computer excel at mindless repetitive tasks.\n",
    "\n",
    "This section talks about repeating things in Python. The topic is called **loops** or **iterations**."
   ]
  },
  {
   "cell_type": "markdown",
   "id": "2e762f7e-4f6d-43fa-879a-d84b5b4f997e",
   "metadata": {},
   "source": [
    "In a more **concise words**:\n",
    "\n",
    "Loops are used in python to perform certain task repetitively. As long as the conditions hold it will keep performing the block of code inside the loops. "
   ]
  },
  {
   "cell_type": "markdown",
   "id": "6a8c1bb8-678c-42c7-bded-bef37e501334",
   "metadata": {},
   "source": [
    "Python offers two mechanisms for looping. One is the `for` statement, and the other is the `while` statement.\n",
    "\n",
    "We will spend more time discussing the `for` loop as it is more used in Python."
   ]
  },
  {
   "attachments": {},
   "cell_type": "markdown",
   "id": "f0510543",
   "metadata": {},
   "source": [
    "# 1 The `for` iterator"
   ]
  },
  {
   "cell_type": "markdown",
   "id": "6c539368-528c-4831-af3e-6bad23f38db1",
   "metadata": {},
   "source": [
    "Example: you want to print a message corresponding to every superhero in the following list."
   ]
  },
  {
   "cell_type": "code",
   "execution_count": 2,
   "id": "298a4227-2114-49cd-a7e6-4f49ff2ba15f",
   "metadata": {},
   "outputs": [],
   "source": [
    "real_names = [\"Natasha Romanoff\", \"Tony Stark\", \"Stephen Strange\"]"
   ]
  },
  {
   "cell_type": "markdown",
   "id": "544fabbb-8c2b-4890-b1b7-863b2e8a9bf8",
   "metadata": {},
   "source": [
    "Here is one (poor) way of doing this."
   ]
  },
  {
   "cell_type": "code",
   "execution_count": 4,
   "id": "4397a026-4e21-4ccf-8e9e-f8cc0282b714",
   "metadata": {},
   "outputs": [
    {
     "name": "stdout",
     "output_type": "stream",
     "text": [
      "Natasha Romanoff is a Marvel superhero!\n",
      "Tony Stark is a Marvel superhero!\n",
      "Stephen Strange is a Marvel superhero!\n"
     ]
    }
   ],
   "source": [
    "name=real_names[0]\n",
    "print(f\"{name} is a Marvel superhero!\")\n",
    "\n",
    "name=real_names[1]\n",
    "print(f\"{name} is a Marvel superhero!\")\n",
    "\n",
    "name=real_names[2]\n",
    "print(f\"{name} is a Marvel superhero!\")\n",
    "\n",
    "#Output:\n",
    "#Natasha Romanoff is a Marvel superhero!\n",
    "#Tony Stark is a Marvel superhero!\n",
    "#Stephen Strange is a Marvel superhero!"
   ]
  },
  {
   "cell_type": "markdown",
   "id": "e1d8370b-56c4-4219-8f76-2759d42c1c16",
   "metadata": {},
   "source": [
    "This way of programming is not very good because:\r\n",
    "1. \r\n",
    "it does not scale very well (imagine if you have a 100 names!)2. ,\r\n",
    "it is cumbersome to make changes, you have to do it three time3. s.\r\n",
    "it is highly error prone, since you need to type something new (even if you are copying and pasting most of it)."
   ]
  },
  {
   "cell_type": "markdown",
   "id": "645fc11c-cc68-43ef-ab8d-f58bd7f5375a",
   "metadata": {},
   "source": [
    "This is where a `for` loop can come in handy."
   ]
  },
  {
   "attachments": {},
   "cell_type": "markdown",
   "id": "f87c6241",
   "metadata": {},
   "source": [
    "## 1.1 `for` with a list"
   ]
  },
  {
   "cell_type": "markdown",
   "id": "dac138ae-7115-4638-97ec-e05070959eb7",
   "metadata": {},
   "source": [
    "You can achieve the same result using a for loop as follows:"
   ]
  },
  {
   "cell_type": "code",
   "execution_count": 5,
   "id": "246b83bc-8a96-417f-9758-00720cb99916",
   "metadata": {},
   "outputs": [
    {
     "name": "stdout",
     "output_type": "stream",
     "text": [
      "Natasha Romanoff is a Marvel superhero!\n",
      "Tony Stark is a Marvel superhero!\n",
      "Stephen Strange is a Marvel superhero!\n"
     ]
    }
   ],
   "source": [
    "for name in real_names:\n",
    "    print(f\"{name} is a Marvel superhero!\")"
   ]
  },
  {
   "cell_type": "markdown",
   "id": "0c5ba93c-424a-425b-aad7-3659c20be884",
   "metadata": {},
   "source": [
    "Output:\n",
    "\n",
    "Natasha Romanoff is a Marvel superhero!\r\n",
    "Tony Stark is a Marvel superhero!\r\n",
    "Stephen Strange is a Marvel superher!\r\n"
   ]
  },
  {
   "cell_type": "markdown",
   "id": "46226121-5ef2-4cca-9568-a5316fc9fb3b",
   "metadata": {},
   "source": [
    "Notice the structure of the `for` loop:\r\n",
    "- \r\n",
    "it goes through the list and assign`s na`me the value of each element of the list- .\r\n",
    "it then runs the code-block using this value `of n`am- e.\r\n",
    "the code block is deginted by us`i`ng : **and **tabs like w`it`h if."
   ]
  },
  {
   "cell_type": "markdown",
   "id": "491ba7b7-47bc-4a06-8599-30dc0c1708e6",
   "metadata": {},
   "source": [
    "**Remember**:\n",
    "\n",
    "Remember that `for` can be used to directly loop through a list."
   ]
  },
  {
   "cell_type": "markdown",
   "id": "289130f2-6442-4fd1-a6b5-515956403380",
   "metadata": {},
   "source": [
    "**Notes**:\n",
    "\n",
    "There is nothing special about the names of the variables that we have used. The following will work too. However, it will not be very readable because x is a bit cryptic in this context."
   ]
  },
  {
   "cell_type": "code",
   "execution_count": 6,
   "id": "bb7763b7-3f9f-4c30-8c39-aa0f86871404",
   "metadata": {},
   "outputs": [
    {
     "name": "stdout",
     "output_type": "stream",
     "text": [
      "Natasha Romanoff is a Marvel superhero!\n",
      "Tony Stark is a Marvel superhero!\n",
      "Stephen Strange is a Marvel superhero!\n"
     ]
    }
   ],
   "source": [
    "for x in real_names:\n",
    "    print(f\"{x} is a Marvel superhero!\")"
   ]
  },
  {
   "cell_type": "markdown",
   "id": "df06117e-dba4-4891-900c-365961c55eca",
   "metadata": {},
   "source": [
    "The output is still the same:\n",
    "\n",
    "Natasha Romanoff is a Marvel superhero!\r\n",
    "Tony Stark is a Marvel superhero!\r\n",
    "Stephen Strange is a Marvel superhero!"
   ]
  },
  {
   "attachments": {},
   "cell_type": "markdown",
   "id": "9b74936a-bdd5-41b8-9136-859313301766",
   "metadata": {},
   "source": [
    "**Addition:**\n",
    "\n",
    "Loops (repeated steps) have ***iteration variables*** that *change* each time through a loop.  *Often*, but **not always**, these iteration variables go through a sequence of numbers.\n"
   ]
  },
  {
   "attachments": {},
   "cell_type": "markdown",
   "id": "3d63bd6e",
   "metadata": {},
   "source": [
    "## 1.2 `for` with `enumerate`"
   ]
  },
  {
   "cell_type": "markdown",
   "id": "80a43b58-dc6f-490f-bc39-9225a908c014",
   "metadata": {},
   "source": [
    "Let’s say we want to do a bit more, like using the information in both of the following lists."
   ]
  },
  {
   "cell_type": "code",
   "execution_count": 7,
   "id": "959c3af3-222d-4ada-9934-2ad32166a0d9",
   "metadata": {},
   "outputs": [],
   "source": [
    "super_names = [\"Black Widow\", \"Iron Man\", \"Doctor Strange\"]\n",
    "real_names = [\"Natasha Romanoff\", \"Tony Stark\", \"Stephen Strange\"]"
   ]
  },
  {
   "cell_type": "markdown",
   "id": "1e14bbcb-7d51-487f-8597-339c6c5829f1",
   "metadata": {},
   "source": [
    "Since the `for` loop only accepts one list, we need to do something else to access the data in both lists. One option is to use `enumerate()`. \n",
    "\n",
    "For example:"
   ]
  },
  {
   "cell_type": "code",
   "execution_count": 8,
   "id": "94fae68e-c795-4a9a-be05-fc47f9ec8ea8",
   "metadata": {},
   "outputs": [
    {
     "name": "stdout",
     "output_type": "stream",
     "text": [
      "0: Natasha Romanoff is a Marvel superhero!\n",
      "1: Tony Stark is a Marvel superhero!\n",
      "2: Stephen Strange is a Marvel superhero!\n"
     ]
    }
   ],
   "source": [
    "for count, name in enumerate(real_names):\n",
    "    print(f'{count}: {name} is a Marvel superhero!')"
   ]
  },
  {
   "cell_type": "markdown",
   "id": "8fed05b2-f2f5-4a64-af25-570b35233903",
   "metadata": {},
   "source": [
    "Output:\n",
    "\r\n",
    "0: Natasha Romanoff is a Marvel superhero!\r\n",
    "1: Tony Stark is a Marvel superhero!\r\n",
    "2: Stephen Strange is a Marvel superhero!"
   ]
  },
  {
   "cell_type": "markdown",
   "id": "edae8c9a-db2d-4082-a38c-a10360cffb73",
   "metadata": {},
   "source": [
    "You can think of `enumerate()` as something that keeps count. In the above example, `enumerate()` not only gives the elements of the list, it also gives you a number (that is stored in `count`).\n",
    "\n",
    "Other than counting, we can use the count given by `enumerate()` to index the other list!"
   ]
  },
  {
   "cell_type": "code",
   "execution_count": null,
   "id": "60a08921-33cf-49ae-b776-b68b09cf4d75",
   "metadata": {},
   "outputs": [],
   "source": [
    "for index, name in enumerate(real_names):\n",
    "    superhero_name = super_names[index]\n",
    "    print(f'{name} is {superhero_name}!')"
   ]
  },
  {
   "cell_type": "markdown",
   "id": "68301e7e-deaa-4f58-8a7f-ebf1328de9a8",
   "metadata": {},
   "source": [
    "Output:\n",
    "\n",
    "Natasha Romanoff is Black Widow!\r\n",
    "Tony Stark is Iron Man!\r\n",
    "Stephen Strange is Doctor Strange!"
   ]
  },
  {
   "cell_type": "markdown",
   "id": "719e179e-7ca5-425a-9c0d-60a77056782a",
   "metadata": {},
   "source": [
    "**Notes**:\n",
    "\n",
    "1. Notice how we changed the variable name used with `enumerate()` to (`count` and `index`) to match their logical use. This makes it easy to immediately see what you are doing (i.e., the intention) with the code. Python **does not really care** abot this, but remember that ***we write programmes for humans***!\n",
    "2. Although by default, enumerate() starts counting from 0, we can easily change it to start at another value, say 100."
   ]
  },
  {
   "cell_type": "code",
   "execution_count": null,
   "id": "0c2c0068-4d86-48c8-aec7-a5a24dc4e957",
   "metadata": {},
   "outputs": [],
   "source": [
    "for count, name in enumerate(real_names, 100):\n",
    "    print(f'{count}: {name} is a Marvel superhero!')"
   ]
  },
  {
   "cell_type": "markdown",
   "id": "c9f4f0ef-92b5-4d5a-b7f3-a71801868894",
   "metadata": {},
   "source": [
    "Output:\n",
    "\n",
    "100: Natasha Romanoff is a Marvel superhero!\r\n",
    "101: Tony Stark is a Marvel superhero!\r\n",
    "102: Stephen Strange is a Marvel superhero!"
   ]
  },
  {
   "cell_type": "markdown",
   "id": "d3d97918-97af-4c2f-8b67-6b908bdfb7c3",
   "metadata": {},
   "source": [
    "**Remember**:\n",
    "\n",
    "Remember that `for` can be combined with `enumerate()` to count while looping through a list."
   ]
  },
  {
   "attachments": {},
   "cell_type": "markdown",
   "id": "24796afa",
   "metadata": {},
   "source": [
    "## 1.3 `for` with range"
   ]
  },
  {
   "cell_type": "markdown",
   "id": "73eb59b7-3271-4aef-9f21-3293c1e2ff12",
   "metadata": {},
   "source": [
    "Yet, another way to achieve the result above is by using the function `range()`. But, first lets see what `range()` can do."
   ]
  },
  {
   "cell_type": "markdown",
   "id": "202fffe3-fdd7-4b43-af15-2ddbd28b129b",
   "metadata": {},
   "source": [
    "Example 1"
   ]
  },
  {
   "cell_type": "code",
   "execution_count": 9,
   "id": "5259bc75-eb58-4daf-a81c-3ceb5827666a",
   "metadata": {},
   "outputs": [
    {
     "name": "stdout",
     "output_type": "stream",
     "text": [
      "0\n",
      "1\n",
      "2\n",
      "3\n",
      "4\n"
     ]
    }
   ],
   "source": [
    "for i in range(5):\n",
    "    print(i)"
   ]
  },
  {
   "cell_type": "markdown",
   "id": "46cb6683-a212-4d8b-8249-b61eacdfdc60",
   "metadata": {},
   "source": [
    "We can use range() to get the for loop to run a given number of loops (5 in this example).\r\n",
    "\n",
    "Output:\n",
    "\n",
    "1\n",
    "\n",
    "2\n",
    "\n",
    "3\n",
    "\n",
    "4\n",
    "\n",
    "5\r\n",
    "3\r\n",
    "4"
   ]
  },
  {
   "cell_type": "markdown",
   "id": "da3ad68a-0b17-4a0c-b2cb-002c2f5ee1d1",
   "metadata": {},
   "source": [
    "Example 2"
   ]
  },
  {
   "cell_type": "code",
   "execution_count": 10,
   "id": "2cedf4d9-ffa0-46bf-b7d8-c5a3fc11ab70",
   "metadata": {},
   "outputs": [
    {
     "name": "stdout",
     "output_type": "stream",
     "text": [
      "5\n",
      "6\n",
      "7\n",
      "8\n",
      "9\n"
     ]
    }
   ],
   "source": [
    "for i in range(5, 10):\n",
    "    print(i)"
   ]
  },
  {
   "cell_type": "markdown",
   "id": "21c1d245-50f4-47ac-a860-41eaa02e5f08",
   "metadata": {},
   "source": [
    "We can tailor the starting and ending values…\n",
    "\n",
    "Output:\n",
    "\n",
    "5\n",
    "\r\n",
    "\n",
    "6\r\n",
    "\n",
    "7\n",
    "\r\n",
    "8\r\n",
    "9"
   ]
  },
  {
   "cell_type": "markdown",
   "id": "4b6a35c5-e18d-4968-ac7e-0d6e67c61195",
   "metadata": {},
   "source": [
    "Example 3"
   ]
  },
  {
   "cell_type": "code",
   "execution_count": 11,
   "id": "fdfa344b-69a8-40a6-9a1f-84927afeff91",
   "metadata": {},
   "outputs": [
    {
     "name": "stdout",
     "output_type": "stream",
     "text": [
      "1\n",
      "4\n",
      "7\n"
     ]
    }
   ],
   "source": [
    "for i in range(1, 10, 3):\n",
    "    print(i)"
   ]
  },
  {
   "cell_type": "markdown",
   "id": "2c759dbf-d758-4fd5-8bc5-084c10c404cf",
   "metadata": {},
   "source": [
    "We can even adjust the **step size**. The last number, in this case `3` allows us to print selected values in a `jumping` manner, so we jumps `3` steps ahead instead of just flowing with subsequent numbers.\n",
    "\n",
    "**Note**:\n",
    "\n",
    "1. Functions like `range()` and `enumerate()` only work with looping structures.\n",
    "2. `range()` always ends one short of the ending number, like the case we encountered with **indexing**.\n",
    "\n",
    "Now, let’s return to our initial problem of printing superhero names. We can use `range()` as follows:"
   ]
  },
  {
   "cell_type": "code",
   "execution_count": 12,
   "id": "418c7a94-1191-44e3-9b64-290b7284a997",
   "metadata": {},
   "outputs": [
    {
     "name": "stdout",
     "output_type": "stream",
     "text": [
      "Natasha Romanoff is Marvel's Black Widow!\n",
      "Tony Stark is Marvel's Iron Man!\n",
      "Stephen Strange is Marvel's Doctor Strange!\n"
     ]
    }
   ],
   "source": [
    "for i in range(len(real_names)):\n",
    "    real_name = real_names[i]\n",
    "    super_name = super_names[i]        \n",
    "    print(f\"{real_name} is Marvel's {super_name}!\")"
   ]
  },
  {
   "cell_type": "markdown",
   "id": "8741bee3-1870-4df7-b76d-ff1477b85056",
   "metadata": {},
   "source": [
    "Notice that I have used the `len(real_names)` to get how many times the loop should run."
   ]
  },
  {
   "cell_type": "markdown",
   "id": "7e13004a-d591-4526-9b5c-4955fcb867ff",
   "metadata": {},
   "source": [
    "**Remember**:\n",
    "\n",
    "Remember that `for` can be run a given number of times using `range()`."
   ]
  },
  {
   "attachments": {},
   "cell_type": "markdown",
   "id": "6234e762",
   "metadata": {},
   "source": [
    "# 2 while"
   ]
  },
  {
   "cell_type": "code",
   "execution_count": 13,
   "id": "b8b74e51-435d-4032-8a92-18ca92fb47ac",
   "metadata": {},
   "outputs": [
    {
     "name": "stdout",
     "output_type": "stream",
     "text": [
      "0\n",
      "1\n",
      "2\n",
      "3\n",
      "4\n"
     ]
    }
   ],
   "source": [
    "number = 0\n",
    "\n",
    "while number < 5:\n",
    "    print(number)\n",
    "    number += 1"
   ]
  },
  {
   "cell_type": "markdown",
   "id": "3247e267-e9da-4987-ba7d-40aa90e9d49c",
   "metadata": {},
   "source": [
    "Now let’s take a quick look at the `while` loop. A `while` loop is set up so that it keeps on running **while** a condition is `True`. So the `while` loop checks the condition at the start and begins another loop if it is `True`.\n",
    "\n",
    "In the adjoining example the loop keeps on going while the number is less than 5.\r\n",
    "\r\n",
    "A useful feature of th`e whi`le loop is that yo**u do n**ot need to know beforehand how many iterations are neede\n",
    "\n",
    "Sometimes, the `while` loop can be threatening. Consider this example:d."
   ]
  },
  {
   "cell_type": "code",
   "execution_count": null,
   "id": "e70c00ac-a18b-4447-9ec1-a696b565f863",
   "metadata": {},
   "outputs": [],
   "source": [
    "n = 5\n",
    "while n > 0 :\n",
    "    print('Lather')\n",
    "    print('Rinse')\n",
    "print('Dry off!')"
   ]
  },
  {
   "cell_type": "markdown",
   "id": "2fb46509-6757-4fb7-ae2c-ad2231d64b8b",
   "metadata": {},
   "source": [
    "The above code will go **forever**!!!\n",
    "\n",
    "Sometimes, it can also be useless, for example:"
   ]
  },
  {
   "cell_type": "code",
   "execution_count": null,
   "id": "be942c69-676d-40cd-b4b9-9cc71db679ec",
   "metadata": {},
   "outputs": [],
   "source": [
    "n = 0\n",
    "while n > 0 :\n",
    "    print('Lather')\n",
    "    print('Rinse')\n",
    "print('Dry off!')"
   ]
  },
  {
   "cell_type": "markdown",
   "id": "6c27e224-bb00-4f69-abfb-5f8a9b4771e9",
   "metadata": {},
   "source": [
    "The above code will **never runs**!!!"
   ]
  }
 ],
 "metadata": {
  "kernelspec": {
   "display_name": "Python 3 (ipykernel)",
   "language": "python",
   "name": "python3"
  },
  "language_info": {
   "codemirror_mode": {
    "name": "ipython",
    "version": 3
   },
   "file_extension": ".py",
   "mimetype": "text/x-python",
   "name": "python",
   "nbconvert_exporter": "python",
   "pygments_lexer": "ipython3",
   "version": "3.11.5"
  },
  "toc": {
   "base_numbering": 1,
   "nav_menu": {},
   "number_sections": true,
   "sideBar": true,
   "skip_h1_title": false,
   "title_cell": "Table of Contents",
   "title_sidebar": "Contents",
   "toc_cell": false,
   "toc_position": {},
   "toc_section_display": true,
   "toc_window_display": false
  },
  "vscode": {
   "interpreter": {
    "hash": "31f2aee4e71d21fbe5cf8b01ff0e069b9275f58929596ceb00d14d90e3e16cd6"
   }
  }
 },
 "nbformat": 4,
 "nbformat_minor": 5
}
