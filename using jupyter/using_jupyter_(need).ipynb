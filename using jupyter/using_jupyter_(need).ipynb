{
 "cells": [
  {
   "attachments": {},
   "cell_type": "markdown",
   "id": "123456",
   "metadata": {},
   "source": [
    "<div style=\"text-align:left;font-size:2em\"><span style=\"font-weight:bolder;font-size:1.25em\">SP2273 | Learning Portfolio</span><br><br><span style=\"font-weight:bold;color:darkred\">Using Jupyter (Need)</span></div>"
   ]
  },
  {
   "cell_type": "markdown",
   "id": "188bee72-9705-43b7-bac8-7f76cf9c89ad",
   "metadata": {},
   "source": []
  },
  {
   "attachments": {},
   "cell_type": "markdown",
   "id": "aac16902",
   "metadata": {},
   "source": [
    "# 1 What to expect in this chapter"
   ]
  },
  {
   "cell_type": "markdown",
   "id": "ce4f49c3-820f-404e-9df1-04956c8b56bd",
   "metadata": {},
   "source": [
    "Using Jupyter as an interactive environment that allows you to have a 'conversation' with Python, it is for creating and sharing computational documents. It offers a simple, streamlined and document-centric experience. We will use two important features of Jupyter Notebook, namely 'Code' and 'Markdown'.\n",
    "\n",
    "Jupyter works so that you can ask it to do something, and it immediately shows you the result. Jupyter allows easy access to Python with ample features for scientific discussions. In fact, the older name for Jupyter Notebooks was ‘IPython notebooks’, meaning ‘**interactive** Python notebooks’."
   ]
  },
  {
   "attachments": {},
   "cell_type": "markdown",
   "id": "c0a414a0",
   "metadata": {},
   "source": [
    "# 2 Getting ready"
   ]
  },
  {
   "cell_type": "markdown",
   "id": "fa75f63e-9a45-422f-acc3-c6accbce83dc",
   "metadata": {},
   "source": [
    "1. Use the terminal to navigate to the folder '**Using Jupyter**' in your Learning Portfolio.\r\n",
    "2. \r\n",
    "Start Jupyter notebooks through the terminas.3. \r\n",
    "\r\n",
    "Use the but'**ton**' New to create a '**new Pyth**'on 3 (ipykernel) noteboo4. k.\r\n",
    "\r\n",
    "Clic**k the Un**titled at the top (next to the Jupiter logo) and rename the fi**le to using-jupyte**r_need."
   ]
  },
  {
   "attachments": {},
   "cell_type": "markdown",
   "id": "af85baa5",
   "metadata": {},
   "source": [
    "# 3 Getting started with Jupyter"
   ]
  },
  {
   "attachments": {},
   "cell_type": "markdown",
   "id": "f2ac6f81",
   "metadata": {},
   "source": [
    "## 3.1 It is all about running cells"
   ]
  },
  {
   "cell_type": "markdown",
   "id": "c365acdd-6691-4436-b1c9-aee6a21f9a0c",
   "metadata": {},
   "source": [
    "The basic unit of a Jupyter Notebook is a **cell**. A cell can either accept Python code or text in a format called ***Markdown***.\n",
    "\n",
    "A cell ready to accept Python is called a **code cell**, while one ready for Markdown is called a **Markdown cell**. To ‘get things done’, we **Run** a cell by using the Run button or the keyboard shortcut **CTRL + ENTER** (*or* **CMD + ENTER**)."
   ]
  },
  {
   "cell_type": "markdown",
   "id": "0001dc94-358d-463a-b2a5-8824a690848c",
   "metadata": {},
   "source": [
    "Running a code cell invokes Python while running a Markdown cell **renders** (i.e., makes it look pretty) your Markdown text. You will see how all this works in a bit, so don’t worry if things sound a tad cryptic at the moment."
   ]
  },
  {
   "attachments": {},
   "cell_type": "markdown",
   "id": "d74b7570",
   "metadata": {},
   "source": [
    "## 3.2 A traditional start"
   ]
  },
  {
   "attachments": {},
   "cell_type": "markdown",
   "id": "a2434ebe",
   "metadata": {},
   "source": [
    "# 4 All about Markdown"
   ]
  },
  {
   "attachments": {},
   "cell_type": "markdown",
   "id": "c760acd2",
   "metadata": {
    "jp-MarkdownHeadingCollapsed": true
   },
   "source": [
    "## 4.1 Rendering Markdown cells"
   ]
  },
  {
   "attachments": {},
   "cell_type": "markdown",
   "id": "e4c1e74b",
   "metadata": {
    "jp-MarkdownHeadingCollapsed": true
   },
   "source": [
    "## 4.2 Some basic syntax"
   ]
  },
  {
   "attachments": {},
   "cell_type": "markdown",
   "id": "f9cd264a",
   "metadata": {
    "jp-MarkdownHeadingCollapsed": true
   },
   "source": [
    "## 4.3 Headings"
   ]
  },
  {
   "attachments": {},
   "cell_type": "markdown",
   "id": "d0e317d0",
   "metadata": {
    "jp-MarkdownHeadingCollapsed": true
   },
   "source": [
    "## 4.4 Displaying Code"
   ]
  },
  {
   "attachments": {},
   "cell_type": "markdown",
   "id": "b40a85f2",
   "metadata": {
    "jp-MarkdownHeadingCollapsed": true
   },
   "source": [
    "## 4.5 Links"
   ]
  },
  {
   "attachments": {},
   "cell_type": "markdown",
   "id": "2b3d7af1",
   "metadata": {
    "jp-MarkdownHeadingCollapsed": true
   },
   "source": [
    "## 4.6 Images"
   ]
  },
  {
   "attachments": {},
   "cell_type": "markdown",
   "id": "b2b80d19",
   "metadata": {
    "jp-MarkdownHeadingCollapsed": true
   },
   "source": [
    "## 4.7 Tables"
   ]
  },
  {
   "attachments": {},
   "cell_type": "markdown",
   "id": "2e7b1753",
   "metadata": {
    "jp-MarkdownHeadingCollapsed": true
   },
   "source": [
    "## 4.8 Lists"
   ]
  },
  {
   "attachments": {},
   "cell_type": "markdown",
   "id": "6ea2cabf",
   "metadata": {
    "jp-MarkdownHeadingCollapsed": true
   },
   "source": [
    "## 4.9 Equations"
   ]
  },
  {
   "attachments": {},
   "cell_type": "markdown",
   "id": "c1a03279",
   "metadata": {
    "jp-MarkdownHeadingCollapsed": true
   },
   "source": [
    "## Footnotes"
   ]
  }
 ],
 "metadata": {
  "kernelspec": {
   "display_name": "Python 3 (ipykernel)",
   "language": "python",
   "name": "python3"
  },
  "language_info": {
   "codemirror_mode": {
    "name": "ipython",
    "version": 3
   },
   "file_extension": ".py",
   "mimetype": "text/x-python",
   "name": "python",
   "nbconvert_exporter": "python",
   "pygments_lexer": "ipython3",
   "version": "3.11.5"
  },
  "toc": {
   "base_numbering": 1,
   "nav_menu": {},
   "number_sections": true,
   "sideBar": true,
   "skip_h1_title": false,
   "title_cell": "Table of Contents",
   "title_sidebar": "Contents",
   "toc_cell": false,
   "toc_position": {},
   "toc_section_display": true,
   "toc_window_display": false
  },
  "vscode": {
   "interpreter": {
    "hash": "31f2aee4e71d21fbe5cf8b01ff0e069b9275f58929596ceb00d14d90e3e16cd6"
   }
  }
 },
 "nbformat": 4,
 "nbformat_minor": 5
}
