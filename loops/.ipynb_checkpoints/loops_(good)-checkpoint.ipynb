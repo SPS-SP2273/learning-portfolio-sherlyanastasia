{
 "cells": [
  {
   "attachments": {},
   "cell_type": "markdown",
   "id": "123456",
   "metadata": {},
   "source": [
    "<div style=\"text-align:left;font-size:2em\"><span style=\"font-weight:bolder;font-size:1.25em\">SP2273 | Learning Portfolio</span><br><br><span style=\"font-weight:bold;color:darkred\">Loops (Good)</span></div>"
   ]
  },
  {
   "attachments": {},
   "cell_type": "markdown",
   "id": "26b8036c",
   "metadata": {},
   "source": [
    "# What to expect in this chapter"
   ]
  },
  {
   "cell_type": "markdown",
   "id": "4e661aab-6a33-44ff-9a9f-d92434960891",
   "metadata": {},
   "source": []
  },
  {
   "attachments": {},
   "cell_type": "markdown",
   "id": "08917ea3",
   "metadata": {},
   "source": [
    "# 1 Interrupting the flow"
   ]
  },
  {
   "cell_type": "markdown",
   "id": "f5436398-a419-4df8-9f6a-2aadeb858046",
   "metadata": {},
   "source": []
  },
  {
   "cell_type": "markdown",
   "id": "92116996-0e9c-4d51-9355-3f1c5343251d",
   "metadata": {},
   "source": []
  },
  {
   "cell_type": "markdown",
   "id": "cd7c08e0-d945-4806-acf9-75b1e4c13626",
   "metadata": {},
   "source": []
  },
  {
   "cell_type": "markdown",
   "id": "07b09714-1158-426b-9a0d-98d9016e19e3",
   "metadata": {},
   "source": []
  },
  {
   "cell_type": "markdown",
   "id": "037cfedb-2e74-4fd4-85f8-df21adb7bd73",
   "metadata": {},
   "source": []
  },
  {
   "cell_type": "markdown",
   "id": "308f9a2b-ddf3-4e6e-9e89-c01f611ad728",
   "metadata": {},
   "source": []
  },
  {
   "cell_type": "markdown",
   "id": "b9553e9b-9921-4b48-a550-29aef6d00fe7",
   "metadata": {},
   "source": []
  },
  {
   "attachments": {},
   "cell_type": "markdown",
   "id": "fa4d082e",
   "metadata": {},
   "source": [
    "# 2 List comprehension!"
   ]
  },
  {
   "cell_type": "markdown",
   "id": "7a5ddbf6-c216-4b8d-aeaf-cf4b435081b3",
   "metadata": {},
   "source": []
  },
  {
   "attachments": {},
   "cell_type": "markdown",
   "id": "4bd59db1",
   "metadata": {},
   "source": [
    "## 2.1 Basic syntax"
   ]
  },
  {
   "cell_type": "markdown",
   "id": "92c581a2-e751-488a-8ba1-6c15d6576245",
   "metadata": {},
   "source": []
  },
  {
   "cell_type": "markdown",
   "id": "b0c81219-3fd4-47f0-8713-0dc3c8150e90",
   "metadata": {},
   "source": []
  },
  {
   "attachments": {},
   "cell_type": "markdown",
   "id": "9f8cdf9a",
   "metadata": {},
   "source": [
    "## 2.2 List comprehension with conditions"
   ]
  },
  {
   "cell_type": "markdown",
   "id": "743da54f-701f-4a86-9afe-36f2df83d011",
   "metadata": {},
   "source": []
  },
  {
   "cell_type": "markdown",
   "id": "f98bbacd-b30d-45de-8394-ee3bbe75fadd",
   "metadata": {},
   "source": []
  },
  {
   "attachments": {},
   "cell_type": "markdown",
   "id": "ec6c53ce",
   "metadata": {},
   "source": [
    "# 3 Other useful stuff"
   ]
  },
  {
   "attachments": {},
   "cell_type": "markdown",
   "id": "f75496b8",
   "metadata": {},
   "source": [
    "## 3.1 for with unpacking"
   ]
  },
  {
   "cell_type": "markdown",
   "id": "b00562b1-0ed7-423c-a0cf-93635c9a7676",
   "metadata": {},
   "source": []
  },
  {
   "cell_type": "markdown",
   "id": "b3ef29a0-429d-491a-aa85-da9a401c86d6",
   "metadata": {},
   "source": []
  },
  {
   "attachments": {},
   "cell_type": "markdown",
   "id": "7da1ad0b",
   "metadata": {},
   "source": [
    "## 3.2 for with zip()"
   ]
  },
  {
   "cell_type": "markdown",
   "id": "6dffa268-3795-4f16-b0c1-c3b6caaa627a",
   "metadata": {},
   "source": []
  },
  {
   "cell_type": "markdown",
   "id": "c86fbd38-8c53-4e6e-92ff-72d4e867f570",
   "metadata": {},
   "source": []
  },
  {
   "attachments": {},
   "cell_type": "markdown",
   "id": "d1907477",
   "metadata": {},
   "source": [
    "## 3.3 for with dictionaries"
   ]
  },
  {
   "cell_type": "markdown",
   "id": "fc10058b-dc86-427e-a0b8-3d200f42292f",
   "metadata": {},
   "source": []
  },
  {
   "cell_type": "markdown",
   "id": "fc1cf56f-30eb-41c4-90c1-fb1c4e875b5b",
   "metadata": {},
   "source": []
  },
  {
   "cell_type": "markdown",
   "id": "6a8f5abb-ae27-4f0f-a9d1-d95f7d1191b4",
   "metadata": {},
   "source": []
  },
  {
   "cell_type": "markdown",
   "id": "55987d08-51bd-4901-8093-221471e936d3",
   "metadata": {},
   "source": []
  },
  {
   "attachments": {},
   "cell_type": "markdown",
   "id": "039edafe",
   "metadata": {},
   "source": [
    "## Footnotes"
   ]
  },
  {
   "cell_type": "markdown",
   "id": "c970273f-be21-4d49-b172-ead3f4063ac2",
   "metadata": {},
   "source": []
  }
 ],
 "metadata": {
  "kernelspec": {
   "display_name": "Python 3 (ipykernel)",
   "language": "python",
   "name": "python3"
  },
  "language_info": {
   "codemirror_mode": {
    "name": "ipython",
    "version": 3
   },
   "file_extension": ".py",
   "mimetype": "text/x-python",
   "name": "python",
   "nbconvert_exporter": "python",
   "pygments_lexer": "ipython3",
   "version": "3.11.5"
  },
  "toc": {
   "base_numbering": 1,
   "nav_menu": {},
   "number_sections": true,
   "sideBar": true,
   "skip_h1_title": false,
   "title_cell": "Table of Contents",
   "title_sidebar": "Contents",
   "toc_cell": false,
   "toc_position": {},
   "toc_section_display": true,
   "toc_window_display": false
  },
  "vscode": {
   "interpreter": {
    "hash": "31f2aee4e71d21fbe5cf8b01ff0e069b9275f58929596ceb00d14d90e3e16cd6"
   }
  }
 },
 "nbformat": 4,
 "nbformat_minor": 5
}
