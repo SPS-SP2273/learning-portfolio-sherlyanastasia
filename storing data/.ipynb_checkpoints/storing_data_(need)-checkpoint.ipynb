{
 "cells": [
  {
   "attachments": {},
   "cell_type": "markdown",
   "id": "123456",
   "metadata": {},
   "source": [
    "<div style=\"text-align:left;font-size:2em\"><span style=\"font-weight:bolder;font-size:1.25em\">SP2273 | Learning Portfolio</span><br><br><span style=\"font-weight:bold;color:darkred\">Storing Data (Need)</span></div>"
   ]
  },
  {
   "cell_type": "markdown",
   "id": "83475fff-e5e8-4259-b469-9b4bbe2e109b",
   "metadata": {},
   "source": [
    "![](https://imgs.xkcd.com/comics/2018_cve_list.png)"
   ]
  },
  {
   "cell_type": "markdown",
   "id": "00f64ac6-eb25-452b-b7f4-0ebab24adf36",
   "metadata": {},
   "source": [
    "Figure 1: From [xkcd](https://xkcd.com/)."
   ]
  },
  {
   "cell_type": "markdown",
   "id": "0d9c09ae-bb2a-46a9-8ce9-87c054651993",
   "metadata": {},
   "source": [
    "**Before Proceeding**\n",
    "\n",
    "- You need to load the NumPy package to use NumPy arrays. You can import it using an alias as follows:\n",
    "  \n",
    "  `import numpy as np`"
   ]
  },
  {
   "attachments": {},
   "cell_type": "markdown",
   "id": "44f0ce0b",
   "metadata": {},
   "source": [
    "# What to expect in this chapter"
   ]
  },
  {
   "cell_type": "markdown",
   "id": "5380c23c-f7ec-4811-9a4a-f6e94b35de02",
   "metadata": {},
   "source": [
    "- Store and manipulate data easily and efficiently beyond the simple variables we have encountered so far (**list** and **dictionary**).\n",
    "- Here are several more ways to store and manipulate data:\n",
    "  1. **Lists**\n",
    "  2. **Numpy arrays**\n",
    "  3. **Dictionaries**\n",
    "  4. **Tuples**\n",
    "  5. Dataframes\n",
    "  6. Classes\n",
    " \n",
    "**Lists, Numpy arrays, dictionaries and tuples** will be discussed in this Chapter."
   ]
  },
  {
   "cell_type": "markdown",
   "id": "039aa000-4cdc-48a3-af48-55edaf2ecbdf",
   "metadata": {},
   "source": [
    "**Important**\n",
    "\n",
    "The storing, retrieving and modifying data in programming will influence how you think about data.\n",
    "\n",
    "This will ultimately aid (or hinder) your ability to conjure up algorithms to solve problems."
   ]
  },
  {
   "attachments": {},
   "cell_type": "markdown",
   "id": "62f19dcc",
   "metadata": {},
   "source": [
    "# 1 Lists, Arrays & Dictionaries"
   ]
  },
  {
   "attachments": {},
   "cell_type": "markdown",
   "id": "7c1f0c91",
   "metadata": {},
   "source": [
    "## 1.1 Let’s compare"
   ]
  },
  {
   "cell_type": "markdown",
   "id": "9515bc51-0f5b-4f65-8bd1-57a96e00f0d4",
   "metadata": {},
   "source": [
    "3 ways of storing the same data using `lists`, `arrays` and `dictionaries."
   ]
  },
  {
   "cell_type": "markdown",
   "id": "0d3de581-639d-47b1-b69b-11aecd562e66",
   "metadata": {},
   "source": [
    "**Python Lists**"
   ]
  },
  {
   "cell_type": "code",
   "execution_count": null,
   "id": "9cb0abb2-f8c8-4062-9e97-e8621741b15b",
   "metadata": {},
   "outputs": [],
   "source": [
    "py_super_names = [\"Black Widow\", \"Iron Man\", \"Doctor Strange\"]\n",
    "py_real_names = [\"Natasha Romanoff\", \"Tony Stark\", \"Stephen Strange\"]"
   ]
  },
  {
   "cell_type": "markdown",
   "id": "eb942cf4-ce0a-4ce0-b353-8b1c97e5774d",
   "metadata": {},
   "source": [
    "**Numpy Arrays**"
   ]
  },
  {
   "cell_type": "code",
   "execution_count": null,
   "id": "c716c34a-c7eb-4268-9211-8f96ae076b3e",
   "metadata": {},
   "outputs": [],
   "source": [
    "np_super_names = np.array([\"Black Widow\", \"Iron Man\", \"Doctor Strange\"])\n",
    "np_real_names = np.array([\"Natasha Romanoff\", \"Tony Stark\", \"Stephen Strange\"])"
   ]
  },
  {
   "cell_type": "markdown",
   "id": "2ecc5ad0-0e8b-41e9-97fe-3dbf5ca66b4a",
   "metadata": {},
   "source": [
    "**Dictionary**"
   ]
  },
  {
   "cell_type": "code",
   "execution_count": null,
   "id": "5e47b0b9-76c6-4782-9ea1-ae3300769ebb",
   "metadata": {},
   "outputs": [],
   "source": [
    "superhero_info = {\n",
    "    \"Natasha Romanoff\": \"Black Widow\",\n",
    "    \"Tony Stark\": \"Iron Man\",\n",
    "    \"Stephen Strange\": \"Doctor Strange\"\n",
    "}"
   ]
  },
  {
   "attachments": {},
   "cell_type": "markdown",
   "id": "07b38460",
   "metadata": {},
   "source": [
    "## 1.2 Accessing data from a list (or array)"
   ]
  },
  {
   "attachments": {},
   "cell_type": "markdown",
   "id": "64f0c226",
   "metadata": {},
   "source": [
    "## 1.3 Accessing data from a dictionary"
   ]
  },
  {
   "attachments": {},
   "cell_type": "markdown",
   "id": "770251cb",
   "metadata": {},
   "source": [
    "## 1.4 Higher dimensional lists"
   ]
  },
  {
   "attachments": {},
   "cell_type": "markdown",
   "id": "9d549286",
   "metadata": {},
   "source": [
    "# 2 Lists vs. Arrays"
   ]
  },
  {
   "attachments": {},
   "cell_type": "markdown",
   "id": "e51fd51b",
   "metadata": {},
   "source": [
    "## 2.1 Size"
   ]
  },
  {
   "attachments": {},
   "cell_type": "markdown",
   "id": "46b75f8e",
   "metadata": {},
   "source": [
    "## 2.2 Arrays are fussy about type"
   ]
  },
  {
   "attachments": {},
   "cell_type": "markdown",
   "id": "8d0f23d5",
   "metadata": {},
   "source": [
    "## 2.3 Adding a number"
   ]
  },
  {
   "attachments": {},
   "cell_type": "markdown",
   "id": "dea60261",
   "metadata": {},
   "source": [
    "## 2.4 Adding another list"
   ]
  },
  {
   "attachments": {},
   "cell_type": "markdown",
   "id": "cd855a81",
   "metadata": {},
   "source": [
    "## 2.5 Multiplying by a Number"
   ]
  },
  {
   "attachments": {},
   "cell_type": "markdown",
   "id": "2219aaf7",
   "metadata": {},
   "source": [
    "## 2.6 Squaring"
   ]
  },
  {
   "attachments": {},
   "cell_type": "markdown",
   "id": "2af09927",
   "metadata": {},
   "source": [
    "## 2.7 Asking questions"
   ]
  },
  {
   "attachments": {},
   "cell_type": "markdown",
   "id": "7a8bf7ab",
   "metadata": {},
   "source": [
    "## 2.8 Mathematics"
   ]
  },
  {
   "attachments": {},
   "cell_type": "markdown",
   "id": "2439d681",
   "metadata": {},
   "source": [
    "# Exercises & Self-Assessment"
   ]
  },
  {
   "cell_type": "code",
   "execution_count": null,
   "id": "1c20bac9",
   "metadata": {},
   "outputs": [],
   "source": [
    "\n",
    "\n",
    "\n",
    "# Your solution here\n",
    "\n",
    "\n"
   ]
  },
  {
   "attachments": {},
   "cell_type": "markdown",
   "id": "34c1f68a",
   "metadata": {},
   "source": [
    "## Footnotes"
   ]
  }
 ],
 "metadata": {
  "kernelspec": {
   "display_name": "Python 3 (ipykernel)",
   "language": "python",
   "name": "python3"
  },
  "language_info": {
   "codemirror_mode": {
    "name": "ipython",
    "version": 3
   },
   "file_extension": ".py",
   "mimetype": "text/x-python",
   "name": "python",
   "nbconvert_exporter": "python",
   "pygments_lexer": "ipython3",
   "version": "3.11.5"
  },
  "toc": {
   "base_numbering": 1,
   "nav_menu": {},
   "number_sections": true,
   "sideBar": true,
   "skip_h1_title": false,
   "title_cell": "Table of Contents",
   "title_sidebar": "Contents",
   "toc_cell": false,
   "toc_position": {},
   "toc_section_display": true,
   "toc_window_display": false
  },
  "vscode": {
   "interpreter": {
    "hash": "31f2aee4e71d21fbe5cf8b01ff0e069b9275f58929596ceb00d14d90e3e16cd6"
   }
  }
 },
 "nbformat": 4,
 "nbformat_minor": 5
}
