{
 "cells": [
  {
   "attachments": {},
   "cell_type": "markdown",
   "id": "123456",
   "metadata": {},
   "source": [
    "<div style=\"text-align:left;font-size:2em\"><span style=\"font-weight:bolder;font-size:1.25em\">SP2273 | Learning Portfolio</span><br><br><span style=\"font-weight:bold;color:darkred\">Loops (Need) Exercises</span></div>"
   ]
  },
  {
   "cell_type": "markdown",
   "id": "24b68568-19bf-4f56-8332-bdf6de1383c3",
   "metadata": {},
   "source": [
    "Exercise 1"
   ]
  },
  {
   "cell_type": "code",
   "execution_count": 11,
   "id": "c9d4944a-fac9-4b65-8f0e-b31806e5a224",
   "metadata": {},
   "outputs": [
    {
     "name": "stdout",
     "output_type": "stream",
     "text": [
      "Temperature in Celcius, in Fahrenheit: 0 , 32.0\n",
      "Temperature in Celcius, in Fahrenheit: 5 , 41.0\n",
      "Temperature in Celcius, in Fahrenheit: 10 , 50.0\n",
      "Temperature in Celcius, in Fahrenheit: 15 , 59.0\n",
      "Temperature in Celcius, in Fahrenheit: 20 , 68.0\n",
      "Temperature in Celcius, in Fahrenheit: 25 , 77.0\n",
      "Temperature in Celcius, in Fahrenheit: 30 , 86.0\n",
      "Temperature in Celcius, in Fahrenheit: 35 , 95.0\n",
      "Temperature in Celcius, in Fahrenheit: 40 , 104.0\n",
      "Temperature in Celcius, in Fahrenheit: 45 , 113.0\n",
      "Temperature in Celcius, in Fahrenheit: 50 , 122.0\n"
     ]
    }
   ],
   "source": [
    "temperatures_celsius = [0, 5, 10, 15, 20, 25, 30, 35, 40, 45, 50]\n",
    "\n",
    "for temp in temperatures_celsius:\n",
    "    temp_fahrenheit = (9/5)*temp + 32\n",
    "    print(\"Temperature in Celcius, in Fahrenheit:\", temp, ',', temp_fahrenheit)"
   ]
  },
  {
   "cell_type": "markdown",
   "id": "74df2d52-9320-4d38-83a3-407e34de9c57",
   "metadata": {},
   "source": [
    "Exercise 2"
   ]
  },
  {
   "cell_type": "markdown",
   "id": "fafc04e2-42e1-45cc-80e5-eeec450c7492",
   "metadata": {},
   "source": [
    "Write a Python snippet that prints a multiplication table (up to 5) for numbers 1 through 5 using nested for loops. The output should be formatted as shown below:\r\n",
    "\r\n",
    "1 : 1   2   3   4   5   \r\n",
    "2 : 2   4   6   8   10  \r\n",
    "3 : 3   6   9   12  15  \r\n",
    "4 : 4   8   12  16  20  \r\n",
    "5 : 5   10  15  20  25  "
   ]
  },
  {
   "cell_type": "code",
   "execution_count": 2,
   "id": "a676d889-5a19-446a-9d95-467145021e84",
   "metadata": {},
   "outputs": [
    {
     "name": "stdout",
     "output_type": "stream",
     "text": [
      "1 :\t1\t2\t3\t4\t5\t\n",
      "\n",
      "2 :\t2\t4\t6\t8\t10\t\n",
      "\n",
      "3 :\t3\t6\t9\t12\t15\t\n",
      "\n",
      "4 :\t4\t8\t12\t16\t20\t\n",
      "\n",
      "5 :\t5\t10\t15\t20\t25\t\n",
      "\n"
     ]
    }
   ],
   "source": [
    "for numbers in [1, 2, 3, 4, 5]:\n",
    "    print(numbers, \":\", end='\\t')\n",
    "    for number in [1, 2, 3, 4, 5]:\n",
    "        print(f'{numbers*number}', end='\\t')\n",
    "    print( '\\n')"
   ]
  }
 ],
 "metadata": {
  "kernelspec": {
   "display_name": "Python 3 (ipykernel)",
   "language": "python",
   "name": "python3"
  },
  "language_info": {
   "codemirror_mode": {
    "name": "ipython",
    "version": 3
   },
   "file_extension": ".py",
   "mimetype": "text/x-python",
   "name": "python",
   "nbconvert_exporter": "python",
   "pygments_lexer": "ipython3",
   "version": "3.11.5"
  },
  "toc": {
   "base_numbering": 1,
   "nav_menu": {},
   "number_sections": true,
   "sideBar": true,
   "skip_h1_title": false,
   "title_cell": "Table of Contents",
   "title_sidebar": "Contents",
   "toc_cell": false,
   "toc_position": {},
   "toc_section_display": true,
   "toc_window_display": false
  },
  "vscode": {
   "interpreter": {
    "hash": "31f2aee4e71d21fbe5cf8b01ff0e069b9275f58929596ceb00d14d90e3e16cd6"
   }
  }
 },
 "nbformat": 4,
 "nbformat_minor": 5
}
