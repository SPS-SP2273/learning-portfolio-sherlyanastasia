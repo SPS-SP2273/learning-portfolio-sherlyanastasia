{
 "cells": [
  {
   "attachments": {},
   "cell_type": "markdown",
   "id": "123456",
   "metadata": {},
   "source": [
    "<div style=\"text-align:left;font-size:2em\"><span style=\"font-weight:bolder;font-size:1.25em\">SP2273 | Learning Portfolio</span><br><br><span style=\"font-weight:bold;color:darkred\">Functions (Need)</span></div>"
   ]
  },
  {
   "cell_type": "markdown",
   "id": "efb4c7de-40b9-458e-b79f-ec76fa2f32ea",
   "metadata": {},
   "source": [
    "![](https://imgs.xkcd.com/comics/functional.png)"
   ]
  },
  {
   "cell_type": "markdown",
   "id": "417c9dad-15b8-418d-9e5c-9e4bbca4f06a",
   "metadata": {},
   "source": [
    "Figure 1: From [xkcd](https://xkcd.com/)."
   ]
  },
  {
   "attachments": {},
   "cell_type": "markdown",
   "id": "39e9d4f6",
   "metadata": {},
   "source": [
    "# What to expect in this chapter"
   ]
  },
  {
   "cell_type": "markdown",
   "id": "4c44c9cb-9d98-407e-9dc2-1dbdef7aadc2",
   "metadata": {},
   "source": [
    "- By now, you will be comfortable using functions (e.g. `print(), enumerate()`).\n",
    "- Function is just a chunk of code that does a specific conceptual task.\n",
    "- You also can create your own function as a black box and just use it without knowing exactly what is going on in it. This is to make certain things go faster and to avoid being too detail cause it can be detrimental. At the same time, it is unwise to use as you do not know how an output is generated."
   ]
  },
  {
   "cell_type": "markdown",
   "id": "c68232d2-9697-4b0b-af89-ac5c20648360",
   "metadata": {},
   "source": [
    "In this chapter, you will craft your own function."
   ]
  },
  {
   "attachments": {},
   "cell_type": "markdown",
   "id": "ff9df3f5",
   "metadata": {},
   "source": [
    "# 1 User-defined functions"
   ]
  },
  {
   "cell_type": "markdown",
   "id": "a1cc2f2a-8e4a-458c-8831-e2d611936e85",
   "metadata": {},
   "source": [
    "`print()` is an example of an **internal** function in Python. You can also create your own functions. There are two ways to do this: **named** and **anonymous**."
   ]
  },
  {
   "attachments": {},
   "cell_type": "markdown",
   "id": "1b3a04ba",
   "metadata": {},
   "source": [
    "## 1.1 Named Functions"
   ]
  },
  {
   "attachments": {},
   "cell_type": "markdown",
   "id": "43f9dace",
   "metadata": {},
   "source": [
    "### Named functions that return"
   ]
  },
  {
   "cell_type": "markdown",
   "id": "77ac5702-e29a-4bf8-aa16-27b53c2f757c",
   "metadata": {},
   "source": [
    "We define the function by using the keyword `def` as follows:"
   ]
  },
  {
   "cell_type": "code",
   "execution_count": 1,
   "id": "4f95cabc-363b-4889-8365-f3be3aa4e106",
   "metadata": {},
   "outputs": [],
   "source": [
    "def greeting(name):\n",
    "    if name == 'Batman':\n",
    "        return 'Hello Batman! So, nice to meet you!'\n",
    "    else:\n",
    "        return f'Hello {name}!'"
   ]
  },
  {
   "cell_type": "markdown",
   "id": "3d1428a2-eb14-456b-b626-aa7363608680",
   "metadata": {},
   "source": [
    "The function’s name is `greeting` and it accepts a single argument called `name`. We can then use the function as:"
   ]
  },
  {
   "cell_type": "code",
   "execution_count": null,
   "id": "5e7c906b-1b08-48f0-9836-928c2fe0a23b",
   "metadata": {},
   "outputs": [],
   "source": [
    "greeting(\"Super Man\")"
   ]
  },
  {
   "cell_type": "markdown",
   "id": "42b19eb3-afdb-44ca-a297-cacd3eef6f7c",
   "metadata": {},
   "source": [
    "or"
   ]
  },
  {
   "cell_type": "code",
   "execution_count": null,
   "id": "d21da4ae-2402-402a-8ea1-eb7273261402",
   "metadata": {},
   "outputs": [],
   "source": [
    "greeting(name=\"Super Man\")"
   ]
  },
  {
   "cell_type": "markdown",
   "id": "fde08c73-9932-41c8-b541-c2933187fe13",
   "metadata": {},
   "source": [
    "But, we cannot use the `greeting` function like this:"
   ]
  },
  {
   "cell_type": "code",
   "execution_count": 3,
   "id": "dbcb0d6c-48eb-48bc-bb3f-2396ce4a259a",
   "metadata": {},
   "outputs": [
    {
     "ename": "TypeError",
     "evalue": "greeting() missing 1 required positional argument: 'name'",
     "output_type": "error",
     "traceback": [
      "\u001b[1;31m---------------------------------------------------------------------------\u001b[0m",
      "\u001b[1;31mTypeError\u001b[0m                                 Traceback (most recent call last)",
      "Cell \u001b[1;32mIn[3], line 1\u001b[0m\n\u001b[1;32m----> 1\u001b[0m \u001b[43mgreeting\u001b[49m\u001b[43m(\u001b[49m\u001b[43m)\u001b[49m\n",
      "\u001b[1;31mTypeError\u001b[0m: greeting() missing 1 required positional argument: 'name'"
     ]
    }
   ],
   "source": [
    "greeting()"
   ]
  },
  {
   "cell_type": "markdown",
   "id": "d1181826-8fee-4b3b-9198-21c85bd5c407",
   "metadata": {},
   "source": [
    "As with all structures in Python, notice the keyword `def`, the colon (`:`) and the `indentation` that demarcates the function’s code block. We have used the keyword `return` to get an output from the function. When Python sees a return keyword it **jumps out** of the function with the return value. You can pick up the returned value by assigning it to a variable or even use it directly like:"
   ]
  },
  {
   "cell_type": "code",
   "execution_count": null,
   "id": "360b4aa7-3858-486b-b517-4bc1f584f3ef",
   "metadata": {},
   "outputs": [],
   "source": [
    "greet=greeting(name='Super Man')\n",
    "print(greet)"
   ]
  },
  {
   "cell_type": "markdown",
   "id": "47621ec3-4176-45d5-8c15-f748252baf29",
   "metadata": {},
   "source": [
    "or:"
   ]
  },
  {
   "cell_type": "code",
   "execution_count": null,
   "id": "c3dccd88-d6b7-4a64-a47b-22a6039f1191",
   "metadata": {},
   "outputs": [],
   "source": [
    "print(greeting(name='Super Man'))"
   ]
  },
  {
   "cell_type": "markdown",
   "id": "2c6e9087-ea9b-4346-8246-77691f5a6642",
   "metadata": {},
   "source": [
    "Incidentally, you can use `return` **only within a function**."
   ]
  },
  {
   "cell_type": "markdown",
   "id": "3a353b9d-62be-49ea-92a7-612e54b921cb",
   "metadata": {},
   "source": [
    "You **can return almost anything**! \n",
    "\n",
    "Here is an example of a function that accepts a list and returns the maximum, minimum and mean."
   ]
  },
  {
   "cell_type": "code",
   "execution_count": 10,
   "id": "4380eb72-2bbd-4e52-9438-5f524a19b663",
   "metadata": {},
   "outputs": [],
   "source": [
    "import numpy as np\n",
    "def basic_stats(numbers):\n",
    "    np_numbers = np.array(numbers)\n",
    "    my_min = np_numbers.min()\n",
    "    my_max = np_numbers.max()\n",
    "    my_mean = np_numbers.mean()\n",
    "    return my_max, my_min, my_mean"
   ]
  },
  {
   "cell_type": "markdown",
   "id": "5280d9a2-245c-4424-b4ac-c8d966b7a6b6",
   "metadata": {},
   "source": [
    "Here is how you can use it:"
   ]
  },
  {
   "cell_type": "code",
   "execution_count": 13,
   "id": "df6b0a12-de0b-4839-b2a4-2a6d8397b374",
   "metadata": {},
   "outputs": [],
   "source": [
    "list_min, list_max, list_mean = basic_stats([1, 2, 3, 4, 5])"
   ]
  },
  {
   "cell_type": "code",
   "execution_count": 14,
   "id": "89308e9d",
   "metadata": {},
   "outputs": [
    {
     "name": "stdout",
     "output_type": "stream",
     "text": [
      "Hello Glenn\n",
      "Hola Sally\n",
      "Bonjour Michael\n"
     ]
    }
   ],
   "source": [
    "def greet(lang):\n",
    "    if lang == 'es':\n",
    "        return 'Hola'\n",
    "    elif lang == 'fr':\n",
    "        return 'Bonjour'\n",
    "    else:\n",
    "        return 'Hello'\n",
    "\n",
    "print(greet('en'),'Glenn')\n",
    "#Output: Hello Glenn\n",
    "print(greet('es'),'Sally')\n",
    "#Output: Hola Sally\n",
    "print(greet('fr'),'Michael')\n",
    "#Output: Bonjour Michael"
   ]
  },
  {
   "attachments": {},
   "cell_type": "markdown",
   "id": "77e24818",
   "metadata": {},
   "source": [
    "### Named functions that don’t return"
   ]
  },
  {
   "cell_type": "markdown",
   "id": "5b03fb2f-a152-4bd8-95ec-c31f5249bc82",
   "metadata": {},
   "source": [
    "A function does **not** have to return anything. A good example is `print()`, which does something but does not return a value. You will often also need functions like these, for instance, to save data to a file."
   ]
  },
  {
   "cell_type": "code",
   "execution_count": 16,
   "id": "c39a96f6",
   "metadata": {},
   "outputs": [
    {
     "name": "stdout",
     "output_type": "stream",
     "text": [
      "Hello\n",
      "Hola\n",
      "Bonjour\n"
     ]
    }
   ],
   "source": [
    "def greet(lang):\n",
    "    if lang == 'es':\n",
    "        print('Hola')\n",
    "    elif lang == 'fr':\n",
    "        print('Bonjour')\n",
    "    else:\n",
    "        print('Hello')\n",
    "\n",
    "greet('en')\n",
    "greet('es')\n",
    "greet('fr')"
   ]
  },
  {
   "attachments": {},
   "cell_type": "markdown",
   "id": "59fe88af",
   "metadata": {},
   "source": [
    "## 1.2 Anonymous functions"
   ]
  },
  {
   "cell_type": "markdown",
   "id": "ac17396a-ce9f-4dc2-b5b2-1e7d46a46791",
   "metadata": {},
   "source": [
    "Anonymous or `lambda` functions are suitable for short one-liners."
   ]
  },
  {
   "cell_type": "markdown",
   "id": "f4d39323-7ece-424b-b1d9-6acc95a4ff34",
   "metadata": {},
   "source": [
    "**Example 1**"
   ]
  },
  {
   "cell_type": "markdown",
   "id": "fb702b48-4037-41bb-9eea-eaa722ddecb0",
   "metadata": {},
   "source": [
    "This function accepts a single argument called `name`."
   ]
  },
  {
   "cell_type": "code",
   "execution_count": null,
   "id": "c21685e5-2edd-4af2-9556-16c3638b826b",
   "metadata": {},
   "outputs": [],
   "source": [
    "my_short_function = lambda name: f\"Hello {name}!\""
   ]
  },
  {
   "cell_type": "markdown",
   "id": "a3f56dc8-df91-4d37-813b-c8306a1ca543",
   "metadata": {},
   "source": [
    "We can use it like\r\n"
   ]
  },
  {
   "cell_type": "code",
   "execution_count": null,
   "id": "582a8474-89c5-417d-a687-2ba39aca1361",
   "metadata": {},
   "outputs": [],
   "source": [
    "my_short_function(name=\"Super Man\")"
   ]
  },
  {
   "cell_type": "markdown",
   "id": "9b215340-b679-47bd-b42f-4bf43acb488f",
   "metadata": {},
   "source": [
    "A `lambda` function always returns the value of the last statement."
   ]
  },
  {
   "cell_type": "markdown",
   "id": "201eb7a2-40bb-4020-9375-b353d23844ba",
   "metadata": {},
   "source": [
    "**Example 2**"
   ]
  },
  {
   "cell_type": "markdown",
   "id": "d2c26e4c-3999-4dd8-b7cc-54b880681832",
   "metadata": {},
   "source": [
    "The above example is not a very good ‘anonymous’ one because we **have** used a name! So let's us try another one where things are really anonymous.\r\n",
    "\r\n",
    "Let’s s we want t to sort the following 2D list."
   ]
  },
  {
   "cell_type": "code",
   "execution_count": 18,
   "id": "945efbb2-c67b-483d-83f5-e85ae32c3b69",
   "metadata": {},
   "outputs": [],
   "source": [
    "numbers=[[9, 0, -10],\n",
    "         [8, 1, -11],\n",
    "         [7, 2, -12],\n",
    "         [6, 3, -13],\n",
    "         [5, 4, -14],\n",
    "         [4, 5, -15],\n",
    "         [3, 6, -16],\n",
    "         [2, 7, -17],\n",
    "         [1, 8, -18],\n",
    "         [0, 9, -19]]"
   ]
  },
  {
   "cell_type": "markdown",
   "id": "1ea3a2a6-3d99-46ce-a752-1910797708d9",
   "metadata": {},
   "source": [
    "We can use the `sorted()` function for this. Here are three ways we can use it.\n",
    "\n",
    "**The first one:**"
   ]
  },
  {
   "cell_type": "code",
   "execution_count": 19,
   "id": "b629465c-d9ea-460d-9c43-6953b183a8d8",
   "metadata": {},
   "outputs": [
    {
     "data": {
      "text/plain": [
       "[[0, 9, -19],\n",
       " [1, 8, -18],\n",
       " [2, 7, -17],\n",
       " [3, 6, -16],\n",
       " [4, 5, -15],\n",
       " [5, 4, -14],\n",
       " [6, 3, -13],\n",
       " [7, 2, -12],\n",
       " [8, 1, -11],\n",
       " [9, 0, -10]]"
      ]
     },
     "execution_count": 19,
     "metadata": {},
     "output_type": "execute_result"
    }
   ],
   "source": [
    "# Sort by comparing the default key\n",
    "# (i.e., the 1st element)\n",
    "sorted(numbers)"
   ]
  },
  {
   "cell_type": "markdown",
   "id": "75e55512-fe04-4809-9585-e60418c63055",
   "metadata": {},
   "source": [
    "Notice that this sorting is based on comparing the first elements of the sub-lists."
   ]
  },
  {
   "cell_type": "code",
   "execution_count": 20,
   "id": "8c51164d-fe9a-4ff8-9d6c-c4a35b7af108",
   "metadata": {},
   "outputs": [
    {
     "data": {
      "text/plain": [
       "[[9, 0, -10],\n",
       " [8, 1, -11],\n",
       " [7, 2, -12],\n",
       " [6, 3, -13],\n",
       " [5, 4, -14],\n",
       " [4, 5, -15],\n",
       " [3, 6, -16],\n",
       " [2, 7, -17],\n",
       " [1, 8, -18],\n",
       " [0, 9, -19]]"
      ]
     },
     "execution_count": 20,
     "metadata": {},
     "output_type": "execute_result"
    }
   ],
   "source": [
    "# Sort by comparing a custom key\n",
    "# that uses the 2nd element (index=1)\n",
    "sorted(numbers, key=lambda x: x[1])"
   ]
  },
  {
   "cell_type": "markdown",
   "id": "c709dc69-b3fc-4210-b6d0-d87ec5f2a8a0",
   "metadata": {},
   "source": [
    "If we want to use some other criteria, then we need to specify a `key` that `sorted()` can be used for comparison. In this case, we use a `lambda` function."
   ]
  },
  {
   "cell_type": "code",
   "execution_count": 21,
   "id": "f3d8684c-3f0e-44a8-b0b8-20a465b9a665",
   "metadata": {},
   "outputs": [
    {
     "data": {
      "text/plain": [
       "[[0, 9, -19],\n",
       " [1, 8, -18],\n",
       " [2, 7, -17],\n",
       " [3, 6, -16],\n",
       " [4, 5, -15],\n",
       " [5, 4, -14],\n",
       " [6, 3, -13],\n",
       " [7, 2, -12],\n",
       " [8, 1, -11],\n",
       " [9, 0, -10]]"
      ]
     },
     "execution_count": 21,
     "metadata": {},
     "output_type": "execute_result"
    }
   ],
   "source": [
    "# Sort by comparing a custom key\n",
    "# that uses the sum of the elements.\n",
    "sorted(numbers, key=lambda x: sum(x))   "
   ]
  },
  {
   "cell_type": "markdown",
   "id": "10a7a1d5-da11-4493-87d5-b3ca88f6724c",
   "metadata": {},
   "source": [
    "This is really powerful as we can specify almost any criterion we like. For example, we can sort according to the sum of the elements of the sub-lists."
   ]
  },
  {
   "attachments": {},
   "cell_type": "markdown",
   "id": "f315752c",
   "metadata": {},
   "source": [
    "## 1.3 Optional arguments"
   ]
  },
  {
   "cell_type": "markdown",
   "id": "108ee20e-3d44-4ef6-8cfb-e24e5d9db2cc",
   "metadata": {},
   "source": [
    "Python allows us to make arguments to our function **optional**. To do this, we need to give the argument a **default** value so that it always has something to work with."
   ]
  },
  {
   "cell_type": "code",
   "execution_count": 22,
   "id": "0ed399ac-f55e-4bcf-b193-d0deb8656fd3",
   "metadata": {},
   "outputs": [],
   "source": [
    "def greeting(name='no one'):\n",
    "    if name == 'Batman':\n",
    "        return 'Hello Batman! So, nice to meet you!'\n",
    "    else:\n",
    "        return f'Hello {name}!'"
   ]
  },
  {
   "cell_type": "markdown",
   "id": "b20d6ace-b03c-42c9-862c-2f3e7194f91a",
   "metadata": {},
   "source": [
    "Now we can run this function without an argument, and it will still work without throwing an error."
   ]
  },
  {
   "cell_type": "code",
   "execution_count": 23,
   "id": "792762e0-15a3-4bd3-acab-ae729b922cf6",
   "metadata": {},
   "outputs": [
    {
     "data": {
      "text/plain": [
       "'Hello no one!'"
      ]
     },
     "execution_count": 23,
     "metadata": {},
     "output_type": "execute_result"
    }
   ],
   "source": [
    "greeting()"
   ]
  },
  {
   "cell_type": "markdown",
   "id": "7e0b5f27-cbaa-4cda-a1f5-12f02b4c66d9",
   "metadata": {},
   "source": [
    "For another example, let’s look at the documentation for `print()`."
   ]
  },
  {
   "cell_type": "code",
   "execution_count": 24,
   "id": "14b0beec-278e-419b-a211-1b8a0a4c79a5",
   "metadata": {},
   "outputs": [
    {
     "data": {
      "text/plain": [
       "\u001b[1;31mSignature:\u001b[0m \u001b[0mprint\u001b[0m\u001b[1;33m(\u001b[0m\u001b[1;33m*\u001b[0m\u001b[0margs\u001b[0m\u001b[1;33m,\u001b[0m \u001b[0msep\u001b[0m\u001b[1;33m=\u001b[0m\u001b[1;34m' '\u001b[0m\u001b[1;33m,\u001b[0m \u001b[0mend\u001b[0m\u001b[1;33m=\u001b[0m\u001b[1;34m'\\n'\u001b[0m\u001b[1;33m,\u001b[0m \u001b[0mfile\u001b[0m\u001b[1;33m=\u001b[0m\u001b[1;32mNone\u001b[0m\u001b[1;33m,\u001b[0m \u001b[0mflush\u001b[0m\u001b[1;33m=\u001b[0m\u001b[1;32mFalse\u001b[0m\u001b[1;33m)\u001b[0m\u001b[1;33m\u001b[0m\u001b[1;33m\u001b[0m\u001b[0m\n",
       "\u001b[1;31mDocstring:\u001b[0m\n",
       "Prints the values to a stream, or to sys.stdout by default.\n",
       "\n",
       "sep\n",
       "  string inserted between values, default a space.\n",
       "end\n",
       "  string appended after the last value, default a newline.\n",
       "file\n",
       "  a file-like object (stream); defaults to the current sys.stdout.\n",
       "flush\n",
       "  whether to forcibly flush the stream.\n",
       "\u001b[1;31mType:\u001b[0m      builtin_function_or_method"
      ]
     },
     "metadata": {},
     "output_type": "display_data"
    }
   ],
   "source": [
    "?print"
   ]
  },
  {
   "cell_type": "markdown",
   "id": "e3be4507-1979-47a2-8577-9676fee5b4d7",
   "metadata": {},
   "source": [
    "You see that `print()` can accept other arguments that are optional with default values.\n",
    "\n",
    "However, we can specify them if we like; here goes."
   ]
  },
  {
   "cell_type": "code",
   "execution_count": 25,
   "id": "931fb78a-c7f4-416e-a01c-807473d3e978",
   "metadata": {},
   "outputs": [
    {
     "name": "stdout",
     "output_type": "stream",
     "text": [
      "I am Batman!\n",
      "I---am---Batman!\n"
     ]
    }
   ],
   "source": [
    "# Using default values\n",
    "print('I', 'am', 'Batman!')\n",
    "# Specifying an optional argument\n",
    "print('I', 'am', 'Batman!', sep='---')  "
   ]
  },
  {
   "cell_type": "markdown",
   "id": "442ee0c4-ab73-42ad-936a-a53eab17c147",
   "metadata": {},
   "source": [
    "**Remember**:\n",
    "\n",
    "- you can define your own functions\n",
    "- functions can have optional arguments\n",
    "- functions **don’t** always have to return anything."
   ]
  },
  {
   "attachments": {},
   "cell_type": "markdown",
   "id": "d023e9d9",
   "metadata": {},
   "source": [
    "## 1.4 The importance of functions?"
   ]
  },
  {
   "attachments": {},
   "cell_type": "markdown",
   "id": "e1ec9a51",
   "metadata": {},
   "source": [
    "### An argument for functions"
   ]
  },
  {
   "cell_type": "markdown",
   "id": "29a84a3e-1e26-49d5-a3b1-8b63622cd504",
   "metadata": {},
   "source": [
    "#### ***Why functions are a good idea:***"
   ]
  },
  {
   "cell_type": "markdown",
   "id": "8d0be47f-57f4-455e-a7b6-8938b6de9fea",
   "metadata": {},
   "source": [
    "1. **Abstraction of details**\n",
    "   \n",
    "   For example, if you want to work on a complicated problems, then it will become easier for you to solve it by paying attention to the 'big picture' of the problems. You don't need to pay attention to unnecessary details, as these details will distract and draw your attention. This *hiding* of 'stuff' is called ***abstraction*** in computer science lingo.\n",
    "   \n",
    "   Analogy:\n",
    "\n",
    "   A vehicle has many ‘abstracted’ systems, amongst which the engine is a good example. You do not need to know the engine’s details (e.g. electric, petrol, diesel, guineapig) to use it. You can use the engine of almost any car because you are not required to know what happens inside. This frees up your resources because you are not distracted by unnecessary details. Of course, there will be times when you want to know how an engine works to pick the best engine.\n",
    "3. **Reusability of code**\n",
    "\n",
    "   If you ***encapsulate*** a chunk of code in a function, it becomes straightforward to reuse it instead of copying and pasting at different places. This means your code will be shorter and more compact.\n",
    "5. **Maintainability of code**\n",
    "\n",
    "   With functions, your code is ***easier to change and maintain*** because you need only make changes in one place, at the function definition.\n",
    "\n",
    "**Example:**\n",
    "\n",
    "We want to compute how many will a company pay its employees based on their total number of working time (hours) and rate (money per hours):"
   ]
  },
  {
   "cell_type": "code",
   "execution_count": 29,
   "id": "8a10413c",
   "metadata": {},
   "outputs": [
    {
     "data": {
      "text/plain": [
       "102"
      ]
     },
     "execution_count": 29,
     "metadata": {},
     "output_type": "execute_result"
    }
   ],
   "source": [
    "def computepay(h, r):\n",
    "    if h>40:\n",
    "        multiply = 40*r + (h-40)*1.5*r\n",
    "    else:\n",
    "        multiply = h*r\n",
    "    return multiply\n",
    "\n",
    "computepay(34,3)"
   ]
  },
  {
   "cell_type": "markdown",
   "id": "c187fbc0-50ea-4ed5-9604-f715bf92b38f",
   "metadata": {},
   "source": [
    "In the above example, we can easily write `computepay(34,3)` without the needs to create a formula again and again. If you make a mistake, you can just fix it at one place and done, most importantly, you don't need to fix your mistakes many times at different places."
   ]
  },
  {
   "attachments": {},
   "cell_type": "markdown",
   "id": "e952019f",
   "metadata": {},
   "source": [
    "### A word of caution"
   ]
  },
  {
   "cell_type": "markdown",
   "id": "fc208101-5cce-4063-86c3-ac9bd479d748",
   "metadata": {},
   "source": [
    "- Functions can be **abused**, for example, by trying to do too many things or having too many arguments\n",
    "- Functions can also be **overused**. Having too many functions can make it difficult to read your code and also increase computational overheads.\n",
    "\n",
    "**For example:**"
   ]
  },
  {
   "cell_type": "code",
   "execution_count": 32,
   "id": "91e9b7ed",
   "metadata": {},
   "outputs": [],
   "source": [
    "def addtwo(a, b):\n",
    "    added = a + b\n",
    "    return added\n",
    "def substract(a, b):\n",
    "    substrct = a - b\n",
    "    return substrct"
   ]
  },
  {
   "cell_type": "code",
   "execution_count": 36,
   "id": "9dd7c59d-21f2-4c41-b437-aef2faa49e4c",
   "metadata": {},
   "outputs": [
    {
     "data": {
      "text/plain": [
       "8"
      ]
     },
     "execution_count": 36,
     "metadata": {},
     "output_type": "execute_result"
    }
   ],
   "source": [
    "addtwo(3,5)"
   ]
  },
  {
   "cell_type": "code",
   "execution_count": 35,
   "id": "a2b6500d-844a-49cf-a94a-c5c0b177fc2c",
   "metadata": {},
   "outputs": [
    {
     "data": {
      "text/plain": [
       "5"
      ]
     },
     "execution_count": 35,
     "metadata": {},
     "output_type": "execute_result"
    }
   ],
   "source": [
    "substract(10,5)"
   ]
  },
  {
   "cell_type": "markdown",
   "id": "cb6c788a-40c5-4ac8-92fb-b627c8bb172d",
   "metadata": {},
   "source": [
    "In the above case, we don't really need to define function to `add` or `substract` something as there is a faster way to do it. Making such functions is a waste of time."
   ]
  }
 ],
 "metadata": {
  "kernelspec": {
   "display_name": "Python 3 (ipykernel)",
   "language": "python",
   "name": "python3"
  },
  "language_info": {
   "codemirror_mode": {
    "name": "ipython",
    "version": 3
   },
   "file_extension": ".py",
   "mimetype": "text/x-python",
   "name": "python",
   "nbconvert_exporter": "python",
   "pygments_lexer": "ipython3",
   "version": "3.11.5"
  },
  "toc": {
   "base_numbering": 1,
   "nav_menu": {},
   "number_sections": true,
   "sideBar": true,
   "skip_h1_title": false,
   "title_cell": "Table of Contents",
   "title_sidebar": "Contents",
   "toc_cell": false,
   "toc_position": {},
   "toc_section_display": true,
   "toc_window_display": false
  },
  "vscode": {
   "interpreter": {
    "hash": "31f2aee4e71d21fbe5cf8b01ff0e069b9275f58929596ceb00d14d90e3e16cd6"
   }
  }
 },
 "nbformat": 4,
 "nbformat_minor": 5
}
