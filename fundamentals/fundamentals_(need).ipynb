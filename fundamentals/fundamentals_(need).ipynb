{
 "cells": [
  {
   "attachments": {},
   "cell_type": "markdown",
   "id": "123456",
   "metadata": {},
   "source": [
    "<div style=\"text-align:left;font-size:2em\"><span style=\"font-weight:bolder;font-size:1.25em\">SP2273 | Learning Portfolio</span><br><br><span style=\"font-weight:bold;color:darkred\">Fundamentals (Need)</span></div>"
   ]
  },
  {
   "cell_type": "markdown",
   "id": "4fdc6f3b-ccd2-4500-b2e9-b0ca3fddc066",
   "metadata": {},
   "source": [
    "![](https://fabienmaussion.info/scipro_ss2018/img/00_messing_python.png)\n",
    "\n",
    "Figure 1: Credit [Fabien Maussion](https://fabienmaussion.info/) and [xkcd](https://xkcd.com/)."
   ]
  },
  {
   "attachments": {},
   "cell_type": "markdown",
   "id": "c14d650a",
   "metadata": {},
   "source": [
    "# What to expect in this chapter"
   ]
  },
  {
   "cell_type": "markdown",
   "id": "85aabb64-57a0-49f6-adcb-b720b86902bc",
   "metadata": {},
   "source": [
    "Fundamentals of Python's syntax:\n",
    "- Indentations (spaces, tabs) to identify blocks of code\n",
    "- How to use the dot (**.**)\n",
    "- Extend Python's abilities by importing packages"
   ]
  },
  {
   "attachments": {},
   "cell_type": "markdown",
   "id": "d8483342",
   "metadata": {},
   "source": [
    "# 1 Functions"
   ]
  },
  {
   "cell_type": "markdown",
   "id": "eef1e015-35a7-4585-924b-30f768b3932b",
   "metadata": {},
   "source": [
    "Let first start by discussing what **print()** does. The function **print()** is a built-in function in Python that is used to output text or values to the console. It takes one or more arguments, which can be a string, number, or other data type, and displays them on your screen."
   ]
  },
  {
   "cell_type": "markdown",
   "id": "8b40e949-5eb0-42b3-b81e-714a2e295996",
   "metadata": {},
   "source": [
    "Run the following code:\n",
    "\n",
    "`print('Hello World!')`"
   ]
  },
  {
   "cell_type": "code",
   "execution_count": null,
   "id": "74f7ca9d-1ad3-4096-98cf-af17127bdb63",
   "metadata": {},
   "outputs": [],
   "source": [
    "print('Hello World!')"
   ]
  },
  {
   "cell_type": "markdown",
   "id": "52d75876-e721-4db4-843c-f0740bfda2fe",
   "metadata": {},
   "source": [
    "You should see the words `Hello World!` as an output."
   ]
  },
  {
   "attachments": {},
   "cell_type": "markdown",
   "id": "48735f06-de9e-4e85-8b33-04cb6c84c388",
   "metadata": {},
   "source": [
    "Something to take note of:\n",
    "\n",
    "- **print()** is a *function*.\n",
    "\n",
    "  You can think of a function as 'something' that does a specific task. In this case, the **print()** function accepts the \"Hello World!\" *argument* and prints it to the screen.\n",
    "  \n",
    "  There are two kinds of functions in Python.\n",
    "  1. `Built-in functions` that are provided as part of Python.\n",
    "     \n",
    "     For example:\n",
    "      print(), input(), type(), float(), int() ...\n",
    "     \r",
    "  4. ` Functions that we define ourseves`  and then us\n",
    "\n",
    "   We treat function names as `reserved words` (i.e., we avoid using them as variable names).\n",
    "\n",
    "\r\n",
    "\n",
    "- Parenthese` *`)****, alw**ays follows a functi\n",
    "  Parentheses is used to pass arguments to the function. Most of the functions expect arguments. For those functions that do not require an argument, the parentheses are left empty.\n",
    "\n",
    "  For example : `exit()`\n",
    "  on.\n",
    "- **print()is a core (built-in) function of Python.\n",
    "- the above is an example of a *code*, instructions written using a syntax that a programming language understands.** "
   ]
  },
  {
   "attachments": {},
   "cell_type": "markdown",
   "id": "7f8618ba",
   "metadata": {},
   "source": [
    "# 2 Remember"
   ]
  },
  {
   "cell_type": "markdown",
   "id": "c23ce93a-b823-494a-8f0b-e59bb4b93af3",
   "metadata": {},
   "source": [
    "- A function is ‘something’ that executes a specific task.\n",
    "- A function may or may not accept arguments.\n",
    "- We can define our own functions."
   ]
  },
  {
   "attachments": {},
   "cell_type": "markdown",
   "id": "f5547029",
   "metadata": {},
   "source": [
    "# 3 Python is interpreted"
   ]
  },
  {
   "cell_type": "markdown",
   "id": "8e85bedd-fb72-4b6b-a5b1-7e43214b689b",
   "metadata": {},
   "source": [
    "What we refer to as ‘Python’ is really the Python **$interpreter_1$**."
   ]
  },
  {
   "cell_type": "markdown",
   "id": "d8190373-119f-4d6c-a794-7509ee497618",
   "metadata": {},
   "source": [
    "An interpreter works *sequentially, one command at a time*. So, for example, the following has two commands.\n",
    "\n",
    "print('Hello World')\r\n",
    "print('Hello World agan')\n",
    "\n",
    "Python will give an output like this:\n",
    "\n",
    "Hello World\n",
    "Hello World again\n",
    "\n",
    "The interpreter stops and complains if there is an error in the command it is currently executing. )"
   ]
  },
  {
   "attachments": {},
   "cell_type": "markdown",
   "id": "d6584683-1dac-4aa0-ad1a-d7bd1a79cdfa",
   "metadata": {},
   "source": [
    "Program flow in Python:\n",
    "- Like a recipe or installation instructions, a program is a **sequence** of steps to be done in order.\n",
    "- Some steps are **conditional** - they may be skipped.\r",
    "- Sometimes a step or group of steps is to be **repeated**.\r",
    "- Sometimes we store a set of steps to be used over and over as needed several places throughout the program.\n",
    "\n"
   ]
  },
  {
   "attachments": {},
   "cell_type": "markdown",
   "id": "0b256ac1",
   "metadata": {},
   "source": [
    "# 4 Python is sensitive."
   ]
  },
  {
   "cell_type": "markdown",
   "id": "fce5f245-1813-466c-8e22-c668b02a9264",
   "metadata": {},
   "source": [
    "Python is case-sensitive, so Print() is different from print().\n",
    "\n",
    "This means that, if you write the code:\n",
    "\n",
    "`print('Hello')` vs `Print('Hello')`\n",
    "\n",
    "the outcome is different.\n",
    "\n",
    "`print('Hello')` WILL WORK \n",
    "\n",
    "while \n",
    "\n",
    "`Print('Hello')` WILL NOT WORK."
   ]
  },
  {
   "attachments": {},
   "cell_type": "markdown",
   "id": "913f4718",
   "metadata": {},
   "source": [
    "# 5 Remember"
   ]
  },
  {
   "cell_type": "markdown",
   "id": "71971465-f311-4bf6-ab23-d9530a2cf0ac",
   "metadata": {},
   "source": [
    "- Python is case-sensitive."
   ]
  },
  {
   "attachments": {},
   "cell_type": "markdown",
   "id": "67bd95cf",
   "metadata": {},
   "source": [
    "# 6 Comments"
   ]
  },
  {
   "cell_type": "markdown",
   "id": "01b30099-f515-43cd-9cf9-29091c49d9ca",
   "metadata": {},
   "source": [
    "- Anything between the `#` and the end of the line constitutes the comment.\n",
    "\n",
    "  For example:\n",
    "  \n",
    "  #This constitute a comment\n",
    "  \n",
    "  print('Hello')\n",
    "\n",
    "  In the above example, the output will be:\n",
    "  \n",
    "  `Hello`\n",
    "- Python ignores all comments.\n",
    "- Comments are for humans to be able to understand the code. However, unnecessary comments create clutter and hinder code readability.\n",
    "\n",
    "  Example:\n",
    "\n",
    "  #The first step is to print Hello.\n",
    "\n",
    "  print('Hello')\n",
    "- Why we use comment?\n",
    "  - Describe what is going to happen in a sequence of a code\n",
    "  - Document who wrote the code or other ancillary information\n",
    "  - Turn off a line of code - perhaps temporarily, this is useful when we write a bunch of script of code in the Python interactive environment\n",
    "  - Help your future self to understand the purpose of a code."
   ]
  },
  {
   "attachments": {},
   "cell_type": "markdown",
   "id": "ebcc98f2",
   "metadata": {},
   "source": [
    "# 7 Remember"
   ]
  },
  {
   "cell_type": "markdown",
   "id": "99ea14f7-7562-4434-a57f-f9b960baa455",
   "metadata": {},
   "source": [
    "Use comments to emphasize the purpose of the code."
   ]
  },
  {
   "attachments": {},
   "cell_type": "markdown",
   "id": "88a0caec",
   "metadata": {},
   "source": [
    "# 8 = is not the same as =="
   ]
  },
  {
   "cell_type": "markdown",
   "id": "0274d7db-34fe-41be-bc49-aea0554c3416",
   "metadata": {},
   "source": [
    "You often see `=` and `==` used in programming. These mean two very different things."
   ]
  },
  {
   "cell_type": "markdown",
   "id": "998ac2eb-9562-4123-898d-de29b38a6743",
   "metadata": {},
   "source": [
    "- `=` is uded to **set** something equal.\n",
    "\n",
    "  example:\n",
    "\n",
    "  name = 'Batman' #Make name carry 'Batman'\n",
    "  \n",
    "- `==` is used to **check** if something is equal, in other words, to **ask** a question.\n",
    "\n",
    "  example:\n",
    "\n",
    "  name == 'Batman' #Tell me if name is equal to 'Batman' or not?"
   ]
  },
  {
   "cell_type": "code",
   "execution_count": 10,
   "id": "73d68531-5b5b-4c9f-9948-dfadad50fe95",
   "metadata": {},
   "outputs": [],
   "source": [
    "name = 'Batman'"
   ]
  },
  {
   "cell_type": "markdown",
   "id": "e03e5863-7f8f-4f33-9d3b-4555376d4165",
   "metadata": {},
   "source": [
    "The above code will not give any output. "
   ]
  },
  {
   "cell_type": "code",
   "execution_count": 9,
   "id": "1684bf53-9110-4b1d-9bad-c6bb5c953570",
   "metadata": {},
   "outputs": [
    {
     "data": {
      "text/plain": [
       "True"
      ]
     },
     "execution_count": 9,
     "metadata": {},
     "output_type": "execute_result"
    }
   ],
   "source": [
    "name == 'Batman'"
   ]
  },
  {
   "cell_type": "markdown",
   "id": "1df9b612-f125-4b9b-a53a-b70f1f75db66",
   "metadata": {},
   "source": [
    "The above code will give the output `True` or `False`."
   ]
  },
  {
   "attachments": {},
   "cell_type": "markdown",
   "id": "e3d4624f",
   "metadata": {},
   "source": [
    "# 9 Remember"
   ]
  },
  {
   "cell_type": "markdown",
   "id": "9db29e14-2751-43d5-9f02-3a52f8edd8b0",
   "metadata": {},
   "source": [
    "- `=` is **not** the same as `==`\n",
    "- `=` assigns a value\n",
    "- `==` asks a question."
   ]
  },
  {
   "attachments": {},
   "cell_type": "markdown",
   "id": "a065ea26",
   "metadata": {},
   "source": [
    "# 10 Use if to make decisions"
   ]
  },
  {
   "cell_type": "markdown",
   "id": "054d99e3-5d06-47a7-9e35-ec95480b3ad1",
   "metadata": {},
   "source": [
    "We make decisions with the `if` statement. Specifically, `if` can be used to branch the flow of the program. Here is an example:"
   ]
  },
  {
   "cell_type": "code",
   "execution_count": 15,
   "id": "4891975a-2285-42a8-a0b8-ab4deb53995d",
   "metadata": {},
   "outputs": [
    {
     "name": "stdout",
     "output_type": "stream",
     "text": [
      "Hello Batman!\n"
     ]
    }
   ],
   "source": [
    "name = 'Batman'\n",
    "\n",
    "if name == 'Batman':\n",
    "    print('Hello Batman!')\n",
    "else:\n",
    "    print('Hello World!')"
   ]
  },
  {
   "cell_type": "markdown",
   "id": "62621e7b-049e-443c-b841-c3f8d74f1ef1",
   "metadata": {},
   "source": [
    "A typical `if` statement asks a question (i.e., tests a condition) and has something to do if the answer is `True` (printing *Hello Batman!*) and something else (printing *Hello World!*) if it is not `True`.\n",
    "\n",
    "Take note of the use of `:` and **indentations** (spaces or tabs) to define what to do if the answer is `True` and what to do if the answer is `False`."
   ]
  },
  {
   "attachments": {},
   "cell_type": "markdown",
   "id": "c94552ff",
   "metadata": {},
   "source": [
    "# 11 Remember"
   ]
  },
  {
   "cell_type": "markdown",
   "id": "6c3242e9-2c4e-404f-bf6e-ec92dabd7934",
   "metadata": {},
   "source": [
    "You can use `if` to make decisions."
   ]
  },
  {
   "attachments": {},
   "cell_type": "markdown",
   "id": "791c42ae",
   "metadata": {},
   "source": [
    "# 12 Indentations (spaces) are sooo IMPORTANT!"
   ]
  },
  {
   "cell_type": "markdown",
   "id": "0abb7938-6ec1-4fee-b04f-6c2cfcdce6e9",
   "metadata": {},
   "source": [
    "With Python, this code **will** work:"
   ]
  },
  {
   "cell_type": "code",
   "execution_count": null,
   "id": "4ea3c5af-895c-43a6-8fb4-30a8c01b068b",
   "metadata": {},
   "outputs": [],
   "source": [
    "x = 10\n",
    "print(x)"
   ]
  },
  {
   "cell_type": "markdown",
   "id": "771300ad-cdcf-4f79-9ca3-cf742fe4d9ad",
   "metadata": {},
   "source": [
    "However, the following will **not** work:"
   ]
  },
  {
   "cell_type": "code",
   "execution_count": 16,
   "id": "99d65866-e37b-4c48-a363-bd489bee5a03",
   "metadata": {},
   "outputs": [
    {
     "ename": "IndentationError",
     "evalue": "unexpected indent (1537435392.py, line 2)",
     "output_type": "error",
     "traceback": [
      "\u001b[1;36m  Cell \u001b[1;32mIn[16], line 2\u001b[1;36m\u001b[0m\n\u001b[1;33m    print(x)\u001b[0m\n\u001b[1;37m    ^\u001b[0m\n\u001b[1;31mIndentationError\u001b[0m\u001b[1;31m:\u001b[0m unexpected indent\n"
     ]
    }
   ],
   "source": [
    "x = 10\n",
    " print(x)"
   ]
  },
  {
   "cell_type": "markdown",
   "id": "dcea0bf7-4e53-48d3-bd81-290f4b3a1892",
   "metadata": {},
   "source": [
    "Notice that Python uses an indentation to separate the `True` and `False` ‘blocks’. So you cannot use indentations (spaces) indiscriminately as this will confuse Python."
   ]
  },
  {
   "cell_type": "markdown",
   "id": "1aa62c3f-a854-4a76-8b07-04ae3a645638",
   "metadata": {},
   "source": [
    "One of the reasons why Python is so easy to read is its use of indentation. Other languages, such as C++ or R, use brackets that can become clunky."
   ]
  },
  {
   "cell_type": "markdown",
   "id": "11160c8c-47b3-43a5-97ff-869960524d1e",
   "metadata": {},
   "source": [
    "Example of a statement in Python:"
   ]
  },
  {
   "cell_type": "code",
   "execution_count": null,
   "id": "0e1dc909-df45-46e8-a27f-63b1b8dd008c",
   "metadata": {},
   "outputs": [],
   "source": [
    "name = 'Batman'\n",
    "\n",
    "if name == 'Batman':\n",
    "    print('Hello Batman!')\n",
    "else:\n",
    "    print('Hello World!')"
   ]
  },
  {
   "cell_type": "markdown",
   "id": "d1d1d456-e775-4780-be88-9ac3d91a9f11",
   "metadata": {},
   "source": [
    "The same statement in R:"
   ]
  },
  {
   "cell_type": "code",
   "execution_count": 17,
   "id": "44322792-03ec-4c71-9588-66616d1d5bb0",
   "metadata": {},
   "outputs": [
    {
     "ename": "SyntaxError",
     "evalue": "invalid syntax (40591002.py, line 1)",
     "output_type": "error",
     "traceback": [
      "\u001b[1;36m  Cell \u001b[1;32mIn[17], line 1\u001b[1;36m\u001b[0m\n\u001b[1;33m    if (name == 'Batman') {\u001b[0m\n\u001b[1;37m                          ^\u001b[0m\n\u001b[1;31mSyntaxError\u001b[0m\u001b[1;31m:\u001b[0m invalid syntax\n"
     ]
    }
   ],
   "source": [
    "if (name == 'Batman') {\n",
    "  print('Hello Hero | Batman!')\n",
    "} else {\n",
    "  print('Hello World!')\n",
    "}"
   ]
  },
  {
   "attachments": {},
   "cell_type": "markdown",
   "id": "7ce29e59",
   "metadata": {},
   "source": [
    "# 13 Remember"
   ]
  },
  {
   "cell_type": "markdown",
   "id": "6f95f112-67da-4731-9019-975b561fdf04",
   "metadata": {},
   "source": [
    "- Indentations play a **crucial** role in Python; do not use them indiscriminately.\n",
    "- `:` is used to designate a block of code."
   ]
  },
  {
   "cell_type": "markdown",
   "id": "33e7c7aa-b151-4d38-8f81-9aaab7309ed6",
   "metadata": {},
   "source": [
    "**Be careful**\n",
    "\n",
    "- DO NOT mix spaces and tabs! Python is very sensitive to this. Sometimes, it will not work properly if you mix spaces and tabs!\n",
    "- Suggestions: Use `tab` key consistently."
   ]
  },
  {
   "attachments": {},
   "cell_type": "markdown",
   "id": "34644122",
   "metadata": {},
   "source": [
    "# 14 ‘age’ is English, age is a variable."
   ]
  },
  {
   "cell_type": "markdown",
   "id": "bd5f9075-7ca2-4a65-8238-4984de9f8539",
   "metadata": {},
   "source": [
    "Variables are ‘things’ that can hold information. You can give almost (except for the reserved keywords in Python, like `if`, `for`, `while`, `is`, etc.) any name for a variable. However, it is best to provide a name that describes the data it ‘carries’."
   ]
  },
  {
   "cell_type": "markdown",
   "id": "207add13-0c96-4aaf-8ba1-76810fd5fdd9",
   "metadata": {},
   "source": [
    "For example, we can store a student’s age using the variable `a = 24`. However, it is better to write `age = 24`. It is even better to write `student_age = 24`."
   ]
  },
  {
   "cell_type": "markdown",
   "id": "1a669eff-6bbc-4210-942b-1fb2c36cd575",
   "metadata": {},
   "source": [
    "Be careful about mixing up English with variables. For example, there is a difference between the following:"
   ]
  },
  {
   "cell_type": "markdown",
   "id": "1afdf9a5-332c-4cd4-9127-cf9346f511d2",
   "metadata": {},
   "source": [
    "print(age) -> this will give the *value* of the variable age as an output, before we execute this code, we have to assign some value to 'age'.\n",
    "\n",
    "print(\"age\") -> this will give the English word **age** as an output."
   ]
  },
  {
   "cell_type": "markdown",
   "id": "7e1efe61-ebe9-4e66-8a3c-c4105665e602",
   "metadata": {},
   "source": [
    "Example of the codes:"
   ]
  },
  {
   "cell_type": "code",
   "execution_count": 20,
   "id": "3f25b688-4397-4b9f-bd89-3ab730323d78",
   "metadata": {},
   "outputs": [
    {
     "name": "stdout",
     "output_type": "stream",
     "text": [
      "24\n",
      "age\n"
     ]
    }
   ],
   "source": [
    "age = 24\n",
    "print(age)\n",
    "print('age')"
   ]
  },
  {
   "cell_type": "markdown",
   "id": "73dde49c-d386-44ab-9a15-55729e126af5",
   "metadata": {},
   "source": [
    "The above code will give `24` as an output, while the below code will give `age` as an output."
   ]
  },
  {
   "cell_type": "markdown",
   "id": "c3564b2c-5d0a-4d25-80f6-898e3fadf967",
   "metadata": {},
   "source": [
    "**Note**:\n",
    " you can use either matching pairs of `' '` or `\" \"`, but never mix `'` and `\"` together."
   ]
  },
  {
   "attachments": {},
   "cell_type": "markdown",
   "id": "5bcf592b",
   "metadata": {},
   "source": [
    "# 15 Brackets"
   ]
  },
  {
   "cell_type": "markdown",
   "id": "cc642f2d-5ee2-4ce6-9179-c44981c53507",
   "metadata": {},
   "source": [
    "Python use three types of brackets `()`, `[]` and `{}`."
   ]
  },
  {
   "cell_type": "markdown",
   "id": "5a68a204-f42c-4e26-96cd-951054018187",
   "metadata": {},
   "source": [
    "Example 1:"
   ]
  },
  {
   "cell_type": "markdown",
   "id": "24b9b870-d1c4-492d-b83e-4575eb7f072f",
   "metadata": {},
   "source": [
    "Python uses `()` in calls to function."
   ]
  },
  {
   "cell_type": "code",
   "execution_count": null,
   "id": "724b78e7-3ef6-408e-a8eb-b72bacca7b1f",
   "metadata": {},
   "outputs": [],
   "source": [
    "print('Hello!')             # In functions"
   ]
  },
  {
   "cell_type": "markdown",
   "id": "4bb5207d-087e-430f-8ff4-62c9b7f3a270",
   "metadata": {},
   "source": [
    "Example 2:"
   ]
  },
  {
   "cell_type": "markdown",
   "id": "9691bc8e-64ff-4a4b-a2d8-2346838f3418",
   "metadata": {},
   "source": [
    "Python uses `()` for mathematics."
   ]
  },
  {
   "cell_type": "code",
   "execution_count": 21,
   "id": "51e05855-693c-48f2-adcb-374f5cfdd047",
   "metadata": {},
   "outputs": [
    {
     "data": {
      "text/plain": [
       "15"
      ]
     },
     "execution_count": 21,
     "metadata": {},
     "output_type": "execute_result"
    }
   ],
   "source": [
    "(1 + 2) * 5                 # For math"
   ]
  },
  {
   "cell_type": "markdown",
   "id": "8a021474-d319-41f0-bd99-3c2cb1ef7986",
   "metadata": {},
   "source": [
    "Example 3:"
   ]
  },
  {
   "cell_type": "markdown",
   "id": "5e301e37-11eb-4899-91cc-e66f72c6ad21",
   "metadata": {},
   "source": [
    "Python uses `[]` for lists of data."
   ]
  },
  {
   "cell_type": "code",
   "execution_count": null,
   "id": "ed8b25fa-1164-4815-a614-880336576392",
   "metadata": {},
   "outputs": [],
   "source": [
    "py_list = [1, 2, 3, 4, 5]   # A 1D list\n",
    "\n",
    "py_list_2 = [               # A 2D list\n",
    "                [1, \"A\"],      \n",
    "                [2, \"B\"],\n",
    "                [3, \"C\"],\n",
    "                [4, \"D\"],\n",
    "                [5, \"E\"]\n",
    "            ]"
   ]
  },
  {
   "cell_type": "markdown",
   "id": "5bc1c753-2136-4711-8433-1499d427a0e0",
   "metadata": {},
   "source": [
    "Example 4:"
   ]
  },
  {
   "cell_type": "markdown",
   "id": "ed853841-9180-4fcd-a134-1077229c715e",
   "metadata": {},
   "source": [
    "Python uses `{}` to store data in a 'thing' called a **dictionary**."
   ]
  },
  {
   "cell_type": "code",
   "execution_count": 25,
   "id": "0faeb63e-ab78-4be2-a146-315703cbc233",
   "metadata": {},
   "outputs": [],
   "source": [
    "personal_info = {\n",
    "    'Names': 'Batman',\n",
    "    'Real Name': 'Bruce Wayne',\n",
    "    'Age': 55,\n",
    "    'Affiliation': 'Justice League',\n",
    "    'Universe': 'DC'\n",
    "}"
   ]
  },
  {
   "cell_type": "markdown",
   "id": "f6235a0f-4115-41c3-94fa-c6d13b6eb967",
   "metadata": {},
   "source": [
    "Notice that the dictionary uses a **key** to identify a **value** (e.g., ‘Real Name’ ->  ‘Bruce Wayne’). This is a neat (and super useful) way to store data and quickly access information; for example:"
   ]
  },
  {
   "cell_type": "code",
   "execution_count": 23,
   "id": "eed01ce6-fdc8-4849-b936-b5a34b259fde",
   "metadata": {},
   "outputs": [
    {
     "ename": "NameError",
     "evalue": "name 'personal_info' is not defined",
     "output_type": "error",
     "traceback": [
      "\u001b[1;31m---------------------------------------------------------------------------\u001b[0m",
      "\u001b[1;31mNameError\u001b[0m                                 Traceback (most recent call last)",
      "Cell \u001b[1;32mIn[23], line 1\u001b[0m\n\u001b[1;32m----> 1\u001b[0m \u001b[38;5;28mprint\u001b[39m(\u001b[43mpersonal_info\u001b[49m[\u001b[38;5;124m'\u001b[39m\u001b[38;5;124mReal Name\u001b[39m\u001b[38;5;124m'\u001b[39m])\n",
      "\u001b[1;31mNameError\u001b[0m: name 'personal_info' is not defined"
     ]
    }
   ],
   "source": [
    "print(personal_info['Real Name'])"
   ]
  },
  {
   "cell_type": "markdown",
   "id": "ac7ae1d0-b79f-43d5-b112-916aa2e70903",
   "metadata": {},
   "source": [
    "The above line of code will give `Bruce Wayne` as an output."
   ]
  },
  {
   "attachments": {},
   "cell_type": "markdown",
   "id": "b19210ef",
   "metadata": {},
   "source": [
    "# 16 Giving Python superpowers with Packages"
   ]
  },
  {
   "attachments": {},
   "cell_type": "markdown",
   "id": "0f4f2f11",
   "metadata": {},
   "source": [
    "## 16.1 Some Context"
   ]
  },
  {
   "cell_type": "markdown",
   "id": "90c54f2d-2c27-4cea-aaeb-6334cf8041d5",
   "metadata": {},
   "source": [
    "Let’s say we want to calculate:\n",
    "$$\\dfrac{1*((2-3) + 4)}{6}^{5}$$\n",
    "\n",
    "We can do this by:\n",
    "\n",
    "`1 * ((2 - 3) + 4) ** 5 / 6`\n",
    "\n",
    "The output will be:\n",
    "\n",
    "`40.5`\n",
    "\n",
    "How about $\\sqrt{4}$?\n",
    "\n",
    "If we write: `sqrt(4)` in the Python code cells, we will not get the output `2`, instead we will get an error message (`Error in py_call_impl(callable, dots$args, dots$keywords): NameError: name 'sqrt' is not defined`).\n",
    "\n",
    "This is because the basic Python is limited.\n",
    "\n",
    "However, this is not a problem because we can imbue Python with newer functionality by using **packages**. For instance, you can give Python more math skills by using (importing) the `math` package."
   ]
  },
  {
   "attachments": {},
   "cell_type": "markdown",
   "id": "97072f54",
   "metadata": {},
   "source": [
    "## 16.2 Importing the math package"
   ]
  },
  {
   "cell_type": "markdown",
   "id": "1e0ec392-71bb-46d1-9a14-0b741461d227",
   "metadata": {},
   "source": [
    "Use this code to import the math package:"
   ]
  },
  {
   "cell_type": "code",
   "execution_count": 27,
   "id": "a085bd6a-9f72-447f-a278-58d99affc2a2",
   "metadata": {},
   "outputs": [],
   "source": [
    "import math         # Adding(importing) the functions\n",
    "                    # of the 'math' package    "
   ]
  },
  {
   "cell_type": "markdown",
   "id": "8dc3ab4b-37e3-4d9b-9aee-054d0b66abb6",
   "metadata": {},
   "source": [
    "Now we can use the sqrt() function of the math module."
   ]
  },
  {
   "cell_type": "code",
   "execution_count": 28,
   "id": "dfa31c36-8e59-48c1-9250-361b78a24f44",
   "metadata": {},
   "outputs": [
    {
     "data": {
      "text/plain": [
       "2.0"
      ]
     },
     "execution_count": 28,
     "metadata": {},
     "output_type": "execute_result"
    }
   ],
   "source": [
    "math.sqrt(4)"
   ]
  },
  {
   "cell_type": "markdown",
   "id": "087641a9-16b0-4d56-8999-fbad1c4ef802",
   "metadata": {},
   "source": [
    "This will give `2.0` as an output."
   ]
  },
  {
   "attachments": {},
   "cell_type": "markdown",
   "id": "c4927be8",
   "metadata": {},
   "source": [
    "## 16.3 Importing the numpy package"
   ]
  },
  {
   "cell_type": "markdown",
   "id": "906d6c2d-474e-4a9e-85ec-25d75fd88f59",
   "metadata": {},
   "source": [
    "`math` is one of many modules that offer the `sqrt()` functionality. So let's also import the super useful `Numpy` package to use its `sqrt()` function."
   ]
  },
  {
   "cell_type": "code",
   "execution_count": 29,
   "id": "cb5c5907-db77-4644-8b3a-faac4ae29ebb",
   "metadata": {},
   "outputs": [],
   "source": [
    "import numpy as np    # Importing Numpy and giving \n",
    "                      # it an alias np \n",
    "                      # because we are lazy"
   ]
  },
  {
   "cell_type": "markdown",
   "id": "2461d84a-81d9-46f8-af69-392da887d901",
   "metadata": {},
   "source": [
    "Now we can also use the `sqrt()` function of the `Numpy` module. Since we imported it with an alias (`np`), we can be lazy and use `np` instead of the longer `numpy`."
   ]
  },
  {
   "cell_type": "code",
   "execution_count": 30,
   "id": "e1774d6e-a23f-4d12-b885-f37fa940db11",
   "metadata": {},
   "outputs": [
    {
     "data": {
      "text/plain": [
       "2.0"
      ]
     },
     "execution_count": 30,
     "metadata": {},
     "output_type": "execute_result"
    }
   ],
   "source": [
    "np.sqrt(4)"
   ]
  },
  {
   "cell_type": "markdown",
   "id": "19b714c9-f091-4638-9dc2-f21a3281c397",
   "metadata": {},
   "source": [
    "This will also give `2.0` as an output."
   ]
  },
  {
   "attachments": {},
   "cell_type": "markdown",
   "id": "0239fe55",
   "metadata": {},
   "source": [
    "## 16.4 Why so many packages?"
   ]
  },
  {
   "cell_type": "markdown",
   "id": "4e1f15b4-d9ad-4de3-8a9d-60ded4bccb68",
   "metadata": {},
   "source": [
    "Why we need multiple `sqrt()` functions?\n",
    "\n",
    "Because there are different versions of packages and they have different capabilities and efficiencies. \n",
    "\n",
    "For example, the `Numpy` version can handle a list of numbers:\n",
    "`np.sqrt([4, 9, 16])`"
   ]
  },
  {
   "cell_type": "code",
   "execution_count": 31,
   "id": "27e579c8-1fae-411d-97f1-edbd82e13159",
   "metadata": {},
   "outputs": [
    {
     "data": {
      "text/plain": [
       "array([2., 3., 4.])"
      ]
     },
     "execution_count": 31,
     "metadata": {},
     "output_type": "execute_result"
    }
   ],
   "source": [
    "np.sqrt([4, 9, 16])"
   ]
  },
  {
   "cell_type": "markdown",
   "id": "925d2978-6f4e-47a8-aee7-4b2be6f17225",
   "metadata": {},
   "source": [
    "This will give `array([2., 3., 4.])` as an output."
   ]
  },
  {
   "cell_type": "markdown",
   "id": "6c5893ff-ff94-4fac-aa91-828b0c9a495b",
   "metadata": {},
   "source": [
    "**Important notes to take**:\n",
    "\n",
    "- You only need to import packages only once (You don't have to teach Python the same thing twice!)\n",
    "- Python will remember the functions until you *restart the Python interpreter*."
   ]
  },
  {
   "attachments": {},
   "cell_type": "markdown",
   "id": "3a2e103b",
   "metadata": {},
   "source": [
    "# 17 Remember"
   ]
  },
  {
   "cell_type": "markdown",
   "id": "aca7de60-35a7-427c-8168-d2baa118659b",
   "metadata": {},
   "source": [
    "- You can give Python ‘superpowers’ by importing packages.\n",
    "- You must import a package only once.\n",
    "- There are different ways to import packages (e.g. with or without an ‘alias’)."
   ]
  },
  {
   "attachments": {},
   "cell_type": "markdown",
   "id": "4005ddcd",
   "metadata": {},
   "source": [
    "# 18 The dot (.)"
   ]
  },
  {
   "cell_type": "markdown",
   "id": "3cc57696-1194-45cd-a7b2-a8c199eb7bfb",
   "metadata": {},
   "source": [
    "You often see a dot(“.”) used in Python (and many other programming languages). This dot is used to indicate **ownership**! To see how this works, consider the code below."
   ]
  },
  {
   "cell_type": "code",
   "execution_count": 32,
   "id": "02aff119-3b3c-464a-8c38-c0fca19812d0",
   "metadata": {},
   "outputs": [
    {
     "data": {
      "text/plain": [
       "2.0"
      ]
     },
     "execution_count": 32,
     "metadata": {},
     "output_type": "execute_result"
    }
   ],
   "source": [
    "math.sqrt(4)\n",
    "np.sqrt(4)"
   ]
  },
  {
   "cell_type": "markdown",
   "id": "65b0a124-5475-44b8-a32d-caa69574efc8",
   "metadata": {},
   "source": [
    "In the first line, we use the `sqrt()` function that **belongs** to the `math` module. In the second line, we use the `sqrt()` function that **belongs** to `NumPy`.\n",
    "\n",
    "Everything in Python (e.g., numbers, letters) has functions and attributes that belong to them. We can access them using the dot. For example, the following will split the sentence into words."
   ]
  },
  {
   "cell_type": "code",
   "execution_count": 34,
   "id": "744148af-0d14-4889-be20-da8b8c391cd4",
   "metadata": {},
   "outputs": [
    {
     "data": {
      "text/plain": [
       "['I', 'am', 'Batman']"
      ]
     },
     "execution_count": 34,
     "metadata": {},
     "output_type": "execute_result"
    }
   ],
   "source": [
    "\"I am Batman\".split()"
   ]
  },
  {
   "cell_type": "markdown",
   "id": "779e1fe0-dff5-4ebd-9f27-ce687342b4ce",
   "metadata": {},
   "source": [
    "The output will be `['I', 'am', 'Batman']`\n",
    "\n",
    "However, the following will not work because having a split() function for numbers makes no sense."
   ]
  },
  {
   "cell_type": "code",
   "execution_count": 33,
   "id": "6cd4bedd-7936-4ff0-bbab-a25732967b2b",
   "metadata": {},
   "outputs": [
    {
     "ename": "SyntaxError",
     "evalue": "invalid decimal literal (3897031440.py, line 1)",
     "output_type": "error",
     "traceback": [
      "\u001b[1;36m  Cell \u001b[1;32mIn[33], line 1\u001b[1;36m\u001b[0m\n\u001b[1;33m    1234.split()\u001b[0m\n\u001b[1;37m        ^\u001b[0m\n\u001b[1;31mSyntaxError\u001b[0m\u001b[1;31m:\u001b[0m invalid decimal literal\n"
     ]
    }
   ],
   "source": [
    "1234.split()"
   ]
  },
  {
   "cell_type": "markdown",
   "id": "7304ead1-e4df-472f-9194-7781638c7aa0",
   "metadata": {},
   "source": [
    "The things that can be accessed using the dot depend on what the dot is attached to."
   ]
  },
  {
   "attachments": {},
   "cell_type": "markdown",
   "id": "ca129a3a",
   "metadata": {},
   "source": [
    "# 19 Remember"
   ]
  },
  {
   "cell_type": "markdown",
   "id": "41eeb72a-57b0-4f27-8ded-d970bd7a987e",
   "metadata": {},
   "source": [
    "The dot(**.**) indicates ownership, and what it can access depends on the context."
   ]
  },
  {
   "attachments": {},
   "cell_type": "markdown",
   "id": "4ea80705",
   "metadata": {},
   "source": [
    "## Footnotes"
   ]
  },
  {
   "cell_type": "markdown",
   "id": "63a1da44-1db9-49bc-889e-1975136b3c98",
   "metadata": {},
   "source": [
    "1. The latest version of the interpreter is `3.12`."
   ]
  }
 ],
 "metadata": {
  "kernelspec": {
   "display_name": "Python 3 (ipykernel)",
   "language": "python",
   "name": "python3"
  },
  "language_info": {
   "codemirror_mode": {
    "name": "ipython",
    "version": 3
   },
   "file_extension": ".py",
   "mimetype": "text/x-python",
   "name": "python",
   "nbconvert_exporter": "python",
   "pygments_lexer": "ipython3",
   "version": "3.11.5"
  },
  "toc": {
   "base_numbering": 1,
   "nav_menu": {},
   "number_sections": true,
   "sideBar": true,
   "skip_h1_title": false,
   "title_cell": "Table of Contents",
   "title_sidebar": "Contents",
   "toc_cell": false,
   "toc_position": {},
   "toc_section_display": true,
   "toc_window_display": false
  },
  "vscode": {
   "interpreter": {
    "hash": "31f2aee4e71d21fbe5cf8b01ff0e069b9275f58929596ceb00d14d90e3e16cd6"
   }
  }
 },
 "nbformat": 4,
 "nbformat_minor": 5
}
