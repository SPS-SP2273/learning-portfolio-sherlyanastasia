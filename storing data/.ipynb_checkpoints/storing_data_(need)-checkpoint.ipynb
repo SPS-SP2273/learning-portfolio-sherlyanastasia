{
 "cells": [
  {
   "attachments": {},
   "cell_type": "markdown",
   "id": "123456",
   "metadata": {},
   "source": [
    "<div style=\"text-align:left;font-size:2em\"><span style=\"font-weight:bolder;font-size:1.25em\">SP2273 | Learning Portfolio</span><br><br><span style=\"font-weight:bold;color:darkred\">Storing Data (Need)</span></div>"
   ]
  },
  {
   "cell_type": "markdown",
   "id": "83475fff-e5e8-4259-b469-9b4bbe2e109b",
   "metadata": {},
   "source": [
    "![](https://imgs.xkcd.com/comics/2018_cve_list.png)"
   ]
  },
  {
   "cell_type": "markdown",
   "id": "00f64ac6-eb25-452b-b7f4-0ebab24adf36",
   "metadata": {},
   "source": [
    "Figure 1: From [xkcd](https://xkcd.com/)."
   ]
  },
  {
   "cell_type": "markdown",
   "id": "0d9c09ae-bb2a-46a9-8ce9-87c054651993",
   "metadata": {},
   "source": [
    "**Before Proceeding**\n",
    "\n",
    "- You need to load the NumPy package to use NumPy arrays. You can import it using an alias as follows:\n",
    "  \n",
    "  `import numpy as np`"
   ]
  },
  {
   "attachments": {},
   "cell_type": "markdown",
   "id": "44f0ce0b",
   "metadata": {},
   "source": [
    "# What to expect in this chapter"
   ]
  },
  {
   "cell_type": "markdown",
   "id": "5380c23c-f7ec-4811-9a4a-f6e94b35de02",
   "metadata": {},
   "source": [
    "- Store and manipulate data easily and efficiently beyond the simple variables we have encountered so far (**list** and **dictionary**).\n",
    "- Here are several more ways to store and manipulate data:\n",
    "  1. **Lists**\n",
    "  2. **Numpy arrays**\n",
    "  3. **Dictionaries**\n",
    "  4. **Tuples**\n",
    "  5. Dataframes\n",
    "  6. Classes\n",
    " \n",
    "**Lists, Numpy arrays, dictionaries and tuples** will be discussed in this Chapter."
   ]
  },
  {
   "cell_type": "markdown",
   "id": "039aa000-4cdc-48a3-af48-55edaf2ecbdf",
   "metadata": {},
   "source": [
    "**Important**\n",
    "\n",
    "The storing, retrieving and modifying data in programming will influence how you think about data.\n",
    "\n",
    "This will ultimately aid (or hinder) your ability to conjure up algorithms to solve problems."
   ]
  },
  {
   "attachments": {},
   "cell_type": "markdown",
   "id": "62f19dcc",
   "metadata": {},
   "source": [
    "# 1 Lists, Arrays & Dictionaries"
   ]
  },
  {
   "attachments": {},
   "cell_type": "markdown",
   "id": "7c1f0c91",
   "metadata": {},
   "source": [
    "## 1.1 Let’s compare"
   ]
  },
  {
   "cell_type": "markdown",
   "id": "9515bc51-0f5b-4f65-8bd1-57a96e00f0d4",
   "metadata": {},
   "source": [
    "3 ways of storing the same data using `lists`, `arrays` and `dictionaries`."
   ]
  },
  {
   "cell_type": "markdown",
   "id": "0d3de581-639d-47b1-b69b-11aecd562e66",
   "metadata": {},
   "source": [
    "**Python Lists**"
   ]
  },
  {
   "cell_type": "code",
   "execution_count": null,
   "id": "9cb0abb2-f8c8-4062-9e97-e8621741b15b",
   "metadata": {},
   "outputs": [],
   "source": [
    "py_super_names = [\"Black Widow\", \"Iron Man\", \"Doctor Strange\"]\n",
    "py_real_names = [\"Natasha Romanoff\", \"Tony Stark\", \"Stephen Strange\"]"
   ]
  },
  {
   "cell_type": "markdown",
   "id": "eb942cf4-ce0a-4ce0-b353-8b1c97e5774d",
   "metadata": {},
   "source": [
    "**Numpy Arrays**"
   ]
  },
  {
   "cell_type": "code",
   "execution_count": 2,
   "id": "c716c34a-c7eb-4268-9211-8f96ae076b3e",
   "metadata": {},
   "outputs": [],
   "source": [
    "import numpy as np\n",
    "np_super_names = np.array([\"Black Widow\", \"Iron Man\", \"Doctor Strange\"])\n",
    "np_real_names = np.array([\"Natasha Romanoff\", \"Tony Stark\", \"Stephen Strange\"])"
   ]
  },
  {
   "cell_type": "markdown",
   "id": "2ecc5ad0-0e8b-41e9-97fe-3dbf5ca66b4a",
   "metadata": {},
   "source": [
    "**Dictionary**"
   ]
  },
  {
   "cell_type": "code",
   "execution_count": null,
   "id": "5e47b0b9-76c6-4782-9ea1-ae3300769ebb",
   "metadata": {},
   "outputs": [],
   "source": [
    "superhero_info = {\n",
    "    \"Natasha Romanoff\": \"Black Widow\",\n",
    "    \"Tony Stark\": \"Iron Man\",\n",
    "    \"Stephen Strange\": \"Doctor Strange\"\n",
    "}"
   ]
  },
  {
   "cell_type": "markdown",
   "id": "cb542fe9-649f-40a4-a132-4e39dcef0640",
   "metadata": {},
   "source": [
    "Notice:\n",
    "\n",
    "- Dictionaries use a **key** and an associated **value** separated by a `:`\n",
    "- The **dictionary** very elegantly holds the real and superhero names in *one structure* while we need **two lists (or arrays)** for *the same data*.\n",
    "- For lists and arrays, the order matters. i.e. ‘Iron Man’ must be in the same position as ‘Tony Stark’ for things to work."
   ]
  },
  {
   "cell_type": "markdown",
   "id": "47d04afb-cb2a-4499-b77f-e5b97f40a85f",
   "metadata": {},
   "source": [
    "Lists (and arrays) offer many features that dictionaries don’t and vice versa.\n",
    "\n",
    "Which data storage strategy to choose will depend on the problem you are trying to solve."
   ]
  },
  {
   "cell_type": "markdown",
   "id": "dcf82af5-95c2-4fe9-817b-0e91289a3f44",
   "metadata": {},
   "source": [
    "**Remember**"
   ]
  },
  {
   "cell_type": "markdown",
   "id": "45d1c6b9-1361-4a3c-bd23-9089f1636b06",
   "metadata": {},
   "source": [
    "Three (3) basic ways of storing data:\n",
    "\n",
    "1. Lists\n",
    "2. NumPy arrays\n",
    "3. Dictionaries."
   ]
  },
  {
   "cell_type": "markdown",
   "id": "d26e7328-a34b-4a7f-ad87-f401174d77b2",
   "metadata": {},
   "source": [
    "**Notes**:\n",
    "\n",
    "- `py` and `np` in front of the variable are added just for clarity. Actually, you can use any name for the variables provided that they are not a Python keyword like `for`, `if`, `while`, `in`, `try`, `except`, `or`, `not`, `elif`, `else`, etc.\n",
    "- **`Arrays`** is the short for **`NumPy arrays`**.\n",
    "- **`Lists`** is the short for **`Python lists`**."
   ]
  },
  {
   "attachments": {},
   "cell_type": "markdown",
   "id": "07b38460",
   "metadata": {},
   "source": [
    "## 1.2 Accessing data from a list (or array)"
   ]
  },
  {
   "cell_type": "markdown",
   "id": "392d953e-e31e-4ba4-b01b-0d56a637b7e0",
   "metadata": {},
   "source": [
    "To access data from lists (and arrays), we need to use an **index operator** corresponding to the data’s position. Python is a **zero-indexed language**, meaning it **starts counting at 0**. \n",
    "\n",
    "Here is **a way to remember** it:\n",
    "\n",
    "Python is invented by Guido van Rossum in the Netherlands, which is a country in Europe. In Europe, the floor of the hotel starts at 0 not at 1. So does Python, the index starts at 0, not at 1.\n",
    "\n",
    "In conclusion, if you want to access a particular element in the list (or array), you need to specify the relevant index starting from zero. The image below shows the relationship between the position and index."
   ]
  },
  {
   "cell_type": "markdown",
   "id": "eceae63d-5042-4809-a9cc-56f5e1be5e2d",
   "metadata": {},
   "source": [
    "![](https://sps.nus.edu.sg/sp2273/docs/python_basics/03_storing-data/python-zero-indexed-counting.png)"
   ]
  },
  {
   "cell_type": "code",
   "execution_count": 3,
   "id": "7b27c935-56d7-4243-b184-ce9baf227282",
   "metadata": {},
   "outputs": [],
   "source": [
    "py_super_names = [\"Black Widow\", \"Iron Man\", \"Doctor Strange\"]\n",
    "py_real_names = [\"Natasha Romanoff\", \"Tony Stark\", \"Stephen Strange\"]"
   ]
  },
  {
   "cell_type": "markdown",
   "id": "c2e4f541-472a-4f9a-9ded-7585d22f1fee",
   "metadata": {},
   "source": [
    "Example 1"
   ]
  },
  {
   "cell_type": "code",
   "execution_count": 4,
   "id": "f0a52068-f451-4b99-8fe0-c005f47bd7bf",
   "metadata": {},
   "outputs": [
    {
     "data": {
      "text/plain": [
       "'Natasha Romanoff'"
      ]
     },
     "execution_count": 4,
     "metadata": {},
     "output_type": "execute_result"
    }
   ],
   "source": [
    "py_real_names[0]"
   ]
  },
  {
   "cell_type": "markdown",
   "id": "26ce536d-0bf3-4e22-890c-00633cbf3f61",
   "metadata": {},
   "source": [
    "The output will be `'Natasha Romanoff'`"
   ]
  },
  {
   "cell_type": "markdown",
   "id": "f014bfdf-f440-42ad-be5a-95d8646539f1",
   "metadata": {},
   "source": [
    "Example 2"
   ]
  },
  {
   "cell_type": "code",
   "execution_count": null,
   "id": "34e827bf-1b0b-40fc-bc06-ffb73388a9d0",
   "metadata": {},
   "outputs": [],
   "source": [
    "py_super_names[0]"
   ]
  },
  {
   "cell_type": "markdown",
   "id": "74d15252-d6b5-4c65-9ec0-cc28232e750a",
   "metadata": {},
   "source": [
    "The output will be `'Black Widow'`"
   ]
  },
  {
   "cell_type": "markdown",
   "id": "c8978268-d81d-4b48-8f2c-386e09aee8c8",
   "metadata": {},
   "source": [
    "We can also use negative indexing to count from the back of the list. \n",
    "\n",
    "To access the last element of the list, you just have to call [-1]. To access the second last element of the list, call [-2], and so on.\n",
    "\n",
    "This is super useful because we can easily access the last element without knowing the list size. If we use forward indexing, we need to know the size of the list."
   ]
  },
  {
   "cell_type": "markdown",
   "id": "1fe2b60b-09f6-4eb5-b87c-254bf57c6b69",
   "metadata": {},
   "source": [
    "Example 3"
   ]
  },
  {
   "cell_type": "code",
   "execution_count": 5,
   "id": "2d1a2072-35c5-4875-9746-bf80a4e1c17d",
   "metadata": {},
   "outputs": [
    {
     "data": {
      "text/plain": [
       "'Doctor Strange'"
      ]
     },
     "execution_count": 5,
     "metadata": {},
     "output_type": "execute_result"
    }
   ],
   "source": [
    "py_super_names[2]    # Forward indexing \n",
    "                     # We need to know the size \n",
    "                     # beforehand for this to work."
   ]
  },
  {
   "cell_type": "markdown",
   "id": "7eb6a080-c5fa-45bb-8edd-55bff92ca3e9",
   "metadata": {},
   "source": [
    "The output will be `'Doctor Strange'`"
   ]
  },
  {
   "cell_type": "code",
   "execution_count": 9,
   "id": "45ceda43-786f-450b-9321-914b98f21738",
   "metadata": {},
   "outputs": [
    {
     "data": {
      "text/plain": [
       "'Doctor Strange'"
      ]
     },
     "execution_count": 9,
     "metadata": {},
     "output_type": "execute_result"
    }
   ],
   "source": [
    "py_super_names[-1]   # Reverse indexing"
   ]
  },
  {
   "cell_type": "markdown",
   "id": "9d29f83f-4453-4736-a1b6-4a9040525d97",
   "metadata": {},
   "source": [
    "The output will be `'Doctor Strange'`"
   ]
  },
  {
   "cell_type": "markdown",
   "id": "146704e0-4bad-4e18-a9ac-b0139dee3549",
   "metadata": {},
   "source": [
    "Additionally,\n",
    "\n",
    "we can also print all the elements inside a list by using the following code as an example:"
   ]
  },
  {
   "cell_type": "code",
   "execution_count": 10,
   "id": "d0e331a5-24ec-4b69-9913-c4d3903b9f97",
   "metadata": {},
   "outputs": [
    {
     "data": {
      "text/plain": [
       "['Black Widow', 'Iron Man', 'Doctor Strange']"
      ]
     },
     "execution_count": 10,
     "metadata": {},
     "output_type": "execute_result"
    }
   ],
   "source": [
    "py_super_names[:]"
   ]
  },
  {
   "cell_type": "markdown",
   "id": "c8264998-a263-452d-9b67-3fa09fd91faf",
   "metadata": {},
   "source": [
    "This will give `['Black Widow', 'Iron Man', 'Doctor Strange']` as the output."
   ]
  },
  {
   "cell_type": "markdown",
   "id": "9908362c-c904-49cc-af53-6deb5d525466",
   "metadata": {},
   "source": [
    "We can also select for more than 1 elements.\n",
    "\n",
    "Example:"
   ]
  },
  {
   "cell_type": "code",
   "execution_count": 11,
   "id": "699ea4a8-e8f0-48ff-a707-f4f1e9ba75c2",
   "metadata": {},
   "outputs": [
    {
     "data": {
      "text/plain": [
       "['Black Widow', 'Iron Man']"
      ]
     },
     "execution_count": 11,
     "metadata": {},
     "output_type": "execute_result"
    }
   ],
   "source": [
    "py_super_names[0:2]"
   ]
  },
  {
   "cell_type": "markdown",
   "id": "febe885d-d39d-4ed4-b9cc-3dee8edc679d",
   "metadata": {},
   "source": [
    "This will give `['Black Widow', 'Iron Man']` as an output.\n",
    "\n",
    "Note that `[0:2]` means 'I want to know the elements from the index 0 until, but not including, 2'. So, you will got 'Black Widow' as the 0 index element and 'Iron Man' as the 1 index element, but not including 'Doctor Strange' as the 2 index elemment.\n",
    "\n",
    "If you want to include 'Iron Man' and 'Doctor Strange', you might need to use this code:"
   ]
  },
  {
   "cell_type": "code",
   "execution_count": 14,
   "id": "1463880e-2689-4113-9c30-7355ba932216",
   "metadata": {},
   "outputs": [
    {
     "data": {
      "text/plain": [
       "['Iron Man', 'Doctor Strange']"
      ]
     },
     "execution_count": 14,
     "metadata": {},
     "output_type": "execute_result"
    }
   ],
   "source": [
    "py_super_names[1:]"
   ]
  },
  {
   "cell_type": "markdown",
   "id": "4b15a222-1e97-48e1-9ff1-e204d05b8b05",
   "metadata": {},
   "source": [
    "Other equivalent code to produce 'Iron Man' and 'Doctor Strange':"
   ]
  },
  {
   "cell_type": "code",
   "execution_count": 15,
   "id": "e40b97d8-bad2-4be7-aa10-081cc76267c0",
   "metadata": {},
   "outputs": [
    {
     "data": {
      "text/plain": [
       "['Iron Man', 'Doctor Strange']"
      ]
     },
     "execution_count": 15,
     "metadata": {},
     "output_type": "execute_result"
    }
   ],
   "source": [
    "py_super_names[1:3]"
   ]
  },
  {
   "cell_type": "code",
   "execution_count": 17,
   "id": "8a3f7c8c-e1b0-402f-a0eb-7b0e3a2ce5d9",
   "metadata": {},
   "outputs": [
    {
     "data": {
      "text/plain": [
       "['Iron Man', 'Doctor Strange']"
      ]
     },
     "execution_count": 17,
     "metadata": {},
     "output_type": "execute_result"
    }
   ],
   "source": [
    "py_super_names[1:5]"
   ]
  },
  {
   "cell_type": "markdown",
   "id": "1acffbd9-1580-441f-96e5-f1c7cda91e1c",
   "metadata": {},
   "source": [
    "**Fun Fact**\n",
    "\n",
    "You can even do the code like this:\n",
    "\n",
    "`py_super_names[1:1000]`\n",
    "\n",
    "It will still give you the same output, which is `['Iron Man', 'Doctor Strange']`.\n",
    "\n",
    "1000 in the back of the list retrieve the elements until the number 999 of elements. But, because in this case we just have until the element with index 2, then Python will just ignore the rest and print until the last element that we have.y?"
   ]
  },
  {
   "cell_type": "code",
   "execution_count": 16,
   "id": "8a97fa4e-f1d9-4951-8420-c00594a984f2",
   "metadata": {},
   "outputs": [
    {
     "data": {
      "text/plain": [
       "['Iron Man', 'Doctor Strange']"
      ]
     },
     "execution_count": 16,
     "metadata": {},
     "output_type": "execute_result"
    }
   ],
   "source": [
    "py_super_names[1:1000]"
   ]
  },
  {
   "cell_type": "markdown",
   "id": "c6ad2764-5fc6-41ab-99a0-0ddbbbf901f2",
   "metadata": {},
   "source": [
    "**Remember:**\n",
    "\n",
    "Data in lists (and arrays) must be accessed using a *zero-based index*."
   ]
  },
  {
   "cell_type": "markdown",
   "id": "61c3a3d7-cba2-4491-b4f0-d63ef85fa111",
   "metadata": {},
   "source": [
    "# Additional Information"
   ]
  },
  {
   "cell_type": "markdown",
   "id": "062901e3-3c2c-4750-a092-9112a9b859c1",
   "metadata": {},
   "source": [
    "## You can also use the indexing concept for strings."
   ]
  },
  {
   "cell_type": "markdown",
   "id": "f8230174-33dc-484c-8c09-4316af9028fb",
   "metadata": {},
   "source": [
    "Example 1"
   ]
  },
  {
   "cell_type": "markdown",
   "id": "f8c2b5f8-a458-473a-9f97-03f0a27a4698",
   "metadata": {},
   "source": [
    "![](https://trainingcommit.notion.site/image/https%3A%2F%2Fprod-files-secure.s3.us-west-2.amazonaws.com%2Fd7554274-50bc-48a5-80fc-184ad0e186df%2F6110e792-97b4-4d5a-ae9b-3cd668d58811%2FUntitled.png?table=block&id=c84987b8-e920-4701-a01c-9e59ad240ee2&spaceId=d7554274-50bc-48a5-80fc-184ad0e186df&width=860&userId=&cache=v2)"
   ]
  },
  {
   "cell_type": "markdown",
   "id": "263acf47-2237-45ad-bb3d-ace1240dd2bd",
   "metadata": {},
   "source": [
    "Consider the string 'probe'!"
   ]
  },
  {
   "cell_type": "markdown",
   "id": "201cfba5-9a01-47d9-b7ad-8be92905e954",
   "metadata": {},
   "source": [
    "To access 'e' which has an index of 4, we can use the code below:"
   ]
  },
  {
   "cell_type": "code",
   "execution_count": 21,
   "id": "39261faf-43ad-4663-a25a-623a05de2383",
   "metadata": {},
   "outputs": [
    {
     "name": "stdout",
     "output_type": "stream",
     "text": [
      "e\n"
     ]
    }
   ],
   "source": [
    "a = 'probe'\n",
    "print(a[4])"
   ]
  },
  {
   "cell_type": "markdown",
   "id": "50fde420-ed8b-465f-8c2c-26756bbb0133",
   "metadata": {},
   "source": [
    "Again, to access the same letter 'e', we can use the negative indexing code below:"
   ]
  },
  {
   "cell_type": "code",
   "execution_count": 22,
   "id": "5e9844a7-6461-492f-ace6-442307bfc843",
   "metadata": {},
   "outputs": [
    {
     "name": "stdout",
     "output_type": "stream",
     "text": [
      "e\n"
     ]
    }
   ],
   "source": [
    "print(a[-1])"
   ]
  },
  {
   "cell_type": "markdown",
   "id": "19f5de12-eac6-4bec-9280-49382a005d19",
   "metadata": {},
   "source": [
    "Example 2"
   ]
  },
  {
   "cell_type": "markdown",
   "id": "403c7b62-d73d-443d-a72c-d44b282293ff",
   "metadata": {},
   "source": [
    "We use the same string as in *Example 1*."
   ]
  },
  {
   "cell_type": "markdown",
   "id": "1ef275bb-ddb3-4c18-b26c-6d793ec1ec08",
   "metadata": {},
   "source": [
    "We can also do slicing for string. For example:"
   ]
  },
  {
   "cell_type": "code",
   "execution_count": 23,
   "id": "ea33c27b-739c-4a75-909d-25134dae8b3e",
   "metadata": {},
   "outputs": [
    {
     "name": "stdout",
     "output_type": "stream",
     "text": [
      "ob\n"
     ]
    }
   ],
   "source": [
    "print(a[2:4])"
   ]
  },
  {
   "cell_type": "markdown",
   "id": "fdda4d10-f1d1-4e13-bf8d-af0dfe8f98b7",
   "metadata": {},
   "source": [
    "Again, the index 4 means 'until, but not including 4'."
   ]
  },
  {
   "cell_type": "markdown",
   "id": "7b476abe-054a-484c-a78c-fc65678c649c",
   "metadata": {},
   "source": [
    "## You can know the length of a string or a list using the `len()` function"
   ]
  },
  {
   "cell_type": "markdown",
   "id": "606c1602-1c97-42a6-9569-49448f5cfaf0",
   "metadata": {},
   "source": [
    "Example for a string"
   ]
  },
  {
   "cell_type": "code",
   "execution_count": 29,
   "id": "2ac64a20-37ed-4ef1-95ae-3ae7a14cfdcc",
   "metadata": {},
   "outputs": [
    {
     "name": "stdout",
     "output_type": "stream",
     "text": [
      "5\n"
     ]
    }
   ],
   "source": [
    "print(len(a))"
   ]
  },
  {
   "cell_type": "markdown",
   "id": "59adc761-dcf5-4f41-aeba-50924cc22f81",
   "metadata": {},
   "source": [
    "Note:\n",
    "\n",
    "Despite the indexing of 'a' stops at index 4, the length is still condisered as 5. The same applies for lists."
   ]
  },
  {
   "cell_type": "markdown",
   "id": "2b83ec14-089d-4af0-a907-45e910de7769",
   "metadata": {},
   "source": [
    "Example for a list"
   ]
  },
  {
   "cell_type": "code",
   "execution_count": 30,
   "id": "a9449d56-5380-4c27-b6d8-506d2b84b5c3",
   "metadata": {},
   "outputs": [
    {
     "name": "stdout",
     "output_type": "stream",
     "text": [
      "3\n"
     ]
    }
   ],
   "source": [
    "print(len(py_super_names))"
   ]
  },
  {
   "attachments": {},
   "cell_type": "markdown",
   "id": "64f0c226",
   "metadata": {},
   "source": [
    "## 1.3 Accessing data from a dictionary"
   ]
  },
  {
   "cell_type": "markdown",
   "id": "2f2e68f8-90a8-429b-a5fa-4698b707838c",
   "metadata": {},
   "source": [
    "Dictionaries hold data (values) paired with a key. i.e. you can access the value (in this case, the superhero name) using the real name as a key. Here is how it works:"
   ]
  },
  {
   "cell_type": "code",
   "execution_count": 24,
   "id": "328f5737-f60e-4812-b023-d9a4ceb5c9b2",
   "metadata": {},
   "outputs": [],
   "source": [
    "superhero_info = {\n",
    "    \"Natasha Romanoff\": \"Black Widow\",\n",
    "    \"Tony Stark\": \"Iron Man\",\n",
    "    \"Stephen Strange\": \"Doctor Strange\"\n",
    "}                  "
   ]
  },
  {
   "cell_type": "code",
   "execution_count": 25,
   "id": "0bdaa30a-0b7b-4727-9ea8-d41e7e8bc847",
   "metadata": {},
   "outputs": [
    {
     "data": {
      "text/plain": [
       "'Black Widow'"
      ]
     },
     "execution_count": 25,
     "metadata": {},
     "output_type": "execute_result"
    }
   ],
   "source": [
    "superhero_info[\"Natasha Romanoff\"]"
   ]
  },
  {
   "cell_type": "markdown",
   "id": "3778e877-054d-4617-ae75-b3b605019c3f",
   "metadata": {},
   "source": [
    "This will give `'Black Widow'` as an output."
   ]
  },
  {
   "cell_type": "markdown",
   "id": "adf58ba3-2b33-41f0-8b19-ed5f2b1b575a",
   "metadata": {},
   "source": [
    "**Remember**\n",
    "\n",
    "Remember that dictionaries have a key-value structure."
   ]
  },
  {
   "cell_type": "markdown",
   "id": "f1fbf163-8bc6-4834-8e5f-2cf64bb49ef2",
   "metadata": {},
   "source": [
    "If you want, you can access all the keys and all the values as follows:"
   ]
  },
  {
   "cell_type": "code",
   "execution_count": 26,
   "id": "38fd414c-8378-47a0-aaef-852702abf556",
   "metadata": {},
   "outputs": [
    {
     "data": {
      "text/plain": [
       "dict_keys(['Natasha Romanoff', 'Tony Stark', 'Stephen Strange'])"
      ]
     },
     "execution_count": 26,
     "metadata": {},
     "output_type": "execute_result"
    }
   ],
   "source": [
    "superhero_info.keys()"
   ]
  },
  {
   "cell_type": "code",
   "execution_count": 27,
   "id": "8b5c108a-97ca-4572-95ca-1c305642508b",
   "metadata": {},
   "outputs": [
    {
     "data": {
      "text/plain": [
       "dict_values(['Black Widow', 'Iron Man', 'Doctor Strange'])"
      ]
     },
     "execution_count": 27,
     "metadata": {},
     "output_type": "execute_result"
    }
   ],
   "source": [
    "superhero_info.values()"
   ]
  },
  {
   "attachments": {},
   "cell_type": "markdown",
   "id": "770251cb",
   "metadata": {},
   "source": [
    "## 1.4 Higher dimensional lists"
   ]
  },
  {
   "cell_type": "markdown",
   "id": "9074b532-dd2a-4d3e-955a-bcb8f4142016",
   "metadata": {},
   "source": [
    "Unlike with a dictionary, we needed *two lists* to store the corresponding real and superhero names. An obvious way around the need to have two lists is to have a **2D list (or array)** as follows."
   ]
  },
  {
   "cell_type": "code",
   "execution_count": 28,
   "id": "35a7596a-e737-4f99-864d-d8103435bd48",
   "metadata": {},
   "outputs": [],
   "source": [
    "py_superhero_info = [['Natasha Romanoff', 'Black Widow'],\n",
    "                     ['Tony Stark', 'Iron Man'],\n",
    "                     ['Stephen Strange', 'Doctor Strange']]"
   ]
  },
  {
   "cell_type": "markdown",
   "id": "9c3ad866-e310-473c-ac61-7fd36176c6ac",
   "metadata": {},
   "source": [
    "Those list will assign `'Natasha Romanoff'` to `'Black Widow'`, `'Tony Stark'`to `'Iron Man'`, and `'Stephen Strange'` to `'Doctor Strange'`."
   ]
  },
  {
   "attachments": {},
   "cell_type": "markdown",
   "id": "9d549286",
   "metadata": {},
   "source": [
    "# 2 Lists vs. Arrays"
   ]
  },
  {
   "cell_type": "markdown",
   "id": "9538a665-e98d-40a5-87b8-9361dfdfa511",
   "metadata": {},
   "source": [
    "Lists and arrays have some *similarities* but **more differences**. It is important to know these to make full use of these differences."
   ]
  },
  {
   "attachments": {},
   "cell_type": "markdown",
   "id": "e51fd51b",
   "metadata": {},
   "source": [
    "## 2.1 Size"
   ]
  },
  {
   "cell_type": "markdown",
   "id": "9a0825f1-7664-4d3b-a11b-d0273fcf9e4e",
   "metadata": {},
   "source": [
    "Often, you need to know how many elements there are in lists or arrays. We can use the `len()` function for this purpose for both lists and arrays. However, **arrays also offer other options**."
   ]
  },
  {
   "cell_type": "code",
   "execution_count": 31,
   "id": "5b902c72-1cb1-472c-b86f-ce543cebaf62",
   "metadata": {},
   "outputs": [],
   "source": [
    "py_list_2d = [[1, \"A\"], [2, \"B\"], [3, \"C\"], [4, \"D\"],\n",
    "              [5, \"E\"], [6, \"F\"], [7, \"G\"], [8, \"H\"],\n",
    "              [9, \"I\"], [10, \"J\"]]\n",
    "\n",
    "np_array_2d = np.array(py_list_2d)      # Reusing the Python list \n",
    "                                        # to create a NEW\n",
    "                                        # NumPy array"
   ]
  },
  {
   "cell_type": "code",
   "execution_count": 35,
   "id": "8bf22755-6764-4711-b5c8-45cc4ee1e3bc",
   "metadata": {},
   "outputs": [
    {
     "data": {
      "text/plain": [
       "10"
      ]
     },
     "execution_count": 35,
     "metadata": {},
     "output_type": "execute_result"
    }
   ],
   "source": [
    "len(py_list_2d)"
   ]
  },
  {
   "cell_type": "code",
   "execution_count": 36,
   "id": "e587601c-7f23-4023-993e-f8878e070142",
   "metadata": {},
   "outputs": [
    {
     "data": {
      "text/plain": [
       "10"
      ]
     },
     "execution_count": 36,
     "metadata": {},
     "output_type": "execute_result"
    }
   ],
   "source": [
    "len(np_array_2d)"
   ]
  },
  {
   "cell_type": "code",
   "execution_count": 37,
   "id": "0d2fb1db-799d-46a7-b9a9-debce8cddc88",
   "metadata": {},
   "outputs": [
    {
     "data": {
      "text/plain": [
       "(10, 2)"
      ]
     },
     "execution_count": 37,
     "metadata": {},
     "output_type": "execute_result"
    }
   ],
   "source": [
    "np_array_2d.shape"
   ]
  },
  {
   "cell_type": "markdown",
   "id": "0c1bd608-edcc-4267-af6c-69bec3dbd5d5",
   "metadata": {},
   "source": [
    "Notice the absence of brackets `( )` in `shape` above. This is because `shape` is **not** a function. Instead, it is a property or *attribute* of the NumPy array."
   ]
  },
  {
   "attachments": {},
   "cell_type": "markdown",
   "id": "46b75f8e",
   "metadata": {},
   "source": [
    "## 2.2 Arrays are fussy about type"
   ]
  },
  {
   "cell_type": "markdown",
   "id": "dc219244-8696-4ddf-b767-1e6d0734ebd1",
   "metadata": {},
   "source": [
    "Recall : [data types](https://sps.nus.edu.sg/sp2273/docs/python_basics/03_storing-data/1_storing-data_need.html#sec-basic-good-type) (e.g., `int`, `float`, `str`)."
   ]
  },
  {
   "cell_type": "markdown",
   "id": "ffe9564a-a6a0-480d-8472-3c212670e840",
   "metadata": {},
   "source": [
    "One prominent difference between lists and arrays is that **arrays** insist on having only a **single data type**; **lists** are **more accommodating**. \n",
    "\n",
    "Consider the following example and notice how the numbers are converted to English (`' '`) when we create the NumPy array."
   ]
  },
  {
   "cell_type": "code",
   "execution_count": 39,
   "id": "b5a7f148-f56d-4bff-b53a-5de509857445",
   "metadata": {},
   "outputs": [],
   "source": [
    "py_list = [1, 1.5, 'A']\n",
    "np_array = np.array(py_list)"
   ]
  },
  {
   "cell_type": "markdown",
   "id": "9b0ddba5-4dd3-4c68-a9be-56f6ec6d280f",
   "metadata": {},
   "source": [
    "**Lists**"
   ]
  },
  {
   "cell_type": "code",
   "execution_count": 41,
   "id": "da8fecdb-a533-40a2-a1e5-7511a2a6ed49",
   "metadata": {},
   "outputs": [
    {
     "data": {
      "text/plain": [
       "[1, 1.5, 'A']"
      ]
     },
     "execution_count": 41,
     "metadata": {},
     "output_type": "execute_result"
    }
   ],
   "source": [
    "py_list"
   ]
  },
  {
   "cell_type": "markdown",
   "id": "1af7cbd7-0d12-4a1b-af98-e733992970df",
   "metadata": {},
   "source": [
    "**Arrays**"
   ]
  },
  {
   "cell_type": "code",
   "execution_count": 42,
   "id": "c78cd146-fc5d-47f6-94e2-e392d457bee8",
   "metadata": {},
   "outputs": [
    {
     "data": {
      "text/plain": [
       "array(['1', '1.5', 'A'], dtype='<U32')"
      ]
     },
     "execution_count": 42,
     "metadata": {},
     "output_type": "execute_result"
    }
   ],
   "source": [
    "np_array"
   ]
  },
  {
   "cell_type": "markdown",
   "id": "ef17757b-386a-4864-ba9b-da4f5a7d6aa6",
   "metadata": {},
   "source": [
    "The output will be `array(['1', '1.5', 'A'], dtype='<U32')`."
   ]
  },
  {
   "cell_type": "markdown",
   "id": "ccaf24ee-5cb2-49c0-944c-70a109632a68",
   "metadata": {},
   "source": [
    "When dealing with datasets with both numbers and text, you must be mindful of this restriction. However, this is just an annoyance and not a problem as we can easily change type (typecast) using the ‘hidden’ function `astypes()`."
   ]
  },
  {
   "cell_type": "markdown",
   "id": "7f05792a-88f8-46a5-babb-7822d9694638",
   "metadata": {},
   "source": [
    "**Remember**:\n",
    "\n",
    "Remember that NumPy arrays tolerate only a single type."
   ]
  },
  {
   "attachments": {},
   "cell_type": "markdown",
   "id": "8d0f23d5",
   "metadata": {},
   "source": [
    "## 2.3 Adding a number"
   ]
  },
  {
   "cell_type": "code",
   "execution_count": null,
   "id": "b0f227b0-38ec-49c0-838e-288218c0e6b3",
   "metadata": {},
   "outputs": [],
   "source": [
    "py_list = [1, 2, 3, 4, 5]\n",
    "np_array = np.array(py_list)         # Reusing the Python list\n",
    "                                     # to create a NEW\n",
    "                                     # NumPy array"
   ]
  },
  {
   "cell_type": "code",
   "execution_count": null,
   "id": "07d5d21b-c568-45a3-a808-9c2331275b06",
   "metadata": {},
   "outputs": [],
   "source": [
    "np_array + 10"
   ]
  },
  {
   "cell_type": "markdown",
   "id": "b66791c7-d300-4cdd-a67f-f33ad94d3531",
   "metadata": {},
   "source": [
    "**Lists**"
   ]
  },
  {
   "cell_type": "code",
   "execution_count": null,
   "id": "e3a4ff13-03d9-4f53-9f40-27b20728ed0a",
   "metadata": {},
   "outputs": [],
   "source": [
    "py_list + 10        # Won't work!"
   ]
  },
  {
   "cell_type": "markdown",
   "id": "2ac49afe-89b9-4222-b48b-8888448940b8",
   "metadata": {},
   "source": [
    "**Arrays**"
   ]
  },
  {
   "cell_type": "markdown",
   "id": "53373c3f-4c3a-40ad-af5f-8236652d839d",
   "metadata": {},
   "source": [
    "`array([11, 12, 13, 14, 15])`"
   ]
  },
  {
   "attachments": {},
   "cell_type": "markdown",
   "id": "dea60261",
   "metadata": {},
   "source": [
    "## 2.4 Adding another list"
   ]
  },
  {
   "cell_type": "code",
   "execution_count": null,
   "id": "67e5240e-f9f7-4d82-b044-57f229d8a5c4",
   "metadata": {},
   "outputs": [],
   "source": [
    "py_list_1 = [1, 2, 3, 4, 5]\n",
    "py_list_2 = [10, 20, 30, 40, 50]\n",
    "\n",
    "np_array_1 = np.array(py_list_1)\n",
    "np_array_2 = np.array(py_list_2)"
   ]
  },
  {
   "cell_type": "code",
   "execution_count": null,
   "id": "cb80e7b2-da43-4c33-9df1-1595d40e8b73",
   "metadata": {},
   "outputs": [],
   "source": [
    "py_list_1 + py_list_2\n",
    "np_array_1 + np_array_2"
   ]
  },
  {
   "cell_type": "markdown",
   "id": "d64f911e-f78d-458b-8da7-d17bae7d8f04",
   "metadata": {},
   "source": [
    "**Lists**"
   ]
  },
  {
   "cell_type": "markdown",
   "id": "6b6f9c56-3937-4f17-9a63-667e64c33eff",
   "metadata": {},
   "source": [
    "`[1, 2, 3, 4, 5, 10, 20, 30, 40, 50]`"
   ]
  },
  {
   "cell_type": "markdown",
   "id": "30fd5dae-01a0-4e0b-a366-c68f31c5bf99",
   "metadata": {},
   "source": [
    "**Arrays**"
   ]
  },
  {
   "cell_type": "markdown",
   "id": "09e83c44-1cf0-44fe-b03d-c9e2016125ce",
   "metadata": {},
   "source": [
    "`array([11, 22, 33, 44, 55])`"
   ]
  },
  {
   "cell_type": "markdown",
   "id": "b5fc6cf2-74a6-4630-a1dd-fbef334cf42e",
   "metadata": {},
   "source": [
    "# ***Conclusion***:\n",
    "\n",
    "**Adding lists** causes them to *grow* while **adding arrays** is an *element-wise operation*."
   ]
  },
  {
   "attachments": {},
   "cell_type": "markdown",
   "id": "cd855a81",
   "metadata": {},
   "source": [
    "## 2.5 Multiplying by a Number"
   ]
  },
  {
   "cell_type": "code",
   "execution_count": null,
   "id": "5b320cd3-2f91-4f54-a80d-2c2b96156cf0",
   "metadata": {},
   "outputs": [],
   "source": [
    "py_list = [1, 2, 3, 4, 5]\n",
    "np_array = np.array(py_list)         "
   ]
  },
  {
   "cell_type": "code",
   "execution_count": null,
   "id": "077a593c-319a-4044-81ae-ccfdceca7fdd",
   "metadata": {},
   "outputs": [],
   "source": [
    "py_list*2\n",
    "np_array*2"
   ]
  },
  {
   "cell_type": "markdown",
   "id": "e4eaae52-25a4-4b17-9ed1-25b4224340d1",
   "metadata": {},
   "source": [
    "**Lists**"
   ]
  },
  {
   "cell_type": "markdown",
   "id": "bb8cba6a-587c-4472-a54d-f966402d06aa",
   "metadata": {},
   "source": [
    "`[1, 2, 3, 4, 5, 1, 2, 3, 4, 5]`"
   ]
  },
  {
   "cell_type": "markdown",
   "id": "06bbc827-312b-4306-a958-c13147a30607",
   "metadata": {},
   "source": [
    "**Arrays**"
   ]
  },
  {
   "cell_type": "markdown",
   "id": "ba29e661-0b76-47cd-91d4-0115eef40244",
   "metadata": {},
   "source": [
    "`array([ 2,  4,  6,  8, 10])`"
   ]
  },
  {
   "cell_type": "markdown",
   "id": "771c1f00-ed6a-4130-99b4-65765ba76737",
   "metadata": {},
   "source": [
    "# ***Conclusion***:\n",
    "\n",
    "**Multiplying** by a number makes a *list grow*, whereas an **array multiplies** its *elements by the number*!"
   ]
  },
  {
   "attachments": {},
   "cell_type": "markdown",
   "id": "2219aaf7",
   "metadata": {},
   "source": [
    "## 2.6 Squaring"
   ]
  },
  {
   "cell_type": "code",
   "execution_count": null,
   "id": "b292ed97-f184-42dc-8dc1-13981c6067f9",
   "metadata": {},
   "outputs": [],
   "source": [
    "py_list = [1, 2, 3, 4, 5]\n",
    "np_array = np.array(py_list)"
   ]
  },
  {
   "cell_type": "code",
   "execution_count": null,
   "id": "27e9082e-c90c-4849-8552-9b3ec3e9a9d6",
   "metadata": {},
   "outputs": [],
   "source": [
    "np_array**2"
   ]
  },
  {
   "cell_type": "markdown",
   "id": "9ee37715-6d9a-41da-aead-9c7011083463",
   "metadata": {},
   "source": [
    "**Lists**"
   ]
  },
  {
   "cell_type": "code",
   "execution_count": null,
   "id": "18cd162f-b194-45e6-9a2d-40b5541235db",
   "metadata": {},
   "outputs": [],
   "source": [
    "py_list**2                      # Won't work!  "
   ]
  },
  {
   "cell_type": "markdown",
   "id": "24deda33-e5d2-4cc4-9458-e1010ee4bc9f",
   "metadata": {},
   "source": [
    "**Arrays**"
   ]
  },
  {
   "cell_type": "markdown",
   "id": "7ab38101-87aa-4dfb-a810-72430721a5ac",
   "metadata": {},
   "source": [
    "`array([ 1,  4,  9, 16, 25])`"
   ]
  },
  {
   "cell_type": "markdown",
   "id": "2f5b2530-4cdf-413f-b3a0-e8690ec180b3",
   "metadata": {},
   "source": [
    "# ***Conclusion***:\n",
    "\n",
    "**Applying exponentiation** to lists by a number *wont work*, whereas **arrays do the exponentiation** to every of its *elements by the number*!"
   ]
  },
  {
   "attachments": {},
   "cell_type": "markdown",
   "id": "2af09927",
   "metadata": {},
   "source": [
    "## 2.7 Asking questions"
   ]
  },
  {
   "cell_type": "code",
   "execution_count": 43,
   "id": "e4f7ac5d-dec7-4704-a37e-f42dca4d2b78",
   "metadata": {},
   "outputs": [],
   "source": [
    "py_list = [1, 2, 3, 4, 5]\n",
    "np_array = np.array(py_list)         "
   ]
  },
  {
   "cell_type": "code",
   "execution_count": 45,
   "id": "4bc8f547-24ea-4af8-85cd-3df86ac07ed2",
   "metadata": {},
   "outputs": [
    {
     "data": {
      "text/plain": [
       "False"
      ]
     },
     "execution_count": 45,
     "metadata": {},
     "output_type": "execute_result"
    }
   ],
   "source": [
    "py_list == 3     # Works, but what IS the question?"
   ]
  },
  {
   "cell_type": "code",
   "execution_count": 53,
   "id": "53cdc978-1e66-4417-acb8-4653db94a527",
   "metadata": {},
   "outputs": [
    {
     "data": {
      "text/plain": [
       "False"
      ]
     },
     "execution_count": 53,
     "metadata": {},
     "output_type": "execute_result"
    }
   ],
   "source": [
    "py_list = [3, 3, 3, 3, 3]\n",
    "py_list == 3"
   ]
  },
  {
   "cell_type": "markdown",
   "id": "681a91fe-6bfd-4922-8869-5ca0fe4bb026",
   "metadata": {},
   "source": [
    "In the above example, `py_list == 3` will compare its value to the integer in `py_list = [3, 3, 3, 3, 3]`. However, since `py_list = [3, 3, 3, 3, 3]` is a list then the answer will always be `False`"
   ]
  },
  {
   "cell_type": "code",
   "execution_count": 46,
   "id": "a9170d2f-473b-422b-970f-55896782d28b",
   "metadata": {},
   "outputs": [
    {
     "data": {
      "text/plain": [
       "array([False, False,  True, False, False])"
      ]
     },
     "execution_count": 46,
     "metadata": {},
     "output_type": "execute_result"
    }
   ],
   "source": [
    "np_array == 3"
   ]
  },
  {
   "cell_type": "code",
   "execution_count": 47,
   "id": "4d98de7f-d572-4249-ab2c-b1b70c03ea81",
   "metadata": {},
   "outputs": [
    {
     "data": {
      "text/plain": [
       "array([False, False, False,  True,  True])"
      ]
     },
     "execution_count": 47,
     "metadata": {},
     "output_type": "execute_result"
    }
   ],
   "source": [
    "np_array > 3  "
   ]
  },
  {
   "cell_type": "markdown",
   "id": "b6154b34-f00f-4cb7-987c-bd56b3bad9c0",
   "metadata": {},
   "source": [
    "**Lists**"
   ]
  },
  {
   "cell_type": "markdown",
   "id": "dabd4168-00dd-4b61-9a24-f58fd0423288",
   "metadata": {},
   "source": [
    "Example 1"
   ]
  },
  {
   "cell_type": "markdown",
   "id": "f3925e6e-5c96-4fff-a801-3a1955666896",
   "metadata": {},
   "source": [
    "The output: `False`"
   ]
  },
  {
   "cell_type": "markdown",
   "id": "7b8a428c-1e9c-4fa4-bd53-d6035790755c",
   "metadata": {},
   "source": [
    "Example 2"
   ]
  },
  {
   "cell_type": "code",
   "execution_count": null,
   "id": "213c74c9-30f5-47d7-84d6-c197240894f4",
   "metadata": {},
   "outputs": [],
   "source": [
    "py_list > 3      # Won't work!"
   ]
  },
  {
   "cell_type": "markdown",
   "id": "f6a0bb4b-cd8b-44b3-aee8-5746c064b648",
   "metadata": {},
   "source": [
    "**Arrays**"
   ]
  },
  {
   "cell_type": "markdown",
   "id": "f4000237-57e6-4ba7-966c-0224d4bbe691",
   "metadata": {},
   "source": [
    "Example 1"
   ]
  },
  {
   "cell_type": "markdown",
   "id": "6be75643-cb7b-4e3b-bf92-08a3cb4aa1f6",
   "metadata": {},
   "source": [
    "The output: `array([False, False,  True, False, False])`"
   ]
  },
  {
   "cell_type": "markdown",
   "id": "4028601f-72f1-4d3e-a455-f51ef73d7d89",
   "metadata": {},
   "source": [
    "Example 2"
   ]
  },
  {
   "cell_type": "markdown",
   "id": "0a25bd38-d43b-4bdd-a976-9b8014d07ed8",
   "metadata": {},
   "source": [
    "The output: `array([False, False, False,  True,  True])`"
   ]
  },
  {
   "cell_type": "markdown",
   "id": "7e4dd79b-8353-4c17-85d1-fac6bb8f9fce",
   "metadata": {},
   "source": [
    "# ***Conclusion***:\n",
    "\n",
    "**Arrays** will compare each of the value of its elements to the number we give, but **Lists** won't"
   ]
  },
  {
   "attachments": {},
   "cell_type": "markdown",
   "id": "7a8bf7ab",
   "metadata": {},
   "source": [
    "## 2.8 Mathematics"
   ]
  },
  {
   "cell_type": "code",
   "execution_count": null,
   "id": "e7e7a7c7-62fc-4ff6-a395-31363fc1ea92",
   "metadata": {},
   "outputs": [],
   "source": [
    "py_list = [1, 2, 3, 4, 5]\n",
    "np_array = np.array(py_list)         "
   ]
  },
  {
   "cell_type": "code",
   "execution_count": null,
   "id": "fe35d894-79ab-4176-942f-6d6a317176fe",
   "metadata": {},
   "outputs": [],
   "source": [
    "sum(py_list)     # sum() is a base Python function\n",
    "max(py_list)     # max() is a base Python function\n",
    "min(py_list)     # min() is a base Python function\n",
    "np_array.sum()\n",
    "np_array.max()\n",
    "np_array.min()\n",
    "np_array.mean()\n",
    "np_array.std()"
   ]
  },
  {
   "cell_type": "markdown",
   "id": "7060ae94-0043-4a03-982c-85029aaed83e",
   "metadata": {},
   "source": [
    "**Lists**"
   ]
  },
  {
   "cell_type": "markdown",
   "id": "7c2635b4-e011-4cd2-844d-0107e946f7b2",
   "metadata": {},
   "source": [
    "Example 1"
   ]
  },
  {
   "cell_type": "markdown",
   "id": "d0b2111d-8a15-4a61-8584-b4516f9cd0c5",
   "metadata": {},
   "source": [
    "The output: `15`"
   ]
  },
  {
   "cell_type": "markdown",
   "id": "356856c6-6c2b-4266-99cc-a055ced0d803",
   "metadata": {},
   "source": [
    "Example 2"
   ]
  },
  {
   "cell_type": "markdown",
   "id": "52ea4144-590f-4e2a-9863-65fe60213ba0",
   "metadata": {},
   "source": [
    "The output: `5`"
   ]
  },
  {
   "cell_type": "markdown",
   "id": "6949836f-4db4-4139-a9f2-ad97bfe197de",
   "metadata": {},
   "source": [
    "Example 3"
   ]
  },
  {
   "cell_type": "markdown",
   "id": "966a63be-af1e-4e2b-9c12-815f04953c90",
   "metadata": {},
   "source": [
    "The output: `1`"
   ]
  },
  {
   "cell_type": "markdown",
   "id": "2d4b5029-b0bb-42a2-af78-8dafdc4bb7aa",
   "metadata": {},
   "source": [
    "Example 4"
   ]
  },
  {
   "cell_type": "code",
   "execution_count": null,
   "id": "567faac0-b7c3-4ef1-9772-2635a1e724c8",
   "metadata": {},
   "outputs": [],
   "source": [
    "py_list.sum()   # Won't work!"
   ]
  },
  {
   "cell_type": "markdown",
   "id": "bf8b3283-c579-4c96-a643-7fafa9771098",
   "metadata": {},
   "source": [
    "**Arrays**"
   ]
  },
  {
   "cell_type": "markdown",
   "id": "378a829e-dcaf-45b3-816d-d261a1fa711f",
   "metadata": {},
   "source": [
    "Example 1"
   ]
  },
  {
   "cell_type": "markdown",
   "id": "8afe669f-083f-4382-bba8-fbfa6c9f06ed",
   "metadata": {},
   "source": [
    "The output: `15`"
   ]
  },
  {
   "cell_type": "markdown",
   "id": "770caa08-1668-4cd3-92bf-c4f1afd3ebfc",
   "metadata": {},
   "source": [
    "Example 2"
   ]
  },
  {
   "cell_type": "markdown",
   "id": "8c7258ec-32a4-4051-9694-8246913d07f3",
   "metadata": {},
   "source": [
    "The output: `5`"
   ]
  },
  {
   "cell_type": "markdown",
   "id": "7eaecff2-4754-4096-a04e-0af8264cf098",
   "metadata": {},
   "source": [
    "Example 3"
   ]
  },
  {
   "cell_type": "markdown",
   "id": "c5ccecce-14ed-48be-85a2-d3657c90630a",
   "metadata": {},
   "source": [
    "The output: `1`"
   ]
  },
  {
   "cell_type": "markdown",
   "id": "6ab7e716-95d5-4cb0-a2c2-aee1ad166fd1",
   "metadata": {},
   "source": [
    "Example 4"
   ]
  },
  {
   "cell_type": "markdown",
   "id": "33f60ad3-445a-437b-8723-2e09562681c7",
   "metadata": {},
   "source": [
    "The output: `3.0`"
   ]
  },
  {
   "cell_type": "markdown",
   "id": "85f0301f-494b-4274-8b83-9c1272f40df2",
   "metadata": {},
   "source": [
    "Example 5"
   ]
  },
  {
   "cell_type": "markdown",
   "id": "593433a9-fcc5-4e0e-8438-ec222a17c45f",
   "metadata": {},
   "source": [
    "The output: `1.4142135623730951`"
   ]
  },
  {
   "cell_type": "markdown",
   "id": "e09d979d-5718-4bf0-b3e1-2e7df8c68aba",
   "metadata": {},
   "source": [
    "# ***Conclusion***:\n",
    "\n",
    "Use *`function name()`* to deal with **lists**, whereas use *`array name.operation type()`* to deal with **arrays**."
   ]
  },
  {
   "cell_type": "markdown",
   "id": "b7737627-1c6b-4610-ae61-156bc525c712",
   "metadata": {},
   "source": [
    "**Remember**:\n",
    "\n",
    "(**roughly speaking**) an operation on a list works on the **whole** list. In contrast, an operation on an array works on the **individual elements** of the array."
   ]
  },
  {
   "attachments": {},
   "cell_type": "markdown",
   "id": "2439d681",
   "metadata": {},
   "source": [
    "# Exercises & Self-Assessment"
   ]
  },
  {
   "cell_type": "code",
   "execution_count": null,
   "id": "1c20bac9",
   "metadata": {},
   "outputs": [],
   "source": []
  },
  {
   "attachments": {},
   "cell_type": "markdown",
   "id": "34c1f68a",
   "metadata": {},
   "source": [
    "## Footnotes"
   ]
  },
  {
   "cell_type": "markdown",
   "id": "983318ff-5ada-4d13-9be2-eaed37fcaf9d",
   "metadata": {},
   "source": [
    "1. For example, think of how easy it is to do row or column manipulations of data when put into a spreadsheet format."
   ]
  }
 ],
 "metadata": {
  "kernelspec": {
   "display_name": "Python 3 (ipykernel)",
   "language": "python",
   "name": "python3"
  },
  "language_info": {
   "codemirror_mode": {
    "name": "ipython",
    "version": 3
   },
   "file_extension": ".py",
   "mimetype": "text/x-python",
   "name": "python",
   "nbconvert_exporter": "python",
   "pygments_lexer": "ipython3",
   "version": "3.11.5"
  },
  "toc": {
   "base_numbering": 1,
   "nav_menu": {},
   "number_sections": true,
   "sideBar": true,
   "skip_h1_title": false,
   "title_cell": "Table of Contents",
   "title_sidebar": "Contents",
   "toc_cell": false,
   "toc_position": {},
   "toc_section_display": true,
   "toc_window_display": false
  },
  "vscode": {
   "interpreter": {
    "hash": "31f2aee4e71d21fbe5cf8b01ff0e069b9275f58929596ceb00d14d90e3e16cd6"
   }
  }
 },
 "nbformat": 4,
 "nbformat_minor": 5
}
