{
 "cells": [
  {
   "attachments": {},
   "cell_type": "markdown",
   "id": "123456",
   "metadata": {},
   "source": [
    "<div style=\"text-align:left;font-size:2em\"><span style=\"font-weight:bolder;font-size:1.25em\">SP2273 | Learning Portfolio</span><br><br><span style=\"font-weight:bold;color:darkred\">Functions (Good)</span></div>"
   ]
  },
  {
   "attachments": {},
   "cell_type": "markdown",
   "id": "0cd75017",
   "metadata": {},
   "source": [
    "# What to expect in this chapter"
   ]
  },
  {
   "cell_type": "markdown",
   "id": "38052e42-a8c7-448c-a2ed-e677a21469b8",
   "metadata": {},
   "source": [
    "You will learn:\n",
    "\n",
    "- Types of arguments and docstrings\n",
    "- Exception handling to deal with errors\n",
    "\n",
    "You will know:\n",
    "\n",
    "- The difference between positional, keyword, and default arguments of functions\n",
    "\n",
    "You will be able to:\n",
    "\n",
    "- Write code that checks and handles potential problems."
   ]
  },
  {
   "attachments": {},
   "cell_type": "markdown",
   "id": "725ed882",
   "metadata": {},
   "source": [
    "# 1 Checks, balances, and contingencies"
   ]
  },
  {
   "cell_type": "markdown",
   "id": "06996a2e-f936-4d58-8cad-4d6999c24321",
   "metadata": {},
   "source": [
    "Users and programmers are not infallible, and you cannot think of everything that can go wrong. So, having checks, balances, and contingencies in your code is a good idea."
   ]
  },
  {
   "cell_type": "markdown",
   "id": "314160ea-eabd-49d8-8a29-27312fb4e9f6",
   "metadata": {},
   "source": [
    "There are two standard ways Python allows us to incorporate checks: `assert` and `try-except`."
   ]
  },
  {
   "attachments": {},
   "cell_type": "markdown",
   "id": "b4e1dc07",
   "metadata": {},
   "source": [
    "## 1.1 `assert`"
   ]
  },
  {
   "cell_type": "markdown",
   "id": "a5f2528d-21e2-4f9b-9309-e6946be8f4c9",
   "metadata": {},
   "source": [
    "Python has a command called `assert` that can check a condition and halt execution if necessary. It also gives the option of printing a message.\n",
    "\n",
    "The basic syntax is as follows:"
   ]
  },
  {
   "cell_type": "markdown",
   "id": "4885edf2-d6f8-4ca2-8c40-3341e19a4b6e",
   "metadata": {},
   "source": [
    "`assert condition-to-check, message`"
   ]
  },
  {
   "cell_type": "markdown",
   "id": "6b34f4a0-2bda-4c64-9456-e05623ad1cf7",
   "metadata": {},
   "source": [
    "`assert` stops the flow if the condition fails. Here is an example."
   ]
  },
  {
   "cell_type": "markdown",
   "id": "74d954df-985e-4f6f-b9bd-45b1b3b1ffd5",
   "metadata": {},
   "source": [
    "`assert x >= 0, \"x is becoming negative!\"`"
   ]
  },
  {
   "cell_type": "markdown",
   "id": "210515b9-cade-47f1-ab0b-1e85cd7b252e",
   "metadata": {},
   "source": [
    "The program will run for as long as the condition is `True`. If it fails, then an `AssertationError` is raised, and the program stops running!\n",
    "\n",
    "The following **will** run without a problem."
   ]
  },
  {
   "cell_type": "code",
   "execution_count": 3,
   "id": "504208ad-9630-4886-b0da-a27607372470",
   "metadata": {},
   "outputs": [],
   "source": [
    "x = 10\n",
    "assert x >= 0, \"x is becoming negative!\""
   ]
  },
  {
   "cell_type": "markdown",
   "id": "7b2c89b6-590b-424c-92d4-4613ca21e982",
   "metadata": {},
   "source": [
    "The following will throw an error and stop."
   ]
  },
  {
   "cell_type": "code",
   "execution_count": 4,
   "id": "c12085ed-9772-4953-a8aa-31cc2a64b111",
   "metadata": {},
   "outputs": [
    {
     "ename": "AssertionError",
     "evalue": "x is becoming negative!",
     "output_type": "error",
     "traceback": [
      "\u001b[1;31m---------------------------------------------------------------------------\u001b[0m",
      "\u001b[1;31mAssertionError\u001b[0m                            Traceback (most recent call last)",
      "Cell \u001b[1;32mIn[4], line 2\u001b[0m\n\u001b[0;32m      1\u001b[0m x \u001b[38;5;241m=\u001b[39m \u001b[38;5;241m-\u001b[39m\u001b[38;5;241m1\u001b[39m\n\u001b[1;32m----> 2\u001b[0m \u001b[38;5;28;01massert\u001b[39;00m x \u001b[38;5;241m>\u001b[39m\u001b[38;5;241m=\u001b[39m \u001b[38;5;241m0\u001b[39m, \u001b[38;5;124m\"\u001b[39m\u001b[38;5;124mx is becoming negative!\u001b[39m\u001b[38;5;124m\"\u001b[39m\n",
      "\u001b[1;31mAssertionError\u001b[0m: x is becoming negative!"
     ]
    }
   ],
   "source": [
    "x = -1\n",
    "assert x >= 0, \"x is becoming negative!\""
   ]
  },
  {
   "cell_type": "markdown",
   "id": "d1b0af94-6c22-4d60-85a0-cd6ce06742cb",
   "metadata": {},
   "source": [
    "Another example:"
   ]
  },
  {
   "cell_type": "code",
   "execution_count": 5,
   "id": "1eee1bd4-f364-4912-b480-f19b2de084a7",
   "metadata": {},
   "outputs": [
    {
     "ename": "AssertionError",
     "evalue": "",
     "output_type": "error",
     "traceback": [
      "\u001b[1;31m---------------------------------------------------------------------------\u001b[0m",
      "\u001b[1;31mAssertionError\u001b[0m                            Traceback (most recent call last)",
      "Cell \u001b[1;32mIn[5], line 7\u001b[0m\n\u001b[0;32m      4\u001b[0m \u001b[38;5;28;01massert\u001b[39;00m x \u001b[38;5;241m==\u001b[39m \u001b[38;5;124m\"\u001b[39m\u001b[38;5;124mhello\u001b[39m\u001b[38;5;124m\"\u001b[39m\n\u001b[0;32m      6\u001b[0m \u001b[38;5;66;03m#if condition returns False, AssertionError is raised:\u001b[39;00m\n\u001b[1;32m----> 7\u001b[0m \u001b[38;5;28;01massert\u001b[39;00m x \u001b[38;5;241m==\u001b[39m \u001b[38;5;124m\"\u001b[39m\u001b[38;5;124mgoodbye\u001b[39m\u001b[38;5;124m\"\u001b[39m\n",
      "\u001b[1;31mAssertionError\u001b[0m: "
     ]
    }
   ],
   "source": [
    "x = \"hello\"\n",
    "\n",
    "#if condition returns True, then nothing happens:\n",
    "assert x == \"hello\"\n",
    "\n",
    "#if condition returns False, AssertionError is raised:\n",
    "assert x == \"goodbye\""
   ]
  },
  {
   "attachments": {},
   "cell_type": "markdown",
   "id": "ce24316b",
   "metadata": {},
   "source": [
    "## 1.2 `try-except`"
   ]
  },
  {
   "cell_type": "markdown",
   "id": "f65e2742-2873-487b-ba70-54fb5626b890",
   "metadata": {},
   "source": [
    "A technical name for things going wrong is **exceptions**. For example, division by zero will raise a `ZeroDivisionError`. An exception left unhandled will halt the flow of the programme. However, if you are a control freak, Python offers an (absurdly) simple `‘try-except’` structure to catch and handle these exceptions yourself.\n",
    "\n",
    "The `try-except` syntax can also ensure that your programme can handle some situations beyond your control. For example, when you use Python to speak to the Canvas server, you will need to use `try-except` to handle situations when the server does not respond.\n",
    "\n",
    "**Example on how to use the `try-exept` flow control statement:**\n",
    "\n",
    "We can solicit a user response using the `input()` function. Let’s say we do this and ask for a number, as shown in the snippet below."
   ]
  },
  {
   "cell_type": "code",
   "execution_count": 9,
   "id": "e34a6dc0-eae4-4375-a36d-d28e98c05f43",
   "metadata": {},
   "outputs": [
    {
     "name": "stdin",
     "output_type": "stream",
     "text": [
      "Give me a number and I will calculate its square. 332\n"
     ]
    },
    {
     "name": "stdout",
     "output_type": "stream",
     "text": [
      "The square of 332 is 110224!\n"
     ]
    }
   ],
   "source": [
    "number=input(\"Give me a number and I will calculate its square.\")\n",
    "square=int(number)**2              # Convert English to number\n",
    "print(f'The square of {number} is {square}!')"
   ]
  },
  {
   "cell_type": "markdown",
   "id": "75e3eae9-a20f-4653-b46a-cf404a527812",
   "metadata": {},
   "source": [
    "This will work fine if the typecasting `int(number)` makes sense. What if the input is not a number but something else like ‘hahaha’?\n",
    "\n",
    "Let’s use the `try-except` to get around this problem."
   ]
  },
  {
   "cell_type": "code",
   "execution_count": 11,
   "id": "0dec53d0-feb3-40f4-b36c-04e0142b28c5",
   "metadata": {},
   "outputs": [
    {
     "name": "stdin",
     "output_type": "stream",
     "text": [
      "Give me a number and I will calculate its square. 231\n"
     ]
    },
    {
     "name": "stdout",
     "output_type": "stream",
     "text": [
      "The square of 231 is 53361!\n"
     ]
    }
   ],
   "source": [
    "try:\n",
    "    number=input(\"Give me a number and I will calculate its square.\")\n",
    "    square=int(number)**2\n",
    "    print(f'The square of {number} is {square}!')\n",
    "except:\n",
    "    print(f\"Oh oh! I cannot square {number}!\")"
   ]
  },
  {
   "cell_type": "markdown",
   "id": "0138b471-9f5e-4742-8955-269e18bacf81",
   "metadata": {},
   "source": [
    "Notice how we have **enclosed (and protected)** that part of the code that we think can potentially lead to trouble in the `tr`y block. If something (anything) goes wrong, Python will ignore the error and run the code in the `except` block.\r\n",
    "\r\n",
    "You can have more control over how the expetions are handled with `a try-exce`pt block."
   ]
  },
  {
   "attachments": {},
   "cell_type": "markdown",
   "id": "025e81f0",
   "metadata": {},
   "source": [
    "## 1.3 A simple suggestion"
   ]
  },
  {
   "cell_type": "markdown",
   "id": "17bc5e43-2986-4f3d-88de-1ccfd444c2d5",
   "metadata": {},
   "source": [
    "When starting out with some code, it is always good for your code to *signal to the outside world* that it has finished certain milestones. A **‘soft’** way to do this is to include `‘print()’` statements here and there to let the outside world know *what is happening* in the innards of your program. Otherwise, **you will stare at a blank cell, wondering what is happening**."
   ]
  },
  {
   "attachments": {},
   "cell_type": "markdown",
   "id": "91b6a433",
   "metadata": {},
   "source": [
    "# 2 Some loose ends"
   ]
  },
  {
   "attachments": {},
   "cell_type": "markdown",
   "id": "bcbd2c7e",
   "metadata": {},
   "source": [
    "## 2.1 Positional, keyword and default arguments"
   ]
  },
  {
   "cell_type": "markdown",
   "id": "1665a9a9-9b70-4508-b365-f999573fe561",
   "metadata": {},
   "source": [
    "In the past chapter, you may have noticed that we were (carelessly) switching between passing two styles of passing arguments to the function `greeting()`. We wrote `greeting('Super Man')` or `greeting(name='Super Man')`. We need to talk a bit more about this so that you are not bewildered when you see other people’s code.\r\n",
    "\r\n",
    "There ar*e three ‘way*s’ to pass a value to an argumentWe I will call the***m position***al***, keywo***rd o***r defau***lt. To make this clearer, consider the following function."
   ]
  },
  {
   "cell_type": "code",
   "execution_count": 12,
   "id": "449ef7d1-f9cf-45e5-9703-cbc0bef1edd2",
   "metadata": {},
   "outputs": [],
   "source": [
    "def side_by_side(a, b, c=42):\n",
    "    return f'{a: 2d}|{b: 2d}|{c: 2d}'"
   ]
  },
  {
   "cell_type": "code",
   "execution_count": 14,
   "id": "a18f083c-5948-49f3-be6b-cc7ef78926ff",
   "metadata": {},
   "outputs": [
    {
     "data": {
      "text/plain": [
       "' 2| 3| 4'"
      ]
     },
     "execution_count": 14,
     "metadata": {},
     "output_type": "execute_result"
    }
   ],
   "source": [
    "side_by_side(2,3,4)"
   ]
  },
  {
   "cell_type": "markdown",
   "id": "9c5d8ce1-1c05-47cc-ad13-087495fff386",
   "metadata": {},
   "source": [
    "Here are three ways we can use this function.\n",
    "\n",
    "**Positional**"
   ]
  },
  {
   "cell_type": "code",
   "execution_count": 15,
   "id": "3246ec77-b60c-4b7d-973c-fe539fdefc18",
   "metadata": {},
   "outputs": [
    {
     "data": {
      "text/plain": [
       "' 1| 2| 3'"
      ]
     },
     "execution_count": 15,
     "metadata": {},
     "output_type": "execute_result"
    }
   ],
   "source": [
    "side_by_side(1, 2, 3)"
   ]
  },
  {
   "cell_type": "markdown",
   "id": "5954f156-3749-4d1e-adc7-20222f6823f3",
   "metadata": {},
   "source": [
    "Here, I am telling Python to assign `1, 2, 3` to `a, b, c` using the positional order of the arguments.\n",
    "\n",
    "**Keywords**"
   ]
  },
  {
   "cell_type": "code",
   "execution_count": 16,
   "id": "e35bdc26-c7c5-487a-9baa-7c293e975757",
   "metadata": {},
   "outputs": [
    {
     "data": {
      "text/plain": [
       "' 2| 1| 3'"
      ]
     },
     "execution_count": 16,
     "metadata": {},
     "output_type": "execute_result"
    }
   ],
   "source": [
    "side_by_side(c=3, b=1, a=2)"
   ]
  },
  {
   "cell_type": "markdown",
   "id": "2c549698-2317-4977-be8c-f48d169ea089",
   "metadata": {},
   "source": [
    "Here, I explicitly specify the keyword to assign the values to each of `a, b, c`. In this case, the order does not matter.\n",
    "\n",
    "**Default**"
   ]
  },
  {
   "cell_type": "code",
   "execution_count": 18,
   "id": "f27d7dca-6d17-4a66-8c58-28a92c834375",
   "metadata": {},
   "outputs": [
    {
     "data": {
      "text/plain": [
       "' 1| 2| 42'"
      ]
     },
     "execution_count": 18,
     "metadata": {},
     "output_type": "execute_result"
    }
   ],
   "source": [
    "side_by_side(1, b=2)"
   ]
  },
  {
   "cell_type": "markdown",
   "id": "d80088e3-1ab6-4831-884e-a68964283a43",
   "metadata": {},
   "source": [
    "Here, since `c` is optional, we can choose not to specify it (of course, provided we want `c` to be `1`).\r\n",
    "\r\n",
    "Below are some examples of how you can combine these three styles. However, one style (keyword followed by positional) confuses Python and won’t work."
   ]
  },
  {
   "cell_type": "code",
   "execution_count": 20,
   "id": "9c578135-ae66-404b-924e-dca382e1a146",
   "metadata": {},
   "outputs": [
    {
     "data": {
      "text/plain": [
       "' 1| 2| 42'"
      ]
     },
     "execution_count": 20,
     "metadata": {},
     "output_type": "execute_result"
    }
   ],
   "source": [
    "side_by_side(1, 2)           # Two positional, 1 default\n",
    "## ' 1| 2| 42'\n",
    "side_by_side(1, 2, 3)        # Three positional\n",
    "## ' 1| 2| 3'\n",
    "side_by_side(a=1, b=2)       # Two keyword, 1 default\n",
    "## ' 1| 2| 42'\n",
    "side_by_side(c=3, b=1, a=2)  # Three keyword\n",
    "## ' 2| 1| 3'\n",
    "side_by_side(1, c=3, b=2)    # One positional, 2 keyword\n",
    "## ' 1| 2| 3'\n",
    "side_by_side(1, b=2)         # One positional, 1 keyword, 1 default\n",
    "## ' 1| 2| 42'"
   ]
  },
  {
   "cell_type": "markdown",
   "id": "3f22e890-5a90-4912-bff5-a935eff7a40d",
   "metadata": {},
   "source": [
    "The following below will not work because Python cannot unambiguously determine the position of `1`?"
   ]
  },
  {
   "cell_type": "code",
   "execution_count": 21,
   "id": "3df6ed38-364e-405f-8c20-b9699933b114",
   "metadata": {},
   "outputs": [
    {
     "ename": "SyntaxError",
     "evalue": "positional argument follows keyword argument (3855048630.py, line 3)",
     "output_type": "error",
     "traceback": [
      "\u001b[1;36m  Cell \u001b[1;32mIn[21], line 3\u001b[1;36m\u001b[0m\n\u001b[1;33m    side_by_side(a=2, 1)      # Won't work.\u001b[0m\n\u001b[1;37m                       ^\u001b[0m\n\u001b[1;31mSyntaxError\u001b[0m\u001b[1;31m:\u001b[0m positional argument follows keyword argument\n"
     ]
    }
   ],
   "source": [
    "# Keywords cannot be followed \n",
    "# by positional arguments\n",
    "side_by_side(a=2, 1)      # Won't work.                          "
   ]
  },
  {
   "attachments": {},
   "cell_type": "markdown",
   "id": "b8d1ed71",
   "metadata": {},
   "source": [
    "## 2.2 Docstrings"
   ]
  },
  {
   "cell_type": "markdown",
   "id": "14907943-846a-4a8f-b387-bfdcbe5776bf",
   "metadata": {},
   "source": [
    "Python has a **docstring** feature that allows us to document what a function does inside the function. This documentation (i.e., the docstring) is displayed when we ask Python to show us the help info using `help()`.\n",
    "\n",
    "Here is a simple example."
   ]
  },
  {
   "cell_type": "code",
   "execution_count": 29,
   "id": "2b327c56-baaf-44ce-8ae4-c6e6fd61df7c",
   "metadata": {},
   "outputs": [],
   "source": [
    "def side_by_side(a, b, c=42):\n",
    "    '''\n",
    "    A test function to demonstrate how \n",
    "    positional, keyword and default arguments \n",
    "    work.\n",
    "    '''\n",
    "    return f'{a: 2d}|{b: 2d}|{c: 2d}'"
   ]
  },
  {
   "cell_type": "markdown",
   "id": "91faf387-9c48-4333-a305-4a17552665e3",
   "metadata": {},
   "source": [
    "A docstring needs to be sandwiched between a pair of `'''` (or `\"\"\"`) and can span multiple lines.\r\n",
    "\r\n",
    "Let’s see if it works by asking for help."
   ]
  },
  {
   "cell_type": "code",
   "execution_count": 30,
   "id": "965af539-3568-47e8-b8f1-42edaf8a3465",
   "metadata": {},
   "outputs": [
    {
     "name": "stdout",
     "output_type": "stream",
     "text": [
      "Help on function side_by_side in module __main__:\n",
      "\n",
      "side_by_side(a, b, c=42)\n",
      "    A test function to demonstrate how \n",
      "    positional, keyword and default arguments \n",
      "    work.\n",
      "\n"
     ]
    }
   ],
   "source": [
    "help(side_by_side)"
   ]
  },
  {
   "cell_type": "markdown",
   "id": "1fec9bd7-8408-4cf0-85c2-136355dc7bf8",
   "metadata": {},
   "source": [
    "Docstrings **can also** be used for writing multiline comments."
   ]
  },
  {
   "attachments": {},
   "cell_type": "markdown",
   "id": "bee7f777",
   "metadata": {},
   "source": [
    "## 2.3 Function are first-class citizens"
   ]
  },
  {
   "cell_type": "markdown",
   "id": "936e3dbc-c5dd-4741-8729-b83551da529c",
   "metadata": {},
   "source": [
    "Python functions are called ***first-class citizens*** because they have the *same privileges as variables*. This opens up useful possibilities for scientific programming because we can **pass a function as an argument to another function**!\n",
    "\n",
    "Consider this:"
   ]
  },
  {
   "cell_type": "code",
   "execution_count": 31,
   "id": "37da926e-9285-4bf7-9fdd-812630e8fecb",
   "metadata": {},
   "outputs": [
    {
     "data": {
      "text/plain": [
       "-1.0"
      ]
     },
     "execution_count": 31,
     "metadata": {},
     "output_type": "execute_result"
    }
   ],
   "source": [
    "def my_function(angle, trig_function):\n",
    "        return trig_function(angle)\n",
    "\n",
    "# Let's use the function\n",
    "my_function(np.pi/2, np.sin)        \n",
    "## 1.0\n",
    "my_function(np.pi/2, np.cos)        \n",
    "## 6.123233995736766e-17\n",
    "my_function(np.pi/2, lambda x: np.cos(2*x))  \n",
    "## -1.0"
   ]
  },
  {
   "cell_type": "markdown",
   "id": "51d984a2-0a63-4fdc-87d1-7dfc7c861829",
   "metadata": {},
   "source": [
    "**Note:** When we pass a function as an argument, we **DO NOT** include the parenthesis `()`."
   ]
  },
  {
   "attachments": {},
   "cell_type": "markdown",
   "id": "1da95c62",
   "metadata": {},
   "source": [
    "## 2.4 More about unpacking"
   ]
  },
  {
   "cell_type": "markdown",
   "id": "52ca32c9-e383-4250-bad5-8d7369755784",
   "metadata": {},
   "source": [
    "There is **more to unpacking**. For example, unpacking can make *extracting information from lists and arrays **a breeze***. Here are some examples."
   ]
  },
  {
   "cell_type": "markdown",
   "id": "8f670f82-3081-4197-ad1b-35e798875713",
   "metadata": {},
   "source": [
    "Example 1"
   ]
  },
  {
   "cell_type": "code",
   "execution_count": 23,
   "id": "28398975-e5d2-4d1f-87b1-cf7cdda92ee8",
   "metadata": {},
   "outputs": [
    {
     "data": {
      "text/plain": [
       "(1, 2, 3)"
      ]
     },
     "execution_count": 23,
     "metadata": {},
     "output_type": "execute_result"
    }
   ],
   "source": [
    "x, y, z = [1, 2, 3]\n",
    "x, y, z"
   ]
  },
  {
   "cell_type": "markdown",
   "id": "31ab87de-c5d9-4244-96f6-e96f85b6dd45",
   "metadata": {},
   "source": [
    "Example 2"
   ]
  },
  {
   "cell_type": "code",
   "execution_count": 26,
   "id": "8cf28b15-66ef-4ac4-9727-aa1c928e35d7",
   "metadata": {},
   "outputs": [
    {
     "data": {
      "text/plain": [
       "(1, 2, 3)"
      ]
     },
     "execution_count": 26,
     "metadata": {},
     "output_type": "execute_result"
    }
   ],
   "source": [
    "import numpy as np\n",
    "x, y, z = np.array([1, 2, 3])\n",
    "x, y, z"
   ]
  },
  {
   "cell_type": "markdown",
   "id": "3acda47b-b71e-4851-b990-c5d5a4122c05",
   "metadata": {},
   "source": [
    "Example 3"
   ]
  },
  {
   "cell_type": "code",
   "execution_count": 27,
   "id": "7402679e-0dfe-4bfc-896c-144dbd356598",
   "metadata": {},
   "outputs": [
    {
     "data": {
      "text/plain": [
       "(1, [2, 3, 4], 5)"
      ]
     },
     "execution_count": 27,
     "metadata": {},
     "output_type": "execute_result"
    }
   ],
   "source": [
    "x, *y, z = np.array([1, 2, 3, 4, 5])\n",
    "x, y, z"
   ]
  },
  {
   "cell_type": "markdown",
   "id": "717fbf2a-7137-4abf-b56d-c0cff735b7eb",
   "metadata": {},
   "source": [
    "Example 4"
   ]
  },
  {
   "cell_type": "code",
   "execution_count": 28,
   "id": "0bcb1a7b-085e-4a6a-a8b6-8f4737357b93",
   "metadata": {},
   "outputs": [
    {
     "data": {
      "text/plain": [
       "(1, 5)"
      ]
     },
     "execution_count": 28,
     "metadata": {},
     "output_type": "execute_result"
    }
   ],
   "source": [
    "x, *_, y = [1, 2, 3, 4, 5]\n",
    "x, y"
   ]
  }
 ],
 "metadata": {
  "kernelspec": {
   "display_name": "Python 3 (ipykernel)",
   "language": "python",
   "name": "python3"
  },
  "language_info": {
   "codemirror_mode": {
    "name": "ipython",
    "version": 3
   },
   "file_extension": ".py",
   "mimetype": "text/x-python",
   "name": "python",
   "nbconvert_exporter": "python",
   "pygments_lexer": "ipython3",
   "version": "3.11.5"
  },
  "toc": {
   "base_numbering": 1,
   "nav_menu": {},
   "number_sections": true,
   "sideBar": true,
   "skip_h1_title": false,
   "title_cell": "Table of Contents",
   "title_sidebar": "Contents",
   "toc_cell": false,
   "toc_position": {},
   "toc_section_display": true,
   "toc_window_display": false
  },
  "vscode": {
   "interpreter": {
    "hash": "31f2aee4e71d21fbe5cf8b01ff0e069b9275f58929596ceb00d14d90e3e16cd6"
   }
  }
 },
 "nbformat": 4,
 "nbformat_minor": 5
}
